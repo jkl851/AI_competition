{
 "cells": [
  {
   "cell_type": "markdown",
   "metadata": {
    "id": "FFEJwl7GaU0X"
   },
   "source": [
    "### train.csv - 학습용 데이터\n",
    "\n",
    "- 단지코드\n",
    "- 총세대수\n",
    "- 임대건물구분\n",
    "- 지역\n",
    "- 공급유형\n",
    "- 전용면적\n",
    "- 전용면적별세대수\n",
    "- 공가수\n",
    "- 신분\n",
    "- 임대료보증금\n",
    "- 임대료\n",
    "- 도보 10분거리 내 지하철역 수(환승노선 수 반영)\n",
    "- 도보 10분거리 내 버스정류장 수\n",
    "- 단지내주차면수\n",
    "- 등록차량수\n",
    "﻿﻿﻿﻿﻿﻿﻿﻿﻿﻿﻿﻿﻿﻿﻿﻿﻿﻿﻿﻿﻿﻿\n",
    "\n",
    "### test.csv - 테스트 데이터\n",
    "\n",
    "- 단지코드\n",
    "- 총세대수\n",
    "- 임대건물구분\n",
    "- 지역\n",
    "- 공급유형\n",
    "- 전용면적\n",
    "- 전용면적별세대수\n",
    "- 공가수\n",
    "- 신분\n",
    "- 임대료보증금\n",
    "- 임대료\n",
    "- 도보 10분거리 내 지하철역 수(환승노선 수 반영)\n",
    "- 도보 10분거리 내 버스정류장 수\n",
    "- 단지내주차면수\n",
    "\n",
    "\n",
    "### age_gender_info.csv - 지역 임대주택 나이별, 성별 인구 분포\n",
    "\n",
    "지역\n",
    "10대미만(여자)\n",
    "10대미만(남자)\n",
    "20대(여자)\n",
    "20대(남자)\n",
    "30대(여자)\n",
    "30대(남자)\n",
    "40대(여자)\n",
    "40대(남자)\n",
    "50대(여자)\n",
    "50대(남자)\n",
    "60대(여자)\n",
    "60대(남자)\n",
    "70대(여자)\n",
    "70대(남자)\n",
    "80대(여자)\n",
    "80대(남자)\n",
    "90대(여자)\n",
    "90대(남자)\n",
    "100대(여자)\n",
    "100대(남자)\n",
    "\n",
    "\n",
    "### sample_submission.csv - 제출 양식\n",
    "\n",
    "- code : 단지 코드\n",
    "- num : 등록차량수\n"
   ]
  },
  {
   "cell_type": "markdown",
   "metadata": {
    "id": "Ciy52xAzaU0f"
   },
   "source": [
    "## 패키지"
   ]
  },
  {
   "cell_type": "code",
   "execution_count": 1,
   "metadata": {},
   "outputs": [],
   "source": [
    "# pip install catboost"
   ]
  },
  {
   "cell_type": "code",
   "execution_count": 2,
   "metadata": {
    "id": "ihGsKMHEaU0j"
   },
   "outputs": [],
   "source": [
    "# 기본\n",
    "import pandas as pd\n",
    "import numpy as np\n",
    "import matplotlib.pyplot as plt\n",
    "import seaborn as sns\n",
    "\n",
    "# 경고 뜨지 않게 설정\n",
    "import warnings\n",
    "warnings.filterwarnings('ignore')\n",
    "\n",
    "# 그래프 설정\n",
    "plt.rcParams['font.family'] = 'Malgun Gothic'\n",
    "# plt.rcParams['font.family'] = 'AppleGothic'\n",
    "plt.rcParams['font.size'] = 16\n",
    "plt.rcParams['figure.figsize'] = 20, 10\n",
    "plt.rcParams['axes.unicode_minus'] = False\n",
    "\n",
    "import plotly.express as px\n",
    "import plotly.graph_objects as go\n",
    "import plotly.io as pio\n",
    "pio.renderers.default = 'notebook_connected'\n",
    "\n",
    "# 데이터 전처리 알고리즘\n",
    "from sklearn.preprocessing import LabelEncoder\n",
    "from sklearn.preprocessing import StandardScaler\n",
    "from sklearn.preprocessing import MinMaxScaler\n",
    "\n",
    "# 학습용과 검증용으로 나누는 함수\n",
    "from sklearn.model_selection import train_test_split\n",
    "\n",
    "# 교차 검증\n",
    "# 지표를 하나만 설정할 경우\n",
    "from sklearn.model_selection import cross_val_score\n",
    "# 지표를 하나 이상 설정할 경우\n",
    "from sklearn.model_selection import cross_validate\n",
    "from sklearn.model_selection import KFold\n",
    "from sklearn.model_selection import StratifiedKFold\n",
    "\n",
    "# 모델의 최적의 하이퍼파라미터를 찾기 위한 도구\n",
    "from sklearn.model_selection import GridSearchCV\n",
    "\n",
    "# 평가함수\n",
    "# 분류용\n",
    "from sklearn.metrics import accuracy_score\n",
    "from sklearn.metrics import precision_score\n",
    "from sklearn.metrics import recall_score\n",
    "from sklearn.metrics import f1_score\n",
    "from sklearn.metrics import roc_auc_score\n",
    "from sklearn.metrics import mean_absolute_error\n",
    "\n",
    "# 회귀용\n",
    "from sklearn.metrics import r2_score\n",
    "from sklearn.metrics import mean_squared_error\n",
    "\n",
    "# 머신러닝 알고리즘 - 분류\n",
    "from sklearn.neighbors import KNeighborsClassifier\n",
    "from sklearn.linear_model import LogisticRegression\n",
    "from sklearn.svm import SVC\n",
    "from sklearn.tree import DecisionTreeClassifier\n",
    "from sklearn.ensemble import RandomForestClassifier\n",
    "from sklearn.ensemble import AdaBoostClassifier\n",
    "from sklearn.ensemble import GradientBoostingClassifier\n",
    "from lightgbm import LGBMClassifier\n",
    "from xgboost import XGBClassifier\n",
    "from sklearn.ensemble import VotingClassifier\n",
    "\n",
    "# 머신러닝 알고리즘 - 회귀\n",
    "from sklearn.neighbors import KNeighborsRegressor\n",
    "from sklearn.linear_model import LinearRegression\n",
    "from sklearn.linear_model import Ridge\n",
    "from sklearn.linear_model import Lasso\n",
    "from sklearn.linear_model import ElasticNet\n",
    "from sklearn.svm import SVR\n",
    "from sklearn.tree import DecisionTreeRegressor\n",
    "from sklearn.ensemble import RandomForestRegressor\n",
    "from sklearn.ensemble import AdaBoostRegressor\n",
    "from sklearn.ensemble import GradientBoostingRegressor\n",
    "from lightgbm import LGBMRegressor\n",
    "from xgboost import XGBRegressor\n",
    "from sklearn.ensemble import VotingRegressor\n",
    "from catboost import CatBoostRegressor\n",
    "\n",
    "# 차원축소\n",
    "from sklearn.decomposition import PCA\n",
    "from sklearn.discriminant_analysis import LinearDiscriminantAnalysis\n",
    "\n",
    "# 군집화\n",
    "from sklearn.cluster import KMeans\n",
    "from sklearn.cluster import MeanShift\n",
    "from sklearn.cluster import estimate_bandwidth\n",
    "\n",
    "# 시간 측정을 위한 시간 모듈\n",
    "import datetime\n",
    "# 주식 정보를 읽어오기 위한 라이브러리\n",
    "from pandas_datareader import data\n",
    "\n",
    "# 데이터 수집\n",
    "import requests\n",
    "from bs4 import BeautifulSoup\n",
    "import re\n",
    "import time\n",
    "import os\n",
    "import json\n",
    "\n",
    "# 한국어 형태소 분석\n",
    "# from konlpy.tag import Okt, Hannanum, Kkma, Mecab, Komoran\n",
    "\n",
    "# 워드 클라우드를 위한 라이브러리\n",
    "from collections import Counter\n",
    "# import pytagcloud\n",
    "from IPython.display import Image\n",
    "\n",
    "# 저장\n",
    "import pickle\n",
    "\n",
    "from tqdm import tqdm"
   ]
  },
  {
   "cell_type": "markdown",
   "metadata": {
    "id": "wCHfvtVnaU0o"
   },
   "source": [
    "## 데이터"
   ]
  },
  {
   "cell_type": "code",
   "execution_count": 3,
   "metadata": {
    "id": "jnIwOb23aU0p"
   },
   "outputs": [],
   "source": [
    "train = pd.read_csv('data/train_부산,대구,강원(임대료)_대전,충남(지하철).csv', encoding='cp949')\n",
    "test = pd.read_csv('data/test_C2152결측채움.csv', encoding='cp949')\n",
    "submission = pd.read_csv('data/sample_submission.csv')\n",
    "agegender_info= pd.read_csv('data/age_gender_info.csv')"
   ]
  },
  {
   "cell_type": "code",
   "execution_count": 4,
   "metadata": {
    "colab": {
     "base_uri": "https://localhost:8080/",
     "height": 1000
    },
    "executionInfo": {
     "elapsed": 37,
     "status": "ok",
     "timestamp": 1624716818626,
     "user": {
      "displayName": "강은영",
      "photoUrl": "https://lh3.googleusercontent.com/a-/AOh14Gjy66CDAcyXsALCf0rphNoHtH-LG6qhHqqSC2Gbhw=s64",
      "userId": "13345059186417356878"
     },
     "user_tz": -540
    },
    "id": "EQx4x-a3aU00",
    "outputId": "ca384c7a-695e-4958-ff17-4f002f3f7477",
    "scrolled": true
   },
   "outputs": [
    {
     "data": {
      "text/html": [
       "<div>\n",
       "<style scoped>\n",
       "    .dataframe tbody tr th:only-of-type {\n",
       "        vertical-align: middle;\n",
       "    }\n",
       "\n",
       "    .dataframe tbody tr th {\n",
       "        vertical-align: top;\n",
       "    }\n",
       "\n",
       "    .dataframe thead th {\n",
       "        text-align: right;\n",
       "    }\n",
       "</style>\n",
       "<table border=\"1\" class=\"dataframe\">\n",
       "  <thead>\n",
       "    <tr style=\"text-align: right;\">\n",
       "      <th></th>\n",
       "      <th>지역</th>\n",
       "      <th>10대미만(여자)</th>\n",
       "      <th>10대미만(남자)</th>\n",
       "      <th>10대(여자)</th>\n",
       "      <th>10대(남자)</th>\n",
       "      <th>20대(여자)</th>\n",
       "      <th>20대(남자)</th>\n",
       "      <th>30대(여자)</th>\n",
       "      <th>30대(남자)</th>\n",
       "      <th>40대(여자)</th>\n",
       "      <th>...</th>\n",
       "      <th>60대(여자)</th>\n",
       "      <th>60대(남자)</th>\n",
       "      <th>70대(여자)</th>\n",
       "      <th>70대(남자)</th>\n",
       "      <th>80대(여자)</th>\n",
       "      <th>80대(남자)</th>\n",
       "      <th>90대(여자)</th>\n",
       "      <th>90대(남자)</th>\n",
       "      <th>100대(여자)</th>\n",
       "      <th>100대(남자)</th>\n",
       "    </tr>\n",
       "  </thead>\n",
       "  <tbody>\n",
       "    <tr>\n",
       "      <th>0</th>\n",
       "      <td>경상북도</td>\n",
       "      <td>0.030158</td>\n",
       "      <td>0.033195</td>\n",
       "      <td>0.056346</td>\n",
       "      <td>0.061360</td>\n",
       "      <td>0.060096</td>\n",
       "      <td>0.067859</td>\n",
       "      <td>0.053433</td>\n",
       "      <td>0.049572</td>\n",
       "      <td>0.083660</td>\n",
       "      <td>...</td>\n",
       "      <td>0.082684</td>\n",
       "      <td>0.063889</td>\n",
       "      <td>0.047717</td>\n",
       "      <td>0.030172</td>\n",
       "      <td>0.029361</td>\n",
       "      <td>0.011211</td>\n",
       "      <td>0.005578</td>\n",
       "      <td>0.001553</td>\n",
       "      <td>0.000234</td>\n",
       "      <td>0.000014</td>\n",
       "    </tr>\n",
       "    <tr>\n",
       "      <th>1</th>\n",
       "      <td>경상남도</td>\n",
       "      <td>0.027400</td>\n",
       "      <td>0.026902</td>\n",
       "      <td>0.053257</td>\n",
       "      <td>0.055568</td>\n",
       "      <td>0.064920</td>\n",
       "      <td>0.070618</td>\n",
       "      <td>0.056414</td>\n",
       "      <td>0.057550</td>\n",
       "      <td>0.077092</td>\n",
       "      <td>...</td>\n",
       "      <td>0.087201</td>\n",
       "      <td>0.069562</td>\n",
       "      <td>0.048357</td>\n",
       "      <td>0.033277</td>\n",
       "      <td>0.027361</td>\n",
       "      <td>0.011295</td>\n",
       "      <td>0.004910</td>\n",
       "      <td>0.001086</td>\n",
       "      <td>0.000179</td>\n",
       "      <td>0.000010</td>\n",
       "    </tr>\n",
       "    <tr>\n",
       "      <th>2</th>\n",
       "      <td>대전광역시</td>\n",
       "      <td>0.028197</td>\n",
       "      <td>0.029092</td>\n",
       "      <td>0.040490</td>\n",
       "      <td>0.042793</td>\n",
       "      <td>0.060834</td>\n",
       "      <td>0.064247</td>\n",
       "      <td>0.068654</td>\n",
       "      <td>0.066848</td>\n",
       "      <td>0.074667</td>\n",
       "      <td>...</td>\n",
       "      <td>0.088468</td>\n",
       "      <td>0.070261</td>\n",
       "      <td>0.051010</td>\n",
       "      <td>0.037143</td>\n",
       "      <td>0.032455</td>\n",
       "      <td>0.013751</td>\n",
       "      <td>0.006494</td>\n",
       "      <td>0.001740</td>\n",
       "      <td>0.000298</td>\n",
       "      <td>0.000066</td>\n",
       "    </tr>\n",
       "    <tr>\n",
       "      <th>3</th>\n",
       "      <td>경기도</td>\n",
       "      <td>0.038030</td>\n",
       "      <td>0.039507</td>\n",
       "      <td>0.052546</td>\n",
       "      <td>0.053990</td>\n",
       "      <td>0.058484</td>\n",
       "      <td>0.059894</td>\n",
       "      <td>0.072331</td>\n",
       "      <td>0.068704</td>\n",
       "      <td>0.083208</td>\n",
       "      <td>...</td>\n",
       "      <td>0.074237</td>\n",
       "      <td>0.058419</td>\n",
       "      <td>0.042422</td>\n",
       "      <td>0.032725</td>\n",
       "      <td>0.025136</td>\n",
       "      <td>0.012354</td>\n",
       "      <td>0.005390</td>\n",
       "      <td>0.001707</td>\n",
       "      <td>0.000290</td>\n",
       "      <td>0.000067</td>\n",
       "    </tr>\n",
       "    <tr>\n",
       "      <th>4</th>\n",
       "      <td>전라북도</td>\n",
       "      <td>0.028089</td>\n",
       "      <td>0.029065</td>\n",
       "      <td>0.059685</td>\n",
       "      <td>0.060080</td>\n",
       "      <td>0.066262</td>\n",
       "      <td>0.070322</td>\n",
       "      <td>0.052027</td>\n",
       "      <td>0.046596</td>\n",
       "      <td>0.077005</td>\n",
       "      <td>...</td>\n",
       "      <td>0.076636</td>\n",
       "      <td>0.068042</td>\n",
       "      <td>0.051025</td>\n",
       "      <td>0.035748</td>\n",
       "      <td>0.035049</td>\n",
       "      <td>0.012641</td>\n",
       "      <td>0.007223</td>\n",
       "      <td>0.001898</td>\n",
       "      <td>0.000158</td>\n",
       "      <td>0.000013</td>\n",
       "    </tr>\n",
       "    <tr>\n",
       "      <th>5</th>\n",
       "      <td>강원도</td>\n",
       "      <td>0.028888</td>\n",
       "      <td>0.030682</td>\n",
       "      <td>0.051287</td>\n",
       "      <td>0.052712</td>\n",
       "      <td>0.060374</td>\n",
       "      <td>0.063157</td>\n",
       "      <td>0.059821</td>\n",
       "      <td>0.054321</td>\n",
       "      <td>0.076201</td>\n",
       "      <td>...</td>\n",
       "      <td>0.088423</td>\n",
       "      <td>0.070014</td>\n",
       "      <td>0.047732</td>\n",
       "      <td>0.032760</td>\n",
       "      <td>0.033515</td>\n",
       "      <td>0.013027</td>\n",
       "      <td>0.007628</td>\n",
       "      <td>0.001677</td>\n",
       "      <td>0.000319</td>\n",
       "      <td>0.000017</td>\n",
       "    </tr>\n",
       "    <tr>\n",
       "      <th>6</th>\n",
       "      <td>광주광역시</td>\n",
       "      <td>0.031994</td>\n",
       "      <td>0.034566</td>\n",
       "      <td>0.049851</td>\n",
       "      <td>0.050254</td>\n",
       "      <td>0.065084</td>\n",
       "      <td>0.066875</td>\n",
       "      <td>0.066888</td>\n",
       "      <td>0.064416</td>\n",
       "      <td>0.080028</td>\n",
       "      <td>...</td>\n",
       "      <td>0.075930</td>\n",
       "      <td>0.059586</td>\n",
       "      <td>0.048552</td>\n",
       "      <td>0.031754</td>\n",
       "      <td>0.029749</td>\n",
       "      <td>0.010341</td>\n",
       "      <td>0.006343</td>\n",
       "      <td>0.000895</td>\n",
       "      <td>0.000353</td>\n",
       "      <td>0.000013</td>\n",
       "    </tr>\n",
       "    <tr>\n",
       "      <th>7</th>\n",
       "      <td>충청남도</td>\n",
       "      <td>0.031369</td>\n",
       "      <td>0.031711</td>\n",
       "      <td>0.059077</td>\n",
       "      <td>0.062422</td>\n",
       "      <td>0.067975</td>\n",
       "      <td>0.072622</td>\n",
       "      <td>0.065095</td>\n",
       "      <td>0.067303</td>\n",
       "      <td>0.078860</td>\n",
       "      <td>...</td>\n",
       "      <td>0.070278</td>\n",
       "      <td>0.057692</td>\n",
       "      <td>0.042296</td>\n",
       "      <td>0.028682</td>\n",
       "      <td>0.024514</td>\n",
       "      <td>0.010900</td>\n",
       "      <td>0.005429</td>\n",
       "      <td>0.001549</td>\n",
       "      <td>0.000219</td>\n",
       "      <td>0.000123</td>\n",
       "    </tr>\n",
       "    <tr>\n",
       "      <th>8</th>\n",
       "      <td>부산광역시</td>\n",
       "      <td>0.022003</td>\n",
       "      <td>0.022947</td>\n",
       "      <td>0.032681</td>\n",
       "      <td>0.035512</td>\n",
       "      <td>0.053796</td>\n",
       "      <td>0.057233</td>\n",
       "      <td>0.047049</td>\n",
       "      <td>0.048866</td>\n",
       "      <td>0.061952</td>\n",
       "      <td>...</td>\n",
       "      <td>0.109297</td>\n",
       "      <td>0.085294</td>\n",
       "      <td>0.078743</td>\n",
       "      <td>0.053388</td>\n",
       "      <td>0.047908</td>\n",
       "      <td>0.020228</td>\n",
       "      <td>0.008043</td>\n",
       "      <td>0.002240</td>\n",
       "      <td>0.000268</td>\n",
       "      <td>0.000028</td>\n",
       "    </tr>\n",
       "    <tr>\n",
       "      <th>9</th>\n",
       "      <td>제주특별자치도</td>\n",
       "      <td>0.034690</td>\n",
       "      <td>0.036695</td>\n",
       "      <td>0.060094</td>\n",
       "      <td>0.063080</td>\n",
       "      <td>0.069135</td>\n",
       "      <td>0.069667</td>\n",
       "      <td>0.050808</td>\n",
       "      <td>0.048026</td>\n",
       "      <td>0.080548</td>\n",
       "      <td>...</td>\n",
       "      <td>0.074248</td>\n",
       "      <td>0.055717</td>\n",
       "      <td>0.047944</td>\n",
       "      <td>0.033054</td>\n",
       "      <td>0.026836</td>\n",
       "      <td>0.011332</td>\n",
       "      <td>0.006832</td>\n",
       "      <td>0.000982</td>\n",
       "      <td>0.000368</td>\n",
       "      <td>0.000082</td>\n",
       "    </tr>\n",
       "    <tr>\n",
       "      <th>10</th>\n",
       "      <td>울산광역시</td>\n",
       "      <td>0.023991</td>\n",
       "      <td>0.025997</td>\n",
       "      <td>0.053874</td>\n",
       "      <td>0.056967</td>\n",
       "      <td>0.064240</td>\n",
       "      <td>0.074689</td>\n",
       "      <td>0.052830</td>\n",
       "      <td>0.052412</td>\n",
       "      <td>0.078450</td>\n",
       "      <td>...</td>\n",
       "      <td>0.096422</td>\n",
       "      <td>0.069088</td>\n",
       "      <td>0.052913</td>\n",
       "      <td>0.039413</td>\n",
       "      <td>0.026540</td>\n",
       "      <td>0.011912</td>\n",
       "      <td>0.004221</td>\n",
       "      <td>0.001087</td>\n",
       "      <td>0.000084</td>\n",
       "      <td>0.000000</td>\n",
       "    </tr>\n",
       "    <tr>\n",
       "      <th>11</th>\n",
       "      <td>충청북도</td>\n",
       "      <td>0.034678</td>\n",
       "      <td>0.035339</td>\n",
       "      <td>0.059808</td>\n",
       "      <td>0.061570</td>\n",
       "      <td>0.060824</td>\n",
       "      <td>0.064937</td>\n",
       "      <td>0.061069</td>\n",
       "      <td>0.056625</td>\n",
       "      <td>0.082318</td>\n",
       "      <td>...</td>\n",
       "      <td>0.075390</td>\n",
       "      <td>0.062427</td>\n",
       "      <td>0.041814</td>\n",
       "      <td>0.027566</td>\n",
       "      <td>0.027762</td>\n",
       "      <td>0.011212</td>\n",
       "      <td>0.005386</td>\n",
       "      <td>0.001310</td>\n",
       "      <td>0.000257</td>\n",
       "      <td>0.000037</td>\n",
       "    </tr>\n",
       "    <tr>\n",
       "      <th>12</th>\n",
       "      <td>전라남도</td>\n",
       "      <td>0.031930</td>\n",
       "      <td>0.034647</td>\n",
       "      <td>0.059154</td>\n",
       "      <td>0.063379</td>\n",
       "      <td>0.065517</td>\n",
       "      <td>0.070339</td>\n",
       "      <td>0.057977</td>\n",
       "      <td>0.053471</td>\n",
       "      <td>0.078358</td>\n",
       "      <td>...</td>\n",
       "      <td>0.071465</td>\n",
       "      <td>0.062352</td>\n",
       "      <td>0.042535</td>\n",
       "      <td>0.030704</td>\n",
       "      <td>0.027340</td>\n",
       "      <td>0.009312</td>\n",
       "      <td>0.005965</td>\n",
       "      <td>0.001458</td>\n",
       "      <td>0.000149</td>\n",
       "      <td>0.000464</td>\n",
       "    </tr>\n",
       "    <tr>\n",
       "      <th>13</th>\n",
       "      <td>대구광역시</td>\n",
       "      <td>0.023765</td>\n",
       "      <td>0.025626</td>\n",
       "      <td>0.034098</td>\n",
       "      <td>0.037897</td>\n",
       "      <td>0.062559</td>\n",
       "      <td>0.068251</td>\n",
       "      <td>0.061825</td>\n",
       "      <td>0.071207</td>\n",
       "      <td>0.070090</td>\n",
       "      <td>...</td>\n",
       "      <td>0.094511</td>\n",
       "      <td>0.073133</td>\n",
       "      <td>0.055914</td>\n",
       "      <td>0.036572</td>\n",
       "      <td>0.031887</td>\n",
       "      <td>0.012556</td>\n",
       "      <td>0.005364</td>\n",
       "      <td>0.001259</td>\n",
       "      <td>0.000219</td>\n",
       "      <td>0.000000</td>\n",
       "    </tr>\n",
       "    <tr>\n",
       "      <th>14</th>\n",
       "      <td>서울특별시</td>\n",
       "      <td>0.015323</td>\n",
       "      <td>0.015627</td>\n",
       "      <td>0.025210</td>\n",
       "      <td>0.026121</td>\n",
       "      <td>0.052712</td>\n",
       "      <td>0.056782</td>\n",
       "      <td>0.047655</td>\n",
       "      <td>0.051877</td>\n",
       "      <td>0.054216</td>\n",
       "      <td>...</td>\n",
       "      <td>0.119639</td>\n",
       "      <td>0.078939</td>\n",
       "      <td>0.097543</td>\n",
       "      <td>0.061050</td>\n",
       "      <td>0.047853</td>\n",
       "      <td>0.023463</td>\n",
       "      <td>0.011344</td>\n",
       "      <td>0.003326</td>\n",
       "      <td>0.000532</td>\n",
       "      <td>0.000152</td>\n",
       "    </tr>\n",
       "    <tr>\n",
       "      <th>15</th>\n",
       "      <td>세종특별자치시</td>\n",
       "      <td>0.037159</td>\n",
       "      <td>0.036601</td>\n",
       "      <td>0.053172</td>\n",
       "      <td>0.050047</td>\n",
       "      <td>0.079284</td>\n",
       "      <td>0.064833</td>\n",
       "      <td>0.106121</td>\n",
       "      <td>0.104447</td>\n",
       "      <td>0.075155</td>\n",
       "      <td>...</td>\n",
       "      <td>0.065279</td>\n",
       "      <td>0.051163</td>\n",
       "      <td>0.026056</td>\n",
       "      <td>0.026223</td>\n",
       "      <td>0.013893</td>\n",
       "      <td>0.007086</td>\n",
       "      <td>0.003459</td>\n",
       "      <td>0.001004</td>\n",
       "      <td>0.000279</td>\n",
       "      <td>0.000112</td>\n",
       "    </tr>\n",
       "  </tbody>\n",
       "</table>\n",
       "<p>16 rows × 23 columns</p>\n",
       "</div>"
      ],
      "text/plain": [
       "         지역  10대미만(여자)  10대미만(남자)   10대(여자)   10대(남자)   20대(여자)   20대(남자)  \\\n",
       "0      경상북도   0.030158   0.033195  0.056346  0.061360  0.060096  0.067859   \n",
       "1      경상남도   0.027400   0.026902  0.053257  0.055568  0.064920  0.070618   \n",
       "2     대전광역시   0.028197   0.029092  0.040490  0.042793  0.060834  0.064247   \n",
       "3       경기도   0.038030   0.039507  0.052546  0.053990  0.058484  0.059894   \n",
       "4      전라북도   0.028089   0.029065  0.059685  0.060080  0.066262  0.070322   \n",
       "5       강원도   0.028888   0.030682  0.051287  0.052712  0.060374  0.063157   \n",
       "6     광주광역시   0.031994   0.034566  0.049851  0.050254  0.065084  0.066875   \n",
       "7      충청남도   0.031369   0.031711  0.059077  0.062422  0.067975  0.072622   \n",
       "8     부산광역시   0.022003   0.022947  0.032681  0.035512  0.053796  0.057233   \n",
       "9   제주특별자치도   0.034690   0.036695  0.060094  0.063080  0.069135  0.069667   \n",
       "10    울산광역시   0.023991   0.025997  0.053874  0.056967  0.064240  0.074689   \n",
       "11     충청북도   0.034678   0.035339  0.059808  0.061570  0.060824  0.064937   \n",
       "12     전라남도   0.031930   0.034647  0.059154  0.063379  0.065517  0.070339   \n",
       "13    대구광역시   0.023765   0.025626  0.034098  0.037897  0.062559  0.068251   \n",
       "14    서울특별시   0.015323   0.015627  0.025210  0.026121  0.052712  0.056782   \n",
       "15  세종특별자치시   0.037159   0.036601  0.053172  0.050047  0.079284  0.064833   \n",
       "\n",
       "     30대(여자)   30대(남자)   40대(여자)  ...   60대(여자)   60대(남자)   70대(여자)   70대(남자)  \\\n",
       "0   0.053433  0.049572  0.083660  ...  0.082684  0.063889  0.047717  0.030172   \n",
       "1   0.056414  0.057550  0.077092  ...  0.087201  0.069562  0.048357  0.033277   \n",
       "2   0.068654  0.066848  0.074667  ...  0.088468  0.070261  0.051010  0.037143   \n",
       "3   0.072331  0.068704  0.083208  ...  0.074237  0.058419  0.042422  0.032725   \n",
       "4   0.052027  0.046596  0.077005  ...  0.076636  0.068042  0.051025  0.035748   \n",
       "5   0.059821  0.054321  0.076201  ...  0.088423  0.070014  0.047732  0.032760   \n",
       "6   0.066888  0.064416  0.080028  ...  0.075930  0.059586  0.048552  0.031754   \n",
       "7   0.065095  0.067303  0.078860  ...  0.070278  0.057692  0.042296  0.028682   \n",
       "8   0.047049  0.048866  0.061952  ...  0.109297  0.085294  0.078743  0.053388   \n",
       "9   0.050808  0.048026  0.080548  ...  0.074248  0.055717  0.047944  0.033054   \n",
       "10  0.052830  0.052412  0.078450  ...  0.096422  0.069088  0.052913  0.039413   \n",
       "11  0.061069  0.056625  0.082318  ...  0.075390  0.062427  0.041814  0.027566   \n",
       "12  0.057977  0.053471  0.078358  ...  0.071465  0.062352  0.042535  0.030704   \n",
       "13  0.061825  0.071207  0.070090  ...  0.094511  0.073133  0.055914  0.036572   \n",
       "14  0.047655  0.051877  0.054216  ...  0.119639  0.078939  0.097543  0.061050   \n",
       "15  0.106121  0.104447  0.075155  ...  0.065279  0.051163  0.026056  0.026223   \n",
       "\n",
       "     80대(여자)   80대(남자)   90대(여자)   90대(남자)  100대(여자)  100대(남자)  \n",
       "0   0.029361  0.011211  0.005578  0.001553  0.000234  0.000014  \n",
       "1   0.027361  0.011295  0.004910  0.001086  0.000179  0.000010  \n",
       "2   0.032455  0.013751  0.006494  0.001740  0.000298  0.000066  \n",
       "3   0.025136  0.012354  0.005390  0.001707  0.000290  0.000067  \n",
       "4   0.035049  0.012641  0.007223  0.001898  0.000158  0.000013  \n",
       "5   0.033515  0.013027  0.007628  0.001677  0.000319  0.000017  \n",
       "6   0.029749  0.010341  0.006343  0.000895  0.000353  0.000013  \n",
       "7   0.024514  0.010900  0.005429  0.001549  0.000219  0.000123  \n",
       "8   0.047908  0.020228  0.008043  0.002240  0.000268  0.000028  \n",
       "9   0.026836  0.011332  0.006832  0.000982  0.000368  0.000082  \n",
       "10  0.026540  0.011912  0.004221  0.001087  0.000084  0.000000  \n",
       "11  0.027762  0.011212  0.005386  0.001310  0.000257  0.000037  \n",
       "12  0.027340  0.009312  0.005965  0.001458  0.000149  0.000464  \n",
       "13  0.031887  0.012556  0.005364  0.001259  0.000219  0.000000  \n",
       "14  0.047853  0.023463  0.011344  0.003326  0.000532  0.000152  \n",
       "15  0.013893  0.007086  0.003459  0.001004  0.000279  0.000112  \n",
       "\n",
       "[16 rows x 23 columns]"
      ]
     },
     "execution_count": 4,
     "metadata": {},
     "output_type": "execute_result"
    }
   ],
   "source": [
    "agegender_info"
   ]
  },
  {
   "cell_type": "markdown",
   "metadata": {
    "id": "_Mza4htsaU03"
   },
   "source": [
    "- age_gender_info.csv의 분포는 train, test 데이터에만 해당하는 인구 분포입니다.\n",
    "- age_gender_info.csv는 해당 단지들에 살고있는 모든 인구의 분포입니다."
   ]
  },
  {
   "cell_type": "code",
   "execution_count": 5,
   "metadata": {
    "colab": {
     "base_uri": "https://localhost:8080/"
    },
    "executionInfo": {
     "elapsed": 37,
     "status": "ok",
     "timestamp": 1624716818627,
     "user": {
      "displayName": "강은영",
      "photoUrl": "https://lh3.googleusercontent.com/a-/AOh14Gjy66CDAcyXsALCf0rphNoHtH-LG6qhHqqSC2Gbhw=s64",
      "userId": "13345059186417356878"
     },
     "user_tz": -540
    },
    "id": "JX3Le5JdaU05",
    "outputId": "385592ed-4510-4114-81be-5ddbe43b53dd"
   },
   "outputs": [
    {
     "data": {
      "text/plain": [
       "((2952, 16), (1022, 15))"
      ]
     },
     "execution_count": 5,
     "metadata": {},
     "output_type": "execute_result"
    }
   ],
   "source": [
    "train.shape, test.shape"
   ]
  },
  {
   "cell_type": "code",
   "execution_count": 6,
   "metadata": {
    "colab": {
     "base_uri": "https://localhost:8080/",
     "height": 778
    },
    "executionInfo": {
     "elapsed": 31,
     "status": "ok",
     "timestamp": 1624716818628,
     "user": {
      "displayName": "강은영",
      "photoUrl": "https://lh3.googleusercontent.com/a-/AOh14Gjy66CDAcyXsALCf0rphNoHtH-LG6qhHqqSC2Gbhw=s64",
      "userId": "13345059186417356878"
     },
     "user_tz": -540
    },
    "id": "pyRDxsfOaU08",
    "outputId": "e043eb4a-3609-4c48-eeea-82059749a86a"
   },
   "outputs": [
    {
     "data": {
      "text/html": [
       "<div>\n",
       "<style scoped>\n",
       "    .dataframe tbody tr th:only-of-type {\n",
       "        vertical-align: middle;\n",
       "    }\n",
       "\n",
       "    .dataframe tbody tr th {\n",
       "        vertical-align: top;\n",
       "    }\n",
       "\n",
       "    .dataframe thead th {\n",
       "        text-align: right;\n",
       "    }\n",
       "</style>\n",
       "<table border=\"1\" class=\"dataframe\">\n",
       "  <thead>\n",
       "    <tr style=\"text-align: right;\">\n",
       "      <th></th>\n",
       "      <th>Unnamed: 0</th>\n",
       "      <th>단지코드</th>\n",
       "      <th>총세대수</th>\n",
       "      <th>임대건물구분</th>\n",
       "      <th>지역</th>\n",
       "      <th>공급유형</th>\n",
       "      <th>전용면적</th>\n",
       "      <th>전용면적별세대수</th>\n",
       "      <th>공가수</th>\n",
       "      <th>자격유형</th>\n",
       "      <th>임대보증금</th>\n",
       "      <th>임대료</th>\n",
       "      <th>도보 10분거리 내 지하철역 수(환승노선 수 반영)</th>\n",
       "      <th>도보 10분거리 내 버스정류장 수</th>\n",
       "      <th>단지내주차면수</th>\n",
       "      <th>등록차량수</th>\n",
       "    </tr>\n",
       "  </thead>\n",
       "  <tbody>\n",
       "    <tr>\n",
       "      <th>0</th>\n",
       "      <td>0</td>\n",
       "      <td>C2483</td>\n",
       "      <td>900</td>\n",
       "      <td>아파트</td>\n",
       "      <td>경상북도</td>\n",
       "      <td>국민임대</td>\n",
       "      <td>39.72</td>\n",
       "      <td>134</td>\n",
       "      <td>38</td>\n",
       "      <td>A</td>\n",
       "      <td>15667000.0</td>\n",
       "      <td>103680</td>\n",
       "      <td>0.0</td>\n",
       "      <td>3.0</td>\n",
       "      <td>1425</td>\n",
       "      <td>1015</td>\n",
       "    </tr>\n",
       "    <tr>\n",
       "      <th>1</th>\n",
       "      <td>1</td>\n",
       "      <td>C2483</td>\n",
       "      <td>900</td>\n",
       "      <td>아파트</td>\n",
       "      <td>경상북도</td>\n",
       "      <td>국민임대</td>\n",
       "      <td>39.72</td>\n",
       "      <td>15</td>\n",
       "      <td>38</td>\n",
       "      <td>A</td>\n",
       "      <td>15667000.0</td>\n",
       "      <td>103680</td>\n",
       "      <td>0.0</td>\n",
       "      <td>3.0</td>\n",
       "      <td>1425</td>\n",
       "      <td>1015</td>\n",
       "    </tr>\n",
       "    <tr>\n",
       "      <th>2</th>\n",
       "      <td>2</td>\n",
       "      <td>C2483</td>\n",
       "      <td>900</td>\n",
       "      <td>아파트</td>\n",
       "      <td>경상북도</td>\n",
       "      <td>국민임대</td>\n",
       "      <td>51.93</td>\n",
       "      <td>385</td>\n",
       "      <td>38</td>\n",
       "      <td>A</td>\n",
       "      <td>27304000.0</td>\n",
       "      <td>184330</td>\n",
       "      <td>0.0</td>\n",
       "      <td>3.0</td>\n",
       "      <td>1425</td>\n",
       "      <td>1015</td>\n",
       "    </tr>\n",
       "    <tr>\n",
       "      <th>3</th>\n",
       "      <td>3</td>\n",
       "      <td>C2483</td>\n",
       "      <td>900</td>\n",
       "      <td>아파트</td>\n",
       "      <td>경상북도</td>\n",
       "      <td>국민임대</td>\n",
       "      <td>51.93</td>\n",
       "      <td>15</td>\n",
       "      <td>38</td>\n",
       "      <td>A</td>\n",
       "      <td>27304000.0</td>\n",
       "      <td>184330</td>\n",
       "      <td>0.0</td>\n",
       "      <td>3.0</td>\n",
       "      <td>1425</td>\n",
       "      <td>1015</td>\n",
       "    </tr>\n",
       "    <tr>\n",
       "      <th>4</th>\n",
       "      <td>4</td>\n",
       "      <td>C2483</td>\n",
       "      <td>900</td>\n",
       "      <td>아파트</td>\n",
       "      <td>경상북도</td>\n",
       "      <td>국민임대</td>\n",
       "      <td>51.93</td>\n",
       "      <td>41</td>\n",
       "      <td>38</td>\n",
       "      <td>A</td>\n",
       "      <td>27304000.0</td>\n",
       "      <td>184330</td>\n",
       "      <td>0.0</td>\n",
       "      <td>3.0</td>\n",
       "      <td>1425</td>\n",
       "      <td>1015</td>\n",
       "    </tr>\n",
       "  </tbody>\n",
       "</table>\n",
       "</div>"
      ],
      "text/plain": [
       "   Unnamed: 0   단지코드  총세대수 임대건물구분    지역  공급유형   전용면적  전용면적별세대수  공가수 자격유형  \\\n",
       "0           0  C2483   900    아파트  경상북도  국민임대  39.72       134   38    A   \n",
       "1           1  C2483   900    아파트  경상북도  국민임대  39.72        15   38    A   \n",
       "2           2  C2483   900    아파트  경상북도  국민임대  51.93       385   38    A   \n",
       "3           3  C2483   900    아파트  경상북도  국민임대  51.93        15   38    A   \n",
       "4           4  C2483   900    아파트  경상북도  국민임대  51.93        41   38    A   \n",
       "\n",
       "        임대보증금     임대료  도보 10분거리 내 지하철역 수(환승노선 수 반영)  도보 10분거리 내 버스정류장 수  \\\n",
       "0  15667000.0  103680                           0.0                 3.0   \n",
       "1  15667000.0  103680                           0.0                 3.0   \n",
       "2  27304000.0  184330                           0.0                 3.0   \n",
       "3  27304000.0  184330                           0.0                 3.0   \n",
       "4  27304000.0  184330                           0.0                 3.0   \n",
       "\n",
       "   단지내주차면수  등록차량수  \n",
       "0     1425   1015  \n",
       "1     1425   1015  \n",
       "2     1425   1015  \n",
       "3     1425   1015  \n",
       "4     1425   1015  "
      ]
     },
     "execution_count": 6,
     "metadata": {},
     "output_type": "execute_result"
    }
   ],
   "source": [
    "train.head()"
   ]
  },
  {
   "cell_type": "code",
   "execution_count": 7,
   "metadata": {
    "id": "EFe4BCEeaU09"
   },
   "outputs": [],
   "source": [
    "train.drop(['Unnamed: 0'], axis=1, inplace= True)"
   ]
  },
  {
   "cell_type": "code",
   "execution_count": 8,
   "metadata": {},
   "outputs": [],
   "source": [
    "test.drop(['Unnamed: 0'], axis=1, inplace= True)"
   ]
  },
  {
   "cell_type": "code",
   "execution_count": 9,
   "metadata": {
    "colab": {
     "base_uri": "https://localhost:8080/",
     "height": 1000
    },
    "executionInfo": {
     "elapsed": 32,
     "status": "ok",
     "timestamp": 1624716818632,
     "user": {
      "displayName": "강은영",
      "photoUrl": "https://lh3.googleusercontent.com/a-/AOh14Gjy66CDAcyXsALCf0rphNoHtH-LG6qhHqqSC2Gbhw=s64",
      "userId": "13345059186417356878"
     },
     "user_tz": -540
    },
    "id": "lM4iugL1aU0-",
    "outputId": "a01b3877-949b-4ceb-8d0e-100b7361dd5e"
   },
   "outputs": [
    {
     "data": {
      "text/html": [
       "<div>\n",
       "<style scoped>\n",
       "    .dataframe tbody tr th:only-of-type {\n",
       "        vertical-align: middle;\n",
       "    }\n",
       "\n",
       "    .dataframe tbody tr th {\n",
       "        vertical-align: top;\n",
       "    }\n",
       "\n",
       "    .dataframe thead th {\n",
       "        text-align: right;\n",
       "    }\n",
       "</style>\n",
       "<table border=\"1\" class=\"dataframe\">\n",
       "  <thead>\n",
       "    <tr style=\"text-align: right;\">\n",
       "      <th></th>\n",
       "      <th>단지코드</th>\n",
       "      <th>총세대수</th>\n",
       "      <th>임대건물구분</th>\n",
       "      <th>지역</th>\n",
       "      <th>공급유형</th>\n",
       "      <th>전용면적</th>\n",
       "      <th>전용면적별세대수</th>\n",
       "      <th>공가수</th>\n",
       "      <th>자격유형</th>\n",
       "      <th>임대보증금</th>\n",
       "      <th>임대료</th>\n",
       "      <th>도보 10분거리 내 지하철역 수(환승노선 수 반영)</th>\n",
       "      <th>도보 10분거리 내 버스정류장 수</th>\n",
       "      <th>단지내주차면수</th>\n",
       "      <th>등록차량수</th>\n",
       "    </tr>\n",
       "  </thead>\n",
       "  <tbody>\n",
       "    <tr>\n",
       "      <th>0</th>\n",
       "      <td>C2483</td>\n",
       "      <td>900</td>\n",
       "      <td>아파트</td>\n",
       "      <td>경상북도</td>\n",
       "      <td>국민임대</td>\n",
       "      <td>39.72</td>\n",
       "      <td>134</td>\n",
       "      <td>38</td>\n",
       "      <td>A</td>\n",
       "      <td>15667000.0</td>\n",
       "      <td>103680</td>\n",
       "      <td>0.0</td>\n",
       "      <td>3.0</td>\n",
       "      <td>1425</td>\n",
       "      <td>1015</td>\n",
       "    </tr>\n",
       "    <tr>\n",
       "      <th>1</th>\n",
       "      <td>C2483</td>\n",
       "      <td>900</td>\n",
       "      <td>아파트</td>\n",
       "      <td>경상북도</td>\n",
       "      <td>국민임대</td>\n",
       "      <td>39.72</td>\n",
       "      <td>15</td>\n",
       "      <td>38</td>\n",
       "      <td>A</td>\n",
       "      <td>15667000.0</td>\n",
       "      <td>103680</td>\n",
       "      <td>0.0</td>\n",
       "      <td>3.0</td>\n",
       "      <td>1425</td>\n",
       "      <td>1015</td>\n",
       "    </tr>\n",
       "    <tr>\n",
       "      <th>2</th>\n",
       "      <td>C2483</td>\n",
       "      <td>900</td>\n",
       "      <td>아파트</td>\n",
       "      <td>경상북도</td>\n",
       "      <td>국민임대</td>\n",
       "      <td>51.93</td>\n",
       "      <td>385</td>\n",
       "      <td>38</td>\n",
       "      <td>A</td>\n",
       "      <td>27304000.0</td>\n",
       "      <td>184330</td>\n",
       "      <td>0.0</td>\n",
       "      <td>3.0</td>\n",
       "      <td>1425</td>\n",
       "      <td>1015</td>\n",
       "    </tr>\n",
       "    <tr>\n",
       "      <th>3</th>\n",
       "      <td>C2483</td>\n",
       "      <td>900</td>\n",
       "      <td>아파트</td>\n",
       "      <td>경상북도</td>\n",
       "      <td>국민임대</td>\n",
       "      <td>51.93</td>\n",
       "      <td>15</td>\n",
       "      <td>38</td>\n",
       "      <td>A</td>\n",
       "      <td>27304000.0</td>\n",
       "      <td>184330</td>\n",
       "      <td>0.0</td>\n",
       "      <td>3.0</td>\n",
       "      <td>1425</td>\n",
       "      <td>1015</td>\n",
       "    </tr>\n",
       "    <tr>\n",
       "      <th>4</th>\n",
       "      <td>C2483</td>\n",
       "      <td>900</td>\n",
       "      <td>아파트</td>\n",
       "      <td>경상북도</td>\n",
       "      <td>국민임대</td>\n",
       "      <td>51.93</td>\n",
       "      <td>41</td>\n",
       "      <td>38</td>\n",
       "      <td>A</td>\n",
       "      <td>27304000.0</td>\n",
       "      <td>184330</td>\n",
       "      <td>0.0</td>\n",
       "      <td>3.0</td>\n",
       "      <td>1425</td>\n",
       "      <td>1015</td>\n",
       "    </tr>\n",
       "    <tr>\n",
       "      <th>...</th>\n",
       "      <td>...</td>\n",
       "      <td>...</td>\n",
       "      <td>...</td>\n",
       "      <td>...</td>\n",
       "      <td>...</td>\n",
       "      <td>...</td>\n",
       "      <td>...</td>\n",
       "      <td>...</td>\n",
       "      <td>...</td>\n",
       "      <td>...</td>\n",
       "      <td>...</td>\n",
       "      <td>...</td>\n",
       "      <td>...</td>\n",
       "      <td>...</td>\n",
       "      <td>...</td>\n",
       "    </tr>\n",
       "    <tr>\n",
       "      <th>2947</th>\n",
       "      <td>C2532</td>\n",
       "      <td>239</td>\n",
       "      <td>아파트</td>\n",
       "      <td>강원도</td>\n",
       "      <td>국민임대</td>\n",
       "      <td>49.20</td>\n",
       "      <td>19</td>\n",
       "      <td>7</td>\n",
       "      <td>A</td>\n",
       "      <td>11346000.0</td>\n",
       "      <td>116090</td>\n",
       "      <td>0.0</td>\n",
       "      <td>1.0</td>\n",
       "      <td>166</td>\n",
       "      <td>146</td>\n",
       "    </tr>\n",
       "    <tr>\n",
       "      <th>2948</th>\n",
       "      <td>C2532</td>\n",
       "      <td>239</td>\n",
       "      <td>아파트</td>\n",
       "      <td>강원도</td>\n",
       "      <td>국민임대</td>\n",
       "      <td>51.08</td>\n",
       "      <td>34</td>\n",
       "      <td>7</td>\n",
       "      <td>A</td>\n",
       "      <td>14005000.0</td>\n",
       "      <td>142310</td>\n",
       "      <td>0.0</td>\n",
       "      <td>1.0</td>\n",
       "      <td>166</td>\n",
       "      <td>146</td>\n",
       "    </tr>\n",
       "    <tr>\n",
       "      <th>2949</th>\n",
       "      <td>C2532</td>\n",
       "      <td>239</td>\n",
       "      <td>아파트</td>\n",
       "      <td>강원도</td>\n",
       "      <td>국민임대</td>\n",
       "      <td>51.73</td>\n",
       "      <td>34</td>\n",
       "      <td>7</td>\n",
       "      <td>A</td>\n",
       "      <td>14005000.0</td>\n",
       "      <td>142310</td>\n",
       "      <td>0.0</td>\n",
       "      <td>1.0</td>\n",
       "      <td>166</td>\n",
       "      <td>146</td>\n",
       "    </tr>\n",
       "    <tr>\n",
       "      <th>2950</th>\n",
       "      <td>C2532</td>\n",
       "      <td>239</td>\n",
       "      <td>아파트</td>\n",
       "      <td>강원도</td>\n",
       "      <td>국민임대</td>\n",
       "      <td>51.96</td>\n",
       "      <td>114</td>\n",
       "      <td>7</td>\n",
       "      <td>A</td>\n",
       "      <td>14005000.0</td>\n",
       "      <td>142310</td>\n",
       "      <td>0.0</td>\n",
       "      <td>1.0</td>\n",
       "      <td>166</td>\n",
       "      <td>146</td>\n",
       "    </tr>\n",
       "    <tr>\n",
       "      <th>2951</th>\n",
       "      <td>C2532</td>\n",
       "      <td>239</td>\n",
       "      <td>아파트</td>\n",
       "      <td>강원도</td>\n",
       "      <td>국민임대</td>\n",
       "      <td>54.95</td>\n",
       "      <td>19</td>\n",
       "      <td>7</td>\n",
       "      <td>A</td>\n",
       "      <td>14830000.0</td>\n",
       "      <td>151030</td>\n",
       "      <td>0.0</td>\n",
       "      <td>1.0</td>\n",
       "      <td>166</td>\n",
       "      <td>146</td>\n",
       "    </tr>\n",
       "  </tbody>\n",
       "</table>\n",
       "<p>2952 rows × 15 columns</p>\n",
       "</div>"
      ],
      "text/plain": [
       "       단지코드  총세대수 임대건물구분    지역  공급유형   전용면적  전용면적별세대수  공가수 자격유형       임대보증금  \\\n",
       "0     C2483   900    아파트  경상북도  국민임대  39.72       134   38    A  15667000.0   \n",
       "1     C2483   900    아파트  경상북도  국민임대  39.72        15   38    A  15667000.0   \n",
       "2     C2483   900    아파트  경상북도  국민임대  51.93       385   38    A  27304000.0   \n",
       "3     C2483   900    아파트  경상북도  국민임대  51.93        15   38    A  27304000.0   \n",
       "4     C2483   900    아파트  경상북도  국민임대  51.93        41   38    A  27304000.0   \n",
       "...     ...   ...    ...   ...   ...    ...       ...  ...  ...         ...   \n",
       "2947  C2532   239    아파트   강원도  국민임대  49.20        19    7    A  11346000.0   \n",
       "2948  C2532   239    아파트   강원도  국민임대  51.08        34    7    A  14005000.0   \n",
       "2949  C2532   239    아파트   강원도  국민임대  51.73        34    7    A  14005000.0   \n",
       "2950  C2532   239    아파트   강원도  국민임대  51.96       114    7    A  14005000.0   \n",
       "2951  C2532   239    아파트   강원도  국민임대  54.95        19    7    A  14830000.0   \n",
       "\n",
       "         임대료  도보 10분거리 내 지하철역 수(환승노선 수 반영)  도보 10분거리 내 버스정류장 수  단지내주차면수  등록차량수  \n",
       "0     103680                           0.0                 3.0     1425   1015  \n",
       "1     103680                           0.0                 3.0     1425   1015  \n",
       "2     184330                           0.0                 3.0     1425   1015  \n",
       "3     184330                           0.0                 3.0     1425   1015  \n",
       "4     184330                           0.0                 3.0     1425   1015  \n",
       "...      ...                           ...                 ...      ...    ...  \n",
       "2947  116090                           0.0                 1.0      166    146  \n",
       "2948  142310                           0.0                 1.0      166    146  \n",
       "2949  142310                           0.0                 1.0      166    146  \n",
       "2950  142310                           0.0                 1.0      166    146  \n",
       "2951  151030                           0.0                 1.0      166    146  \n",
       "\n",
       "[2952 rows x 15 columns]"
      ]
     },
     "execution_count": 9,
     "metadata": {},
     "output_type": "execute_result"
    }
   ],
   "source": [
    "train"
   ]
  },
  {
   "cell_type": "code",
   "execution_count": 10,
   "metadata": {},
   "outputs": [
    {
     "data": {
      "text/plain": [
       "A    1801\n",
       "D     569\n",
       "H     155\n",
       "J     114\n",
       "C      95\n",
       "I      49\n",
       "E      37\n",
       "K      33\n",
       "L      33\n",
       "N      30\n",
       "B      21\n",
       "G       9\n",
       "F       3\n",
       "M       2\n",
       "O       1\n",
       "Name: 자격유형, dtype: int64"
      ]
     },
     "execution_count": 10,
     "metadata": {},
     "output_type": "execute_result"
    }
   ],
   "source": [
    "train['자격유형'].value_counts()"
   ]
  },
  {
   "cell_type": "markdown",
   "metadata": {
    "id": "gSAbHSEbaU1A"
   },
   "source": [
    "- 공가수 : 비어있는 집"
   ]
  },
  {
   "cell_type": "markdown",
   "metadata": {
    "id": "jNW1y2_CaU1B"
   },
   "source": [
    "## 결측치 확인"
   ]
  },
  {
   "cell_type": "code",
   "execution_count": 11,
   "metadata": {
    "colab": {
     "base_uri": "https://localhost:8080/"
    },
    "executionInfo": {
     "elapsed": 75,
     "status": "ok",
     "timestamp": 1624716819714,
     "user": {
      "displayName": "강은영",
      "photoUrl": "https://lh3.googleusercontent.com/a-/AOh14Gjy66CDAcyXsALCf0rphNoHtH-LG6qhHqqSC2Gbhw=s64",
      "userId": "13345059186417356878"
     },
     "user_tz": -540
    },
    "id": "Jt25lGDCaU1C",
    "outputId": "514890da-6897-4e17-bc20-40aad952031d"
   },
   "outputs": [
    {
     "data": {
      "text/plain": [
       "단지코드                              0\n",
       "총세대수                              0\n",
       "임대건물구분                            0\n",
       "지역                                0\n",
       "공급유형                              0\n",
       "전용면적                              0\n",
       "전용면적별세대수                          0\n",
       "공가수                               0\n",
       "자격유형                              0\n",
       "임대보증금                           569\n",
       "임대료                             569\n",
       "도보 10분거리 내 지하철역 수(환승노선 수 반영)    119\n",
       "도보 10분거리 내 버스정류장 수                4\n",
       "단지내주차면수                           0\n",
       "등록차량수                             0\n",
       "dtype: int64"
      ]
     },
     "execution_count": 11,
     "metadata": {},
     "output_type": "execute_result"
    }
   ],
   "source": [
    "train.isna().sum()"
   ]
  },
  {
   "cell_type": "code",
   "execution_count": 12,
   "metadata": {},
   "outputs": [],
   "source": [
    "## 지하철 버스 공란 변경하기 \n",
    "train['도보 10분거리 내 지하철역 수(환승노선 수 반영)'].fillna(0,inplace=True)\n",
    "train['도보 10분거리 내 버스정류장 수'].fillna(0,inplace=True)"
   ]
  },
  {
   "cell_type": "code",
   "execution_count": 13,
   "metadata": {
    "colab": {
     "base_uri": "https://localhost:8080/"
    },
    "executionInfo": {
     "elapsed": 75,
     "status": "ok",
     "timestamp": 1624716819718,
     "user": {
      "displayName": "강은영",
      "photoUrl": "https://lh3.googleusercontent.com/a-/AOh14Gjy66CDAcyXsALCf0rphNoHtH-LG6qhHqqSC2Gbhw=s64",
      "userId": "13345059186417356878"
     },
     "user_tz": -540
    },
    "id": "FGvlW0ncaU1D",
    "outputId": "f36c016a-176d-4ca7-e2e6-c9d4a0274efd"
   },
   "outputs": [
    {
     "data": {
      "text/plain": [
       "단지코드                              0\n",
       "총세대수                              0\n",
       "임대건물구분                            0\n",
       "지역                                0\n",
       "공급유형                              0\n",
       "전용면적                              0\n",
       "전용면적별세대수                          0\n",
       "공가수                               0\n",
       "자격유형                              2\n",
       "임대보증금                           180\n",
       "임대료                             180\n",
       "도보 10분거리 내 지하철역 수(환승노선 수 반영)     42\n",
       "도보 10분거리 내 버스정류장 수                0\n",
       "단지내주차면수                           0\n",
       "dtype: int64"
      ]
     },
     "execution_count": 13,
     "metadata": {},
     "output_type": "execute_result"
    }
   ],
   "source": [
    "test.isna().sum()"
   ]
  },
  {
   "cell_type": "code",
   "execution_count": 14,
   "metadata": {},
   "outputs": [],
   "source": [
    "## 지하철 버스 공란 변경하기 \n",
    "test['도보 10분거리 내 지하철역 수(환승노선 수 반영)'].fillna(0,inplace=True)\n",
    "test['도보 10분거리 내 버스정류장 수'].fillna(0,inplace=True)"
   ]
  },
  {
   "cell_type": "code",
   "execution_count": 15,
   "metadata": {
    "colab": {
     "base_uri": "https://localhost:8080/"
    },
    "executionInfo": {
     "elapsed": 69,
     "status": "ok",
     "timestamp": 1624716819722,
     "user": {
      "displayName": "강은영",
      "photoUrl": "https://lh3.googleusercontent.com/a-/AOh14Gjy66CDAcyXsALCf0rphNoHtH-LG6qhHqqSC2Gbhw=s64",
      "userId": "13345059186417356878"
     },
     "user_tz": -540
    },
    "id": "1xB2SIVxaU1E",
    "outputId": "992c6eea-4e1d-452a-cf2b-bf16c22fcff0"
   },
   "outputs": [
    {
     "data": {
      "text/plain": [
       "지역           0\n",
       "10대미만(여자)    0\n",
       "10대미만(남자)    0\n",
       "10대(여자)      0\n",
       "10대(남자)      0\n",
       "20대(여자)      0\n",
       "20대(남자)      0\n",
       "30대(여자)      0\n",
       "30대(남자)      0\n",
       "40대(여자)      0\n",
       "40대(남자)      0\n",
       "50대(여자)      0\n",
       "50대(남자)      0\n",
       "60대(여자)      0\n",
       "60대(남자)      0\n",
       "70대(여자)      0\n",
       "70대(남자)      0\n",
       "80대(여자)      0\n",
       "80대(남자)      0\n",
       "90대(여자)      0\n",
       "90대(남자)      0\n",
       "100대(여자)     0\n",
       "100대(남자)     0\n",
       "dtype: int64"
      ]
     },
     "execution_count": 15,
     "metadata": {},
     "output_type": "execute_result"
    }
   ],
   "source": [
    "agegender_info.isna().sum()"
   ]
  },
  {
   "cell_type": "code",
   "execution_count": 16,
   "metadata": {
    "colab": {
     "base_uri": "https://localhost:8080/"
    },
    "executionInfo": {
     "elapsed": 70,
     "status": "ok",
     "timestamp": 1624716819730,
     "user": {
      "displayName": "강은영",
      "photoUrl": "https://lh3.googleusercontent.com/a-/AOh14Gjy66CDAcyXsALCf0rphNoHtH-LG6qhHqqSC2Gbhw=s64",
      "userId": "13345059186417356878"
     },
     "user_tz": -540
    },
    "id": "wmGY6XdyaU1G",
    "outputId": "14e703e5-bc30-4304-cba3-b70dffb9e32d"
   },
   "outputs": [
    {
     "data": {
      "text/plain": [
       "((2952, 15), (2632, 15))"
      ]
     },
     "execution_count": 16,
     "metadata": {},
     "output_type": "execute_result"
    }
   ],
   "source": [
    "train.shape, train.drop_duplicates().shape # 중복 존재"
   ]
  },
  {
   "cell_type": "code",
   "execution_count": 17,
   "metadata": {
    "colab": {
     "base_uri": "https://localhost:8080/"
    },
    "executionInfo": {
     "elapsed": 65,
     "status": "ok",
     "timestamp": 1624716819732,
     "user": {
      "displayName": "강은영",
      "photoUrl": "https://lh3.googleusercontent.com/a-/AOh14Gjy66CDAcyXsALCf0rphNoHtH-LG6qhHqqSC2Gbhw=s64",
      "userId": "13345059186417356878"
     },
     "user_tz": -540
    },
    "id": "CgM77wsoaU1H",
    "outputId": "663ee7c4-2e6d-4055-c114-f75e4a0589cf"
   },
   "outputs": [
    {
     "data": {
      "text/plain": [
       "((1022, 14), (949, 14))"
      ]
     },
     "execution_count": 17,
     "metadata": {},
     "output_type": "execute_result"
    }
   ],
   "source": [
    "test.shape, test.drop_duplicates().shape # 중복 존재"
   ]
  },
  {
   "cell_type": "code",
   "execution_count": 18,
   "metadata": {},
   "outputs": [
    {
     "data": {
      "text/html": [
       "<div>\n",
       "<style scoped>\n",
       "    .dataframe tbody tr th:only-of-type {\n",
       "        vertical-align: middle;\n",
       "    }\n",
       "\n",
       "    .dataframe tbody tr th {\n",
       "        vertical-align: top;\n",
       "    }\n",
       "\n",
       "    .dataframe thead th {\n",
       "        text-align: right;\n",
       "    }\n",
       "</style>\n",
       "<table border=\"1\" class=\"dataframe\">\n",
       "  <thead>\n",
       "    <tr style=\"text-align: right;\">\n",
       "      <th></th>\n",
       "      <th>단지코드</th>\n",
       "      <th>총세대수</th>\n",
       "      <th>임대건물구분</th>\n",
       "      <th>지역</th>\n",
       "      <th>공급유형</th>\n",
       "      <th>전용면적</th>\n",
       "      <th>전용면적별세대수</th>\n",
       "      <th>공가수</th>\n",
       "      <th>자격유형</th>\n",
       "      <th>임대보증금</th>\n",
       "      <th>임대료</th>\n",
       "      <th>도보 10분거리 내 지하철역 수(환승노선 수 반영)</th>\n",
       "      <th>도보 10분거리 내 버스정류장 수</th>\n",
       "      <th>단지내주차면수</th>\n",
       "    </tr>\n",
       "  </thead>\n",
       "  <tbody>\n",
       "    <tr>\n",
       "      <th>80</th>\n",
       "      <td>C1006</td>\n",
       "      <td>1505</td>\n",
       "      <td>상가</td>\n",
       "      <td>대전광역시</td>\n",
       "      <td>임대상가</td>\n",
       "      <td>38.00</td>\n",
       "      <td>1</td>\n",
       "      <td>27</td>\n",
       "      <td>D</td>\n",
       "      <td>NaN</td>\n",
       "      <td>NaN</td>\n",
       "      <td>2.0</td>\n",
       "      <td>5</td>\n",
       "      <td>428</td>\n",
       "    </tr>\n",
       "    <tr>\n",
       "      <th>81</th>\n",
       "      <td>C1006</td>\n",
       "      <td>1505</td>\n",
       "      <td>상가</td>\n",
       "      <td>대전광역시</td>\n",
       "      <td>임대상가</td>\n",
       "      <td>38.00</td>\n",
       "      <td>1</td>\n",
       "      <td>27</td>\n",
       "      <td>D</td>\n",
       "      <td>NaN</td>\n",
       "      <td>NaN</td>\n",
       "      <td>2.0</td>\n",
       "      <td>5</td>\n",
       "      <td>428</td>\n",
       "    </tr>\n",
       "    <tr>\n",
       "      <th>82</th>\n",
       "      <td>C1006</td>\n",
       "      <td>1505</td>\n",
       "      <td>상가</td>\n",
       "      <td>대전광역시</td>\n",
       "      <td>임대상가</td>\n",
       "      <td>37.26</td>\n",
       "      <td>1</td>\n",
       "      <td>27</td>\n",
       "      <td>D</td>\n",
       "      <td>NaN</td>\n",
       "      <td>NaN</td>\n",
       "      <td>2.0</td>\n",
       "      <td>5</td>\n",
       "      <td>428</td>\n",
       "    </tr>\n",
       "    <tr>\n",
       "      <th>83</th>\n",
       "      <td>C1006</td>\n",
       "      <td>1505</td>\n",
       "      <td>상가</td>\n",
       "      <td>대전광역시</td>\n",
       "      <td>임대상가</td>\n",
       "      <td>37.41</td>\n",
       "      <td>1</td>\n",
       "      <td>27</td>\n",
       "      <td>D</td>\n",
       "      <td>NaN</td>\n",
       "      <td>NaN</td>\n",
       "      <td>2.0</td>\n",
       "      <td>5</td>\n",
       "      <td>428</td>\n",
       "    </tr>\n",
       "    <tr>\n",
       "      <th>84</th>\n",
       "      <td>C1006</td>\n",
       "      <td>1505</td>\n",
       "      <td>상가</td>\n",
       "      <td>대전광역시</td>\n",
       "      <td>임대상가</td>\n",
       "      <td>37.41</td>\n",
       "      <td>1</td>\n",
       "      <td>27</td>\n",
       "      <td>D</td>\n",
       "      <td>NaN</td>\n",
       "      <td>NaN</td>\n",
       "      <td>2.0</td>\n",
       "      <td>5</td>\n",
       "      <td>428</td>\n",
       "    </tr>\n",
       "    <tr>\n",
       "      <th>...</th>\n",
       "      <td>...</td>\n",
       "      <td>...</td>\n",
       "      <td>...</td>\n",
       "      <td>...</td>\n",
       "      <td>...</td>\n",
       "      <td>...</td>\n",
       "      <td>...</td>\n",
       "      <td>...</td>\n",
       "      <td>...</td>\n",
       "      <td>...</td>\n",
       "      <td>...</td>\n",
       "      <td>...</td>\n",
       "      <td>...</td>\n",
       "      <td>...</td>\n",
       "    </tr>\n",
       "    <tr>\n",
       "      <th>328</th>\n",
       "      <td>C1729</td>\n",
       "      <td>627</td>\n",
       "      <td>상가</td>\n",
       "      <td>강원도</td>\n",
       "      <td>임대상가</td>\n",
       "      <td>32.46</td>\n",
       "      <td>1</td>\n",
       "      <td>0</td>\n",
       "      <td>D</td>\n",
       "      <td>NaN</td>\n",
       "      <td>NaN</td>\n",
       "      <td>0.0</td>\n",
       "      <td>5</td>\n",
       "      <td>131</td>\n",
       "    </tr>\n",
       "    <tr>\n",
       "      <th>329</th>\n",
       "      <td>C1729</td>\n",
       "      <td>627</td>\n",
       "      <td>상가</td>\n",
       "      <td>강원도</td>\n",
       "      <td>임대상가</td>\n",
       "      <td>34.86</td>\n",
       "      <td>1</td>\n",
       "      <td>0</td>\n",
       "      <td>D</td>\n",
       "      <td>NaN</td>\n",
       "      <td>NaN</td>\n",
       "      <td>0.0</td>\n",
       "      <td>5</td>\n",
       "      <td>131</td>\n",
       "    </tr>\n",
       "    <tr>\n",
       "      <th>330</th>\n",
       "      <td>C1729</td>\n",
       "      <td>627</td>\n",
       "      <td>상가</td>\n",
       "      <td>강원도</td>\n",
       "      <td>임대상가</td>\n",
       "      <td>35.76</td>\n",
       "      <td>1</td>\n",
       "      <td>0</td>\n",
       "      <td>D</td>\n",
       "      <td>NaN</td>\n",
       "      <td>NaN</td>\n",
       "      <td>0.0</td>\n",
       "      <td>5</td>\n",
       "      <td>131</td>\n",
       "    </tr>\n",
       "    <tr>\n",
       "      <th>331</th>\n",
       "      <td>C1729</td>\n",
       "      <td>627</td>\n",
       "      <td>상가</td>\n",
       "      <td>강원도</td>\n",
       "      <td>임대상가</td>\n",
       "      <td>50.08</td>\n",
       "      <td>1</td>\n",
       "      <td>0</td>\n",
       "      <td>D</td>\n",
       "      <td>NaN</td>\n",
       "      <td>NaN</td>\n",
       "      <td>0.0</td>\n",
       "      <td>5</td>\n",
       "      <td>131</td>\n",
       "    </tr>\n",
       "    <tr>\n",
       "      <th>332</th>\n",
       "      <td>C1729</td>\n",
       "      <td>627</td>\n",
       "      <td>상가</td>\n",
       "      <td>강원도</td>\n",
       "      <td>임대상가</td>\n",
       "      <td>240.22</td>\n",
       "      <td>1</td>\n",
       "      <td>0</td>\n",
       "      <td>D</td>\n",
       "      <td>NaN</td>\n",
       "      <td>NaN</td>\n",
       "      <td>0.0</td>\n",
       "      <td>5</td>\n",
       "      <td>131</td>\n",
       "    </tr>\n",
       "  </tbody>\n",
       "</table>\n",
       "<p>177 rows × 14 columns</p>\n",
       "</div>"
      ],
      "text/plain": [
       "      단지코드  총세대수 임대건물구분     지역  공급유형    전용면적  전용면적별세대수  공가수 자격유형 임대보증금  임대료  \\\n",
       "80   C1006  1505     상가  대전광역시  임대상가   38.00         1   27    D   NaN  NaN   \n",
       "81   C1006  1505     상가  대전광역시  임대상가   38.00         1   27    D   NaN  NaN   \n",
       "82   C1006  1505     상가  대전광역시  임대상가   37.26         1   27    D   NaN  NaN   \n",
       "83   C1006  1505     상가  대전광역시  임대상가   37.41         1   27    D   NaN  NaN   \n",
       "84   C1006  1505     상가  대전광역시  임대상가   37.41         1   27    D   NaN  NaN   \n",
       "..     ...   ...    ...    ...   ...     ...       ...  ...  ...   ...  ...   \n",
       "328  C1729   627     상가    강원도  임대상가   32.46         1    0    D   NaN  NaN   \n",
       "329  C1729   627     상가    강원도  임대상가   34.86         1    0    D   NaN  NaN   \n",
       "330  C1729   627     상가    강원도  임대상가   35.76         1    0    D   NaN  NaN   \n",
       "331  C1729   627     상가    강원도  임대상가   50.08         1    0    D   NaN  NaN   \n",
       "332  C1729   627     상가    강원도  임대상가  240.22         1    0    D   NaN  NaN   \n",
       "\n",
       "     도보 10분거리 내 지하철역 수(환승노선 수 반영)  도보 10분거리 내 버스정류장 수  단지내주차면수  \n",
       "80                            2.0                   5      428  \n",
       "81                            2.0                   5      428  \n",
       "82                            2.0                   5      428  \n",
       "83                            2.0                   5      428  \n",
       "84                            2.0                   5      428  \n",
       "..                            ...                 ...      ...  \n",
       "328                           0.0                   5      131  \n",
       "329                           0.0                   5      131  \n",
       "330                           0.0                   5      131  \n",
       "331                           0.0                   5      131  \n",
       "332                           0.0                   5      131  \n",
       "\n",
       "[177 rows x 14 columns]"
      ]
     },
     "execution_count": 18,
     "metadata": {},
     "output_type": "execute_result"
    }
   ],
   "source": [
    "test.loc[test['임대건물구분']=='상가']"
   ]
  },
  {
   "cell_type": "code",
   "execution_count": 19,
   "metadata": {},
   "outputs": [
    {
     "data": {
      "text/html": [
       "<div>\n",
       "<style scoped>\n",
       "    .dataframe tbody tr th:only-of-type {\n",
       "        vertical-align: middle;\n",
       "    }\n",
       "\n",
       "    .dataframe tbody tr th {\n",
       "        vertical-align: top;\n",
       "    }\n",
       "\n",
       "    .dataframe thead th {\n",
       "        text-align: right;\n",
       "    }\n",
       "</style>\n",
       "<table border=\"1\" class=\"dataframe\">\n",
       "  <thead>\n",
       "    <tr style=\"text-align: right;\">\n",
       "      <th></th>\n",
       "      <th>단지코드</th>\n",
       "      <th>총세대수</th>\n",
       "      <th>임대건물구분</th>\n",
       "      <th>지역</th>\n",
       "      <th>공급유형</th>\n",
       "      <th>전용면적</th>\n",
       "      <th>전용면적별세대수</th>\n",
       "      <th>공가수</th>\n",
       "      <th>자격유형</th>\n",
       "      <th>임대보증금</th>\n",
       "      <th>임대료</th>\n",
       "      <th>도보 10분거리 내 지하철역 수(환승노선 수 반영)</th>\n",
       "      <th>도보 10분거리 내 버스정류장 수</th>\n",
       "      <th>단지내주차면수</th>\n",
       "    </tr>\n",
       "  </thead>\n",
       "  <tbody>\n",
       "    <tr>\n",
       "      <th>76</th>\n",
       "      <td>C1006</td>\n",
       "      <td>1505</td>\n",
       "      <td>아파트</td>\n",
       "      <td>대전광역시</td>\n",
       "      <td>영구임대</td>\n",
       "      <td>26.37</td>\n",
       "      <td>10</td>\n",
       "      <td>27</td>\n",
       "      <td>D</td>\n",
       "      <td>NaN</td>\n",
       "      <td>NaN</td>\n",
       "      <td>2.0</td>\n",
       "      <td>5</td>\n",
       "      <td>428</td>\n",
       "    </tr>\n",
       "    <tr>\n",
       "      <th>77</th>\n",
       "      <td>C1006</td>\n",
       "      <td>1505</td>\n",
       "      <td>아파트</td>\n",
       "      <td>대전광역시</td>\n",
       "      <td>영구임대</td>\n",
       "      <td>26.37</td>\n",
       "      <td>10</td>\n",
       "      <td>27</td>\n",
       "      <td>D</td>\n",
       "      <td>NaN</td>\n",
       "      <td>NaN</td>\n",
       "      <td>2.0</td>\n",
       "      <td>5</td>\n",
       "      <td>428</td>\n",
       "    </tr>\n",
       "    <tr>\n",
       "      <th>79</th>\n",
       "      <td>C1006</td>\n",
       "      <td>1505</td>\n",
       "      <td>아파트</td>\n",
       "      <td>대전광역시</td>\n",
       "      <td>영구임대</td>\n",
       "      <td>52.74</td>\n",
       "      <td>6</td>\n",
       "      <td>27</td>\n",
       "      <td>D</td>\n",
       "      <td>NaN</td>\n",
       "      <td>NaN</td>\n",
       "      <td>2.0</td>\n",
       "      <td>5</td>\n",
       "      <td>428</td>\n",
       "    </tr>\n",
       "    <tr>\n",
       "      <th>80</th>\n",
       "      <td>C1006</td>\n",
       "      <td>1505</td>\n",
       "      <td>상가</td>\n",
       "      <td>대전광역시</td>\n",
       "      <td>임대상가</td>\n",
       "      <td>38.00</td>\n",
       "      <td>1</td>\n",
       "      <td>27</td>\n",
       "      <td>D</td>\n",
       "      <td>NaN</td>\n",
       "      <td>NaN</td>\n",
       "      <td>2.0</td>\n",
       "      <td>5</td>\n",
       "      <td>428</td>\n",
       "    </tr>\n",
       "    <tr>\n",
       "      <th>81</th>\n",
       "      <td>C1006</td>\n",
       "      <td>1505</td>\n",
       "      <td>상가</td>\n",
       "      <td>대전광역시</td>\n",
       "      <td>임대상가</td>\n",
       "      <td>38.00</td>\n",
       "      <td>1</td>\n",
       "      <td>27</td>\n",
       "      <td>D</td>\n",
       "      <td>NaN</td>\n",
       "      <td>NaN</td>\n",
       "      <td>2.0</td>\n",
       "      <td>5</td>\n",
       "      <td>428</td>\n",
       "    </tr>\n",
       "    <tr>\n",
       "      <th>...</th>\n",
       "      <td>...</td>\n",
       "      <td>...</td>\n",
       "      <td>...</td>\n",
       "      <td>...</td>\n",
       "      <td>...</td>\n",
       "      <td>...</td>\n",
       "      <td>...</td>\n",
       "      <td>...</td>\n",
       "      <td>...</td>\n",
       "      <td>...</td>\n",
       "      <td>...</td>\n",
       "      <td>...</td>\n",
       "      <td>...</td>\n",
       "      <td>...</td>\n",
       "    </tr>\n",
       "    <tr>\n",
       "      <th>328</th>\n",
       "      <td>C1729</td>\n",
       "      <td>627</td>\n",
       "      <td>상가</td>\n",
       "      <td>강원도</td>\n",
       "      <td>임대상가</td>\n",
       "      <td>32.46</td>\n",
       "      <td>1</td>\n",
       "      <td>0</td>\n",
       "      <td>D</td>\n",
       "      <td>NaN</td>\n",
       "      <td>NaN</td>\n",
       "      <td>0.0</td>\n",
       "      <td>5</td>\n",
       "      <td>131</td>\n",
       "    </tr>\n",
       "    <tr>\n",
       "      <th>329</th>\n",
       "      <td>C1729</td>\n",
       "      <td>627</td>\n",
       "      <td>상가</td>\n",
       "      <td>강원도</td>\n",
       "      <td>임대상가</td>\n",
       "      <td>34.86</td>\n",
       "      <td>1</td>\n",
       "      <td>0</td>\n",
       "      <td>D</td>\n",
       "      <td>NaN</td>\n",
       "      <td>NaN</td>\n",
       "      <td>0.0</td>\n",
       "      <td>5</td>\n",
       "      <td>131</td>\n",
       "    </tr>\n",
       "    <tr>\n",
       "      <th>330</th>\n",
       "      <td>C1729</td>\n",
       "      <td>627</td>\n",
       "      <td>상가</td>\n",
       "      <td>강원도</td>\n",
       "      <td>임대상가</td>\n",
       "      <td>35.76</td>\n",
       "      <td>1</td>\n",
       "      <td>0</td>\n",
       "      <td>D</td>\n",
       "      <td>NaN</td>\n",
       "      <td>NaN</td>\n",
       "      <td>0.0</td>\n",
       "      <td>5</td>\n",
       "      <td>131</td>\n",
       "    </tr>\n",
       "    <tr>\n",
       "      <th>331</th>\n",
       "      <td>C1729</td>\n",
       "      <td>627</td>\n",
       "      <td>상가</td>\n",
       "      <td>강원도</td>\n",
       "      <td>임대상가</td>\n",
       "      <td>50.08</td>\n",
       "      <td>1</td>\n",
       "      <td>0</td>\n",
       "      <td>D</td>\n",
       "      <td>NaN</td>\n",
       "      <td>NaN</td>\n",
       "      <td>0.0</td>\n",
       "      <td>5</td>\n",
       "      <td>131</td>\n",
       "    </tr>\n",
       "    <tr>\n",
       "      <th>332</th>\n",
       "      <td>C1729</td>\n",
       "      <td>627</td>\n",
       "      <td>상가</td>\n",
       "      <td>강원도</td>\n",
       "      <td>임대상가</td>\n",
       "      <td>240.22</td>\n",
       "      <td>1</td>\n",
       "      <td>0</td>\n",
       "      <td>D</td>\n",
       "      <td>NaN</td>\n",
       "      <td>NaN</td>\n",
       "      <td>0.0</td>\n",
       "      <td>5</td>\n",
       "      <td>131</td>\n",
       "    </tr>\n",
       "  </tbody>\n",
       "</table>\n",
       "<p>180 rows × 14 columns</p>\n",
       "</div>"
      ],
      "text/plain": [
       "      단지코드  총세대수 임대건물구분     지역  공급유형    전용면적  전용면적별세대수  공가수 자격유형 임대보증금  임대료  \\\n",
       "76   C1006  1505    아파트  대전광역시  영구임대   26.37        10   27    D   NaN  NaN   \n",
       "77   C1006  1505    아파트  대전광역시  영구임대   26.37        10   27    D   NaN  NaN   \n",
       "79   C1006  1505    아파트  대전광역시  영구임대   52.74         6   27    D   NaN  NaN   \n",
       "80   C1006  1505     상가  대전광역시  임대상가   38.00         1   27    D   NaN  NaN   \n",
       "81   C1006  1505     상가  대전광역시  임대상가   38.00         1   27    D   NaN  NaN   \n",
       "..     ...   ...    ...    ...   ...     ...       ...  ...  ...   ...  ...   \n",
       "328  C1729   627     상가    강원도  임대상가   32.46         1    0    D   NaN  NaN   \n",
       "329  C1729   627     상가    강원도  임대상가   34.86         1    0    D   NaN  NaN   \n",
       "330  C1729   627     상가    강원도  임대상가   35.76         1    0    D   NaN  NaN   \n",
       "331  C1729   627     상가    강원도  임대상가   50.08         1    0    D   NaN  NaN   \n",
       "332  C1729   627     상가    강원도  임대상가  240.22         1    0    D   NaN  NaN   \n",
       "\n",
       "     도보 10분거리 내 지하철역 수(환승노선 수 반영)  도보 10분거리 내 버스정류장 수  단지내주차면수  \n",
       "76                            2.0                   5      428  \n",
       "77                            2.0                   5      428  \n",
       "79                            2.0                   5      428  \n",
       "80                            2.0                   5      428  \n",
       "81                            2.0                   5      428  \n",
       "..                            ...                 ...      ...  \n",
       "328                           0.0                   5      131  \n",
       "329                           0.0                   5      131  \n",
       "330                           0.0                   5      131  \n",
       "331                           0.0                   5      131  \n",
       "332                           0.0                   5      131  \n",
       "\n",
       "[180 rows x 14 columns]"
      ]
     },
     "execution_count": 19,
     "metadata": {},
     "output_type": "execute_result"
    }
   ],
   "source": [
    "test.loc[test['자격유형']=='D']"
   ]
  },
  {
   "cell_type": "markdown",
   "metadata": {
    "id": "N5VfMAGbaU1g"
   },
   "source": [
    "### 총세대수"
   ]
  },
  {
   "cell_type": "code",
   "execution_count": 20,
   "metadata": {
    "colab": {
     "base_uri": "https://localhost:8080/"
    },
    "executionInfo": {
     "elapsed": 683,
     "status": "ok",
     "timestamp": 1624716822313,
     "user": {
      "displayName": "강은영",
      "photoUrl": "https://lh3.googleusercontent.com/a-/AOh14Gjy66CDAcyXsALCf0rphNoHtH-LG6qhHqqSC2Gbhw=s64",
      "userId": "13345059186417356878"
     },
     "user_tz": -540
    },
    "id": "qTM2fTvoaU1h",
    "outputId": "c941ef75-89e6-435f-9ca8-1490c37dceb3"
   },
   "outputs": [
    {
     "data": {
      "text/plain": [
       "<AxesSubplot:xlabel='총세대수'>"
      ]
     },
     "execution_count": 20,
     "metadata": {},
     "output_type": "execute_result"
    },
    {
     "data": {
      "image/png": "[encoded data removed]",
      "text/plain": [
       "<Figure size 1440x720 with 1 Axes>"
      ]
     },
     "metadata": {
      "needs_background": "light"
     },
     "output_type": "display_data"
    }
   ],
   "source": [
    "sns.boxplot(train['총세대수'])"
   ]
  },
  {
   "cell_type": "code",
   "execution_count": 21,
   "metadata": {
    "colab": {
     "base_uri": "https://localhost:8080/"
    },
    "executionInfo": {
     "elapsed": 47,
     "status": "ok",
     "timestamp": 1624716822314,
     "user": {
      "displayName": "강은영",
      "photoUrl": "https://lh3.googleusercontent.com/a-/AOh14Gjy66CDAcyXsALCf0rphNoHtH-LG6qhHqqSC2Gbhw=s64",
      "userId": "13345059186417356878"
     },
     "user_tz": -540
    },
    "id": "ZvcgaWxuaU1i",
    "outputId": "c8f805d5-22cc-4124-d9c7-cfaf3c3e5504"
   },
   "outputs": [
    {
     "data": {
      "text/plain": [
       "count    2952.000000\n",
       "mean      886.661247\n",
       "std       513.540168\n",
       "min        26.000000\n",
       "25%       513.500000\n",
       "50%       779.000000\n",
       "75%      1106.000000\n",
       "max      2568.000000\n",
       "Name: 총세대수, dtype: float64"
      ]
     },
     "execution_count": 21,
     "metadata": {},
     "output_type": "execute_result"
    }
   ],
   "source": [
    "train['총세대수'].describe()"
   ]
  },
  {
   "cell_type": "code",
   "execution_count": 22,
   "metadata": {
    "colab": {
     "base_uri": "https://localhost:8080/"
    },
    "executionInfo": {
     "elapsed": 44,
     "status": "ok",
     "timestamp": 1624716822316,
     "user": {
      "displayName": "강은영",
      "photoUrl": "https://lh3.googleusercontent.com/a-/AOh14Gjy66CDAcyXsALCf0rphNoHtH-LG6qhHqqSC2Gbhw=s64",
      "userId": "13345059186417356878"
     },
     "user_tz": -540
    },
    "id": "1CHmQq6ZaU1j",
    "outputId": "0f08b66f-e775-45ec-8cd1-8ce25cf0b931"
   },
   "outputs": [
    {
     "data": {
      "text/html": [
       "<div>\n",
       "<style scoped>\n",
       "    .dataframe tbody tr th:only-of-type {\n",
       "        vertical-align: middle;\n",
       "    }\n",
       "\n",
       "    .dataframe tbody tr th {\n",
       "        vertical-align: top;\n",
       "    }\n",
       "\n",
       "    .dataframe thead th {\n",
       "        text-align: right;\n",
       "    }\n",
       "</style>\n",
       "<table border=\"1\" class=\"dataframe\">\n",
       "  <thead>\n",
       "    <tr style=\"text-align: right;\">\n",
       "      <th></th>\n",
       "      <th>단지코드</th>\n",
       "      <th>총세대수</th>\n",
       "      <th>임대건물구분</th>\n",
       "      <th>지역</th>\n",
       "      <th>공급유형</th>\n",
       "      <th>전용면적</th>\n",
       "      <th>전용면적별세대수</th>\n",
       "      <th>공가수</th>\n",
       "      <th>자격유형</th>\n",
       "      <th>임대보증금</th>\n",
       "      <th>임대료</th>\n",
       "      <th>도보 10분거리 내 지하철역 수(환승노선 수 반영)</th>\n",
       "      <th>도보 10분거리 내 버스정류장 수</th>\n",
       "      <th>단지내주차면수</th>\n",
       "      <th>등록차량수</th>\n",
       "    </tr>\n",
       "  </thead>\n",
       "  <tbody>\n",
       "    <tr>\n",
       "      <th>2511</th>\n",
       "      <td>C1363</td>\n",
       "      <td>2568</td>\n",
       "      <td>아파트</td>\n",
       "      <td>경기도</td>\n",
       "      <td>국민임대</td>\n",
       "      <td>26.85</td>\n",
       "      <td>150</td>\n",
       "      <td>11</td>\n",
       "      <td>H</td>\n",
       "      <td>17021000.0</td>\n",
       "      <td>158060</td>\n",
       "      <td>0.0</td>\n",
       "      <td>6.0</td>\n",
       "      <td>1798</td>\n",
       "      <td>2550</td>\n",
       "    </tr>\n",
       "    <tr>\n",
       "      <th>2512</th>\n",
       "      <td>C1363</td>\n",
       "      <td>2568</td>\n",
       "      <td>아파트</td>\n",
       "      <td>경기도</td>\n",
       "      <td>국민임대</td>\n",
       "      <td>26.85</td>\n",
       "      <td>88</td>\n",
       "      <td>11</td>\n",
       "      <td>H</td>\n",
       "      <td>17021000.0</td>\n",
       "      <td>158060</td>\n",
       "      <td>0.0</td>\n",
       "      <td>6.0</td>\n",
       "      <td>1798</td>\n",
       "      <td>2550</td>\n",
       "    </tr>\n",
       "    <tr>\n",
       "      <th>2513</th>\n",
       "      <td>C1363</td>\n",
       "      <td>2568</td>\n",
       "      <td>아파트</td>\n",
       "      <td>경기도</td>\n",
       "      <td>국민임대</td>\n",
       "      <td>29.92</td>\n",
       "      <td>90</td>\n",
       "      <td>11</td>\n",
       "      <td>H</td>\n",
       "      <td>19451000.0</td>\n",
       "      <td>175260</td>\n",
       "      <td>0.0</td>\n",
       "      <td>6.0</td>\n",
       "      <td>1798</td>\n",
       "      <td>2550</td>\n",
       "    </tr>\n",
       "    <tr>\n",
       "      <th>2514</th>\n",
       "      <td>C1363</td>\n",
       "      <td>2568</td>\n",
       "      <td>아파트</td>\n",
       "      <td>경기도</td>\n",
       "      <td>국민임대</td>\n",
       "      <td>29.92</td>\n",
       "      <td>72</td>\n",
       "      <td>11</td>\n",
       "      <td>H</td>\n",
       "      <td>19451000.0</td>\n",
       "      <td>175260</td>\n",
       "      <td>0.0</td>\n",
       "      <td>6.0</td>\n",
       "      <td>1798</td>\n",
       "      <td>2550</td>\n",
       "    </tr>\n",
       "    <tr>\n",
       "      <th>2515</th>\n",
       "      <td>C1363</td>\n",
       "      <td>2568</td>\n",
       "      <td>아파트</td>\n",
       "      <td>경기도</td>\n",
       "      <td>국민임대</td>\n",
       "      <td>29.92</td>\n",
       "      <td>340</td>\n",
       "      <td>11</td>\n",
       "      <td>H</td>\n",
       "      <td>19451000.0</td>\n",
       "      <td>175260</td>\n",
       "      <td>0.0</td>\n",
       "      <td>6.0</td>\n",
       "      <td>1798</td>\n",
       "      <td>2550</td>\n",
       "    </tr>\n",
       "    <tr>\n",
       "      <th>2516</th>\n",
       "      <td>C1363</td>\n",
       "      <td>2568</td>\n",
       "      <td>아파트</td>\n",
       "      <td>경기도</td>\n",
       "      <td>국민임대</td>\n",
       "      <td>36.96</td>\n",
       "      <td>375</td>\n",
       "      <td>11</td>\n",
       "      <td>H</td>\n",
       "      <td>23892000.0</td>\n",
       "      <td>224730</td>\n",
       "      <td>0.0</td>\n",
       "      <td>6.0</td>\n",
       "      <td>1798</td>\n",
       "      <td>2550</td>\n",
       "    </tr>\n",
       "    <tr>\n",
       "      <th>2517</th>\n",
       "      <td>C1363</td>\n",
       "      <td>2568</td>\n",
       "      <td>아파트</td>\n",
       "      <td>경기도</td>\n",
       "      <td>국민임대</td>\n",
       "      <td>36.96</td>\n",
       "      <td>144</td>\n",
       "      <td>11</td>\n",
       "      <td>H</td>\n",
       "      <td>23892000.0</td>\n",
       "      <td>224730</td>\n",
       "      <td>0.0</td>\n",
       "      <td>6.0</td>\n",
       "      <td>1798</td>\n",
       "      <td>2550</td>\n",
       "    </tr>\n",
       "    <tr>\n",
       "      <th>2518</th>\n",
       "      <td>C1363</td>\n",
       "      <td>2568</td>\n",
       "      <td>아파트</td>\n",
       "      <td>경기도</td>\n",
       "      <td>국민임대</td>\n",
       "      <td>36.96</td>\n",
       "      <td>45</td>\n",
       "      <td>11</td>\n",
       "      <td>H</td>\n",
       "      <td>23892000.0</td>\n",
       "      <td>224730</td>\n",
       "      <td>0.0</td>\n",
       "      <td>6.0</td>\n",
       "      <td>1798</td>\n",
       "      <td>2550</td>\n",
       "    </tr>\n",
       "    <tr>\n",
       "      <th>2519</th>\n",
       "      <td>C1363</td>\n",
       "      <td>2568</td>\n",
       "      <td>아파트</td>\n",
       "      <td>경기도</td>\n",
       "      <td>국민임대</td>\n",
       "      <td>46.49</td>\n",
       "      <td>58</td>\n",
       "      <td>11</td>\n",
       "      <td>H</td>\n",
       "      <td>51763000.0</td>\n",
       "      <td>287090</td>\n",
       "      <td>0.0</td>\n",
       "      <td>6.0</td>\n",
       "      <td>1798</td>\n",
       "      <td>2550</td>\n",
       "    </tr>\n",
       "    <tr>\n",
       "      <th>2520</th>\n",
       "      <td>C1363</td>\n",
       "      <td>2568</td>\n",
       "      <td>아파트</td>\n",
       "      <td>경기도</td>\n",
       "      <td>국민임대</td>\n",
       "      <td>46.49</td>\n",
       "      <td>141</td>\n",
       "      <td>11</td>\n",
       "      <td>H</td>\n",
       "      <td>51763000.0</td>\n",
       "      <td>287090</td>\n",
       "      <td>0.0</td>\n",
       "      <td>6.0</td>\n",
       "      <td>1798</td>\n",
       "      <td>2550</td>\n",
       "    </tr>\n",
       "    <tr>\n",
       "      <th>2521</th>\n",
       "      <td>C1363</td>\n",
       "      <td>2568</td>\n",
       "      <td>아파트</td>\n",
       "      <td>경기도</td>\n",
       "      <td>국민임대</td>\n",
       "      <td>46.77</td>\n",
       "      <td>515</td>\n",
       "      <td>11</td>\n",
       "      <td>H</td>\n",
       "      <td>51763000.0</td>\n",
       "      <td>287090</td>\n",
       "      <td>0.0</td>\n",
       "      <td>6.0</td>\n",
       "      <td>1798</td>\n",
       "      <td>2550</td>\n",
       "    </tr>\n",
       "    <tr>\n",
       "      <th>2522</th>\n",
       "      <td>C1363</td>\n",
       "      <td>2568</td>\n",
       "      <td>아파트</td>\n",
       "      <td>경기도</td>\n",
       "      <td>영구임대</td>\n",
       "      <td>21.95</td>\n",
       "      <td>86</td>\n",
       "      <td>11</td>\n",
       "      <td>I</td>\n",
       "      <td>10718000.0</td>\n",
       "      <td>71930</td>\n",
       "      <td>0.0</td>\n",
       "      <td>6.0</td>\n",
       "      <td>1798</td>\n",
       "      <td>2550</td>\n",
       "    </tr>\n",
       "    <tr>\n",
       "      <th>2523</th>\n",
       "      <td>C1363</td>\n",
       "      <td>2568</td>\n",
       "      <td>아파트</td>\n",
       "      <td>경기도</td>\n",
       "      <td>영구임대</td>\n",
       "      <td>26.85</td>\n",
       "      <td>300</td>\n",
       "      <td>11</td>\n",
       "      <td>I</td>\n",
       "      <td>12881000.0</td>\n",
       "      <td>87840</td>\n",
       "      <td>0.0</td>\n",
       "      <td>6.0</td>\n",
       "      <td>1798</td>\n",
       "      <td>2550</td>\n",
       "    </tr>\n",
       "    <tr>\n",
       "      <th>2524</th>\n",
       "      <td>C1363</td>\n",
       "      <td>2568</td>\n",
       "      <td>아파트</td>\n",
       "      <td>경기도</td>\n",
       "      <td>영구임대</td>\n",
       "      <td>26.85</td>\n",
       "      <td>164</td>\n",
       "      <td>11</td>\n",
       "      <td>I</td>\n",
       "      <td>12881000.0</td>\n",
       "      <td>87840</td>\n",
       "      <td>0.0</td>\n",
       "      <td>6.0</td>\n",
       "      <td>1798</td>\n",
       "      <td>2550</td>\n",
       "    </tr>\n",
       "  </tbody>\n",
       "</table>\n",
       "</div>"
      ],
      "text/plain": [
       "       단지코드  총세대수 임대건물구분   지역  공급유형   전용면적  전용면적별세대수  공가수 자격유형       임대보증금  \\\n",
       "2511  C1363  2568    아파트  경기도  국민임대  26.85       150   11    H  17021000.0   \n",
       "2512  C1363  2568    아파트  경기도  국민임대  26.85        88   11    H  17021000.0   \n",
       "2513  C1363  2568    아파트  경기도  국민임대  29.92        90   11    H  19451000.0   \n",
       "2514  C1363  2568    아파트  경기도  국민임대  29.92        72   11    H  19451000.0   \n",
       "2515  C1363  2568    아파트  경기도  국민임대  29.92       340   11    H  19451000.0   \n",
       "2516  C1363  2568    아파트  경기도  국민임대  36.96       375   11    H  23892000.0   \n",
       "2517  C1363  2568    아파트  경기도  국민임대  36.96       144   11    H  23892000.0   \n",
       "2518  C1363  2568    아파트  경기도  국민임대  36.96        45   11    H  23892000.0   \n",
       "2519  C1363  2568    아파트  경기도  국민임대  46.49        58   11    H  51763000.0   \n",
       "2520  C1363  2568    아파트  경기도  국민임대  46.49       141   11    H  51763000.0   \n",
       "2521  C1363  2568    아파트  경기도  국민임대  46.77       515   11    H  51763000.0   \n",
       "2522  C1363  2568    아파트  경기도  영구임대  21.95        86   11    I  10718000.0   \n",
       "2523  C1363  2568    아파트  경기도  영구임대  26.85       300   11    I  12881000.0   \n",
       "2524  C1363  2568    아파트  경기도  영구임대  26.85       164   11    I  12881000.0   \n",
       "\n",
       "         임대료  도보 10분거리 내 지하철역 수(환승노선 수 반영)  도보 10분거리 내 버스정류장 수  단지내주차면수  등록차량수  \n",
       "2511  158060                           0.0                 6.0     1798   2550  \n",
       "2512  158060                           0.0                 6.0     1798   2550  \n",
       "2513  175260                           0.0                 6.0     1798   2550  \n",
       "2514  175260                           0.0                 6.0     1798   2550  \n",
       "2515  175260                           0.0                 6.0     1798   2550  \n",
       "2516  224730                           0.0                 6.0     1798   2550  \n",
       "2517  224730                           0.0                 6.0     1798   2550  \n",
       "2518  224730                           0.0                 6.0     1798   2550  \n",
       "2519  287090                           0.0                 6.0     1798   2550  \n",
       "2520  287090                           0.0                 6.0     1798   2550  \n",
       "2521  287090                           0.0                 6.0     1798   2550  \n",
       "2522   71930                           0.0                 6.0     1798   2550  \n",
       "2523   87840                           0.0                 6.0     1798   2550  \n",
       "2524   87840                           0.0                 6.0     1798   2550  "
      ]
     },
     "execution_count": 22,
     "metadata": {},
     "output_type": "execute_result"
    }
   ],
   "source": [
    "train.loc[train['총세대수']>=2500]"
   ]
  },
  {
   "cell_type": "code",
   "execution_count": 23,
   "metadata": {
    "colab": {
     "base_uri": "https://localhost:8080/"
    },
    "executionInfo": {
     "elapsed": 42,
     "status": "ok",
     "timestamp": 1624716822318,
     "user": {
      "displayName": "강은영",
      "photoUrl": "https://lh3.googleusercontent.com/a-/AOh14Gjy66CDAcyXsALCf0rphNoHtH-LG6qhHqqSC2Gbhw=s64",
      "userId": "13345059186417356878"
     },
     "user_tz": -540
    },
    "id": "EPH55tkoaU1j",
    "outputId": "f7878476-12d2-4eac-d1a1-d2a4993a7636"
   },
   "outputs": [
    {
     "data": {
      "text/plain": [
       "<AxesSubplot:xlabel='총세대수'>"
      ]
     },
     "execution_count": 23,
     "metadata": {},
     "output_type": "execute_result"
    },
    {
     "data": {
      "image/png": "[encoded data removed]",
      "text/plain": [
       "<Figure size 1440x720 with 1 Axes>"
      ]
     },
     "metadata": {
      "needs_background": "light"
     },
     "output_type": "display_data"
    }
   ],
   "source": [
    "sns.boxplot(test['총세대수'])"
   ]
  },
  {
   "cell_type": "code",
   "execution_count": 24,
   "metadata": {
    "colab": {
     "base_uri": "https://localhost:8080/"
    },
    "executionInfo": {
     "elapsed": 41,
     "status": "ok",
     "timestamp": 1624716822320,
     "user": {
      "displayName": "강은영",
      "photoUrl": "https://lh3.googleusercontent.com/a-/AOh14Gjy66CDAcyXsALCf0rphNoHtH-LG6qhHqqSC2Gbhw=s64",
      "userId": "13345059186417356878"
     },
     "user_tz": -540
    },
    "id": "YTjDi9btaU1k",
    "outputId": "a45de679-2296-4df5-8aee-b5eb754c19ad"
   },
   "outputs": [
    {
     "data": {
      "text/plain": [
       "count    1022.000000\n",
       "mean      862.080235\n",
       "std       536.340894\n",
       "min        75.000000\n",
       "25%       488.000000\n",
       "50%       745.000000\n",
       "75%      1161.000000\n",
       "max      2572.000000\n",
       "Name: 총세대수, dtype: float64"
      ]
     },
     "execution_count": 24,
     "metadata": {},
     "output_type": "execute_result"
    }
   ],
   "source": [
    "test['총세대수'].describe()"
   ]
  },
  {
   "cell_type": "code",
   "execution_count": 25,
   "metadata": {
    "id": "jqrb7z8JaU1l"
   },
   "outputs": [],
   "source": [
    "a=test.loc[test['총세대수']>=2500]"
   ]
  },
  {
   "cell_type": "code",
   "execution_count": 26,
   "metadata": {
    "colab": {
     "base_uri": "https://localhost:8080/"
    },
    "executionInfo": {
     "elapsed": 41,
     "status": "ok",
     "timestamp": 1624716822323,
     "user": {
      "displayName": "강은영",
      "photoUrl": "https://lh3.googleusercontent.com/a-/AOh14Gjy66CDAcyXsALCf0rphNoHtH-LG6qhHqqSC2Gbhw=s64",
      "userId": "13345059186417356878"
     },
     "user_tz": -540
    },
    "id": "XMROQKvuaU1m",
    "outputId": "1ee32098-1a43-458a-8f24-3979a17202b3"
   },
   "outputs": [
    {
     "data": {
      "text/plain": [
       "46"
      ]
     },
     "execution_count": 26,
     "metadata": {},
     "output_type": "execute_result"
    }
   ],
   "source": [
    "a['총세대수'].count()"
   ]
  },
  {
   "cell_type": "code",
   "execution_count": 27,
   "metadata": {
    "colab": {
     "base_uri": "https://localhost:8080/"
    },
    "executionInfo": {
     "elapsed": 41,
     "status": "ok",
     "timestamp": 1624716822324,
     "user": {
      "displayName": "강은영",
      "photoUrl": "https://lh3.googleusercontent.com/a-/AOh14Gjy66CDAcyXsALCf0rphNoHtH-LG6qhHqqSC2Gbhw=s64",
      "userId": "13345059186417356878"
     },
     "user_tz": -540
    },
    "id": "TNoBPH08aU1n",
    "outputId": "42ae9029-f397-458e-a7fe-459e391ae63c",
    "scrolled": true
   },
   "outputs": [
    {
     "data": {
      "text/html": [
       "<div>\n",
       "<style scoped>\n",
       "    .dataframe tbody tr th:only-of-type {\n",
       "        vertical-align: middle;\n",
       "    }\n",
       "\n",
       "    .dataframe tbody tr th {\n",
       "        vertical-align: top;\n",
       "    }\n",
       "\n",
       "    .dataframe thead th {\n",
       "        text-align: right;\n",
       "    }\n",
       "</style>\n",
       "<table border=\"1\" class=\"dataframe\">\n",
       "  <thead>\n",
       "    <tr style=\"text-align: right;\">\n",
       "      <th></th>\n",
       "      <th>단지코드</th>\n",
       "      <th>총세대수</th>\n",
       "      <th>임대건물구분</th>\n",
       "      <th>지역</th>\n",
       "      <th>공급유형</th>\n",
       "      <th>전용면적</th>\n",
       "      <th>전용면적별세대수</th>\n",
       "      <th>공가수</th>\n",
       "      <th>자격유형</th>\n",
       "      <th>임대보증금</th>\n",
       "      <th>임대료</th>\n",
       "      <th>도보 10분거리 내 지하철역 수(환승노선 수 반영)</th>\n",
       "      <th>도보 10분거리 내 버스정류장 수</th>\n",
       "      <th>단지내주차면수</th>\n",
       "    </tr>\n",
       "  </thead>\n",
       "  <tbody>\n",
       "    <tr>\n",
       "      <th>113</th>\n",
       "      <td>C2676</td>\n",
       "      <td>2572</td>\n",
       "      <td>아파트</td>\n",
       "      <td>부산광역시</td>\n",
       "      <td>영구임대</td>\n",
       "      <td>26.37</td>\n",
       "      <td>294</td>\n",
       "      <td>25</td>\n",
       "      <td>C</td>\n",
       "      <td>5787000</td>\n",
       "      <td>79980</td>\n",
       "      <td>0.0</td>\n",
       "      <td>2</td>\n",
       "      <td>418</td>\n",
       "    </tr>\n",
       "    <tr>\n",
       "      <th>114</th>\n",
       "      <td>C2676</td>\n",
       "      <td>2572</td>\n",
       "      <td>아파트</td>\n",
       "      <td>부산광역시</td>\n",
       "      <td>영구임대</td>\n",
       "      <td>26.37</td>\n",
       "      <td>1341</td>\n",
       "      <td>25</td>\n",
       "      <td>C</td>\n",
       "      <td>5787000</td>\n",
       "      <td>79980</td>\n",
       "      <td>0.0</td>\n",
       "      <td>2</td>\n",
       "      <td>418</td>\n",
       "    </tr>\n",
       "    <tr>\n",
       "      <th>115</th>\n",
       "      <td>C2676</td>\n",
       "      <td>2572</td>\n",
       "      <td>아파트</td>\n",
       "      <td>부산광역시</td>\n",
       "      <td>영구임대</td>\n",
       "      <td>31.32</td>\n",
       "      <td>894</td>\n",
       "      <td>25</td>\n",
       "      <td>C</td>\n",
       "      <td>6873000</td>\n",
       "      <td>94990</td>\n",
       "      <td>0.0</td>\n",
       "      <td>2</td>\n",
       "      <td>418</td>\n",
       "    </tr>\n",
       "    <tr>\n",
       "      <th>116</th>\n",
       "      <td>C2676</td>\n",
       "      <td>2572</td>\n",
       "      <td>상가</td>\n",
       "      <td>부산광역시</td>\n",
       "      <td>임대상가</td>\n",
       "      <td>15.00</td>\n",
       "      <td>1</td>\n",
       "      <td>25</td>\n",
       "      <td>D</td>\n",
       "      <td>NaN</td>\n",
       "      <td>NaN</td>\n",
       "      <td>0.0</td>\n",
       "      <td>2</td>\n",
       "      <td>418</td>\n",
       "    </tr>\n",
       "    <tr>\n",
       "      <th>117</th>\n",
       "      <td>C2676</td>\n",
       "      <td>2572</td>\n",
       "      <td>상가</td>\n",
       "      <td>부산광역시</td>\n",
       "      <td>임대상가</td>\n",
       "      <td>15.00</td>\n",
       "      <td>1</td>\n",
       "      <td>25</td>\n",
       "      <td>D</td>\n",
       "      <td>NaN</td>\n",
       "      <td>NaN</td>\n",
       "      <td>0.0</td>\n",
       "      <td>2</td>\n",
       "      <td>418</td>\n",
       "    </tr>\n",
       "    <tr>\n",
       "      <th>118</th>\n",
       "      <td>C2676</td>\n",
       "      <td>2572</td>\n",
       "      <td>상가</td>\n",
       "      <td>부산광역시</td>\n",
       "      <td>임대상가</td>\n",
       "      <td>38.00</td>\n",
       "      <td>1</td>\n",
       "      <td>25</td>\n",
       "      <td>D</td>\n",
       "      <td>NaN</td>\n",
       "      <td>NaN</td>\n",
       "      <td>0.0</td>\n",
       "      <td>2</td>\n",
       "      <td>418</td>\n",
       "    </tr>\n",
       "    <tr>\n",
       "      <th>119</th>\n",
       "      <td>C2676</td>\n",
       "      <td>2572</td>\n",
       "      <td>상가</td>\n",
       "      <td>부산광역시</td>\n",
       "      <td>임대상가</td>\n",
       "      <td>38.00</td>\n",
       "      <td>1</td>\n",
       "      <td>25</td>\n",
       "      <td>D</td>\n",
       "      <td>NaN</td>\n",
       "      <td>NaN</td>\n",
       "      <td>0.0</td>\n",
       "      <td>2</td>\n",
       "      <td>418</td>\n",
       "    </tr>\n",
       "    <tr>\n",
       "      <th>120</th>\n",
       "      <td>C2676</td>\n",
       "      <td>2572</td>\n",
       "      <td>상가</td>\n",
       "      <td>부산광역시</td>\n",
       "      <td>임대상가</td>\n",
       "      <td>16.57</td>\n",
       "      <td>1</td>\n",
       "      <td>25</td>\n",
       "      <td>D</td>\n",
       "      <td>NaN</td>\n",
       "      <td>NaN</td>\n",
       "      <td>0.0</td>\n",
       "      <td>2</td>\n",
       "      <td>418</td>\n",
       "    </tr>\n",
       "    <tr>\n",
       "      <th>121</th>\n",
       "      <td>C2676</td>\n",
       "      <td>2572</td>\n",
       "      <td>상가</td>\n",
       "      <td>부산광역시</td>\n",
       "      <td>임대상가</td>\n",
       "      <td>18.38</td>\n",
       "      <td>1</td>\n",
       "      <td>25</td>\n",
       "      <td>D</td>\n",
       "      <td>NaN</td>\n",
       "      <td>NaN</td>\n",
       "      <td>0.0</td>\n",
       "      <td>2</td>\n",
       "      <td>418</td>\n",
       "    </tr>\n",
       "    <tr>\n",
       "      <th>122</th>\n",
       "      <td>C2676</td>\n",
       "      <td>2572</td>\n",
       "      <td>상가</td>\n",
       "      <td>부산광역시</td>\n",
       "      <td>임대상가</td>\n",
       "      <td>18.38</td>\n",
       "      <td>1</td>\n",
       "      <td>25</td>\n",
       "      <td>D</td>\n",
       "      <td>NaN</td>\n",
       "      <td>NaN</td>\n",
       "      <td>0.0</td>\n",
       "      <td>2</td>\n",
       "      <td>418</td>\n",
       "    </tr>\n",
       "    <tr>\n",
       "      <th>123</th>\n",
       "      <td>C2676</td>\n",
       "      <td>2572</td>\n",
       "      <td>상가</td>\n",
       "      <td>부산광역시</td>\n",
       "      <td>임대상가</td>\n",
       "      <td>20.90</td>\n",
       "      <td>1</td>\n",
       "      <td>25</td>\n",
       "      <td>D</td>\n",
       "      <td>NaN</td>\n",
       "      <td>NaN</td>\n",
       "      <td>0.0</td>\n",
       "      <td>2</td>\n",
       "      <td>418</td>\n",
       "    </tr>\n",
       "    <tr>\n",
       "      <th>124</th>\n",
       "      <td>C2676</td>\n",
       "      <td>2572</td>\n",
       "      <td>상가</td>\n",
       "      <td>부산광역시</td>\n",
       "      <td>임대상가</td>\n",
       "      <td>20.90</td>\n",
       "      <td>1</td>\n",
       "      <td>25</td>\n",
       "      <td>D</td>\n",
       "      <td>NaN</td>\n",
       "      <td>NaN</td>\n",
       "      <td>0.0</td>\n",
       "      <td>2</td>\n",
       "      <td>418</td>\n",
       "    </tr>\n",
       "    <tr>\n",
       "      <th>125</th>\n",
       "      <td>C2676</td>\n",
       "      <td>2572</td>\n",
       "      <td>상가</td>\n",
       "      <td>부산광역시</td>\n",
       "      <td>임대상가</td>\n",
       "      <td>20.90</td>\n",
       "      <td>1</td>\n",
       "      <td>25</td>\n",
       "      <td>D</td>\n",
       "      <td>NaN</td>\n",
       "      <td>NaN</td>\n",
       "      <td>0.0</td>\n",
       "      <td>2</td>\n",
       "      <td>418</td>\n",
       "    </tr>\n",
       "    <tr>\n",
       "      <th>126</th>\n",
       "      <td>C2676</td>\n",
       "      <td>2572</td>\n",
       "      <td>상가</td>\n",
       "      <td>부산광역시</td>\n",
       "      <td>임대상가</td>\n",
       "      <td>20.90</td>\n",
       "      <td>1</td>\n",
       "      <td>25</td>\n",
       "      <td>D</td>\n",
       "      <td>NaN</td>\n",
       "      <td>NaN</td>\n",
       "      <td>0.0</td>\n",
       "      <td>2</td>\n",
       "      <td>418</td>\n",
       "    </tr>\n",
       "    <tr>\n",
       "      <th>127</th>\n",
       "      <td>C2676</td>\n",
       "      <td>2572</td>\n",
       "      <td>상가</td>\n",
       "      <td>부산광역시</td>\n",
       "      <td>임대상가</td>\n",
       "      <td>21.94</td>\n",
       "      <td>1</td>\n",
       "      <td>25</td>\n",
       "      <td>D</td>\n",
       "      <td>NaN</td>\n",
       "      <td>NaN</td>\n",
       "      <td>0.0</td>\n",
       "      <td>2</td>\n",
       "      <td>418</td>\n",
       "    </tr>\n",
       "    <tr>\n",
       "      <th>128</th>\n",
       "      <td>C2676</td>\n",
       "      <td>2572</td>\n",
       "      <td>상가</td>\n",
       "      <td>부산광역시</td>\n",
       "      <td>임대상가</td>\n",
       "      <td>23.35</td>\n",
       "      <td>1</td>\n",
       "      <td>25</td>\n",
       "      <td>D</td>\n",
       "      <td>NaN</td>\n",
       "      <td>NaN</td>\n",
       "      <td>0.0</td>\n",
       "      <td>2</td>\n",
       "      <td>418</td>\n",
       "    </tr>\n",
       "    <tr>\n",
       "      <th>129</th>\n",
       "      <td>C2676</td>\n",
       "      <td>2572</td>\n",
       "      <td>상가</td>\n",
       "      <td>부산광역시</td>\n",
       "      <td>임대상가</td>\n",
       "      <td>26.25</td>\n",
       "      <td>1</td>\n",
       "      <td>25</td>\n",
       "      <td>D</td>\n",
       "      <td>NaN</td>\n",
       "      <td>NaN</td>\n",
       "      <td>0.0</td>\n",
       "      <td>2</td>\n",
       "      <td>418</td>\n",
       "    </tr>\n",
       "    <tr>\n",
       "      <th>130</th>\n",
       "      <td>C2676</td>\n",
       "      <td>2572</td>\n",
       "      <td>상가</td>\n",
       "      <td>부산광역시</td>\n",
       "      <td>임대상가</td>\n",
       "      <td>26.25</td>\n",
       "      <td>1</td>\n",
       "      <td>25</td>\n",
       "      <td>D</td>\n",
       "      <td>NaN</td>\n",
       "      <td>NaN</td>\n",
       "      <td>0.0</td>\n",
       "      <td>2</td>\n",
       "      <td>418</td>\n",
       "    </tr>\n",
       "    <tr>\n",
       "      <th>131</th>\n",
       "      <td>C2676</td>\n",
       "      <td>2572</td>\n",
       "      <td>상가</td>\n",
       "      <td>부산광역시</td>\n",
       "      <td>임대상가</td>\n",
       "      <td>28.38</td>\n",
       "      <td>1</td>\n",
       "      <td>25</td>\n",
       "      <td>D</td>\n",
       "      <td>NaN</td>\n",
       "      <td>NaN</td>\n",
       "      <td>0.0</td>\n",
       "      <td>2</td>\n",
       "      <td>418</td>\n",
       "    </tr>\n",
       "    <tr>\n",
       "      <th>132</th>\n",
       "      <td>C2676</td>\n",
       "      <td>2572</td>\n",
       "      <td>상가</td>\n",
       "      <td>부산광역시</td>\n",
       "      <td>임대상가</td>\n",
       "      <td>28.50</td>\n",
       "      <td>1</td>\n",
       "      <td>25</td>\n",
       "      <td>D</td>\n",
       "      <td>NaN</td>\n",
       "      <td>NaN</td>\n",
       "      <td>0.0</td>\n",
       "      <td>2</td>\n",
       "      <td>418</td>\n",
       "    </tr>\n",
       "    <tr>\n",
       "      <th>133</th>\n",
       "      <td>C2676</td>\n",
       "      <td>2572</td>\n",
       "      <td>상가</td>\n",
       "      <td>부산광역시</td>\n",
       "      <td>임대상가</td>\n",
       "      <td>33.15</td>\n",
       "      <td>1</td>\n",
       "      <td>25</td>\n",
       "      <td>D</td>\n",
       "      <td>NaN</td>\n",
       "      <td>NaN</td>\n",
       "      <td>0.0</td>\n",
       "      <td>2</td>\n",
       "      <td>418</td>\n",
       "    </tr>\n",
       "    <tr>\n",
       "      <th>134</th>\n",
       "      <td>C2676</td>\n",
       "      <td>2572</td>\n",
       "      <td>상가</td>\n",
       "      <td>부산광역시</td>\n",
       "      <td>임대상가</td>\n",
       "      <td>33.31</td>\n",
       "      <td>1</td>\n",
       "      <td>25</td>\n",
       "      <td>D</td>\n",
       "      <td>NaN</td>\n",
       "      <td>NaN</td>\n",
       "      <td>0.0</td>\n",
       "      <td>2</td>\n",
       "      <td>418</td>\n",
       "    </tr>\n",
       "    <tr>\n",
       "      <th>135</th>\n",
       "      <td>C2676</td>\n",
       "      <td>2572</td>\n",
       "      <td>상가</td>\n",
       "      <td>부산광역시</td>\n",
       "      <td>임대상가</td>\n",
       "      <td>33.39</td>\n",
       "      <td>1</td>\n",
       "      <td>25</td>\n",
       "      <td>D</td>\n",
       "      <td>NaN</td>\n",
       "      <td>NaN</td>\n",
       "      <td>0.0</td>\n",
       "      <td>2</td>\n",
       "      <td>418</td>\n",
       "    </tr>\n",
       "    <tr>\n",
       "      <th>136</th>\n",
       "      <td>C2676</td>\n",
       "      <td>2572</td>\n",
       "      <td>상가</td>\n",
       "      <td>부산광역시</td>\n",
       "      <td>임대상가</td>\n",
       "      <td>33.51</td>\n",
       "      <td>1</td>\n",
       "      <td>25</td>\n",
       "      <td>D</td>\n",
       "      <td>NaN</td>\n",
       "      <td>NaN</td>\n",
       "      <td>0.0</td>\n",
       "      <td>2</td>\n",
       "      <td>418</td>\n",
       "    </tr>\n",
       "    <tr>\n",
       "      <th>137</th>\n",
       "      <td>C2676</td>\n",
       "      <td>2572</td>\n",
       "      <td>상가</td>\n",
       "      <td>부산광역시</td>\n",
       "      <td>임대상가</td>\n",
       "      <td>33.51</td>\n",
       "      <td>1</td>\n",
       "      <td>25</td>\n",
       "      <td>D</td>\n",
       "      <td>NaN</td>\n",
       "      <td>NaN</td>\n",
       "      <td>0.0</td>\n",
       "      <td>2</td>\n",
       "      <td>418</td>\n",
       "    </tr>\n",
       "    <tr>\n",
       "      <th>138</th>\n",
       "      <td>C2676</td>\n",
       "      <td>2572</td>\n",
       "      <td>상가</td>\n",
       "      <td>부산광역시</td>\n",
       "      <td>임대상가</td>\n",
       "      <td>33.51</td>\n",
       "      <td>1</td>\n",
       "      <td>25</td>\n",
       "      <td>D</td>\n",
       "      <td>NaN</td>\n",
       "      <td>NaN</td>\n",
       "      <td>0.0</td>\n",
       "      <td>2</td>\n",
       "      <td>418</td>\n",
       "    </tr>\n",
       "    <tr>\n",
       "      <th>139</th>\n",
       "      <td>C2676</td>\n",
       "      <td>2572</td>\n",
       "      <td>상가</td>\n",
       "      <td>부산광역시</td>\n",
       "      <td>임대상가</td>\n",
       "      <td>37.26</td>\n",
       "      <td>1</td>\n",
       "      <td>25</td>\n",
       "      <td>D</td>\n",
       "      <td>NaN</td>\n",
       "      <td>NaN</td>\n",
       "      <td>0.0</td>\n",
       "      <td>2</td>\n",
       "      <td>418</td>\n",
       "    </tr>\n",
       "    <tr>\n",
       "      <th>140</th>\n",
       "      <td>C2676</td>\n",
       "      <td>2572</td>\n",
       "      <td>상가</td>\n",
       "      <td>부산광역시</td>\n",
       "      <td>임대상가</td>\n",
       "      <td>37.41</td>\n",
       "      <td>1</td>\n",
       "      <td>25</td>\n",
       "      <td>D</td>\n",
       "      <td>NaN</td>\n",
       "      <td>NaN</td>\n",
       "      <td>0.0</td>\n",
       "      <td>2</td>\n",
       "      <td>418</td>\n",
       "    </tr>\n",
       "    <tr>\n",
       "      <th>141</th>\n",
       "      <td>C2676</td>\n",
       "      <td>2572</td>\n",
       "      <td>상가</td>\n",
       "      <td>부산광역시</td>\n",
       "      <td>임대상가</td>\n",
       "      <td>37.41</td>\n",
       "      <td>1</td>\n",
       "      <td>25</td>\n",
       "      <td>D</td>\n",
       "      <td>NaN</td>\n",
       "      <td>NaN</td>\n",
       "      <td>0.0</td>\n",
       "      <td>2</td>\n",
       "      <td>418</td>\n",
       "    </tr>\n",
       "    <tr>\n",
       "      <th>142</th>\n",
       "      <td>C2676</td>\n",
       "      <td>2572</td>\n",
       "      <td>상가</td>\n",
       "      <td>부산광역시</td>\n",
       "      <td>임대상가</td>\n",
       "      <td>37.41</td>\n",
       "      <td>1</td>\n",
       "      <td>25</td>\n",
       "      <td>D</td>\n",
       "      <td>NaN</td>\n",
       "      <td>NaN</td>\n",
       "      <td>0.0</td>\n",
       "      <td>2</td>\n",
       "      <td>418</td>\n",
       "    </tr>\n",
       "    <tr>\n",
       "      <th>143</th>\n",
       "      <td>C2676</td>\n",
       "      <td>2572</td>\n",
       "      <td>상가</td>\n",
       "      <td>부산광역시</td>\n",
       "      <td>임대상가</td>\n",
       "      <td>37.49</td>\n",
       "      <td>1</td>\n",
       "      <td>25</td>\n",
       "      <td>D</td>\n",
       "      <td>NaN</td>\n",
       "      <td>NaN</td>\n",
       "      <td>0.0</td>\n",
       "      <td>2</td>\n",
       "      <td>418</td>\n",
       "    </tr>\n",
       "    <tr>\n",
       "      <th>144</th>\n",
       "      <td>C2676</td>\n",
       "      <td>2572</td>\n",
       "      <td>상가</td>\n",
       "      <td>부산광역시</td>\n",
       "      <td>임대상가</td>\n",
       "      <td>37.95</td>\n",
       "      <td>1</td>\n",
       "      <td>25</td>\n",
       "      <td>D</td>\n",
       "      <td>NaN</td>\n",
       "      <td>NaN</td>\n",
       "      <td>0.0</td>\n",
       "      <td>2</td>\n",
       "      <td>418</td>\n",
       "    </tr>\n",
       "    <tr>\n",
       "      <th>145</th>\n",
       "      <td>C2676</td>\n",
       "      <td>2572</td>\n",
       "      <td>상가</td>\n",
       "      <td>부산광역시</td>\n",
       "      <td>임대상가</td>\n",
       "      <td>37.95</td>\n",
       "      <td>1</td>\n",
       "      <td>25</td>\n",
       "      <td>D</td>\n",
       "      <td>NaN</td>\n",
       "      <td>NaN</td>\n",
       "      <td>0.0</td>\n",
       "      <td>2</td>\n",
       "      <td>418</td>\n",
       "    </tr>\n",
       "    <tr>\n",
       "      <th>146</th>\n",
       "      <td>C2676</td>\n",
       "      <td>2572</td>\n",
       "      <td>상가</td>\n",
       "      <td>부산광역시</td>\n",
       "      <td>임대상가</td>\n",
       "      <td>38.04</td>\n",
       "      <td>1</td>\n",
       "      <td>25</td>\n",
       "      <td>D</td>\n",
       "      <td>NaN</td>\n",
       "      <td>NaN</td>\n",
       "      <td>0.0</td>\n",
       "      <td>2</td>\n",
       "      <td>418</td>\n",
       "    </tr>\n",
       "    <tr>\n",
       "      <th>147</th>\n",
       "      <td>C2676</td>\n",
       "      <td>2572</td>\n",
       "      <td>상가</td>\n",
       "      <td>부산광역시</td>\n",
       "      <td>임대상가</td>\n",
       "      <td>39.33</td>\n",
       "      <td>1</td>\n",
       "      <td>25</td>\n",
       "      <td>D</td>\n",
       "      <td>NaN</td>\n",
       "      <td>NaN</td>\n",
       "      <td>0.0</td>\n",
       "      <td>2</td>\n",
       "      <td>418</td>\n",
       "    </tr>\n",
       "    <tr>\n",
       "      <th>148</th>\n",
       "      <td>C2676</td>\n",
       "      <td>2572</td>\n",
       "      <td>상가</td>\n",
       "      <td>부산광역시</td>\n",
       "      <td>임대상가</td>\n",
       "      <td>39.33</td>\n",
       "      <td>1</td>\n",
       "      <td>25</td>\n",
       "      <td>D</td>\n",
       "      <td>NaN</td>\n",
       "      <td>NaN</td>\n",
       "      <td>0.0</td>\n",
       "      <td>2</td>\n",
       "      <td>418</td>\n",
       "    </tr>\n",
       "    <tr>\n",
       "      <th>149</th>\n",
       "      <td>C2676</td>\n",
       "      <td>2572</td>\n",
       "      <td>상가</td>\n",
       "      <td>부산광역시</td>\n",
       "      <td>임대상가</td>\n",
       "      <td>39.33</td>\n",
       "      <td>1</td>\n",
       "      <td>25</td>\n",
       "      <td>D</td>\n",
       "      <td>NaN</td>\n",
       "      <td>NaN</td>\n",
       "      <td>0.0</td>\n",
       "      <td>2</td>\n",
       "      <td>418</td>\n",
       "    </tr>\n",
       "    <tr>\n",
       "      <th>150</th>\n",
       "      <td>C2676</td>\n",
       "      <td>2572</td>\n",
       "      <td>상가</td>\n",
       "      <td>부산광역시</td>\n",
       "      <td>임대상가</td>\n",
       "      <td>40.39</td>\n",
       "      <td>1</td>\n",
       "      <td>25</td>\n",
       "      <td>D</td>\n",
       "      <td>NaN</td>\n",
       "      <td>NaN</td>\n",
       "      <td>0.0</td>\n",
       "      <td>2</td>\n",
       "      <td>418</td>\n",
       "    </tr>\n",
       "    <tr>\n",
       "      <th>151</th>\n",
       "      <td>C2676</td>\n",
       "      <td>2572</td>\n",
       "      <td>상가</td>\n",
       "      <td>부산광역시</td>\n",
       "      <td>임대상가</td>\n",
       "      <td>54.51</td>\n",
       "      <td>1</td>\n",
       "      <td>25</td>\n",
       "      <td>D</td>\n",
       "      <td>NaN</td>\n",
       "      <td>NaN</td>\n",
       "      <td>0.0</td>\n",
       "      <td>2</td>\n",
       "      <td>418</td>\n",
       "    </tr>\n",
       "    <tr>\n",
       "      <th>152</th>\n",
       "      <td>C2676</td>\n",
       "      <td>2572</td>\n",
       "      <td>상가</td>\n",
       "      <td>부산광역시</td>\n",
       "      <td>임대상가</td>\n",
       "      <td>54.51</td>\n",
       "      <td>1</td>\n",
       "      <td>25</td>\n",
       "      <td>D</td>\n",
       "      <td>NaN</td>\n",
       "      <td>NaN</td>\n",
       "      <td>0.0</td>\n",
       "      <td>2</td>\n",
       "      <td>418</td>\n",
       "    </tr>\n",
       "    <tr>\n",
       "      <th>153</th>\n",
       "      <td>C2676</td>\n",
       "      <td>2572</td>\n",
       "      <td>상가</td>\n",
       "      <td>부산광역시</td>\n",
       "      <td>임대상가</td>\n",
       "      <td>54.51</td>\n",
       "      <td>1</td>\n",
       "      <td>25</td>\n",
       "      <td>D</td>\n",
       "      <td>NaN</td>\n",
       "      <td>NaN</td>\n",
       "      <td>0.0</td>\n",
       "      <td>2</td>\n",
       "      <td>418</td>\n",
       "    </tr>\n",
       "    <tr>\n",
       "      <th>154</th>\n",
       "      <td>C2676</td>\n",
       "      <td>2572</td>\n",
       "      <td>상가</td>\n",
       "      <td>부산광역시</td>\n",
       "      <td>임대상가</td>\n",
       "      <td>54.60</td>\n",
       "      <td>1</td>\n",
       "      <td>25</td>\n",
       "      <td>D</td>\n",
       "      <td>NaN</td>\n",
       "      <td>NaN</td>\n",
       "      <td>0.0</td>\n",
       "      <td>2</td>\n",
       "      <td>418</td>\n",
       "    </tr>\n",
       "    <tr>\n",
       "      <th>155</th>\n",
       "      <td>C2676</td>\n",
       "      <td>2572</td>\n",
       "      <td>상가</td>\n",
       "      <td>부산광역시</td>\n",
       "      <td>임대상가</td>\n",
       "      <td>54.61</td>\n",
       "      <td>1</td>\n",
       "      <td>25</td>\n",
       "      <td>D</td>\n",
       "      <td>NaN</td>\n",
       "      <td>NaN</td>\n",
       "      <td>0.0</td>\n",
       "      <td>2</td>\n",
       "      <td>418</td>\n",
       "    </tr>\n",
       "    <tr>\n",
       "      <th>156</th>\n",
       "      <td>C2676</td>\n",
       "      <td>2572</td>\n",
       "      <td>상가</td>\n",
       "      <td>부산광역시</td>\n",
       "      <td>임대상가</td>\n",
       "      <td>75.98</td>\n",
       "      <td>1</td>\n",
       "      <td>25</td>\n",
       "      <td>D</td>\n",
       "      <td>NaN</td>\n",
       "      <td>NaN</td>\n",
       "      <td>0.0</td>\n",
       "      <td>2</td>\n",
       "      <td>418</td>\n",
       "    </tr>\n",
       "    <tr>\n",
       "      <th>157</th>\n",
       "      <td>C2676</td>\n",
       "      <td>2572</td>\n",
       "      <td>상가</td>\n",
       "      <td>부산광역시</td>\n",
       "      <td>임대상가</td>\n",
       "      <td>404.65</td>\n",
       "      <td>1</td>\n",
       "      <td>25</td>\n",
       "      <td>D</td>\n",
       "      <td>NaN</td>\n",
       "      <td>NaN</td>\n",
       "      <td>0.0</td>\n",
       "      <td>2</td>\n",
       "      <td>418</td>\n",
       "    </tr>\n",
       "    <tr>\n",
       "      <th>158</th>\n",
       "      <td>C2676</td>\n",
       "      <td>2572</td>\n",
       "      <td>상가</td>\n",
       "      <td>부산광역시</td>\n",
       "      <td>임대상가</td>\n",
       "      <td>583.40</td>\n",
       "      <td>1</td>\n",
       "      <td>25</td>\n",
       "      <td>D</td>\n",
       "      <td>NaN</td>\n",
       "      <td>NaN</td>\n",
       "      <td>0.0</td>\n",
       "      <td>2</td>\n",
       "      <td>418</td>\n",
       "    </tr>\n",
       "  </tbody>\n",
       "</table>\n",
       "</div>"
      ],
      "text/plain": [
       "      단지코드  총세대수 임대건물구분     지역  공급유형    전용면적  전용면적별세대수  공가수 자격유형    임대보증금  \\\n",
       "113  C2676  2572    아파트  부산광역시  영구임대   26.37       294   25    C  5787000   \n",
       "114  C2676  2572    아파트  부산광역시  영구임대   26.37      1341   25    C  5787000   \n",
       "115  C2676  2572    아파트  부산광역시  영구임대   31.32       894   25    C  6873000   \n",
       "116  C2676  2572     상가  부산광역시  임대상가   15.00         1   25    D      NaN   \n",
       "117  C2676  2572     상가  부산광역시  임대상가   15.00         1   25    D      NaN   \n",
       "118  C2676  2572     상가  부산광역시  임대상가   38.00         1   25    D      NaN   \n",
       "119  C2676  2572     상가  부산광역시  임대상가   38.00         1   25    D      NaN   \n",
       "120  C2676  2572     상가  부산광역시  임대상가   16.57         1   25    D      NaN   \n",
       "121  C2676  2572     상가  부산광역시  임대상가   18.38         1   25    D      NaN   \n",
       "122  C2676  2572     상가  부산광역시  임대상가   18.38         1   25    D      NaN   \n",
       "123  C2676  2572     상가  부산광역시  임대상가   20.90         1   25    D      NaN   \n",
       "124  C2676  2572     상가  부산광역시  임대상가   20.90         1   25    D      NaN   \n",
       "125  C2676  2572     상가  부산광역시  임대상가   20.90         1   25    D      NaN   \n",
       "126  C2676  2572     상가  부산광역시  임대상가   20.90         1   25    D      NaN   \n",
       "127  C2676  2572     상가  부산광역시  임대상가   21.94         1   25    D      NaN   \n",
       "128  C2676  2572     상가  부산광역시  임대상가   23.35         1   25    D      NaN   \n",
       "129  C2676  2572     상가  부산광역시  임대상가   26.25         1   25    D      NaN   \n",
       "130  C2676  2572     상가  부산광역시  임대상가   26.25         1   25    D      NaN   \n",
       "131  C2676  2572     상가  부산광역시  임대상가   28.38         1   25    D      NaN   \n",
       "132  C2676  2572     상가  부산광역시  임대상가   28.50         1   25    D      NaN   \n",
       "133  C2676  2572     상가  부산광역시  임대상가   33.15         1   25    D      NaN   \n",
       "134  C2676  2572     상가  부산광역시  임대상가   33.31         1   25    D      NaN   \n",
       "135  C2676  2572     상가  부산광역시  임대상가   33.39         1   25    D      NaN   \n",
       "136  C2676  2572     상가  부산광역시  임대상가   33.51         1   25    D      NaN   \n",
       "137  C2676  2572     상가  부산광역시  임대상가   33.51         1   25    D      NaN   \n",
       "138  C2676  2572     상가  부산광역시  임대상가   33.51         1   25    D      NaN   \n",
       "139  C2676  2572     상가  부산광역시  임대상가   37.26         1   25    D      NaN   \n",
       "140  C2676  2572     상가  부산광역시  임대상가   37.41         1   25    D      NaN   \n",
       "141  C2676  2572     상가  부산광역시  임대상가   37.41         1   25    D      NaN   \n",
       "142  C2676  2572     상가  부산광역시  임대상가   37.41         1   25    D      NaN   \n",
       "143  C2676  2572     상가  부산광역시  임대상가   37.49         1   25    D      NaN   \n",
       "144  C2676  2572     상가  부산광역시  임대상가   37.95         1   25    D      NaN   \n",
       "145  C2676  2572     상가  부산광역시  임대상가   37.95         1   25    D      NaN   \n",
       "146  C2676  2572     상가  부산광역시  임대상가   38.04         1   25    D      NaN   \n",
       "147  C2676  2572     상가  부산광역시  임대상가   39.33         1   25    D      NaN   \n",
       "148  C2676  2572     상가  부산광역시  임대상가   39.33         1   25    D      NaN   \n",
       "149  C2676  2572     상가  부산광역시  임대상가   39.33         1   25    D      NaN   \n",
       "150  C2676  2572     상가  부산광역시  임대상가   40.39         1   25    D      NaN   \n",
       "151  C2676  2572     상가  부산광역시  임대상가   54.51         1   25    D      NaN   \n",
       "152  C2676  2572     상가  부산광역시  임대상가   54.51         1   25    D      NaN   \n",
       "153  C2676  2572     상가  부산광역시  임대상가   54.51         1   25    D      NaN   \n",
       "154  C2676  2572     상가  부산광역시  임대상가   54.60         1   25    D      NaN   \n",
       "155  C2676  2572     상가  부산광역시  임대상가   54.61         1   25    D      NaN   \n",
       "156  C2676  2572     상가  부산광역시  임대상가   75.98         1   25    D      NaN   \n",
       "157  C2676  2572     상가  부산광역시  임대상가  404.65         1   25    D      NaN   \n",
       "158  C2676  2572     상가  부산광역시  임대상가  583.40         1   25    D      NaN   \n",
       "\n",
       "       임대료  도보 10분거리 내 지하철역 수(환승노선 수 반영)  도보 10분거리 내 버스정류장 수  단지내주차면수  \n",
       "113  79980                           0.0                   2      418  \n",
       "114  79980                           0.0                   2      418  \n",
       "115  94990                           0.0                   2      418  \n",
       "116    NaN                           0.0                   2      418  \n",
       "117    NaN                           0.0                   2      418  \n",
       "118    NaN                           0.0                   2      418  \n",
       "119    NaN                           0.0                   2      418  \n",
       "120    NaN                           0.0                   2      418  \n",
       "121    NaN                           0.0                   2      418  \n",
       "122    NaN                           0.0                   2      418  \n",
       "123    NaN                           0.0                   2      418  \n",
       "124    NaN                           0.0                   2      418  \n",
       "125    NaN                           0.0                   2      418  \n",
       "126    NaN                           0.0                   2      418  \n",
       "127    NaN                           0.0                   2      418  \n",
       "128    NaN                           0.0                   2      418  \n",
       "129    NaN                           0.0                   2      418  \n",
       "130    NaN                           0.0                   2      418  \n",
       "131    NaN                           0.0                   2      418  \n",
       "132    NaN                           0.0                   2      418  \n",
       "133    NaN                           0.0                   2      418  \n",
       "134    NaN                           0.0                   2      418  \n",
       "135    NaN                           0.0                   2      418  \n",
       "136    NaN                           0.0                   2      418  \n",
       "137    NaN                           0.0                   2      418  \n",
       "138    NaN                           0.0                   2      418  \n",
       "139    NaN                           0.0                   2      418  \n",
       "140    NaN                           0.0                   2      418  \n",
       "141    NaN                           0.0                   2      418  \n",
       "142    NaN                           0.0                   2      418  \n",
       "143    NaN                           0.0                   2      418  \n",
       "144    NaN                           0.0                   2      418  \n",
       "145    NaN                           0.0                   2      418  \n",
       "146    NaN                           0.0                   2      418  \n",
       "147    NaN                           0.0                   2      418  \n",
       "148    NaN                           0.0                   2      418  \n",
       "149    NaN                           0.0                   2      418  \n",
       "150    NaN                           0.0                   2      418  \n",
       "151    NaN                           0.0                   2      418  \n",
       "152    NaN                           0.0                   2      418  \n",
       "153    NaN                           0.0                   2      418  \n",
       "154    NaN                           0.0                   2      418  \n",
       "155    NaN                           0.0                   2      418  \n",
       "156    NaN                           0.0                   2      418  \n",
       "157    NaN                           0.0                   2      418  \n",
       "158    NaN                           0.0                   2      418  "
      ]
     },
     "execution_count": 27,
     "metadata": {},
     "output_type": "execute_result"
    }
   ],
   "source": [
    "test.loc[test['총세대수']>=2500]"
   ]
  },
  {
   "cell_type": "markdown",
   "metadata": {
    "id": "xEbCdXfTaU1p"
   },
   "source": [
    "## apps 전처리를 위한 train, test 결합"
   ]
  },
  {
   "cell_type": "code",
   "execution_count": 28,
   "metadata": {
    "colab": {
     "base_uri": "https://localhost:8080/"
    },
    "executionInfo": {
     "elapsed": 38,
     "status": "ok",
     "timestamp": 1624716822328,
     "user": {
      "displayName": "강은영",
      "photoUrl": "https://lh3.googleusercontent.com/a-/AOh14Gjy66CDAcyXsALCf0rphNoHtH-LG6qhHqqSC2Gbhw=s64",
      "userId": "13345059186417356878"
     },
     "user_tz": -540
    },
    "id": "l5tHal_gaU1q",
    "outputId": "6e4d22e5-3a4d-4463-ff15-e58359b95d8b"
   },
   "outputs": [
    {
     "data": {
      "text/plain": [
       "(3974, 15)"
      ]
     },
     "execution_count": 28,
     "metadata": {},
     "output_type": "execute_result"
    }
   ],
   "source": [
    "# pandas의 concat()을 이용하여 app_train과 app_test를 결합\n",
    "apps = pd.concat([train,test])\n",
    "apps.shape"
   ]
  },
  {
   "cell_type": "code",
   "execution_count": 29,
   "metadata": {
    "colab": {
     "base_uri": "https://localhost:8080/"
    },
    "executionInfo": {
     "elapsed": 73,
     "status": "ok",
     "timestamp": 1624716823003,
     "user": {
      "displayName": "강은영",
      "photoUrl": "https://lh3.googleusercontent.com/a-/AOh14Gjy66CDAcyXsALCf0rphNoHtH-LG6qhHqqSC2Gbhw=s64",
      "userId": "13345059186417356878"
     },
     "user_tz": -540
    },
    "id": "i6Yv38IzaU1r",
    "outputId": "42f318ca-fb19-40d1-b523-322fadae3d33"
   },
   "outputs": [
    {
     "data": {
      "text/html": [
       "<div>\n",
       "<style scoped>\n",
       "    .dataframe tbody tr th:only-of-type {\n",
       "        vertical-align: middle;\n",
       "    }\n",
       "\n",
       "    .dataframe tbody tr th {\n",
       "        vertical-align: top;\n",
       "    }\n",
       "\n",
       "    .dataframe thead th {\n",
       "        text-align: right;\n",
       "    }\n",
       "</style>\n",
       "<table border=\"1\" class=\"dataframe\">\n",
       "  <thead>\n",
       "    <tr style=\"text-align: right;\">\n",
       "      <th></th>\n",
       "      <th>단지코드</th>\n",
       "      <th>총세대수</th>\n",
       "      <th>임대건물구분</th>\n",
       "      <th>지역</th>\n",
       "      <th>공급유형</th>\n",
       "      <th>전용면적</th>\n",
       "      <th>전용면적별세대수</th>\n",
       "      <th>공가수</th>\n",
       "      <th>자격유형</th>\n",
       "      <th>임대보증금</th>\n",
       "      <th>임대료</th>\n",
       "      <th>도보 10분거리 내 지하철역 수(환승노선 수 반영)</th>\n",
       "      <th>도보 10분거리 내 버스정류장 수</th>\n",
       "      <th>단지내주차면수</th>\n",
       "      <th>등록차량수</th>\n",
       "    </tr>\n",
       "  </thead>\n",
       "  <tbody>\n",
       "    <tr>\n",
       "      <th>0</th>\n",
       "      <td>C2483</td>\n",
       "      <td>900</td>\n",
       "      <td>아파트</td>\n",
       "      <td>경상북도</td>\n",
       "      <td>국민임대</td>\n",
       "      <td>39.72</td>\n",
       "      <td>134</td>\n",
       "      <td>38</td>\n",
       "      <td>A</td>\n",
       "      <td>15667000.0</td>\n",
       "      <td>103680</td>\n",
       "      <td>0.0</td>\n",
       "      <td>3.0</td>\n",
       "      <td>1425</td>\n",
       "      <td>1015.0</td>\n",
       "    </tr>\n",
       "    <tr>\n",
       "      <th>1</th>\n",
       "      <td>C2483</td>\n",
       "      <td>900</td>\n",
       "      <td>아파트</td>\n",
       "      <td>경상북도</td>\n",
       "      <td>국민임대</td>\n",
       "      <td>39.72</td>\n",
       "      <td>15</td>\n",
       "      <td>38</td>\n",
       "      <td>A</td>\n",
       "      <td>15667000.0</td>\n",
       "      <td>103680</td>\n",
       "      <td>0.0</td>\n",
       "      <td>3.0</td>\n",
       "      <td>1425</td>\n",
       "      <td>1015.0</td>\n",
       "    </tr>\n",
       "    <tr>\n",
       "      <th>2</th>\n",
       "      <td>C2483</td>\n",
       "      <td>900</td>\n",
       "      <td>아파트</td>\n",
       "      <td>경상북도</td>\n",
       "      <td>국민임대</td>\n",
       "      <td>51.93</td>\n",
       "      <td>385</td>\n",
       "      <td>38</td>\n",
       "      <td>A</td>\n",
       "      <td>27304000.0</td>\n",
       "      <td>184330</td>\n",
       "      <td>0.0</td>\n",
       "      <td>3.0</td>\n",
       "      <td>1425</td>\n",
       "      <td>1015.0</td>\n",
       "    </tr>\n",
       "    <tr>\n",
       "      <th>3</th>\n",
       "      <td>C2483</td>\n",
       "      <td>900</td>\n",
       "      <td>아파트</td>\n",
       "      <td>경상북도</td>\n",
       "      <td>국민임대</td>\n",
       "      <td>51.93</td>\n",
       "      <td>15</td>\n",
       "      <td>38</td>\n",
       "      <td>A</td>\n",
       "      <td>27304000.0</td>\n",
       "      <td>184330</td>\n",
       "      <td>0.0</td>\n",
       "      <td>3.0</td>\n",
       "      <td>1425</td>\n",
       "      <td>1015.0</td>\n",
       "    </tr>\n",
       "    <tr>\n",
       "      <th>4</th>\n",
       "      <td>C2483</td>\n",
       "      <td>900</td>\n",
       "      <td>아파트</td>\n",
       "      <td>경상북도</td>\n",
       "      <td>국민임대</td>\n",
       "      <td>51.93</td>\n",
       "      <td>41</td>\n",
       "      <td>38</td>\n",
       "      <td>A</td>\n",
       "      <td>27304000.0</td>\n",
       "      <td>184330</td>\n",
       "      <td>0.0</td>\n",
       "      <td>3.0</td>\n",
       "      <td>1425</td>\n",
       "      <td>1015.0</td>\n",
       "    </tr>\n",
       "    <tr>\n",
       "      <th>...</th>\n",
       "      <td>...</td>\n",
       "      <td>...</td>\n",
       "      <td>...</td>\n",
       "      <td>...</td>\n",
       "      <td>...</td>\n",
       "      <td>...</td>\n",
       "      <td>...</td>\n",
       "      <td>...</td>\n",
       "      <td>...</td>\n",
       "      <td>...</td>\n",
       "      <td>...</td>\n",
       "      <td>...</td>\n",
       "      <td>...</td>\n",
       "      <td>...</td>\n",
       "      <td>...</td>\n",
       "    </tr>\n",
       "    <tr>\n",
       "      <th>1017</th>\n",
       "      <td>C1267</td>\n",
       "      <td>675</td>\n",
       "      <td>아파트</td>\n",
       "      <td>경상남도</td>\n",
       "      <td>행복주택</td>\n",
       "      <td>36.77</td>\n",
       "      <td>126</td>\n",
       "      <td>38</td>\n",
       "      <td>L</td>\n",
       "      <td>-</td>\n",
       "      <td>-</td>\n",
       "      <td>0.0</td>\n",
       "      <td>1.0</td>\n",
       "      <td>467</td>\n",
       "      <td>NaN</td>\n",
       "    </tr>\n",
       "    <tr>\n",
       "      <th>1018</th>\n",
       "      <td>C2189</td>\n",
       "      <td>382</td>\n",
       "      <td>아파트</td>\n",
       "      <td>전라북도</td>\n",
       "      <td>국민임대</td>\n",
       "      <td>29.19</td>\n",
       "      <td>96</td>\n",
       "      <td>45</td>\n",
       "      <td>H</td>\n",
       "      <td>6872000</td>\n",
       "      <td>106400</td>\n",
       "      <td>0.0</td>\n",
       "      <td>2.0</td>\n",
       "      <td>300</td>\n",
       "      <td>NaN</td>\n",
       "    </tr>\n",
       "    <tr>\n",
       "      <th>1019</th>\n",
       "      <td>C2189</td>\n",
       "      <td>382</td>\n",
       "      <td>아파트</td>\n",
       "      <td>전라북도</td>\n",
       "      <td>국민임대</td>\n",
       "      <td>29.19</td>\n",
       "      <td>20</td>\n",
       "      <td>45</td>\n",
       "      <td>H</td>\n",
       "      <td>6872000</td>\n",
       "      <td>106400</td>\n",
       "      <td>0.0</td>\n",
       "      <td>2.0</td>\n",
       "      <td>300</td>\n",
       "      <td>NaN</td>\n",
       "    </tr>\n",
       "    <tr>\n",
       "      <th>1020</th>\n",
       "      <td>C2189</td>\n",
       "      <td>382</td>\n",
       "      <td>아파트</td>\n",
       "      <td>전라북도</td>\n",
       "      <td>국민임대</td>\n",
       "      <td>39.45</td>\n",
       "      <td>202</td>\n",
       "      <td>45</td>\n",
       "      <td>H</td>\n",
       "      <td>13410000</td>\n",
       "      <td>144600</td>\n",
       "      <td>0.0</td>\n",
       "      <td>2.0</td>\n",
       "      <td>300</td>\n",
       "      <td>NaN</td>\n",
       "    </tr>\n",
       "    <tr>\n",
       "      <th>1021</th>\n",
       "      <td>C2189</td>\n",
       "      <td>382</td>\n",
       "      <td>아파트</td>\n",
       "      <td>전라북도</td>\n",
       "      <td>국민임대</td>\n",
       "      <td>46.23</td>\n",
       "      <td>60</td>\n",
       "      <td>45</td>\n",
       "      <td>H</td>\n",
       "      <td>18689000</td>\n",
       "      <td>166500</td>\n",
       "      <td>0.0</td>\n",
       "      <td>2.0</td>\n",
       "      <td>300</td>\n",
       "      <td>NaN</td>\n",
       "    </tr>\n",
       "  </tbody>\n",
       "</table>\n",
       "<p>3974 rows × 15 columns</p>\n",
       "</div>"
      ],
      "text/plain": [
       "       단지코드  총세대수 임대건물구분    지역  공급유형   전용면적  전용면적별세대수  공가수 자격유형       임대보증금  \\\n",
       "0     C2483   900    아파트  경상북도  국민임대  39.72       134   38    A  15667000.0   \n",
       "1     C2483   900    아파트  경상북도  국민임대  39.72        15   38    A  15667000.0   \n",
       "2     C2483   900    아파트  경상북도  국민임대  51.93       385   38    A  27304000.0   \n",
       "3     C2483   900    아파트  경상북도  국민임대  51.93        15   38    A  27304000.0   \n",
       "4     C2483   900    아파트  경상북도  국민임대  51.93        41   38    A  27304000.0   \n",
       "...     ...   ...    ...   ...   ...    ...       ...  ...  ...         ...   \n",
       "1017  C1267   675    아파트  경상남도  행복주택  36.77       126   38    L           -   \n",
       "1018  C2189   382    아파트  전라북도  국민임대  29.19        96   45    H     6872000   \n",
       "1019  C2189   382    아파트  전라북도  국민임대  29.19        20   45    H     6872000   \n",
       "1020  C2189   382    아파트  전라북도  국민임대  39.45       202   45    H    13410000   \n",
       "1021  C2189   382    아파트  전라북도  국민임대  46.23        60   45    H    18689000   \n",
       "\n",
       "         임대료  도보 10분거리 내 지하철역 수(환승노선 수 반영)  도보 10분거리 내 버스정류장 수  단지내주차면수  \\\n",
       "0     103680                           0.0                 3.0     1425   \n",
       "1     103680                           0.0                 3.0     1425   \n",
       "2     184330                           0.0                 3.0     1425   \n",
       "3     184330                           0.0                 3.0     1425   \n",
       "4     184330                           0.0                 3.0     1425   \n",
       "...      ...                           ...                 ...      ...   \n",
       "1017       -                           0.0                 1.0      467   \n",
       "1018  106400                           0.0                 2.0      300   \n",
       "1019  106400                           0.0                 2.0      300   \n",
       "1020  144600                           0.0                 2.0      300   \n",
       "1021  166500                           0.0                 2.0      300   \n",
       "\n",
       "       등록차량수  \n",
       "0     1015.0  \n",
       "1     1015.0  \n",
       "2     1015.0  \n",
       "3     1015.0  \n",
       "4     1015.0  \n",
       "...      ...  \n",
       "1017     NaN  \n",
       "1018     NaN  \n",
       "1019     NaN  \n",
       "1020     NaN  \n",
       "1021     NaN  \n",
       "\n",
       "[3974 rows x 15 columns]"
      ]
     },
     "execution_count": 29,
     "metadata": {},
     "output_type": "execute_result"
    }
   ],
   "source": [
    "apps"
   ]
  },
  {
   "cell_type": "markdown",
   "metadata": {
    "id": "729WfxAmaU1s"
   },
   "source": [
    "## 결측치 확인"
   ]
  },
  {
   "cell_type": "code",
   "execution_count": 30,
   "metadata": {
    "colab": {
     "base_uri": "https://localhost:8080/"
    },
    "executionInfo": {
     "elapsed": 75,
     "status": "ok",
     "timestamp": 1624716823007,
     "user": {
      "displayName": "강은영",
      "photoUrl": "https://lh3.googleusercontent.com/a-/AOh14Gjy66CDAcyXsALCf0rphNoHtH-LG6qhHqqSC2Gbhw=s64",
      "userId": "13345059186417356878"
     },
     "user_tz": -540
    },
    "id": "DZ8A_d4aaU1s",
    "outputId": "76081861-d556-4aa3-9dd2-193f83183c07"
   },
   "outputs": [
    {
     "data": {
      "text/plain": [
       "단지코드                               0\n",
       "총세대수                               0\n",
       "임대건물구분                             0\n",
       "지역                                 0\n",
       "공급유형                               0\n",
       "전용면적                               0\n",
       "전용면적별세대수                           0\n",
       "공가수                                0\n",
       "자격유형                               2\n",
       "임대보증금                            749\n",
       "임대료                              749\n",
       "도보 10분거리 내 지하철역 수(환승노선 수 반영)       0\n",
       "도보 10분거리 내 버스정류장 수                 0\n",
       "단지내주차면수                            0\n",
       "등록차량수                           1022\n",
       "dtype: int64"
      ]
     },
     "execution_count": 30,
     "metadata": {},
     "output_type": "execute_result"
    }
   ],
   "source": [
    "apps.isna().sum()"
   ]
  },
  {
   "cell_type": "code",
   "execution_count": 31,
   "metadata": {
    "colab": {
     "base_uri": "https://localhost:8080/"
    },
    "executionInfo": {
     "elapsed": 74,
     "status": "ok",
     "timestamp": 1624716823009,
     "user": {
      "displayName": "강은영",
      "photoUrl": "https://lh3.googleusercontent.com/a-/AOh14Gjy66CDAcyXsALCf0rphNoHtH-LG6qhHqqSC2Gbhw=s64",
      "userId": "13345059186417356878"
     },
     "user_tz": -540
    },
    "id": "t4L1E_dDaU1t",
    "outputId": "f3772e73-f941-4436-d445-6f7e0701a18e",
    "scrolled": true
   },
   "outputs": [
    {
     "name": "stdout",
     "output_type": "stream",
     "text": [
      "<class 'pandas.core.frame.DataFrame'>\n",
      "Int64Index: 3974 entries, 0 to 1021\n",
      "Data columns (total 15 columns):\n",
      " #   Column                        Non-Null Count  Dtype  \n",
      "---  ------                        --------------  -----  \n",
      " 0   단지코드                          3974 non-null   object \n",
      " 1   총세대수                          3974 non-null   int64  \n",
      " 2   임대건물구분                        3974 non-null   object \n",
      " 3   지역                            3974 non-null   object \n",
      " 4   공급유형                          3974 non-null   object \n",
      " 5   전용면적                          3974 non-null   float64\n",
      " 6   전용면적별세대수                      3974 non-null   int64  \n",
      " 7   공가수                           3974 non-null   int64  \n",
      " 8   자격유형                          3972 non-null   object \n",
      " 9   임대보증금                         3225 non-null   object \n",
      " 10  임대료                           3225 non-null   object \n",
      " 11  도보 10분거리 내 지하철역 수(환승노선 수 반영)  3974 non-null   float64\n",
      " 12  도보 10분거리 내 버스정류장 수            3974 non-null   float64\n",
      " 13  단지내주차면수                       3974 non-null   int64  \n",
      " 14  등록차량수                         2952 non-null   float64\n",
      "dtypes: float64(4), int64(4), object(7)\n",
      "memory usage: 496.8+ KB\n"
     ]
    }
   ],
   "source": [
    "apps.info()"
   ]
  },
  {
   "cell_type": "code",
   "execution_count": 32,
   "metadata": {
    "colab": {
     "base_uri": "https://localhost:8080/"
    },
    "executionInfo": {
     "elapsed": 72,
     "status": "ok",
     "timestamp": 1624716823010,
     "user": {
      "displayName": "강은영",
      "photoUrl": "https://lh3.googleusercontent.com/a-/AOh14Gjy66CDAcyXsALCf0rphNoHtH-LG6qhHqqSC2Gbhw=s64",
      "userId": "13345059186417356878"
     },
     "user_tz": -540
    },
    "id": "LulwELclaU1u",
    "outputId": "c332e2ac-d8cf-45c0-e712-22b43e1428a8"
   },
   "outputs": [
    {
     "data": {
      "text/plain": [
       "경기도        880\n",
       "경상남도       454\n",
       "부산광역시      416\n",
       "대전광역시      322\n",
       "강원도        293\n",
       "충청북도       214\n",
       "충청남도       199\n",
       "전라남도       188\n",
       "광주광역시      187\n",
       "경상북도       177\n",
       "전라북도       150\n",
       "대구광역시      138\n",
       "제주특별자치도    117\n",
       "울산광역시      109\n",
       "세종특별자치시     66\n",
       "서울특별시       64\n",
       "Name: 지역, dtype: int64"
      ]
     },
     "execution_count": 32,
     "metadata": {},
     "output_type": "execute_result"
    }
   ],
   "source": [
    "apps['지역'].value_counts()"
   ]
  },
  {
   "cell_type": "code",
   "execution_count": 33,
   "metadata": {
    "colab": {
     "base_uri": "https://localhost:8080/"
    },
    "executionInfo": {
     "elapsed": 71,
     "status": "ok",
     "timestamp": 1624716823011,
     "user": {
      "displayName": "강은영",
      "photoUrl": "https://lh3.googleusercontent.com/a-/AOh14Gjy66CDAcyXsALCf0rphNoHtH-LG6qhHqqSC2Gbhw=s64",
      "userId": "13345059186417356878"
     },
     "user_tz": -540
    },
    "id": "Teh7JeiXaU1u",
    "outputId": "801d102c-8dc3-4053-c9fc-21d871c12902"
   },
   "outputs": [
    {
     "data": {
      "text/plain": [
       "아파트    3235\n",
       "상가      739\n",
       "Name: 임대건물구분, dtype: int64"
      ]
     },
     "execution_count": 33,
     "metadata": {},
     "output_type": "execute_result"
    }
   ],
   "source": [
    "apps['임대건물구분'].value_counts()"
   ]
  },
  {
   "cell_type": "code",
   "execution_count": 34,
   "metadata": {
    "colab": {
     "base_uri": "https://localhost:8080/"
    },
    "executionInfo": {
     "elapsed": 71,
     "status": "ok",
     "timestamp": 1624716823012,
     "user": {
      "displayName": "강은영",
      "photoUrl": "https://lh3.googleusercontent.com/a-/AOh14Gjy66CDAcyXsALCf0rphNoHtH-LG6qhHqqSC2Gbhw=s64",
      "userId": "13345059186417356878"
     },
     "user_tz": -540
    },
    "id": "EDi9KkSVaU1v",
    "outputId": "558ec952-cd16-4141-d896-fa56b633c0f0"
   },
   "outputs": [
    {
     "data": {
      "text/plain": [
       "국민임대         2380\n",
       "임대상가          739\n",
       "행복주택          337\n",
       "공공임대(10년)     240\n",
       "영구임대          197\n",
       "공공임대(50년)      44\n",
       "공공임대(분납)       18\n",
       "장기전세            9\n",
       "공공분양            7\n",
       "공공임대(5년)        3\n",
       "Name: 공급유형, dtype: int64"
      ]
     },
     "execution_count": 34,
     "metadata": {},
     "output_type": "execute_result"
    }
   ],
   "source": [
    "apps['공급유형'].value_counts()"
   ]
  },
  {
   "cell_type": "code",
   "execution_count": 35,
   "metadata": {
    "colab": {
     "base_uri": "https://localhost:8080/"
    },
    "executionInfo": {
     "elapsed": 71,
     "status": "ok",
     "timestamp": 1624716823013,
     "user": {
      "displayName": "강은영",
      "photoUrl": "https://lh3.googleusercontent.com/a-/AOh14Gjy66CDAcyXsALCf0rphNoHtH-LG6qhHqqSC2Gbhw=s64",
      "userId": "13345059186417356878"
     },
     "user_tz": -540
    },
    "id": "zbOwFQzZaU1w",
    "outputId": "3a6105a5-9643-4bf3-9779-a8729f61d03e"
   },
   "outputs": [
    {
     "data": {
      "text/plain": [
       "166    71\n",
       "270    60\n",
       "756    47\n",
       "131    46\n",
       "418    46\n",
       "       ..\n",
       "205     2\n",
       "27      2\n",
       "420     1\n",
       "136     1\n",
       "30      1\n",
       "Name: 단지내주차면수, Length: 453, dtype: int64"
      ]
     },
     "execution_count": 35,
     "metadata": {},
     "output_type": "execute_result"
    }
   ],
   "source": [
    "apps['단지내주차면수'].value_counts()"
   ]
  },
  {
   "cell_type": "code",
   "execution_count": 36,
   "metadata": {
    "colab": {
     "base_uri": "https://localhost:8080/"
    },
    "executionInfo": {
     "elapsed": 70,
     "status": "ok",
     "timestamp": 1624716823014,
     "user": {
      "displayName": "강은영",
      "photoUrl": "https://lh3.googleusercontent.com/a-/AOh14Gjy66CDAcyXsALCf0rphNoHtH-LG6qhHqqSC2Gbhw=s64",
      "userId": "13345059186417356878"
     },
     "user_tz": -540
    },
    "id": "-TdXZo_AaU1x",
    "outputId": "90c09748-0f14-4655-d834-1811e64a7d8d"
   },
   "outputs": [
    {
     "data": {
      "text/plain": [
       "2.0     1032\n",
       "3.0      942\n",
       "4.0      627\n",
       "1.0      387\n",
       "5.0      276\n",
       "6.0      241\n",
       "8.0      132\n",
       "7.0      113\n",
       "10.0      84\n",
       "12.0      27\n",
       "15.0      21\n",
       "16.0      19\n",
       "20.0      15\n",
       "11.0      14\n",
       "50.0       9\n",
       "14.0       8\n",
       "19.0       7\n",
       "18.0       7\n",
       "0.0        6\n",
       "17.0       4\n",
       "13.0       3\n",
       "Name: 도보 10분거리 내 버스정류장 수, dtype: int64"
      ]
     },
     "execution_count": 36,
     "metadata": {},
     "output_type": "execute_result"
    }
   ],
   "source": [
    "apps['도보 10분거리 내 버스정류장 수'].value_counts()"
   ]
  },
  {
   "cell_type": "code",
   "execution_count": 37,
   "metadata": {
    "colab": {
     "base_uri": "https://localhost:8080/"
    },
    "executionInfo": {
     "elapsed": 70,
     "status": "ok",
     "timestamp": 1624716823015,
     "user": {
      "displayName": "강은영",
      "photoUrl": "https://lh3.googleusercontent.com/a-/AOh14Gjy66CDAcyXsALCf0rphNoHtH-LG6qhHqqSC2Gbhw=s64",
      "userId": "13345059186417356878"
     },
     "user_tz": -540
    },
    "id": "MDo6gD7TaU1x",
    "outputId": "5f5057a6-d989-47d6-c67c-cbf30e89889e"
   },
   "outputs": [
    {
     "data": {
      "text/plain": [
       "A    2373\n",
       "D     749\n",
       "H     247\n",
       "J     198\n",
       "C     129\n",
       "I      56\n",
       "K      49\n",
       "E      47\n",
       "L      45\n",
       "N      40\n",
       "B      21\n",
       "G      10\n",
       "M       4\n",
       "F       3\n",
       "O       1\n",
       "Name: 자격유형, dtype: int64"
      ]
     },
     "execution_count": 37,
     "metadata": {},
     "output_type": "execute_result"
    }
   ],
   "source": [
    "apps['자격유형'].value_counts()"
   ]
  },
  {
   "cell_type": "markdown",
   "metadata": {
    "id": "zbnfbCBHaU1y"
   },
   "source": [
    "## 컬럼명 변경\n",
    "\n",
    "지하쳘역 수와 버스 정류장 수의 컬럼명을 지하철, 버스로 변경하였습니다."
   ]
  },
  {
   "cell_type": "code",
   "execution_count": 38,
   "metadata": {
    "colab": {
     "base_uri": "https://localhost:8080/"
    },
    "executionInfo": {
     "elapsed": 72,
     "status": "ok",
     "timestamp": 1624716823018,
     "user": {
      "displayName": "강은영",
      "photoUrl": "https://lh3.googleusercontent.com/a-/AOh14Gjy66CDAcyXsALCf0rphNoHtH-LG6qhHqqSC2Gbhw=s64",
      "userId": "13345059186417356878"
     },
     "user_tz": -540
    },
    "id": "jtpNPuQcaU1z",
    "outputId": "c474475a-151a-427d-973b-2f07d58f5897"
   },
   "outputs": [
    {
     "data": {
      "text/plain": [
       "Index(['단지코드', '총세대수', '임대건물구분', '지역', '공급유형', '전용면적', '전용면적별세대수', '공가수',\n",
       "       '자격유형', '임대보증금', '임대료', '도보 10분거리 내 지하철역 수(환승노선 수 반영)',\n",
       "       '도보 10분거리 내 버스정류장 수', '단지내주차면수', '등록차량수'],\n",
       "      dtype='object')"
      ]
     },
     "execution_count": 38,
     "metadata": {},
     "output_type": "execute_result"
    }
   ],
   "source": [
    "apps.columns"
   ]
  },
  {
   "cell_type": "code",
   "execution_count": 39,
   "metadata": {
    "id": "zP4ahPxfaU1z"
   },
   "outputs": [],
   "source": [
    "apps.columns = [\n",
    "    '단지코드', '총세대수', '임대건물구분', '지역', '공급유형', '전용면적', '전용면적별세대수', '공가수', '신분',\n",
    "    '임대보증금', '임대료', '지하철', '버스',\n",
    "    '단지내주차면수', '등록차량수'\n",
    "]"
   ]
  },
  {
   "cell_type": "code",
   "execution_count": 40,
   "metadata": {
    "colab": {
     "base_uri": "https://localhost:8080/"
    },
    "executionInfo": {
     "elapsed": 73,
     "status": "ok",
     "timestamp": 1624716823021,
     "user": {
      "displayName": "강은영",
      "photoUrl": "https://lh3.googleusercontent.com/a-/AOh14Gjy66CDAcyXsALCf0rphNoHtH-LG6qhHqqSC2Gbhw=s64",
      "userId": "13345059186417356878"
     },
     "user_tz": -540
    },
    "id": "sboSsRiZaU10",
    "outputId": "6693dc15-dfa2-4e01-a85e-bb47e857fb1f"
   },
   "outputs": [
    {
     "data": {
      "text/plain": [
       "count      3974\n",
       "unique      573\n",
       "top       C1439\n",
       "freq         48\n",
       "Name: 단지코드, dtype: object"
      ]
     },
     "execution_count": 40,
     "metadata": {},
     "output_type": "execute_result"
    }
   ],
   "source": [
    "apps['단지코드'].describe()"
   ]
  },
  {
   "cell_type": "markdown",
   "metadata": {},
   "source": [
    "### 지하철 버스 Nan값 0처리"
   ]
  },
  {
   "cell_type": "code",
   "execution_count": 41,
   "metadata": {},
   "outputs": [],
   "source": [
    "cols = ['지하철', '버스']\n",
    "apps[cols] = apps[cols].fillna(0)"
   ]
  },
  {
   "cell_type": "markdown",
   "metadata": {
    "id": "n-zJ9l59aU11"
   },
   "source": [
    "### 임대료의 '-'값 Nan값으로 처리"
   ]
  },
  {
   "cell_type": "code",
   "execution_count": 42,
   "metadata": {},
   "outputs": [
    {
     "data": {
      "text/html": [
       "<div>\n",
       "<style scoped>\n",
       "    .dataframe tbody tr th:only-of-type {\n",
       "        vertical-align: middle;\n",
       "    }\n",
       "\n",
       "    .dataframe tbody tr th {\n",
       "        vertical-align: top;\n",
       "    }\n",
       "\n",
       "    .dataframe thead th {\n",
       "        text-align: right;\n",
       "    }\n",
       "</style>\n",
       "<table border=\"1\" class=\"dataframe\">\n",
       "  <thead>\n",
       "    <tr style=\"text-align: right;\">\n",
       "      <th></th>\n",
       "      <th>단지코드</th>\n",
       "      <th>총세대수</th>\n",
       "      <th>임대건물구분</th>\n",
       "      <th>지역</th>\n",
       "      <th>공급유형</th>\n",
       "      <th>전용면적</th>\n",
       "      <th>전용면적별세대수</th>\n",
       "      <th>공가수</th>\n",
       "      <th>신분</th>\n",
       "      <th>임대보증금</th>\n",
       "      <th>임대료</th>\n",
       "      <th>지하철</th>\n",
       "      <th>버스</th>\n",
       "      <th>단지내주차면수</th>\n",
       "      <th>등록차량수</th>\n",
       "    </tr>\n",
       "  </thead>\n",
       "  <tbody>\n",
       "    <tr>\n",
       "      <th>1014</th>\n",
       "      <td>C1267</td>\n",
       "      <td>675</td>\n",
       "      <td>아파트</td>\n",
       "      <td>경상남도</td>\n",
       "      <td>행복주택</td>\n",
       "      <td>16.94</td>\n",
       "      <td>50</td>\n",
       "      <td>38</td>\n",
       "      <td>L</td>\n",
       "      <td>-</td>\n",
       "      <td>-</td>\n",
       "      <td>0.0</td>\n",
       "      <td>1.0</td>\n",
       "      <td>467</td>\n",
       "      <td>NaN</td>\n",
       "    </tr>\n",
       "    <tr>\n",
       "      <th>1015</th>\n",
       "      <td>C1267</td>\n",
       "      <td>675</td>\n",
       "      <td>아파트</td>\n",
       "      <td>경상남도</td>\n",
       "      <td>행복주택</td>\n",
       "      <td>26.85</td>\n",
       "      <td>66</td>\n",
       "      <td>38</td>\n",
       "      <td>L</td>\n",
       "      <td>-</td>\n",
       "      <td>-</td>\n",
       "      <td>0.0</td>\n",
       "      <td>1.0</td>\n",
       "      <td>467</td>\n",
       "      <td>NaN</td>\n",
       "    </tr>\n",
       "    <tr>\n",
       "      <th>1016</th>\n",
       "      <td>C1267</td>\n",
       "      <td>675</td>\n",
       "      <td>아파트</td>\n",
       "      <td>경상남도</td>\n",
       "      <td>행복주택</td>\n",
       "      <td>26.85</td>\n",
       "      <td>8</td>\n",
       "      <td>38</td>\n",
       "      <td>L</td>\n",
       "      <td>-</td>\n",
       "      <td>-</td>\n",
       "      <td>0.0</td>\n",
       "      <td>1.0</td>\n",
       "      <td>467</td>\n",
       "      <td>NaN</td>\n",
       "    </tr>\n",
       "    <tr>\n",
       "      <th>1017</th>\n",
       "      <td>C1267</td>\n",
       "      <td>675</td>\n",
       "      <td>아파트</td>\n",
       "      <td>경상남도</td>\n",
       "      <td>행복주택</td>\n",
       "      <td>36.77</td>\n",
       "      <td>126</td>\n",
       "      <td>38</td>\n",
       "      <td>L</td>\n",
       "      <td>-</td>\n",
       "      <td>-</td>\n",
       "      <td>0.0</td>\n",
       "      <td>1.0</td>\n",
       "      <td>467</td>\n",
       "      <td>NaN</td>\n",
       "    </tr>\n",
       "  </tbody>\n",
       "</table>\n",
       "</div>"
      ],
      "text/plain": [
       "       단지코드  총세대수 임대건물구분    지역  공급유형   전용면적  전용면적별세대수  공가수 신분 임대보증금 임대료  지하철  \\\n",
       "1014  C1267   675    아파트  경상남도  행복주택  16.94        50   38  L     -   -  0.0   \n",
       "1015  C1267   675    아파트  경상남도  행복주택  26.85        66   38  L     -   -  0.0   \n",
       "1016  C1267   675    아파트  경상남도  행복주택  26.85         8   38  L     -   -  0.0   \n",
       "1017  C1267   675    아파트  경상남도  행복주택  36.77       126   38  L     -   -  0.0   \n",
       "\n",
       "       버스  단지내주차면수  등록차량수  \n",
       "1014  1.0      467    NaN  \n",
       "1015  1.0      467    NaN  \n",
       "1016  1.0      467    NaN  \n",
       "1017  1.0      467    NaN  "
      ]
     },
     "execution_count": 42,
     "metadata": {},
     "output_type": "execute_result"
    }
   ],
   "source": [
    "apps.loc[apps['임대보증금']=='-']"
   ]
  },
  {
   "cell_type": "code",
   "execution_count": 43,
   "metadata": {},
   "outputs": [
    {
     "data": {
      "text/html": [
       "<div>\n",
       "<style scoped>\n",
       "    .dataframe tbody tr th:only-of-type {\n",
       "        vertical-align: middle;\n",
       "    }\n",
       "\n",
       "    .dataframe tbody tr th {\n",
       "        vertical-align: top;\n",
       "    }\n",
       "\n",
       "    .dataframe thead th {\n",
       "        text-align: right;\n",
       "    }\n",
       "</style>\n",
       "<table border=\"1\" class=\"dataframe\">\n",
       "  <thead>\n",
       "    <tr style=\"text-align: right;\">\n",
       "      <th></th>\n",
       "      <th>단지코드</th>\n",
       "      <th>총세대수</th>\n",
       "      <th>임대건물구분</th>\n",
       "      <th>지역</th>\n",
       "      <th>공급유형</th>\n",
       "      <th>전용면적</th>\n",
       "      <th>전용면적별세대수</th>\n",
       "      <th>공가수</th>\n",
       "      <th>신분</th>\n",
       "      <th>임대보증금</th>\n",
       "      <th>임대료</th>\n",
       "      <th>지하철</th>\n",
       "      <th>버스</th>\n",
       "      <th>단지내주차면수</th>\n",
       "      <th>등록차량수</th>\n",
       "    </tr>\n",
       "  </thead>\n",
       "  <tbody>\n",
       "    <tr>\n",
       "      <th>1007</th>\n",
       "      <td>C1267</td>\n",
       "      <td>675</td>\n",
       "      <td>아파트</td>\n",
       "      <td>경상남도</td>\n",
       "      <td>국민임대</td>\n",
       "      <td>24.87</td>\n",
       "      <td>28</td>\n",
       "      <td>38</td>\n",
       "      <td>H</td>\n",
       "      <td>6882000</td>\n",
       "      <td>104370</td>\n",
       "      <td>0.0</td>\n",
       "      <td>1.0</td>\n",
       "      <td>467</td>\n",
       "      <td>NaN</td>\n",
       "    </tr>\n",
       "    <tr>\n",
       "      <th>1008</th>\n",
       "      <td>C1267</td>\n",
       "      <td>675</td>\n",
       "      <td>아파트</td>\n",
       "      <td>경상남도</td>\n",
       "      <td>국민임대</td>\n",
       "      <td>24.99</td>\n",
       "      <td>90</td>\n",
       "      <td>38</td>\n",
       "      <td>H</td>\n",
       "      <td>6882000</td>\n",
       "      <td>104370</td>\n",
       "      <td>0.0</td>\n",
       "      <td>1.0</td>\n",
       "      <td>467</td>\n",
       "      <td>NaN</td>\n",
       "    </tr>\n",
       "    <tr>\n",
       "      <th>1009</th>\n",
       "      <td>C1267</td>\n",
       "      <td>675</td>\n",
       "      <td>아파트</td>\n",
       "      <td>경상남도</td>\n",
       "      <td>국민임대</td>\n",
       "      <td>24.99</td>\n",
       "      <td>12</td>\n",
       "      <td>38</td>\n",
       "      <td>H</td>\n",
       "      <td>6882000</td>\n",
       "      <td>104370</td>\n",
       "      <td>0.0</td>\n",
       "      <td>1.0</td>\n",
       "      <td>467</td>\n",
       "      <td>NaN</td>\n",
       "    </tr>\n",
       "    <tr>\n",
       "      <th>1010</th>\n",
       "      <td>C1267</td>\n",
       "      <td>675</td>\n",
       "      <td>아파트</td>\n",
       "      <td>경상남도</td>\n",
       "      <td>국민임대</td>\n",
       "      <td>46.72</td>\n",
       "      <td>68</td>\n",
       "      <td>38</td>\n",
       "      <td>H</td>\n",
       "      <td>24420000</td>\n",
       "      <td>219230</td>\n",
       "      <td>0.0</td>\n",
       "      <td>1.0</td>\n",
       "      <td>467</td>\n",
       "      <td>NaN</td>\n",
       "    </tr>\n",
       "    <tr>\n",
       "      <th>1011</th>\n",
       "      <td>C1267</td>\n",
       "      <td>675</td>\n",
       "      <td>아파트</td>\n",
       "      <td>경상남도</td>\n",
       "      <td>국민임대</td>\n",
       "      <td>46.72</td>\n",
       "      <td>112</td>\n",
       "      <td>38</td>\n",
       "      <td>H</td>\n",
       "      <td>24420000</td>\n",
       "      <td>219230</td>\n",
       "      <td>0.0</td>\n",
       "      <td>1.0</td>\n",
       "      <td>467</td>\n",
       "      <td>NaN</td>\n",
       "    </tr>\n",
       "    <tr>\n",
       "      <th>1012</th>\n",
       "      <td>C1267</td>\n",
       "      <td>675</td>\n",
       "      <td>아파트</td>\n",
       "      <td>경상남도</td>\n",
       "      <td>영구임대</td>\n",
       "      <td>22.86</td>\n",
       "      <td>96</td>\n",
       "      <td>38</td>\n",
       "      <td>C</td>\n",
       "      <td>10876000</td>\n",
       "      <td>89230</td>\n",
       "      <td>0.0</td>\n",
       "      <td>1.0</td>\n",
       "      <td>467</td>\n",
       "      <td>NaN</td>\n",
       "    </tr>\n",
       "    <tr>\n",
       "      <th>1013</th>\n",
       "      <td>C1267</td>\n",
       "      <td>675</td>\n",
       "      <td>아파트</td>\n",
       "      <td>경상남도</td>\n",
       "      <td>영구임대</td>\n",
       "      <td>22.86</td>\n",
       "      <td>14</td>\n",
       "      <td>38</td>\n",
       "      <td>C</td>\n",
       "      <td>10876000</td>\n",
       "      <td>89230</td>\n",
       "      <td>0.0</td>\n",
       "      <td>1.0</td>\n",
       "      <td>467</td>\n",
       "      <td>NaN</td>\n",
       "    </tr>\n",
       "    <tr>\n",
       "      <th>1014</th>\n",
       "      <td>C1267</td>\n",
       "      <td>675</td>\n",
       "      <td>아파트</td>\n",
       "      <td>경상남도</td>\n",
       "      <td>행복주택</td>\n",
       "      <td>16.94</td>\n",
       "      <td>50</td>\n",
       "      <td>38</td>\n",
       "      <td>L</td>\n",
       "      <td>-</td>\n",
       "      <td>-</td>\n",
       "      <td>0.0</td>\n",
       "      <td>1.0</td>\n",
       "      <td>467</td>\n",
       "      <td>NaN</td>\n",
       "    </tr>\n",
       "    <tr>\n",
       "      <th>1015</th>\n",
       "      <td>C1267</td>\n",
       "      <td>675</td>\n",
       "      <td>아파트</td>\n",
       "      <td>경상남도</td>\n",
       "      <td>행복주택</td>\n",
       "      <td>26.85</td>\n",
       "      <td>66</td>\n",
       "      <td>38</td>\n",
       "      <td>L</td>\n",
       "      <td>-</td>\n",
       "      <td>-</td>\n",
       "      <td>0.0</td>\n",
       "      <td>1.0</td>\n",
       "      <td>467</td>\n",
       "      <td>NaN</td>\n",
       "    </tr>\n",
       "    <tr>\n",
       "      <th>1016</th>\n",
       "      <td>C1267</td>\n",
       "      <td>675</td>\n",
       "      <td>아파트</td>\n",
       "      <td>경상남도</td>\n",
       "      <td>행복주택</td>\n",
       "      <td>26.85</td>\n",
       "      <td>8</td>\n",
       "      <td>38</td>\n",
       "      <td>L</td>\n",
       "      <td>-</td>\n",
       "      <td>-</td>\n",
       "      <td>0.0</td>\n",
       "      <td>1.0</td>\n",
       "      <td>467</td>\n",
       "      <td>NaN</td>\n",
       "    </tr>\n",
       "    <tr>\n",
       "      <th>1017</th>\n",
       "      <td>C1267</td>\n",
       "      <td>675</td>\n",
       "      <td>아파트</td>\n",
       "      <td>경상남도</td>\n",
       "      <td>행복주택</td>\n",
       "      <td>36.77</td>\n",
       "      <td>126</td>\n",
       "      <td>38</td>\n",
       "      <td>L</td>\n",
       "      <td>-</td>\n",
       "      <td>-</td>\n",
       "      <td>0.0</td>\n",
       "      <td>1.0</td>\n",
       "      <td>467</td>\n",
       "      <td>NaN</td>\n",
       "    </tr>\n",
       "  </tbody>\n",
       "</table>\n",
       "</div>"
      ],
      "text/plain": [
       "       단지코드  총세대수 임대건물구분    지역  공급유형   전용면적  전용면적별세대수  공가수 신분     임대보증금  \\\n",
       "1007  C1267   675    아파트  경상남도  국민임대  24.87        28   38  H   6882000   \n",
       "1008  C1267   675    아파트  경상남도  국민임대  24.99        90   38  H   6882000   \n",
       "1009  C1267   675    아파트  경상남도  국민임대  24.99        12   38  H   6882000   \n",
       "1010  C1267   675    아파트  경상남도  국민임대  46.72        68   38  H  24420000   \n",
       "1011  C1267   675    아파트  경상남도  국민임대  46.72       112   38  H  24420000   \n",
       "1012  C1267   675    아파트  경상남도  영구임대  22.86        96   38  C  10876000   \n",
       "1013  C1267   675    아파트  경상남도  영구임대  22.86        14   38  C  10876000   \n",
       "1014  C1267   675    아파트  경상남도  행복주택  16.94        50   38  L         -   \n",
       "1015  C1267   675    아파트  경상남도  행복주택  26.85        66   38  L         -   \n",
       "1016  C1267   675    아파트  경상남도  행복주택  26.85         8   38  L         -   \n",
       "1017  C1267   675    아파트  경상남도  행복주택  36.77       126   38  L         -   \n",
       "\n",
       "         임대료  지하철   버스  단지내주차면수  등록차량수  \n",
       "1007  104370  0.0  1.0      467    NaN  \n",
       "1008  104370  0.0  1.0      467    NaN  \n",
       "1009  104370  0.0  1.0      467    NaN  \n",
       "1010  219230  0.0  1.0      467    NaN  \n",
       "1011  219230  0.0  1.0      467    NaN  \n",
       "1012   89230  0.0  1.0      467    NaN  \n",
       "1013   89230  0.0  1.0      467    NaN  \n",
       "1014       -  0.0  1.0      467    NaN  \n",
       "1015       -  0.0  1.0      467    NaN  \n",
       "1016       -  0.0  1.0      467    NaN  \n",
       "1017       -  0.0  1.0      467    NaN  "
      ]
     },
     "execution_count": 43,
     "metadata": {},
     "output_type": "execute_result"
    }
   ],
   "source": [
    "apps[apps['단지코드']=='C1267']"
   ]
  },
  {
   "cell_type": "code",
   "execution_count": 44,
   "metadata": {},
   "outputs": [
    {
     "data": {
      "text/plain": [
       "Int64Index([1014, 1015, 1016, 1017], dtype='int64')"
      ]
     },
     "execution_count": 44,
     "metadata": {},
     "output_type": "execute_result"
    }
   ],
   "source": [
    "apps.loc[apps['임대보증금']=='-'].index"
   ]
  },
  {
   "cell_type": "code",
   "execution_count": 45,
   "metadata": {},
   "outputs": [],
   "source": [
    "apps['임대보증금'] = apps['임대보증금'].replace('-', 0)"
   ]
  },
  {
   "cell_type": "code",
   "execution_count": 46,
   "metadata": {},
   "outputs": [
    {
     "data": {
      "text/html": [
       "<div>\n",
       "<style scoped>\n",
       "    .dataframe tbody tr th:only-of-type {\n",
       "        vertical-align: middle;\n",
       "    }\n",
       "\n",
       "    .dataframe tbody tr th {\n",
       "        vertical-align: top;\n",
       "    }\n",
       "\n",
       "    .dataframe thead th {\n",
       "        text-align: right;\n",
       "    }\n",
       "</style>\n",
       "<table border=\"1\" class=\"dataframe\">\n",
       "  <thead>\n",
       "    <tr style=\"text-align: right;\">\n",
       "      <th></th>\n",
       "      <th>단지코드</th>\n",
       "      <th>총세대수</th>\n",
       "      <th>임대건물구분</th>\n",
       "      <th>지역</th>\n",
       "      <th>공급유형</th>\n",
       "      <th>전용면적</th>\n",
       "      <th>전용면적별세대수</th>\n",
       "      <th>공가수</th>\n",
       "      <th>신분</th>\n",
       "      <th>임대보증금</th>\n",
       "      <th>임대료</th>\n",
       "      <th>지하철</th>\n",
       "      <th>버스</th>\n",
       "      <th>단지내주차면수</th>\n",
       "      <th>등록차량수</th>\n",
       "    </tr>\n",
       "  </thead>\n",
       "  <tbody>\n",
       "  </tbody>\n",
       "</table>\n",
       "</div>"
      ],
      "text/plain": [
       "Empty DataFrame\n",
       "Columns: [단지코드, 총세대수, 임대건물구분, 지역, 공급유형, 전용면적, 전용면적별세대수, 공가수, 신분, 임대보증금, 임대료, 지하철, 버스, 단지내주차면수, 등록차량수]\n",
       "Index: []"
      ]
     },
     "execution_count": 46,
     "metadata": {},
     "output_type": "execute_result"
    }
   ],
   "source": [
    "# index로 삭제하면 안된다.\n",
    "apps[apps['임대보증금']=='-']"
   ]
  },
  {
   "cell_type": "code",
   "execution_count": 47,
   "metadata": {},
   "outputs": [],
   "source": [
    "apps.reset_index(drop = True, inplace = True)"
   ]
  },
  {
   "cell_type": "code",
   "execution_count": 48,
   "metadata": {},
   "outputs": [],
   "source": [
    "# apps = apps.drop(apps.loc[apps['임대보증금']=='-'].index)"
   ]
  },
  {
   "cell_type": "code",
   "execution_count": 49,
   "metadata": {},
   "outputs": [
    {
     "data": {
      "text/plain": [
       "Int64Index([2331, 2332, 2333, 2334, 2335, 2336, 2337], dtype='int64')"
      ]
     },
     "execution_count": 49,
     "metadata": {},
     "output_type": "execute_result"
    }
   ],
   "source": [
    "# train C1350단지의 자격유형 A 반영을 위한 자격유형 D(이상치?) 처리\n",
    "apps[(apps['단지코드']=='C1350') & (apps['신분']=='D')].index"
   ]
  },
  {
   "cell_type": "code",
   "execution_count": 50,
   "metadata": {},
   "outputs": [],
   "source": [
    "# train C1350단지의 자격유형 A 반영을 위한 자격유형 D(이상치?) 처리\n",
    "apps.drop(apps[(apps['단지코드']=='C1350') & (apps['신분']=='D')].index, inplace=True)"
   ]
  },
  {
   "cell_type": "code",
   "execution_count": 51,
   "metadata": {},
   "outputs": [
    {
     "data": {
      "text/html": [
       "<div>\n",
       "<style scoped>\n",
       "    .dataframe tbody tr th:only-of-type {\n",
       "        vertical-align: middle;\n",
       "    }\n",
       "\n",
       "    .dataframe tbody tr th {\n",
       "        vertical-align: top;\n",
       "    }\n",
       "\n",
       "    .dataframe thead th {\n",
       "        text-align: right;\n",
       "    }\n",
       "</style>\n",
       "<table border=\"1\" class=\"dataframe\">\n",
       "  <thead>\n",
       "    <tr style=\"text-align: right;\">\n",
       "      <th></th>\n",
       "      <th>단지코드</th>\n",
       "      <th>총세대수</th>\n",
       "      <th>임대건물구분</th>\n",
       "      <th>지역</th>\n",
       "      <th>공급유형</th>\n",
       "      <th>전용면적</th>\n",
       "      <th>전용면적별세대수</th>\n",
       "      <th>공가수</th>\n",
       "      <th>신분</th>\n",
       "      <th>임대보증금</th>\n",
       "      <th>임대료</th>\n",
       "      <th>지하철</th>\n",
       "      <th>버스</th>\n",
       "      <th>단지내주차면수</th>\n",
       "      <th>등록차량수</th>\n",
       "    </tr>\n",
       "  </thead>\n",
       "  <tbody>\n",
       "    <tr>\n",
       "      <th>2043</th>\n",
       "      <td>C1397</td>\n",
       "      <td>370</td>\n",
       "      <td>아파트</td>\n",
       "      <td>서울특별시</td>\n",
       "      <td>장기전세</td>\n",
       "      <td>23.32</td>\n",
       "      <td>51</td>\n",
       "      <td>9</td>\n",
       "      <td>A</td>\n",
       "      <td>87444000.0</td>\n",
       "      <td>-</td>\n",
       "      <td>0.0</td>\n",
       "      <td>3.0</td>\n",
       "      <td>1590</td>\n",
       "      <td>1595.0</td>\n",
       "    </tr>\n",
       "    <tr>\n",
       "      <th>2044</th>\n",
       "      <td>C1397</td>\n",
       "      <td>370</td>\n",
       "      <td>아파트</td>\n",
       "      <td>서울특별시</td>\n",
       "      <td>장기전세</td>\n",
       "      <td>46.79</td>\n",
       "      <td>4</td>\n",
       "      <td>9</td>\n",
       "      <td>A</td>\n",
       "      <td>174888000.0</td>\n",
       "      <td>-</td>\n",
       "      <td>0.0</td>\n",
       "      <td>3.0</td>\n",
       "      <td>1590</td>\n",
       "      <td>1595.0</td>\n",
       "    </tr>\n",
       "    <tr>\n",
       "      <th>2045</th>\n",
       "      <td>C1397</td>\n",
       "      <td>370</td>\n",
       "      <td>아파트</td>\n",
       "      <td>서울특별시</td>\n",
       "      <td>장기전세</td>\n",
       "      <td>46.91</td>\n",
       "      <td>69</td>\n",
       "      <td>9</td>\n",
       "      <td>A</td>\n",
       "      <td>174888000.0</td>\n",
       "      <td>-</td>\n",
       "      <td>0.0</td>\n",
       "      <td>3.0</td>\n",
       "      <td>1590</td>\n",
       "      <td>1595.0</td>\n",
       "    </tr>\n",
       "    <tr>\n",
       "      <th>2046</th>\n",
       "      <td>C1397</td>\n",
       "      <td>370</td>\n",
       "      <td>아파트</td>\n",
       "      <td>서울특별시</td>\n",
       "      <td>장기전세</td>\n",
       "      <td>51.96</td>\n",
       "      <td>24</td>\n",
       "      <td>9</td>\n",
       "      <td>A</td>\n",
       "      <td>194562000.0</td>\n",
       "      <td>-</td>\n",
       "      <td>0.0</td>\n",
       "      <td>3.0</td>\n",
       "      <td>1590</td>\n",
       "      <td>1595.0</td>\n",
       "    </tr>\n",
       "    <tr>\n",
       "      <th>2047</th>\n",
       "      <td>C1397</td>\n",
       "      <td>370</td>\n",
       "      <td>아파트</td>\n",
       "      <td>서울특별시</td>\n",
       "      <td>장기전세</td>\n",
       "      <td>51.99</td>\n",
       "      <td>80</td>\n",
       "      <td>9</td>\n",
       "      <td>A</td>\n",
       "      <td>194562000.0</td>\n",
       "      <td>-</td>\n",
       "      <td>0.0</td>\n",
       "      <td>3.0</td>\n",
       "      <td>1590</td>\n",
       "      <td>1595.0</td>\n",
       "    </tr>\n",
       "    <tr>\n",
       "      <th>2048</th>\n",
       "      <td>C1397</td>\n",
       "      <td>370</td>\n",
       "      <td>아파트</td>\n",
       "      <td>서울특별시</td>\n",
       "      <td>장기전세</td>\n",
       "      <td>59.93</td>\n",
       "      <td>142</td>\n",
       "      <td>9</td>\n",
       "      <td>A</td>\n",
       "      <td>216423000.0</td>\n",
       "      <td>-</td>\n",
       "      <td>0.0</td>\n",
       "      <td>3.0</td>\n",
       "      <td>1590</td>\n",
       "      <td>1595.0</td>\n",
       "    </tr>\n",
       "    <tr>\n",
       "      <th>2100</th>\n",
       "      <td>C1039</td>\n",
       "      <td>790</td>\n",
       "      <td>아파트</td>\n",
       "      <td>서울특별시</td>\n",
       "      <td>장기전세</td>\n",
       "      <td>51.32</td>\n",
       "      <td>126</td>\n",
       "      <td>13</td>\n",
       "      <td>A</td>\n",
       "      <td>187694000.0</td>\n",
       "      <td>-</td>\n",
       "      <td>0.0</td>\n",
       "      <td>3.0</td>\n",
       "      <td>673</td>\n",
       "      <td>645.0</td>\n",
       "    </tr>\n",
       "    <tr>\n",
       "      <th>2101</th>\n",
       "      <td>C1039</td>\n",
       "      <td>790</td>\n",
       "      <td>아파트</td>\n",
       "      <td>서울특별시</td>\n",
       "      <td>장기전세</td>\n",
       "      <td>59.88</td>\n",
       "      <td>49</td>\n",
       "      <td>13</td>\n",
       "      <td>A</td>\n",
       "      <td>213863000.0</td>\n",
       "      <td>-</td>\n",
       "      <td>0.0</td>\n",
       "      <td>3.0</td>\n",
       "      <td>673</td>\n",
       "      <td>645.0</td>\n",
       "    </tr>\n",
       "    <tr>\n",
       "      <th>2102</th>\n",
       "      <td>C1039</td>\n",
       "      <td>790</td>\n",
       "      <td>아파트</td>\n",
       "      <td>서울특별시</td>\n",
       "      <td>장기전세</td>\n",
       "      <td>59.94</td>\n",
       "      <td>75</td>\n",
       "      <td>13</td>\n",
       "      <td>A</td>\n",
       "      <td>213863000.0</td>\n",
       "      <td>-</td>\n",
       "      <td>0.0</td>\n",
       "      <td>3.0</td>\n",
       "      <td>673</td>\n",
       "      <td>645.0</td>\n",
       "    </tr>\n",
       "    <tr>\n",
       "      <th>3966</th>\n",
       "      <td>C1267</td>\n",
       "      <td>675</td>\n",
       "      <td>아파트</td>\n",
       "      <td>경상남도</td>\n",
       "      <td>행복주택</td>\n",
       "      <td>16.94</td>\n",
       "      <td>50</td>\n",
       "      <td>38</td>\n",
       "      <td>L</td>\n",
       "      <td>0</td>\n",
       "      <td>-</td>\n",
       "      <td>0.0</td>\n",
       "      <td>1.0</td>\n",
       "      <td>467</td>\n",
       "      <td>NaN</td>\n",
       "    </tr>\n",
       "    <tr>\n",
       "      <th>3967</th>\n",
       "      <td>C1267</td>\n",
       "      <td>675</td>\n",
       "      <td>아파트</td>\n",
       "      <td>경상남도</td>\n",
       "      <td>행복주택</td>\n",
       "      <td>26.85</td>\n",
       "      <td>66</td>\n",
       "      <td>38</td>\n",
       "      <td>L</td>\n",
       "      <td>0</td>\n",
       "      <td>-</td>\n",
       "      <td>0.0</td>\n",
       "      <td>1.0</td>\n",
       "      <td>467</td>\n",
       "      <td>NaN</td>\n",
       "    </tr>\n",
       "    <tr>\n",
       "      <th>3968</th>\n",
       "      <td>C1267</td>\n",
       "      <td>675</td>\n",
       "      <td>아파트</td>\n",
       "      <td>경상남도</td>\n",
       "      <td>행복주택</td>\n",
       "      <td>26.85</td>\n",
       "      <td>8</td>\n",
       "      <td>38</td>\n",
       "      <td>L</td>\n",
       "      <td>0</td>\n",
       "      <td>-</td>\n",
       "      <td>0.0</td>\n",
       "      <td>1.0</td>\n",
       "      <td>467</td>\n",
       "      <td>NaN</td>\n",
       "    </tr>\n",
       "    <tr>\n",
       "      <th>3969</th>\n",
       "      <td>C1267</td>\n",
       "      <td>675</td>\n",
       "      <td>아파트</td>\n",
       "      <td>경상남도</td>\n",
       "      <td>행복주택</td>\n",
       "      <td>36.77</td>\n",
       "      <td>126</td>\n",
       "      <td>38</td>\n",
       "      <td>L</td>\n",
       "      <td>0</td>\n",
       "      <td>-</td>\n",
       "      <td>0.0</td>\n",
       "      <td>1.0</td>\n",
       "      <td>467</td>\n",
       "      <td>NaN</td>\n",
       "    </tr>\n",
       "  </tbody>\n",
       "</table>\n",
       "</div>"
      ],
      "text/plain": [
       "       단지코드  총세대수 임대건물구분     지역  공급유형   전용면적  전용면적별세대수  공가수 신분        임대보증금  \\\n",
       "2043  C1397   370    아파트  서울특별시  장기전세  23.32        51    9  A   87444000.0   \n",
       "2044  C1397   370    아파트  서울특별시  장기전세  46.79         4    9  A  174888000.0   \n",
       "2045  C1397   370    아파트  서울특별시  장기전세  46.91        69    9  A  174888000.0   \n",
       "2046  C1397   370    아파트  서울특별시  장기전세  51.96        24    9  A  194562000.0   \n",
       "2047  C1397   370    아파트  서울특별시  장기전세  51.99        80    9  A  194562000.0   \n",
       "2048  C1397   370    아파트  서울특별시  장기전세  59.93       142    9  A  216423000.0   \n",
       "2100  C1039   790    아파트  서울특별시  장기전세  51.32       126   13  A  187694000.0   \n",
       "2101  C1039   790    아파트  서울특별시  장기전세  59.88        49   13  A  213863000.0   \n",
       "2102  C1039   790    아파트  서울특별시  장기전세  59.94        75   13  A  213863000.0   \n",
       "3966  C1267   675    아파트   경상남도  행복주택  16.94        50   38  L            0   \n",
       "3967  C1267   675    아파트   경상남도  행복주택  26.85        66   38  L            0   \n",
       "3968  C1267   675    아파트   경상남도  행복주택  26.85         8   38  L            0   \n",
       "3969  C1267   675    아파트   경상남도  행복주택  36.77       126   38  L            0   \n",
       "\n",
       "     임대료  지하철   버스  단지내주차면수   등록차량수  \n",
       "2043   -  0.0  3.0     1590  1595.0  \n",
       "2044   -  0.0  3.0     1590  1595.0  \n",
       "2045   -  0.0  3.0     1590  1595.0  \n",
       "2046   -  0.0  3.0     1590  1595.0  \n",
       "2047   -  0.0  3.0     1590  1595.0  \n",
       "2048   -  0.0  3.0     1590  1595.0  \n",
       "2100   -  0.0  3.0      673   645.0  \n",
       "2101   -  0.0  3.0      673   645.0  \n",
       "2102   -  0.0  3.0      673   645.0  \n",
       "3966   -  0.0  1.0      467     NaN  \n",
       "3967   -  0.0  1.0      467     NaN  \n",
       "3968   -  0.0  1.0      467     NaN  \n",
       "3969   -  0.0  1.0      467     NaN  "
      ]
     },
     "execution_count": 51,
     "metadata": {},
     "output_type": "execute_result"
    }
   ],
   "source": [
    "apps.loc[apps['임대료']=='-']"
   ]
  },
  {
   "cell_type": "code",
   "execution_count": 52,
   "metadata": {
    "id": "f11NBClSaU13"
   },
   "outputs": [],
   "source": [
    "# 장기 전세이므로 임대료는 0으로 처리\n",
    "apps['임대료'] = apps['임대료'].replace('-', 0)"
   ]
  },
  {
   "cell_type": "code",
   "execution_count": 53,
   "metadata": {},
   "outputs": [
    {
     "data": {
      "text/html": [
       "<div>\n",
       "<style scoped>\n",
       "    .dataframe tbody tr th:only-of-type {\n",
       "        vertical-align: middle;\n",
       "    }\n",
       "\n",
       "    .dataframe tbody tr th {\n",
       "        vertical-align: top;\n",
       "    }\n",
       "\n",
       "    .dataframe thead th {\n",
       "        text-align: right;\n",
       "    }\n",
       "</style>\n",
       "<table border=\"1\" class=\"dataframe\">\n",
       "  <thead>\n",
       "    <tr style=\"text-align: right;\">\n",
       "      <th></th>\n",
       "      <th>단지코드</th>\n",
       "      <th>총세대수</th>\n",
       "      <th>임대건물구분</th>\n",
       "      <th>지역</th>\n",
       "      <th>공급유형</th>\n",
       "      <th>전용면적</th>\n",
       "      <th>전용면적별세대수</th>\n",
       "      <th>공가수</th>\n",
       "      <th>신분</th>\n",
       "      <th>임대보증금</th>\n",
       "      <th>임대료</th>\n",
       "      <th>지하철</th>\n",
       "      <th>버스</th>\n",
       "      <th>단지내주차면수</th>\n",
       "      <th>등록차량수</th>\n",
       "    </tr>\n",
       "  </thead>\n",
       "  <tbody>\n",
       "  </tbody>\n",
       "</table>\n",
       "</div>"
      ],
      "text/plain": [
       "Empty DataFrame\n",
       "Columns: [단지코드, 총세대수, 임대건물구분, 지역, 공급유형, 전용면적, 전용면적별세대수, 공가수, 신분, 임대보증금, 임대료, 지하철, 버스, 단지내주차면수, 등록차량수]\n",
       "Index: []"
      ]
     },
     "execution_count": 53,
     "metadata": {},
     "output_type": "execute_result"
    }
   ],
   "source": [
    "apps.loc[apps['임대료']=='-']"
   ]
  },
  {
   "cell_type": "code",
   "execution_count": 54,
   "metadata": {
    "id": "oOqIRvyZaU13"
   },
   "outputs": [],
   "source": [
    "# 위와 동일한 결과를 볼 수 있다.\n",
    "# train['임대료'].replace('-', 'nan',inplace = True )"
   ]
  },
  {
   "cell_type": "code",
   "execution_count": 55,
   "metadata": {},
   "outputs": [
    {
     "data": {
      "text/html": [
       "<div>\n",
       "<style scoped>\n",
       "    .dataframe tbody tr th:only-of-type {\n",
       "        vertical-align: middle;\n",
       "    }\n",
       "\n",
       "    .dataframe tbody tr th {\n",
       "        vertical-align: top;\n",
       "    }\n",
       "\n",
       "    .dataframe thead th {\n",
       "        text-align: right;\n",
       "    }\n",
       "</style>\n",
       "<table border=\"1\" class=\"dataframe\">\n",
       "  <thead>\n",
       "    <tr style=\"text-align: right;\">\n",
       "      <th></th>\n",
       "      <th>단지코드</th>\n",
       "      <th>총세대수</th>\n",
       "      <th>임대건물구분</th>\n",
       "      <th>지역</th>\n",
       "      <th>공급유형</th>\n",
       "      <th>전용면적</th>\n",
       "      <th>전용면적별세대수</th>\n",
       "      <th>공가수</th>\n",
       "      <th>신분</th>\n",
       "      <th>임대보증금</th>\n",
       "      <th>임대료</th>\n",
       "      <th>지하철</th>\n",
       "      <th>버스</th>\n",
       "      <th>단지내주차면수</th>\n",
       "      <th>등록차량수</th>\n",
       "    </tr>\n",
       "  </thead>\n",
       "  <tbody>\n",
       "    <tr>\n",
       "      <th>0</th>\n",
       "      <td>C2483</td>\n",
       "      <td>900</td>\n",
       "      <td>아파트</td>\n",
       "      <td>경상북도</td>\n",
       "      <td>국민임대</td>\n",
       "      <td>39.72</td>\n",
       "      <td>134</td>\n",
       "      <td>38</td>\n",
       "      <td>A</td>\n",
       "      <td>15667000.0</td>\n",
       "      <td>103680</td>\n",
       "      <td>0.0</td>\n",
       "      <td>3.0</td>\n",
       "      <td>1425</td>\n",
       "      <td>1015.0</td>\n",
       "    </tr>\n",
       "    <tr>\n",
       "      <th>1</th>\n",
       "      <td>C2483</td>\n",
       "      <td>900</td>\n",
       "      <td>아파트</td>\n",
       "      <td>경상북도</td>\n",
       "      <td>국민임대</td>\n",
       "      <td>39.72</td>\n",
       "      <td>15</td>\n",
       "      <td>38</td>\n",
       "      <td>A</td>\n",
       "      <td>15667000.0</td>\n",
       "      <td>103680</td>\n",
       "      <td>0.0</td>\n",
       "      <td>3.0</td>\n",
       "      <td>1425</td>\n",
       "      <td>1015.0</td>\n",
       "    </tr>\n",
       "    <tr>\n",
       "      <th>2</th>\n",
       "      <td>C2483</td>\n",
       "      <td>900</td>\n",
       "      <td>아파트</td>\n",
       "      <td>경상북도</td>\n",
       "      <td>국민임대</td>\n",
       "      <td>51.93</td>\n",
       "      <td>385</td>\n",
       "      <td>38</td>\n",
       "      <td>A</td>\n",
       "      <td>27304000.0</td>\n",
       "      <td>184330</td>\n",
       "      <td>0.0</td>\n",
       "      <td>3.0</td>\n",
       "      <td>1425</td>\n",
       "      <td>1015.0</td>\n",
       "    </tr>\n",
       "    <tr>\n",
       "      <th>3</th>\n",
       "      <td>C2483</td>\n",
       "      <td>900</td>\n",
       "      <td>아파트</td>\n",
       "      <td>경상북도</td>\n",
       "      <td>국민임대</td>\n",
       "      <td>51.93</td>\n",
       "      <td>15</td>\n",
       "      <td>38</td>\n",
       "      <td>A</td>\n",
       "      <td>27304000.0</td>\n",
       "      <td>184330</td>\n",
       "      <td>0.0</td>\n",
       "      <td>3.0</td>\n",
       "      <td>1425</td>\n",
       "      <td>1015.0</td>\n",
       "    </tr>\n",
       "    <tr>\n",
       "      <th>4</th>\n",
       "      <td>C2483</td>\n",
       "      <td>900</td>\n",
       "      <td>아파트</td>\n",
       "      <td>경상북도</td>\n",
       "      <td>국민임대</td>\n",
       "      <td>51.93</td>\n",
       "      <td>41</td>\n",
       "      <td>38</td>\n",
       "      <td>A</td>\n",
       "      <td>27304000.0</td>\n",
       "      <td>184330</td>\n",
       "      <td>0.0</td>\n",
       "      <td>3.0</td>\n",
       "      <td>1425</td>\n",
       "      <td>1015.0</td>\n",
       "    </tr>\n",
       "    <tr>\n",
       "      <th>...</th>\n",
       "      <td>...</td>\n",
       "      <td>...</td>\n",
       "      <td>...</td>\n",
       "      <td>...</td>\n",
       "      <td>...</td>\n",
       "      <td>...</td>\n",
       "      <td>...</td>\n",
       "      <td>...</td>\n",
       "      <td>...</td>\n",
       "      <td>...</td>\n",
       "      <td>...</td>\n",
       "      <td>...</td>\n",
       "      <td>...</td>\n",
       "      <td>...</td>\n",
       "      <td>...</td>\n",
       "    </tr>\n",
       "    <tr>\n",
       "      <th>3962</th>\n",
       "      <td>C1267</td>\n",
       "      <td>675</td>\n",
       "      <td>아파트</td>\n",
       "      <td>경상남도</td>\n",
       "      <td>행복주택</td>\n",
       "      <td>36.77</td>\n",
       "      <td>126</td>\n",
       "      <td>38</td>\n",
       "      <td>L</td>\n",
       "      <td>0</td>\n",
       "      <td>0</td>\n",
       "      <td>0.0</td>\n",
       "      <td>1.0</td>\n",
       "      <td>467</td>\n",
       "      <td>NaN</td>\n",
       "    </tr>\n",
       "    <tr>\n",
       "      <th>3963</th>\n",
       "      <td>C2189</td>\n",
       "      <td>382</td>\n",
       "      <td>아파트</td>\n",
       "      <td>전라북도</td>\n",
       "      <td>국민임대</td>\n",
       "      <td>29.19</td>\n",
       "      <td>96</td>\n",
       "      <td>45</td>\n",
       "      <td>H</td>\n",
       "      <td>6872000</td>\n",
       "      <td>106400</td>\n",
       "      <td>0.0</td>\n",
       "      <td>2.0</td>\n",
       "      <td>300</td>\n",
       "      <td>NaN</td>\n",
       "    </tr>\n",
       "    <tr>\n",
       "      <th>3964</th>\n",
       "      <td>C2189</td>\n",
       "      <td>382</td>\n",
       "      <td>아파트</td>\n",
       "      <td>전라북도</td>\n",
       "      <td>국민임대</td>\n",
       "      <td>29.19</td>\n",
       "      <td>20</td>\n",
       "      <td>45</td>\n",
       "      <td>H</td>\n",
       "      <td>6872000</td>\n",
       "      <td>106400</td>\n",
       "      <td>0.0</td>\n",
       "      <td>2.0</td>\n",
       "      <td>300</td>\n",
       "      <td>NaN</td>\n",
       "    </tr>\n",
       "    <tr>\n",
       "      <th>3965</th>\n",
       "      <td>C2189</td>\n",
       "      <td>382</td>\n",
       "      <td>아파트</td>\n",
       "      <td>전라북도</td>\n",
       "      <td>국민임대</td>\n",
       "      <td>39.45</td>\n",
       "      <td>202</td>\n",
       "      <td>45</td>\n",
       "      <td>H</td>\n",
       "      <td>13410000</td>\n",
       "      <td>144600</td>\n",
       "      <td>0.0</td>\n",
       "      <td>2.0</td>\n",
       "      <td>300</td>\n",
       "      <td>NaN</td>\n",
       "    </tr>\n",
       "    <tr>\n",
       "      <th>3966</th>\n",
       "      <td>C2189</td>\n",
       "      <td>382</td>\n",
       "      <td>아파트</td>\n",
       "      <td>전라북도</td>\n",
       "      <td>국민임대</td>\n",
       "      <td>46.23</td>\n",
       "      <td>60</td>\n",
       "      <td>45</td>\n",
       "      <td>H</td>\n",
       "      <td>18689000</td>\n",
       "      <td>166500</td>\n",
       "      <td>0.0</td>\n",
       "      <td>2.0</td>\n",
       "      <td>300</td>\n",
       "      <td>NaN</td>\n",
       "    </tr>\n",
       "  </tbody>\n",
       "</table>\n",
       "<p>3967 rows × 15 columns</p>\n",
       "</div>"
      ],
      "text/plain": [
       "       단지코드  총세대수 임대건물구분    지역  공급유형   전용면적  전용면적별세대수  공가수 신분       임대보증금  \\\n",
       "0     C2483   900    아파트  경상북도  국민임대  39.72       134   38  A  15667000.0   \n",
       "1     C2483   900    아파트  경상북도  국민임대  39.72        15   38  A  15667000.0   \n",
       "2     C2483   900    아파트  경상북도  국민임대  51.93       385   38  A  27304000.0   \n",
       "3     C2483   900    아파트  경상북도  국민임대  51.93        15   38  A  27304000.0   \n",
       "4     C2483   900    아파트  경상북도  국민임대  51.93        41   38  A  27304000.0   \n",
       "...     ...   ...    ...   ...   ...    ...       ...  ... ..         ...   \n",
       "3962  C1267   675    아파트  경상남도  행복주택  36.77       126   38  L           0   \n",
       "3963  C2189   382    아파트  전라북도  국민임대  29.19        96   45  H     6872000   \n",
       "3964  C2189   382    아파트  전라북도  국민임대  29.19        20   45  H     6872000   \n",
       "3965  C2189   382    아파트  전라북도  국민임대  39.45       202   45  H    13410000   \n",
       "3966  C2189   382    아파트  전라북도  국민임대  46.23        60   45  H    18689000   \n",
       "\n",
       "         임대료  지하철   버스  단지내주차면수   등록차량수  \n",
       "0     103680  0.0  3.0     1425  1015.0  \n",
       "1     103680  0.0  3.0     1425  1015.0  \n",
       "2     184330  0.0  3.0     1425  1015.0  \n",
       "3     184330  0.0  3.0     1425  1015.0  \n",
       "4     184330  0.0  3.0     1425  1015.0  \n",
       "...      ...  ...  ...      ...     ...  \n",
       "3962       0  0.0  1.0      467     NaN  \n",
       "3963  106400  0.0  2.0      300     NaN  \n",
       "3964  106400  0.0  2.0      300     NaN  \n",
       "3965  144600  0.0  2.0      300     NaN  \n",
       "3966  166500  0.0  2.0      300     NaN  \n",
       "\n",
       "[3967 rows x 15 columns]"
      ]
     },
     "execution_count": 55,
     "metadata": {},
     "output_type": "execute_result"
    }
   ],
   "source": [
    "apps.reset_index(drop = True, inplace = True)\n",
    "apps"
   ]
  },
  {
   "cell_type": "code",
   "execution_count": 56,
   "metadata": {
    "colab": {
     "base_uri": "https://localhost:8080/"
    },
    "executionInfo": {
     "elapsed": 71,
     "status": "ok",
     "timestamp": 1624716823027,
     "user": {
      "displayName": "강은영",
      "photoUrl": "https://lh3.googleusercontent.com/a-/AOh14Gjy66CDAcyXsALCf0rphNoHtH-LG6qhHqqSC2Gbhw=s64",
      "userId": "13345059186417356878"
     },
     "user_tz": -540
    },
    "id": "KkCimYOPaU14",
    "outputId": "85764ed5-969c-40e4-95ad-7da9764fc8fb"
   },
   "outputs": [
    {
     "data": {
      "text/plain": [
       "79980     23\n",
       "149810    22\n",
       "167230    22\n",
       "187260    22\n",
       "111470    20\n",
       "          ..\n",
       "83370      1\n",
       "360220     1\n",
       "169020     1\n",
       "127540     1\n",
       "118630     1\n",
       "Name: 임대료, Length: 1286, dtype: int64"
      ]
     },
     "execution_count": 56,
     "metadata": {},
     "output_type": "execute_result"
    }
   ],
   "source": [
    "apps['임대료'].value_counts()"
   ]
  },
  {
   "cell_type": "code",
   "execution_count": 57,
   "metadata": {
    "colab": {
     "base_uri": "https://localhost:8080/"
    },
    "executionInfo": {
     "elapsed": 72,
     "status": "ok",
     "timestamp": 1624716823029,
     "user": {
      "displayName": "강은영",
      "photoUrl": "https://lh3.googleusercontent.com/a-/AOh14Gjy66CDAcyXsALCf0rphNoHtH-LG6qhHqqSC2Gbhw=s64",
      "userId": "13345059186417356878"
     },
     "user_tz": -540
    },
    "id": "m3SNPc5kaU14",
    "outputId": "3a272ea1-7469-46a3-8d25-4fd78ffd4344"
   },
   "outputs": [
    {
     "data": {
      "text/plain": [
       "24775000.0    22\n",
       "14418000.0    21\n",
       "5787000.0     18\n",
       "43000000.0    17\n",
       "18726000.0    17\n",
       "              ..\n",
       "16205000.0     1\n",
       "19978000.0     1\n",
       "15690000.0     1\n",
       "23355000.0     1\n",
       "43617000.0     1\n",
       "Name: 임대보증금, Length: 1369, dtype: int64"
      ]
     },
     "execution_count": 57,
     "metadata": {},
     "output_type": "execute_result"
    }
   ],
   "source": [
    "apps['임대보증금'].value_counts()"
   ]
  },
  {
   "cell_type": "code",
   "execution_count": 58,
   "metadata": {
    "colab": {
     "base_uri": "https://localhost:8080/"
    },
    "executionInfo": {
     "elapsed": 71,
     "status": "ok",
     "timestamp": 1624716823030,
     "user": {
      "displayName": "강은영",
      "photoUrl": "https://lh3.googleusercontent.com/a-/AOh14Gjy66CDAcyXsALCf0rphNoHtH-LG6qhHqqSC2Gbhw=s64",
      "userId": "13345059186417356878"
     },
     "user_tz": -540
    },
    "id": "sGiRBrCtaU15",
    "outputId": "d5fc889a-d774-459b-ef94-f19289bbe09f"
   },
   "outputs": [
    {
     "name": "stdout",
     "output_type": "stream",
     "text": [
      "0\n"
     ]
    }
   ],
   "source": [
    "print(apps[apps['임대보증금'] == '-']['임대보증금'].count())"
   ]
  },
  {
   "cell_type": "code",
   "execution_count": 59,
   "metadata": {
    "colab": {
     "base_uri": "https://localhost:8080/"
    },
    "executionInfo": {
     "elapsed": 70,
     "status": "ok",
     "timestamp": 1624716823031,
     "user": {
      "displayName": "강은영",
      "photoUrl": "https://lh3.googleusercontent.com/a-/AOh14Gjy66CDAcyXsALCf0rphNoHtH-LG6qhHqqSC2Gbhw=s64",
      "userId": "13345059186417356878"
     },
     "user_tz": -540
    },
    "id": "MXSXwNbPaU16",
    "outputId": "06476d87-cfc3-4332-aa8e-70347dc94fec"
   },
   "outputs": [
    {
     "data": {
      "text/plain": [
       "742"
      ]
     },
     "execution_count": 59,
     "metadata": {},
     "output_type": "execute_result"
    }
   ],
   "source": [
    "apps['임대보증금'].isnull().sum()"
   ]
  },
  {
   "cell_type": "markdown",
   "metadata": {
    "id": "DF_zlTj2aU17"
   },
   "source": [
    "#### object 타입을 float 로 바꿔준다."
   ]
  },
  {
   "cell_type": "code",
   "execution_count": 60,
   "metadata": {
    "id": "6Z9YpoIQaU18"
   },
   "outputs": [],
   "source": [
    "apps['임대료']=apps['임대료'].astype('float')\n",
    "apps['임대보증금']=apps['임대보증금'].astype('float')"
   ]
  },
  {
   "cell_type": "code",
   "execution_count": 61,
   "metadata": {
    "colab": {
     "base_uri": "https://localhost:8080/"
    },
    "executionInfo": {
     "elapsed": 77,
     "status": "ok",
     "timestamp": 1624716823041,
     "user": {
      "displayName": "강은영",
      "photoUrl": "https://lh3.googleusercontent.com/a-/AOh14Gjy66CDAcyXsALCf0rphNoHtH-LG6qhHqqSC2Gbhw=s64",
      "userId": "13345059186417356878"
     },
     "user_tz": -540
    },
    "id": "1FCKTwG5aU19",
    "outputId": "498f8a63-3b5f-4a05-b353-5a82381d092a"
   },
   "outputs": [
    {
     "data": {
      "text/plain": [
       "Series([], Name: 지하철, dtype: int64)"
      ]
     },
     "execution_count": 61,
     "metadata": {},
     "output_type": "execute_result"
    }
   ],
   "source": [
    "subway_null_codes = apps[apps['지하철'].isnull()].단지코드.unique()\n",
    "apps.loc[apps.단지코드.isin(subway_null_codes), '지하철'].value_counts(dropna=False)"
   ]
  },
  {
   "cell_type": "code",
   "execution_count": 62,
   "metadata": {
    "colab": {
     "base_uri": "https://localhost:8080/"
    },
    "executionInfo": {
     "elapsed": 77,
     "status": "ok",
     "timestamp": 1624716823042,
     "user": {
      "displayName": "강은영",
      "photoUrl": "https://lh3.googleusercontent.com/a-/AOh14Gjy66CDAcyXsALCf0rphNoHtH-LG6qhHqqSC2Gbhw=s64",
      "userId": "13345059186417356878"
     },
     "user_tz": -540
    },
    "id": "fY6SpPM3aU1-",
    "outputId": "65c04f4a-7235-4f32-a6ef-50940cb491a0"
   },
   "outputs": [
    {
     "data": {
      "text/plain": [
       "Series([], Name: 버스, dtype: int64)"
      ]
     },
     "execution_count": 62,
     "metadata": {},
     "output_type": "execute_result"
    }
   ],
   "source": [
    "bus_null_codes = apps[apps['버스'].isnull()].단지코드.unique()\n",
    "apps.loc[apps.단지코드.isin(bus_null_codes), '버스'].value_counts(dropna=False)"
   ]
  },
  {
   "cell_type": "markdown",
   "metadata": {
    "id": "wOkQ5bKOaU1-"
   },
   "source": [
    "## 자격유형"
   ]
  },
  {
   "cell_type": "code",
   "execution_count": 63,
   "metadata": {
    "colab": {
     "base_uri": "https://localhost:8080/"
    },
    "executionInfo": {
     "elapsed": 75,
     "status": "ok",
     "timestamp": 1624716823043,
     "user": {
      "displayName": "강은영",
      "photoUrl": "https://lh3.googleusercontent.com/a-/AOh14Gjy66CDAcyXsALCf0rphNoHtH-LG6qhHqqSC2Gbhw=s64",
      "userId": "13345059186417356878"
     },
     "user_tz": -540
    },
    "id": "zwJ_accPaU1_",
    "outputId": "b747bb0d-f138-4627-c961-b09762fe938c"
   },
   "outputs": [
    {
     "data": {
      "text/html": [
       "<div>\n",
       "<style scoped>\n",
       "    .dataframe tbody tr th:only-of-type {\n",
       "        vertical-align: middle;\n",
       "    }\n",
       "\n",
       "    .dataframe tbody tr th {\n",
       "        vertical-align: top;\n",
       "    }\n",
       "\n",
       "    .dataframe thead th {\n",
       "        text-align: right;\n",
       "    }\n",
       "</style>\n",
       "<table border=\"1\" class=\"dataframe\">\n",
       "  <thead>\n",
       "    <tr style=\"text-align: right;\">\n",
       "      <th></th>\n",
       "      <th>단지코드</th>\n",
       "      <th>총세대수</th>\n",
       "      <th>임대건물구분</th>\n",
       "      <th>지역</th>\n",
       "      <th>공급유형</th>\n",
       "      <th>전용면적</th>\n",
       "      <th>전용면적별세대수</th>\n",
       "      <th>공가수</th>\n",
       "      <th>신분</th>\n",
       "      <th>임대보증금</th>\n",
       "      <th>임대료</th>\n",
       "      <th>지하철</th>\n",
       "      <th>버스</th>\n",
       "      <th>단지내주차면수</th>\n",
       "      <th>등록차량수</th>\n",
       "    </tr>\n",
       "  </thead>\n",
       "  <tbody>\n",
       "    <tr>\n",
       "      <th>3141</th>\n",
       "      <td>C2411</td>\n",
       "      <td>962</td>\n",
       "      <td>아파트</td>\n",
       "      <td>경상남도</td>\n",
       "      <td>국민임대</td>\n",
       "      <td>46.90</td>\n",
       "      <td>240</td>\n",
       "      <td>25</td>\n",
       "      <td>NaN</td>\n",
       "      <td>71950000.0</td>\n",
       "      <td>37470.0</td>\n",
       "      <td>0.0</td>\n",
       "      <td>2.0</td>\n",
       "      <td>840</td>\n",
       "      <td>NaN</td>\n",
       "    </tr>\n",
       "    <tr>\n",
       "      <th>3203</th>\n",
       "      <td>C2253</td>\n",
       "      <td>1161</td>\n",
       "      <td>아파트</td>\n",
       "      <td>강원도</td>\n",
       "      <td>영구임대</td>\n",
       "      <td>26.37</td>\n",
       "      <td>745</td>\n",
       "      <td>0</td>\n",
       "      <td>NaN</td>\n",
       "      <td>2249000.0</td>\n",
       "      <td>44770.0</td>\n",
       "      <td>0.0</td>\n",
       "      <td>2.0</td>\n",
       "      <td>173</td>\n",
       "      <td>NaN</td>\n",
       "    </tr>\n",
       "  </tbody>\n",
       "</table>\n",
       "</div>"
      ],
      "text/plain": [
       "       단지코드  총세대수 임대건물구분    지역  공급유형   전용면적  전용면적별세대수  공가수   신분       임대보증금  \\\n",
       "3141  C2411   962    아파트  경상남도  국민임대  46.90       240   25  NaN  71950000.0   \n",
       "3203  C2253  1161    아파트   강원도  영구임대  26.37       745    0  NaN   2249000.0   \n",
       "\n",
       "          임대료  지하철   버스  단지내주차면수  등록차량수  \n",
       "3141  37470.0  0.0  2.0      840    NaN  \n",
       "3203  44770.0  0.0  2.0      173    NaN  "
      ]
     },
     "execution_count": 63,
     "metadata": {},
     "output_type": "execute_result"
    }
   ],
   "source": [
    "apps[apps.신분.isnull()]"
   ]
  },
  {
   "cell_type": "code",
   "execution_count": 64,
   "metadata": {
    "colab": {
     "base_uri": "https://localhost:8080/"
    },
    "executionInfo": {
     "elapsed": 73,
     "status": "ok",
     "timestamp": 1624716823044,
     "user": {
      "displayName": "강은영",
      "photoUrl": "https://lh3.googleusercontent.com/a-/AOh14Gjy66CDAcyXsALCf0rphNoHtH-LG6qhHqqSC2Gbhw=s64",
      "userId": "13345059186417356878"
     },
     "user_tz": -540
    },
    "id": "H_SzMhOuaU2A",
    "outputId": "5668eaed-0f0a-451d-973e-2c3319f342be",
    "scrolled": true
   },
   "outputs": [
    {
     "data": {
      "text/html": [
       "<div>\n",
       "<style scoped>\n",
       "    .dataframe tbody tr th:only-of-type {\n",
       "        vertical-align: middle;\n",
       "    }\n",
       "\n",
       "    .dataframe tbody tr th {\n",
       "        vertical-align: top;\n",
       "    }\n",
       "\n",
       "    .dataframe thead th {\n",
       "        text-align: right;\n",
       "    }\n",
       "</style>\n",
       "<table border=\"1\" class=\"dataframe\">\n",
       "  <thead>\n",
       "    <tr style=\"text-align: right;\">\n",
       "      <th></th>\n",
       "      <th>단지코드</th>\n",
       "      <th>총세대수</th>\n",
       "      <th>임대건물구분</th>\n",
       "      <th>지역</th>\n",
       "      <th>공급유형</th>\n",
       "      <th>전용면적</th>\n",
       "      <th>전용면적별세대수</th>\n",
       "      <th>공가수</th>\n",
       "      <th>신분</th>\n",
       "      <th>임대보증금</th>\n",
       "      <th>임대료</th>\n",
       "      <th>지하철</th>\n",
       "      <th>버스</th>\n",
       "      <th>단지내주차면수</th>\n",
       "      <th>등록차량수</th>\n",
       "    </tr>\n",
       "  </thead>\n",
       "  <tbody>\n",
       "    <tr>\n",
       "      <th>3138</th>\n",
       "      <td>C2411</td>\n",
       "      <td>962</td>\n",
       "      <td>아파트</td>\n",
       "      <td>경상남도</td>\n",
       "      <td>국민임대</td>\n",
       "      <td>39.43</td>\n",
       "      <td>56</td>\n",
       "      <td>25</td>\n",
       "      <td>A</td>\n",
       "      <td>11992000.0</td>\n",
       "      <td>100720.0</td>\n",
       "      <td>0.0</td>\n",
       "      <td>2.0</td>\n",
       "      <td>840</td>\n",
       "      <td>NaN</td>\n",
       "    </tr>\n",
       "    <tr>\n",
       "      <th>3139</th>\n",
       "      <td>C2411</td>\n",
       "      <td>962</td>\n",
       "      <td>아파트</td>\n",
       "      <td>경상남도</td>\n",
       "      <td>국민임대</td>\n",
       "      <td>39.72</td>\n",
       "      <td>336</td>\n",
       "      <td>25</td>\n",
       "      <td>A</td>\n",
       "      <td>11992000.0</td>\n",
       "      <td>100720.0</td>\n",
       "      <td>0.0</td>\n",
       "      <td>2.0</td>\n",
       "      <td>840</td>\n",
       "      <td>NaN</td>\n",
       "    </tr>\n",
       "    <tr>\n",
       "      <th>3140</th>\n",
       "      <td>C2411</td>\n",
       "      <td>962</td>\n",
       "      <td>아파트</td>\n",
       "      <td>경상남도</td>\n",
       "      <td>국민임대</td>\n",
       "      <td>39.82</td>\n",
       "      <td>179</td>\n",
       "      <td>25</td>\n",
       "      <td>A</td>\n",
       "      <td>11992000.0</td>\n",
       "      <td>100720.0</td>\n",
       "      <td>0.0</td>\n",
       "      <td>2.0</td>\n",
       "      <td>840</td>\n",
       "      <td>NaN</td>\n",
       "    </tr>\n",
       "    <tr>\n",
       "      <th>3141</th>\n",
       "      <td>C2411</td>\n",
       "      <td>962</td>\n",
       "      <td>아파트</td>\n",
       "      <td>경상남도</td>\n",
       "      <td>국민임대</td>\n",
       "      <td>46.90</td>\n",
       "      <td>240</td>\n",
       "      <td>25</td>\n",
       "      <td>NaN</td>\n",
       "      <td>71950000.0</td>\n",
       "      <td>37470.0</td>\n",
       "      <td>0.0</td>\n",
       "      <td>2.0</td>\n",
       "      <td>840</td>\n",
       "      <td>NaN</td>\n",
       "    </tr>\n",
       "    <tr>\n",
       "      <th>3142</th>\n",
       "      <td>C2411</td>\n",
       "      <td>962</td>\n",
       "      <td>아파트</td>\n",
       "      <td>경상남도</td>\n",
       "      <td>국민임대</td>\n",
       "      <td>51.93</td>\n",
       "      <td>150</td>\n",
       "      <td>25</td>\n",
       "      <td>A</td>\n",
       "      <td>21586000.0</td>\n",
       "      <td>171480.0</td>\n",
       "      <td>0.0</td>\n",
       "      <td>2.0</td>\n",
       "      <td>840</td>\n",
       "      <td>NaN</td>\n",
       "    </tr>\n",
       "  </tbody>\n",
       "</table>\n",
       "</div>"
      ],
      "text/plain": [
       "       단지코드  총세대수 임대건물구분    지역  공급유형   전용면적  전용면적별세대수  공가수   신분       임대보증금  \\\n",
       "3138  C2411   962    아파트  경상남도  국민임대  39.43        56   25    A  11992000.0   \n",
       "3139  C2411   962    아파트  경상남도  국민임대  39.72       336   25    A  11992000.0   \n",
       "3140  C2411   962    아파트  경상남도  국민임대  39.82       179   25    A  11992000.0   \n",
       "3141  C2411   962    아파트  경상남도  국민임대  46.90       240   25  NaN  71950000.0   \n",
       "3142  C2411   962    아파트  경상남도  국민임대  51.93       150   25    A  21586000.0   \n",
       "\n",
       "           임대료  지하철   버스  단지내주차면수  등록차량수  \n",
       "3138  100720.0  0.0  2.0      840    NaN  \n",
       "3139  100720.0  0.0  2.0      840    NaN  \n",
       "3140  100720.0  0.0  2.0      840    NaN  \n",
       "3141   37470.0  0.0  2.0      840    NaN  \n",
       "3142  171480.0  0.0  2.0      840    NaN  "
      ]
     },
     "execution_count": 64,
     "metadata": {},
     "output_type": "execute_result"
    }
   ],
   "source": [
    "apps[apps.단지코드=='C2411'] "
   ]
  },
  {
   "cell_type": "code",
   "execution_count": 65,
   "metadata": {
    "id": "p33NxbeqaU2B"
   },
   "outputs": [],
   "source": [
    "apps.loc[apps.단지코드.isin(['C2411']) & apps.신분.isnull(), '신분'] = 'A'"
   ]
  },
  {
   "cell_type": "code",
   "execution_count": 66,
   "metadata": {
    "colab": {
     "base_uri": "https://localhost:8080/"
    },
    "executionInfo": {
     "elapsed": 73,
     "status": "ok",
     "timestamp": 1624716823048,
     "user": {
      "displayName": "강은영",
      "photoUrl": "https://lh3.googleusercontent.com/a-/AOh14Gjy66CDAcyXsALCf0rphNoHtH-LG6qhHqqSC2Gbhw=s64",
      "userId": "13345059186417356878"
     },
     "user_tz": -540
    },
    "id": "ybxBEfjPaU2B",
    "outputId": "23e09cae-9f84-41cd-9e7f-0f8e71bbba4c"
   },
   "outputs": [
    {
     "data": {
      "text/html": [
       "<div>\n",
       "<style scoped>\n",
       "    .dataframe tbody tr th:only-of-type {\n",
       "        vertical-align: middle;\n",
       "    }\n",
       "\n",
       "    .dataframe tbody tr th {\n",
       "        vertical-align: top;\n",
       "    }\n",
       "\n",
       "    .dataframe thead th {\n",
       "        text-align: right;\n",
       "    }\n",
       "</style>\n",
       "<table border=\"1\" class=\"dataframe\">\n",
       "  <thead>\n",
       "    <tr style=\"text-align: right;\">\n",
       "      <th></th>\n",
       "      <th>단지코드</th>\n",
       "      <th>총세대수</th>\n",
       "      <th>임대건물구분</th>\n",
       "      <th>지역</th>\n",
       "      <th>공급유형</th>\n",
       "      <th>전용면적</th>\n",
       "      <th>전용면적별세대수</th>\n",
       "      <th>공가수</th>\n",
       "      <th>신분</th>\n",
       "      <th>임대보증금</th>\n",
       "      <th>임대료</th>\n",
       "      <th>지하철</th>\n",
       "      <th>버스</th>\n",
       "      <th>단지내주차면수</th>\n",
       "      <th>등록차량수</th>\n",
       "    </tr>\n",
       "  </thead>\n",
       "  <tbody>\n",
       "    <tr>\n",
       "      <th>3138</th>\n",
       "      <td>C2411</td>\n",
       "      <td>962</td>\n",
       "      <td>아파트</td>\n",
       "      <td>경상남도</td>\n",
       "      <td>국민임대</td>\n",
       "      <td>39.43</td>\n",
       "      <td>56</td>\n",
       "      <td>25</td>\n",
       "      <td>A</td>\n",
       "      <td>11992000.0</td>\n",
       "      <td>100720.0</td>\n",
       "      <td>0.0</td>\n",
       "      <td>2.0</td>\n",
       "      <td>840</td>\n",
       "      <td>NaN</td>\n",
       "    </tr>\n",
       "    <tr>\n",
       "      <th>3139</th>\n",
       "      <td>C2411</td>\n",
       "      <td>962</td>\n",
       "      <td>아파트</td>\n",
       "      <td>경상남도</td>\n",
       "      <td>국민임대</td>\n",
       "      <td>39.72</td>\n",
       "      <td>336</td>\n",
       "      <td>25</td>\n",
       "      <td>A</td>\n",
       "      <td>11992000.0</td>\n",
       "      <td>100720.0</td>\n",
       "      <td>0.0</td>\n",
       "      <td>2.0</td>\n",
       "      <td>840</td>\n",
       "      <td>NaN</td>\n",
       "    </tr>\n",
       "    <tr>\n",
       "      <th>3140</th>\n",
       "      <td>C2411</td>\n",
       "      <td>962</td>\n",
       "      <td>아파트</td>\n",
       "      <td>경상남도</td>\n",
       "      <td>국민임대</td>\n",
       "      <td>39.82</td>\n",
       "      <td>179</td>\n",
       "      <td>25</td>\n",
       "      <td>A</td>\n",
       "      <td>11992000.0</td>\n",
       "      <td>100720.0</td>\n",
       "      <td>0.0</td>\n",
       "      <td>2.0</td>\n",
       "      <td>840</td>\n",
       "      <td>NaN</td>\n",
       "    </tr>\n",
       "    <tr>\n",
       "      <th>3141</th>\n",
       "      <td>C2411</td>\n",
       "      <td>962</td>\n",
       "      <td>아파트</td>\n",
       "      <td>경상남도</td>\n",
       "      <td>국민임대</td>\n",
       "      <td>46.90</td>\n",
       "      <td>240</td>\n",
       "      <td>25</td>\n",
       "      <td>A</td>\n",
       "      <td>71950000.0</td>\n",
       "      <td>37470.0</td>\n",
       "      <td>0.0</td>\n",
       "      <td>2.0</td>\n",
       "      <td>840</td>\n",
       "      <td>NaN</td>\n",
       "    </tr>\n",
       "    <tr>\n",
       "      <th>3142</th>\n",
       "      <td>C2411</td>\n",
       "      <td>962</td>\n",
       "      <td>아파트</td>\n",
       "      <td>경상남도</td>\n",
       "      <td>국민임대</td>\n",
       "      <td>51.93</td>\n",
       "      <td>150</td>\n",
       "      <td>25</td>\n",
       "      <td>A</td>\n",
       "      <td>21586000.0</td>\n",
       "      <td>171480.0</td>\n",
       "      <td>0.0</td>\n",
       "      <td>2.0</td>\n",
       "      <td>840</td>\n",
       "      <td>NaN</td>\n",
       "    </tr>\n",
       "  </tbody>\n",
       "</table>\n",
       "</div>"
      ],
      "text/plain": [
       "       단지코드  총세대수 임대건물구분    지역  공급유형   전용면적  전용면적별세대수  공가수 신분       임대보증금  \\\n",
       "3138  C2411   962    아파트  경상남도  국민임대  39.43        56   25  A  11992000.0   \n",
       "3139  C2411   962    아파트  경상남도  국민임대  39.72       336   25  A  11992000.0   \n",
       "3140  C2411   962    아파트  경상남도  국민임대  39.82       179   25  A  11992000.0   \n",
       "3141  C2411   962    아파트  경상남도  국민임대  46.90       240   25  A  71950000.0   \n",
       "3142  C2411   962    아파트  경상남도  국민임대  51.93       150   25  A  21586000.0   \n",
       "\n",
       "           임대료  지하철   버스  단지내주차면수  등록차량수  \n",
       "3138  100720.0  0.0  2.0      840    NaN  \n",
       "3139  100720.0  0.0  2.0      840    NaN  \n",
       "3140  100720.0  0.0  2.0      840    NaN  \n",
       "3141   37470.0  0.0  2.0      840    NaN  \n",
       "3142  171480.0  0.0  2.0      840    NaN  "
      ]
     },
     "execution_count": 66,
     "metadata": {},
     "output_type": "execute_result"
    }
   ],
   "source": [
    "apps[apps.단지코드=='C2411'] "
   ]
  },
  {
   "cell_type": "code",
   "execution_count": 67,
   "metadata": {
    "colab": {
     "base_uri": "https://localhost:8080/"
    },
    "executionInfo": {
     "elapsed": 72,
     "status": "ok",
     "timestamp": 1624716823049,
     "user": {
      "displayName": "강은영",
      "photoUrl": "https://lh3.googleusercontent.com/a-/AOh14Gjy66CDAcyXsALCf0rphNoHtH-LG6qhHqqSC2Gbhw=s64",
      "userId": "13345059186417356878"
     },
     "user_tz": -540
    },
    "id": "_ZwC0QkaaU2C",
    "outputId": "c0f5ba2b-d109-4e1a-ebd6-3859072029a1",
    "scrolled": true
   },
   "outputs": [
    {
     "data": {
      "text/html": [
       "<div>\n",
       "<style scoped>\n",
       "    .dataframe tbody tr th:only-of-type {\n",
       "        vertical-align: middle;\n",
       "    }\n",
       "\n",
       "    .dataframe tbody tr th {\n",
       "        vertical-align: top;\n",
       "    }\n",
       "\n",
       "    .dataframe thead th {\n",
       "        text-align: right;\n",
       "    }\n",
       "</style>\n",
       "<table border=\"1\" class=\"dataframe\">\n",
       "  <thead>\n",
       "    <tr style=\"text-align: right;\">\n",
       "      <th></th>\n",
       "      <th>단지코드</th>\n",
       "      <th>총세대수</th>\n",
       "      <th>임대건물구분</th>\n",
       "      <th>지역</th>\n",
       "      <th>공급유형</th>\n",
       "      <th>전용면적</th>\n",
       "      <th>전용면적별세대수</th>\n",
       "      <th>공가수</th>\n",
       "      <th>신분</th>\n",
       "      <th>임대보증금</th>\n",
       "      <th>임대료</th>\n",
       "      <th>지하철</th>\n",
       "      <th>버스</th>\n",
       "      <th>단지내주차면수</th>\n",
       "      <th>등록차량수</th>\n",
       "    </tr>\n",
       "  </thead>\n",
       "  <tbody>\n",
       "    <tr>\n",
       "      <th>3203</th>\n",
       "      <td>C2253</td>\n",
       "      <td>1161</td>\n",
       "      <td>아파트</td>\n",
       "      <td>강원도</td>\n",
       "      <td>영구임대</td>\n",
       "      <td>26.37</td>\n",
       "      <td>745</td>\n",
       "      <td>0</td>\n",
       "      <td>NaN</td>\n",
       "      <td>2249000.0</td>\n",
       "      <td>44770.0</td>\n",
       "      <td>0.0</td>\n",
       "      <td>2.0</td>\n",
       "      <td>173</td>\n",
       "      <td>NaN</td>\n",
       "    </tr>\n",
       "    <tr>\n",
       "      <th>3204</th>\n",
       "      <td>C2253</td>\n",
       "      <td>1161</td>\n",
       "      <td>아파트</td>\n",
       "      <td>강원도</td>\n",
       "      <td>영구임대</td>\n",
       "      <td>31.32</td>\n",
       "      <td>239</td>\n",
       "      <td>0</td>\n",
       "      <td>C</td>\n",
       "      <td>3731000.0</td>\n",
       "      <td>83020.0</td>\n",
       "      <td>0.0</td>\n",
       "      <td>2.0</td>\n",
       "      <td>173</td>\n",
       "      <td>NaN</td>\n",
       "    </tr>\n",
       "    <tr>\n",
       "      <th>3205</th>\n",
       "      <td>C2253</td>\n",
       "      <td>1161</td>\n",
       "      <td>아파트</td>\n",
       "      <td>강원도</td>\n",
       "      <td>영구임대</td>\n",
       "      <td>31.32</td>\n",
       "      <td>149</td>\n",
       "      <td>0</td>\n",
       "      <td>C</td>\n",
       "      <td>3731000.0</td>\n",
       "      <td>83020.0</td>\n",
       "      <td>0.0</td>\n",
       "      <td>2.0</td>\n",
       "      <td>173</td>\n",
       "      <td>NaN</td>\n",
       "    </tr>\n",
       "    <tr>\n",
       "      <th>3206</th>\n",
       "      <td>C2253</td>\n",
       "      <td>1161</td>\n",
       "      <td>상가</td>\n",
       "      <td>강원도</td>\n",
       "      <td>임대상가</td>\n",
       "      <td>13.77</td>\n",
       "      <td>1</td>\n",
       "      <td>0</td>\n",
       "      <td>D</td>\n",
       "      <td>NaN</td>\n",
       "      <td>NaN</td>\n",
       "      <td>0.0</td>\n",
       "      <td>2.0</td>\n",
       "      <td>173</td>\n",
       "      <td>NaN</td>\n",
       "    </tr>\n",
       "    <tr>\n",
       "      <th>3207</th>\n",
       "      <td>C2253</td>\n",
       "      <td>1161</td>\n",
       "      <td>상가</td>\n",
       "      <td>강원도</td>\n",
       "      <td>임대상가</td>\n",
       "      <td>22.89</td>\n",
       "      <td>1</td>\n",
       "      <td>0</td>\n",
       "      <td>D</td>\n",
       "      <td>NaN</td>\n",
       "      <td>NaN</td>\n",
       "      <td>0.0</td>\n",
       "      <td>2.0</td>\n",
       "      <td>173</td>\n",
       "      <td>NaN</td>\n",
       "    </tr>\n",
       "  </tbody>\n",
       "</table>\n",
       "</div>"
      ],
      "text/plain": [
       "       단지코드  총세대수 임대건물구분   지역  공급유형   전용면적  전용면적별세대수  공가수   신분      임대보증금  \\\n",
       "3203  C2253  1161    아파트  강원도  영구임대  26.37       745    0  NaN  2249000.0   \n",
       "3204  C2253  1161    아파트  강원도  영구임대  31.32       239    0    C  3731000.0   \n",
       "3205  C2253  1161    아파트  강원도  영구임대  31.32       149    0    C  3731000.0   \n",
       "3206  C2253  1161     상가  강원도  임대상가  13.77         1    0    D        NaN   \n",
       "3207  C2253  1161     상가  강원도  임대상가  22.89         1    0    D        NaN   \n",
       "\n",
       "          임대료  지하철   버스  단지내주차면수  등록차량수  \n",
       "3203  44770.0  0.0  2.0      173    NaN  \n",
       "3204  83020.0  0.0  2.0      173    NaN  \n",
       "3205  83020.0  0.0  2.0      173    NaN  \n",
       "3206      NaN  0.0  2.0      173    NaN  \n",
       "3207      NaN  0.0  2.0      173    NaN  "
      ]
     },
     "execution_count": 67,
     "metadata": {},
     "output_type": "execute_result"
    }
   ],
   "source": [
    "apps[apps.단지코드=='C2253'].head()"
   ]
  },
  {
   "cell_type": "code",
   "execution_count": 68,
   "metadata": {
    "id": "0hYrDus-aU2D"
   },
   "outputs": [],
   "source": [
    "apps.loc[apps.단지코드.isin(['C2253']) & apps.신분.isnull(), '신분'] = 'C'"
   ]
  },
  {
   "cell_type": "code",
   "execution_count": 69,
   "metadata": {
    "colab": {
     "base_uri": "https://localhost:8080/"
    },
    "executionInfo": {
     "elapsed": 82,
     "status": "ok",
     "timestamp": 1624716823974,
     "user": {
      "displayName": "강은영",
      "photoUrl": "https://lh3.googleusercontent.com/a-/AOh14Gjy66CDAcyXsALCf0rphNoHtH-LG6qhHqqSC2Gbhw=s64",
      "userId": "13345059186417356878"
     },
     "user_tz": -540
    },
    "id": "-xC1MxNqaU2D",
    "outputId": "67809b1c-e151-49b8-f86a-fb94210f59b6",
    "scrolled": true
   },
   "outputs": [
    {
     "data": {
      "text/html": [
       "<div>\n",
       "<style scoped>\n",
       "    .dataframe tbody tr th:only-of-type {\n",
       "        vertical-align: middle;\n",
       "    }\n",
       "\n",
       "    .dataframe tbody tr th {\n",
       "        vertical-align: top;\n",
       "    }\n",
       "\n",
       "    .dataframe thead th {\n",
       "        text-align: right;\n",
       "    }\n",
       "</style>\n",
       "<table border=\"1\" class=\"dataframe\">\n",
       "  <thead>\n",
       "    <tr style=\"text-align: right;\">\n",
       "      <th></th>\n",
       "      <th>단지코드</th>\n",
       "      <th>총세대수</th>\n",
       "      <th>임대건물구분</th>\n",
       "      <th>지역</th>\n",
       "      <th>공급유형</th>\n",
       "      <th>전용면적</th>\n",
       "      <th>전용면적별세대수</th>\n",
       "      <th>공가수</th>\n",
       "      <th>신분</th>\n",
       "      <th>임대보증금</th>\n",
       "      <th>임대료</th>\n",
       "      <th>지하철</th>\n",
       "      <th>버스</th>\n",
       "      <th>단지내주차면수</th>\n",
       "      <th>등록차량수</th>\n",
       "    </tr>\n",
       "  </thead>\n",
       "  <tbody>\n",
       "    <tr>\n",
       "      <th>3203</th>\n",
       "      <td>C2253</td>\n",
       "      <td>1161</td>\n",
       "      <td>아파트</td>\n",
       "      <td>강원도</td>\n",
       "      <td>영구임대</td>\n",
       "      <td>26.37</td>\n",
       "      <td>745</td>\n",
       "      <td>0</td>\n",
       "      <td>C</td>\n",
       "      <td>2249000.0</td>\n",
       "      <td>44770.0</td>\n",
       "      <td>0.0</td>\n",
       "      <td>2.0</td>\n",
       "      <td>173</td>\n",
       "      <td>NaN</td>\n",
       "    </tr>\n",
       "    <tr>\n",
       "      <th>3204</th>\n",
       "      <td>C2253</td>\n",
       "      <td>1161</td>\n",
       "      <td>아파트</td>\n",
       "      <td>강원도</td>\n",
       "      <td>영구임대</td>\n",
       "      <td>31.32</td>\n",
       "      <td>239</td>\n",
       "      <td>0</td>\n",
       "      <td>C</td>\n",
       "      <td>3731000.0</td>\n",
       "      <td>83020.0</td>\n",
       "      <td>0.0</td>\n",
       "      <td>2.0</td>\n",
       "      <td>173</td>\n",
       "      <td>NaN</td>\n",
       "    </tr>\n",
       "    <tr>\n",
       "      <th>3205</th>\n",
       "      <td>C2253</td>\n",
       "      <td>1161</td>\n",
       "      <td>아파트</td>\n",
       "      <td>강원도</td>\n",
       "      <td>영구임대</td>\n",
       "      <td>31.32</td>\n",
       "      <td>149</td>\n",
       "      <td>0</td>\n",
       "      <td>C</td>\n",
       "      <td>3731000.0</td>\n",
       "      <td>83020.0</td>\n",
       "      <td>0.0</td>\n",
       "      <td>2.0</td>\n",
       "      <td>173</td>\n",
       "      <td>NaN</td>\n",
       "    </tr>\n",
       "    <tr>\n",
       "      <th>3206</th>\n",
       "      <td>C2253</td>\n",
       "      <td>1161</td>\n",
       "      <td>상가</td>\n",
       "      <td>강원도</td>\n",
       "      <td>임대상가</td>\n",
       "      <td>13.77</td>\n",
       "      <td>1</td>\n",
       "      <td>0</td>\n",
       "      <td>D</td>\n",
       "      <td>NaN</td>\n",
       "      <td>NaN</td>\n",
       "      <td>0.0</td>\n",
       "      <td>2.0</td>\n",
       "      <td>173</td>\n",
       "      <td>NaN</td>\n",
       "    </tr>\n",
       "    <tr>\n",
       "      <th>3207</th>\n",
       "      <td>C2253</td>\n",
       "      <td>1161</td>\n",
       "      <td>상가</td>\n",
       "      <td>강원도</td>\n",
       "      <td>임대상가</td>\n",
       "      <td>22.89</td>\n",
       "      <td>1</td>\n",
       "      <td>0</td>\n",
       "      <td>D</td>\n",
       "      <td>NaN</td>\n",
       "      <td>NaN</td>\n",
       "      <td>0.0</td>\n",
       "      <td>2.0</td>\n",
       "      <td>173</td>\n",
       "      <td>NaN</td>\n",
       "    </tr>\n",
       "  </tbody>\n",
       "</table>\n",
       "</div>"
      ],
      "text/plain": [
       "       단지코드  총세대수 임대건물구분   지역  공급유형   전용면적  전용면적별세대수  공가수 신분      임대보증금  \\\n",
       "3203  C2253  1161    아파트  강원도  영구임대  26.37       745    0  C  2249000.0   \n",
       "3204  C2253  1161    아파트  강원도  영구임대  31.32       239    0  C  3731000.0   \n",
       "3205  C2253  1161    아파트  강원도  영구임대  31.32       149    0  C  3731000.0   \n",
       "3206  C2253  1161     상가  강원도  임대상가  13.77         1    0  D        NaN   \n",
       "3207  C2253  1161     상가  강원도  임대상가  22.89         1    0  D        NaN   \n",
       "\n",
       "          임대료  지하철   버스  단지내주차면수  등록차량수  \n",
       "3203  44770.0  0.0  2.0      173    NaN  \n",
       "3204  83020.0  0.0  2.0      173    NaN  \n",
       "3205  83020.0  0.0  2.0      173    NaN  \n",
       "3206      NaN  0.0  2.0      173    NaN  \n",
       "3207      NaN  0.0  2.0      173    NaN  "
      ]
     },
     "execution_count": 69,
     "metadata": {},
     "output_type": "execute_result"
    }
   ],
   "source": [
    "apps[apps.단지코드=='C2253'].head()"
   ]
  },
  {
   "cell_type": "markdown",
   "metadata": {},
   "source": [
    "## 컬럼추가"
   ]
  },
  {
   "cell_type": "markdown",
   "metadata": {},
   "source": [
    "### 총세대별주차면수"
   ]
  },
  {
   "cell_type": "code",
   "execution_count": 70,
   "metadata": {},
   "outputs": [],
   "source": [
    "# apps['총세대별주차면수']=apps['단지내주차면수'] / apps['총세대수']"
   ]
  },
  {
   "cell_type": "code",
   "execution_count": 71,
   "metadata": {},
   "outputs": [],
   "source": [
    "# apps"
   ]
  },
  {
   "cell_type": "markdown",
   "metadata": {},
   "source": [
    "### 총세대별등록차량수"
   ]
  },
  {
   "cell_type": "code",
   "execution_count": 72,
   "metadata": {},
   "outputs": [],
   "source": [
    "# apps['총세대별등록차량수']=apps['단지내주차면수'] / apps['등록차량수']"
   ]
  },
  {
   "cell_type": "code",
   "execution_count": 73,
   "metadata": {},
   "outputs": [],
   "source": [
    "# apps"
   ]
  },
  {
   "cell_type": "markdown",
   "metadata": {},
   "source": [
    "## 상가데이터 drop\n",
    "- 상가 입주민은 주차 공간을 주지않는다."
   ]
  },
  {
   "cell_type": "code",
   "execution_count": 74,
   "metadata": {},
   "outputs": [],
   "source": [
    "apps.drop(apps.loc[apps['임대건물구분']== '상가'].index, inplace=True)"
   ]
  },
  {
   "cell_type": "code",
   "execution_count": 75,
   "metadata": {},
   "outputs": [
    {
     "data": {
      "text/html": [
       "<div>\n",
       "<style scoped>\n",
       "    .dataframe tbody tr th:only-of-type {\n",
       "        vertical-align: middle;\n",
       "    }\n",
       "\n",
       "    .dataframe tbody tr th {\n",
       "        vertical-align: top;\n",
       "    }\n",
       "\n",
       "    .dataframe thead th {\n",
       "        text-align: right;\n",
       "    }\n",
       "</style>\n",
       "<table border=\"1\" class=\"dataframe\">\n",
       "  <thead>\n",
       "    <tr style=\"text-align: right;\">\n",
       "      <th></th>\n",
       "      <th>단지코드</th>\n",
       "      <th>총세대수</th>\n",
       "      <th>임대건물구분</th>\n",
       "      <th>지역</th>\n",
       "      <th>공급유형</th>\n",
       "      <th>전용면적</th>\n",
       "      <th>전용면적별세대수</th>\n",
       "      <th>공가수</th>\n",
       "      <th>신분</th>\n",
       "      <th>임대보증금</th>\n",
       "      <th>임대료</th>\n",
       "      <th>지하철</th>\n",
       "      <th>버스</th>\n",
       "      <th>단지내주차면수</th>\n",
       "      <th>등록차량수</th>\n",
       "    </tr>\n",
       "  </thead>\n",
       "  <tbody>\n",
       "    <tr>\n",
       "      <th>0</th>\n",
       "      <td>C2483</td>\n",
       "      <td>900</td>\n",
       "      <td>아파트</td>\n",
       "      <td>경상북도</td>\n",
       "      <td>국민임대</td>\n",
       "      <td>39.72</td>\n",
       "      <td>134</td>\n",
       "      <td>38</td>\n",
       "      <td>A</td>\n",
       "      <td>15667000.0</td>\n",
       "      <td>103680.0</td>\n",
       "      <td>0.0</td>\n",
       "      <td>3.0</td>\n",
       "      <td>1425</td>\n",
       "      <td>1015.0</td>\n",
       "    </tr>\n",
       "    <tr>\n",
       "      <th>1</th>\n",
       "      <td>C2483</td>\n",
       "      <td>900</td>\n",
       "      <td>아파트</td>\n",
       "      <td>경상북도</td>\n",
       "      <td>국민임대</td>\n",
       "      <td>39.72</td>\n",
       "      <td>15</td>\n",
       "      <td>38</td>\n",
       "      <td>A</td>\n",
       "      <td>15667000.0</td>\n",
       "      <td>103680.0</td>\n",
       "      <td>0.0</td>\n",
       "      <td>3.0</td>\n",
       "      <td>1425</td>\n",
       "      <td>1015.0</td>\n",
       "    </tr>\n",
       "    <tr>\n",
       "      <th>2</th>\n",
       "      <td>C2483</td>\n",
       "      <td>900</td>\n",
       "      <td>아파트</td>\n",
       "      <td>경상북도</td>\n",
       "      <td>국민임대</td>\n",
       "      <td>51.93</td>\n",
       "      <td>385</td>\n",
       "      <td>38</td>\n",
       "      <td>A</td>\n",
       "      <td>27304000.0</td>\n",
       "      <td>184330.0</td>\n",
       "      <td>0.0</td>\n",
       "      <td>3.0</td>\n",
       "      <td>1425</td>\n",
       "      <td>1015.0</td>\n",
       "    </tr>\n",
       "    <tr>\n",
       "      <th>3</th>\n",
       "      <td>C2483</td>\n",
       "      <td>900</td>\n",
       "      <td>아파트</td>\n",
       "      <td>경상북도</td>\n",
       "      <td>국민임대</td>\n",
       "      <td>51.93</td>\n",
       "      <td>15</td>\n",
       "      <td>38</td>\n",
       "      <td>A</td>\n",
       "      <td>27304000.0</td>\n",
       "      <td>184330.0</td>\n",
       "      <td>0.0</td>\n",
       "      <td>3.0</td>\n",
       "      <td>1425</td>\n",
       "      <td>1015.0</td>\n",
       "    </tr>\n",
       "    <tr>\n",
       "      <th>4</th>\n",
       "      <td>C2483</td>\n",
       "      <td>900</td>\n",
       "      <td>아파트</td>\n",
       "      <td>경상북도</td>\n",
       "      <td>국민임대</td>\n",
       "      <td>51.93</td>\n",
       "      <td>41</td>\n",
       "      <td>38</td>\n",
       "      <td>A</td>\n",
       "      <td>27304000.0</td>\n",
       "      <td>184330.0</td>\n",
       "      <td>0.0</td>\n",
       "      <td>3.0</td>\n",
       "      <td>1425</td>\n",
       "      <td>1015.0</td>\n",
       "    </tr>\n",
       "    <tr>\n",
       "      <th>...</th>\n",
       "      <td>...</td>\n",
       "      <td>...</td>\n",
       "      <td>...</td>\n",
       "      <td>...</td>\n",
       "      <td>...</td>\n",
       "      <td>...</td>\n",
       "      <td>...</td>\n",
       "      <td>...</td>\n",
       "      <td>...</td>\n",
       "      <td>...</td>\n",
       "      <td>...</td>\n",
       "      <td>...</td>\n",
       "      <td>...</td>\n",
       "      <td>...</td>\n",
       "      <td>...</td>\n",
       "    </tr>\n",
       "    <tr>\n",
       "      <th>3962</th>\n",
       "      <td>C1267</td>\n",
       "      <td>675</td>\n",
       "      <td>아파트</td>\n",
       "      <td>경상남도</td>\n",
       "      <td>행복주택</td>\n",
       "      <td>36.77</td>\n",
       "      <td>126</td>\n",
       "      <td>38</td>\n",
       "      <td>L</td>\n",
       "      <td>0.0</td>\n",
       "      <td>0.0</td>\n",
       "      <td>0.0</td>\n",
       "      <td>1.0</td>\n",
       "      <td>467</td>\n",
       "      <td>NaN</td>\n",
       "    </tr>\n",
       "    <tr>\n",
       "      <th>3963</th>\n",
       "      <td>C2189</td>\n",
       "      <td>382</td>\n",
       "      <td>아파트</td>\n",
       "      <td>전라북도</td>\n",
       "      <td>국민임대</td>\n",
       "      <td>29.19</td>\n",
       "      <td>96</td>\n",
       "      <td>45</td>\n",
       "      <td>H</td>\n",
       "      <td>6872000.0</td>\n",
       "      <td>106400.0</td>\n",
       "      <td>0.0</td>\n",
       "      <td>2.0</td>\n",
       "      <td>300</td>\n",
       "      <td>NaN</td>\n",
       "    </tr>\n",
       "    <tr>\n",
       "      <th>3964</th>\n",
       "      <td>C2189</td>\n",
       "      <td>382</td>\n",
       "      <td>아파트</td>\n",
       "      <td>전라북도</td>\n",
       "      <td>국민임대</td>\n",
       "      <td>29.19</td>\n",
       "      <td>20</td>\n",
       "      <td>45</td>\n",
       "      <td>H</td>\n",
       "      <td>6872000.0</td>\n",
       "      <td>106400.0</td>\n",
       "      <td>0.0</td>\n",
       "      <td>2.0</td>\n",
       "      <td>300</td>\n",
       "      <td>NaN</td>\n",
       "    </tr>\n",
       "    <tr>\n",
       "      <th>3965</th>\n",
       "      <td>C2189</td>\n",
       "      <td>382</td>\n",
       "      <td>아파트</td>\n",
       "      <td>전라북도</td>\n",
       "      <td>국민임대</td>\n",
       "      <td>39.45</td>\n",
       "      <td>202</td>\n",
       "      <td>45</td>\n",
       "      <td>H</td>\n",
       "      <td>13410000.0</td>\n",
       "      <td>144600.0</td>\n",
       "      <td>0.0</td>\n",
       "      <td>2.0</td>\n",
       "      <td>300</td>\n",
       "      <td>NaN</td>\n",
       "    </tr>\n",
       "    <tr>\n",
       "      <th>3966</th>\n",
       "      <td>C2189</td>\n",
       "      <td>382</td>\n",
       "      <td>아파트</td>\n",
       "      <td>전라북도</td>\n",
       "      <td>국민임대</td>\n",
       "      <td>46.23</td>\n",
       "      <td>60</td>\n",
       "      <td>45</td>\n",
       "      <td>H</td>\n",
       "      <td>18689000.0</td>\n",
       "      <td>166500.0</td>\n",
       "      <td>0.0</td>\n",
       "      <td>2.0</td>\n",
       "      <td>300</td>\n",
       "      <td>NaN</td>\n",
       "    </tr>\n",
       "  </tbody>\n",
       "</table>\n",
       "<p>3228 rows × 15 columns</p>\n",
       "</div>"
      ],
      "text/plain": [
       "       단지코드  총세대수 임대건물구분    지역  공급유형   전용면적  전용면적별세대수  공가수 신분       임대보증금  \\\n",
       "0     C2483   900    아파트  경상북도  국민임대  39.72       134   38  A  15667000.0   \n",
       "1     C2483   900    아파트  경상북도  국민임대  39.72        15   38  A  15667000.0   \n",
       "2     C2483   900    아파트  경상북도  국민임대  51.93       385   38  A  27304000.0   \n",
       "3     C2483   900    아파트  경상북도  국민임대  51.93        15   38  A  27304000.0   \n",
       "4     C2483   900    아파트  경상북도  국민임대  51.93        41   38  A  27304000.0   \n",
       "...     ...   ...    ...   ...   ...    ...       ...  ... ..         ...   \n",
       "3962  C1267   675    아파트  경상남도  행복주택  36.77       126   38  L         0.0   \n",
       "3963  C2189   382    아파트  전라북도  국민임대  29.19        96   45  H   6872000.0   \n",
       "3964  C2189   382    아파트  전라북도  국민임대  29.19        20   45  H   6872000.0   \n",
       "3965  C2189   382    아파트  전라북도  국민임대  39.45       202   45  H  13410000.0   \n",
       "3966  C2189   382    아파트  전라북도  국민임대  46.23        60   45  H  18689000.0   \n",
       "\n",
       "           임대료  지하철   버스  단지내주차면수   등록차량수  \n",
       "0     103680.0  0.0  3.0     1425  1015.0  \n",
       "1     103680.0  0.0  3.0     1425  1015.0  \n",
       "2     184330.0  0.0  3.0     1425  1015.0  \n",
       "3     184330.0  0.0  3.0     1425  1015.0  \n",
       "4     184330.0  0.0  3.0     1425  1015.0  \n",
       "...        ...  ...  ...      ...     ...  \n",
       "3962       0.0  0.0  1.0      467     NaN  \n",
       "3963  106400.0  0.0  2.0      300     NaN  \n",
       "3964  106400.0  0.0  2.0      300     NaN  \n",
       "3965  144600.0  0.0  2.0      300     NaN  \n",
       "3966  166500.0  0.0  2.0      300     NaN  \n",
       "\n",
       "[3228 rows x 15 columns]"
      ]
     },
     "execution_count": 75,
     "metadata": {},
     "output_type": "execute_result"
    }
   ],
   "source": [
    "apps"
   ]
  },
  {
   "cell_type": "code",
   "execution_count": 76,
   "metadata": {
    "scrolled": true
   },
   "outputs": [
    {
     "data": {
      "text/html": [
       "<div>\n",
       "<style scoped>\n",
       "    .dataframe tbody tr th:only-of-type {\n",
       "        vertical-align: middle;\n",
       "    }\n",
       "\n",
       "    .dataframe tbody tr th {\n",
       "        vertical-align: top;\n",
       "    }\n",
       "\n",
       "    .dataframe thead th {\n",
       "        text-align: right;\n",
       "    }\n",
       "</style>\n",
       "<table border=\"1\" class=\"dataframe\">\n",
       "  <thead>\n",
       "    <tr style=\"text-align: right;\">\n",
       "      <th></th>\n",
       "      <th>단지코드</th>\n",
       "      <th>총세대수</th>\n",
       "      <th>임대건물구분</th>\n",
       "      <th>지역</th>\n",
       "      <th>공급유형</th>\n",
       "      <th>전용면적</th>\n",
       "      <th>전용면적별세대수</th>\n",
       "      <th>공가수</th>\n",
       "      <th>신분</th>\n",
       "      <th>임대보증금</th>\n",
       "      <th>임대료</th>\n",
       "      <th>지하철</th>\n",
       "      <th>버스</th>\n",
       "      <th>단지내주차면수</th>\n",
       "      <th>등록차량수</th>\n",
       "    </tr>\n",
       "  </thead>\n",
       "  <tbody>\n",
       "    <tr>\n",
       "      <th>0</th>\n",
       "      <td>C2483</td>\n",
       "      <td>900</td>\n",
       "      <td>아파트</td>\n",
       "      <td>경상북도</td>\n",
       "      <td>국민임대</td>\n",
       "      <td>39.72</td>\n",
       "      <td>134</td>\n",
       "      <td>38</td>\n",
       "      <td>A</td>\n",
       "      <td>15667000.0</td>\n",
       "      <td>103680.0</td>\n",
       "      <td>0.0</td>\n",
       "      <td>3.0</td>\n",
       "      <td>1425</td>\n",
       "      <td>1015.0</td>\n",
       "    </tr>\n",
       "    <tr>\n",
       "      <th>1</th>\n",
       "      <td>C2483</td>\n",
       "      <td>900</td>\n",
       "      <td>아파트</td>\n",
       "      <td>경상북도</td>\n",
       "      <td>국민임대</td>\n",
       "      <td>39.72</td>\n",
       "      <td>15</td>\n",
       "      <td>38</td>\n",
       "      <td>A</td>\n",
       "      <td>15667000.0</td>\n",
       "      <td>103680.0</td>\n",
       "      <td>0.0</td>\n",
       "      <td>3.0</td>\n",
       "      <td>1425</td>\n",
       "      <td>1015.0</td>\n",
       "    </tr>\n",
       "    <tr>\n",
       "      <th>2</th>\n",
       "      <td>C2483</td>\n",
       "      <td>900</td>\n",
       "      <td>아파트</td>\n",
       "      <td>경상북도</td>\n",
       "      <td>국민임대</td>\n",
       "      <td>51.93</td>\n",
       "      <td>385</td>\n",
       "      <td>38</td>\n",
       "      <td>A</td>\n",
       "      <td>27304000.0</td>\n",
       "      <td>184330.0</td>\n",
       "      <td>0.0</td>\n",
       "      <td>3.0</td>\n",
       "      <td>1425</td>\n",
       "      <td>1015.0</td>\n",
       "    </tr>\n",
       "    <tr>\n",
       "      <th>3</th>\n",
       "      <td>C2483</td>\n",
       "      <td>900</td>\n",
       "      <td>아파트</td>\n",
       "      <td>경상북도</td>\n",
       "      <td>국민임대</td>\n",
       "      <td>51.93</td>\n",
       "      <td>15</td>\n",
       "      <td>38</td>\n",
       "      <td>A</td>\n",
       "      <td>27304000.0</td>\n",
       "      <td>184330.0</td>\n",
       "      <td>0.0</td>\n",
       "      <td>3.0</td>\n",
       "      <td>1425</td>\n",
       "      <td>1015.0</td>\n",
       "    </tr>\n",
       "    <tr>\n",
       "      <th>4</th>\n",
       "      <td>C2483</td>\n",
       "      <td>900</td>\n",
       "      <td>아파트</td>\n",
       "      <td>경상북도</td>\n",
       "      <td>국민임대</td>\n",
       "      <td>51.93</td>\n",
       "      <td>41</td>\n",
       "      <td>38</td>\n",
       "      <td>A</td>\n",
       "      <td>27304000.0</td>\n",
       "      <td>184330.0</td>\n",
       "      <td>0.0</td>\n",
       "      <td>3.0</td>\n",
       "      <td>1425</td>\n",
       "      <td>1015.0</td>\n",
       "    </tr>\n",
       "    <tr>\n",
       "      <th>...</th>\n",
       "      <td>...</td>\n",
       "      <td>...</td>\n",
       "      <td>...</td>\n",
       "      <td>...</td>\n",
       "      <td>...</td>\n",
       "      <td>...</td>\n",
       "      <td>...</td>\n",
       "      <td>...</td>\n",
       "      <td>...</td>\n",
       "      <td>...</td>\n",
       "      <td>...</td>\n",
       "      <td>...</td>\n",
       "      <td>...</td>\n",
       "      <td>...</td>\n",
       "      <td>...</td>\n",
       "    </tr>\n",
       "    <tr>\n",
       "      <th>3962</th>\n",
       "      <td>C1267</td>\n",
       "      <td>675</td>\n",
       "      <td>아파트</td>\n",
       "      <td>경상남도</td>\n",
       "      <td>행복주택</td>\n",
       "      <td>36.77</td>\n",
       "      <td>126</td>\n",
       "      <td>38</td>\n",
       "      <td>L</td>\n",
       "      <td>0.0</td>\n",
       "      <td>0.0</td>\n",
       "      <td>0.0</td>\n",
       "      <td>1.0</td>\n",
       "      <td>467</td>\n",
       "      <td>NaN</td>\n",
       "    </tr>\n",
       "    <tr>\n",
       "      <th>3963</th>\n",
       "      <td>C2189</td>\n",
       "      <td>382</td>\n",
       "      <td>아파트</td>\n",
       "      <td>전라북도</td>\n",
       "      <td>국민임대</td>\n",
       "      <td>29.19</td>\n",
       "      <td>96</td>\n",
       "      <td>45</td>\n",
       "      <td>H</td>\n",
       "      <td>6872000.0</td>\n",
       "      <td>106400.0</td>\n",
       "      <td>0.0</td>\n",
       "      <td>2.0</td>\n",
       "      <td>300</td>\n",
       "      <td>NaN</td>\n",
       "    </tr>\n",
       "    <tr>\n",
       "      <th>3964</th>\n",
       "      <td>C2189</td>\n",
       "      <td>382</td>\n",
       "      <td>아파트</td>\n",
       "      <td>전라북도</td>\n",
       "      <td>국민임대</td>\n",
       "      <td>29.19</td>\n",
       "      <td>20</td>\n",
       "      <td>45</td>\n",
       "      <td>H</td>\n",
       "      <td>6872000.0</td>\n",
       "      <td>106400.0</td>\n",
       "      <td>0.0</td>\n",
       "      <td>2.0</td>\n",
       "      <td>300</td>\n",
       "      <td>NaN</td>\n",
       "    </tr>\n",
       "    <tr>\n",
       "      <th>3965</th>\n",
       "      <td>C2189</td>\n",
       "      <td>382</td>\n",
       "      <td>아파트</td>\n",
       "      <td>전라북도</td>\n",
       "      <td>국민임대</td>\n",
       "      <td>39.45</td>\n",
       "      <td>202</td>\n",
       "      <td>45</td>\n",
       "      <td>H</td>\n",
       "      <td>13410000.0</td>\n",
       "      <td>144600.0</td>\n",
       "      <td>0.0</td>\n",
       "      <td>2.0</td>\n",
       "      <td>300</td>\n",
       "      <td>NaN</td>\n",
       "    </tr>\n",
       "    <tr>\n",
       "      <th>3966</th>\n",
       "      <td>C2189</td>\n",
       "      <td>382</td>\n",
       "      <td>아파트</td>\n",
       "      <td>전라북도</td>\n",
       "      <td>국민임대</td>\n",
       "      <td>46.23</td>\n",
       "      <td>60</td>\n",
       "      <td>45</td>\n",
       "      <td>H</td>\n",
       "      <td>18689000.0</td>\n",
       "      <td>166500.0</td>\n",
       "      <td>0.0</td>\n",
       "      <td>2.0</td>\n",
       "      <td>300</td>\n",
       "      <td>NaN</td>\n",
       "    </tr>\n",
       "  </tbody>\n",
       "</table>\n",
       "<p>3228 rows × 15 columns</p>\n",
       "</div>"
      ],
      "text/plain": [
       "       단지코드  총세대수 임대건물구분    지역  공급유형   전용면적  전용면적별세대수  공가수 신분       임대보증금  \\\n",
       "0     C2483   900    아파트  경상북도  국민임대  39.72       134   38  A  15667000.0   \n",
       "1     C2483   900    아파트  경상북도  국민임대  39.72        15   38  A  15667000.0   \n",
       "2     C2483   900    아파트  경상북도  국민임대  51.93       385   38  A  27304000.0   \n",
       "3     C2483   900    아파트  경상북도  국민임대  51.93        15   38  A  27304000.0   \n",
       "4     C2483   900    아파트  경상북도  국민임대  51.93        41   38  A  27304000.0   \n",
       "...     ...   ...    ...   ...   ...    ...       ...  ... ..         ...   \n",
       "3962  C1267   675    아파트  경상남도  행복주택  36.77       126   38  L         0.0   \n",
       "3963  C2189   382    아파트  전라북도  국민임대  29.19        96   45  H   6872000.0   \n",
       "3964  C2189   382    아파트  전라북도  국민임대  29.19        20   45  H   6872000.0   \n",
       "3965  C2189   382    아파트  전라북도  국민임대  39.45       202   45  H  13410000.0   \n",
       "3966  C2189   382    아파트  전라북도  국민임대  46.23        60   45  H  18689000.0   \n",
       "\n",
       "           임대료  지하철   버스  단지내주차면수   등록차량수  \n",
       "0     103680.0  0.0  3.0     1425  1015.0  \n",
       "1     103680.0  0.0  3.0     1425  1015.0  \n",
       "2     184330.0  0.0  3.0     1425  1015.0  \n",
       "3     184330.0  0.0  3.0     1425  1015.0  \n",
       "4     184330.0  0.0  3.0     1425  1015.0  \n",
       "...        ...  ...  ...      ...     ...  \n",
       "3962       0.0  0.0  1.0      467     NaN  \n",
       "3963  106400.0  0.0  2.0      300     NaN  \n",
       "3964  106400.0  0.0  2.0      300     NaN  \n",
       "3965  144600.0  0.0  2.0      300     NaN  \n",
       "3966  166500.0  0.0  2.0      300     NaN  \n",
       "\n",
       "[3228 rows x 15 columns]"
      ]
     },
     "execution_count": 76,
     "metadata": {},
     "output_type": "execute_result"
    }
   ],
   "source": [
    "apps.loc[apps['임대건물구분']== '아파트']"
   ]
  },
  {
   "cell_type": "markdown",
   "metadata": {},
   "source": [
    "# 이상치 처리"
   ]
  },
  {
   "cell_type": "markdown",
   "metadata": {
    "id": "wpQAlsDPaU2J"
   },
   "source": [
    "#### 임대료 임대보증금"
   ]
  },
  {
   "cell_type": "code",
   "execution_count": 77,
   "metadata": {
    "colab": {
     "base_uri": "https://localhost:8080/"
    },
    "executionInfo": {
     "elapsed": 72,
     "status": "ok",
     "timestamp": 1624716823986,
     "user": {
      "displayName": "강은영",
      "photoUrl": "https://lh3.googleusercontent.com/a-/AOh14Gjy66CDAcyXsALCf0rphNoHtH-LG6qhHqqSC2Gbhw=s64",
      "userId": "13345059186417356878"
     },
     "user_tz": -540
    },
    "id": "b9Uo38waaU2J",
    "outputId": "b6d86aad-95f4-4ada-eafe-4c3944f08a01",
    "scrolled": true
   },
   "outputs": [
    {
     "data": {
      "text/html": [
       "<div>\n",
       "<style scoped>\n",
       "    .dataframe tbody tr th:only-of-type {\n",
       "        vertical-align: middle;\n",
       "    }\n",
       "\n",
       "    .dataframe tbody tr th {\n",
       "        vertical-align: top;\n",
       "    }\n",
       "\n",
       "    .dataframe thead th {\n",
       "        text-align: right;\n",
       "    }\n",
       "</style>\n",
       "<table border=\"1\" class=\"dataframe\">\n",
       "  <thead>\n",
       "    <tr style=\"text-align: right;\">\n",
       "      <th></th>\n",
       "      <th>단지코드</th>\n",
       "      <th>총세대수</th>\n",
       "      <th>임대건물구분</th>\n",
       "      <th>지역</th>\n",
       "      <th>공급유형</th>\n",
       "      <th>전용면적</th>\n",
       "      <th>전용면적별세대수</th>\n",
       "      <th>공가수</th>\n",
       "      <th>신분</th>\n",
       "      <th>임대보증금</th>\n",
       "      <th>임대료</th>\n",
       "      <th>지하철</th>\n",
       "      <th>버스</th>\n",
       "      <th>단지내주차면수</th>\n",
       "      <th>등록차량수</th>\n",
       "    </tr>\n",
       "  </thead>\n",
       "  <tbody>\n",
       "    <tr>\n",
       "      <th>3021</th>\n",
       "      <td>C1006</td>\n",
       "      <td>1505</td>\n",
       "      <td>아파트</td>\n",
       "      <td>대전광역시</td>\n",
       "      <td>영구임대</td>\n",
       "      <td>26.37</td>\n",
       "      <td>10</td>\n",
       "      <td>27</td>\n",
       "      <td>D</td>\n",
       "      <td>NaN</td>\n",
       "      <td>NaN</td>\n",
       "      <td>2.0</td>\n",
       "      <td>5.0</td>\n",
       "      <td>428</td>\n",
       "      <td>NaN</td>\n",
       "    </tr>\n",
       "    <tr>\n",
       "      <th>3022</th>\n",
       "      <td>C1006</td>\n",
       "      <td>1505</td>\n",
       "      <td>아파트</td>\n",
       "      <td>대전광역시</td>\n",
       "      <td>영구임대</td>\n",
       "      <td>26.37</td>\n",
       "      <td>10</td>\n",
       "      <td>27</td>\n",
       "      <td>D</td>\n",
       "      <td>NaN</td>\n",
       "      <td>NaN</td>\n",
       "      <td>2.0</td>\n",
       "      <td>5.0</td>\n",
       "      <td>428</td>\n",
       "      <td>NaN</td>\n",
       "    </tr>\n",
       "    <tr>\n",
       "      <th>3024</th>\n",
       "      <td>C1006</td>\n",
       "      <td>1505</td>\n",
       "      <td>아파트</td>\n",
       "      <td>대전광역시</td>\n",
       "      <td>영구임대</td>\n",
       "      <td>52.74</td>\n",
       "      <td>6</td>\n",
       "      <td>27</td>\n",
       "      <td>D</td>\n",
       "      <td>NaN</td>\n",
       "      <td>NaN</td>\n",
       "      <td>2.0</td>\n",
       "      <td>5.0</td>\n",
       "      <td>428</td>\n",
       "      <td>NaN</td>\n",
       "    </tr>\n",
       "  </tbody>\n",
       "</table>\n",
       "</div>"
      ],
      "text/plain": [
       "       단지코드  총세대수 임대건물구분     지역  공급유형   전용면적  전용면적별세대수  공가수 신분  임대보증금  임대료  \\\n",
       "3021  C1006  1505    아파트  대전광역시  영구임대  26.37        10   27  D    NaN  NaN   \n",
       "3022  C1006  1505    아파트  대전광역시  영구임대  26.37        10   27  D    NaN  NaN   \n",
       "3024  C1006  1505    아파트  대전광역시  영구임대  52.74         6   27  D    NaN  NaN   \n",
       "\n",
       "      지하철   버스  단지내주차면수  등록차량수  \n",
       "3021  2.0  5.0      428    NaN  \n",
       "3022  2.0  5.0      428    NaN  \n",
       "3024  2.0  5.0      428    NaN  "
      ]
     },
     "execution_count": 77,
     "metadata": {},
     "output_type": "execute_result"
    }
   ],
   "source": [
    "apps[apps['임대보증금'].isna()]"
   ]
  },
  {
   "cell_type": "code",
   "execution_count": 78,
   "metadata": {
    "colab": {
     "base_uri": "https://localhost:8080/"
    },
    "executionInfo": {
     "elapsed": 70,
     "status": "ok",
     "timestamp": 1624716823988,
     "user": {
      "displayName": "강은영",
      "photoUrl": "https://lh3.googleusercontent.com/a-/AOh14Gjy66CDAcyXsALCf0rphNoHtH-LG6qhHqqSC2Gbhw=s64",
      "userId": "13345059186417356878"
     },
     "user_tz": -540
    },
    "id": "pClJvvtlaU2K",
    "outputId": "5bd1f6a0-3b47-4ddc-f3e2-ccfbfa3665ab",
    "scrolled": true
   },
   "outputs": [
    {
     "data": {
      "text/html": [
       "<div>\n",
       "<style scoped>\n",
       "    .dataframe tbody tr th:only-of-type {\n",
       "        vertical-align: middle;\n",
       "    }\n",
       "\n",
       "    .dataframe tbody tr th {\n",
       "        vertical-align: top;\n",
       "    }\n",
       "\n",
       "    .dataframe thead th {\n",
       "        text-align: right;\n",
       "    }\n",
       "</style>\n",
       "<table border=\"1\" class=\"dataframe\">\n",
       "  <thead>\n",
       "    <tr style=\"text-align: right;\">\n",
       "      <th></th>\n",
       "      <th>단지코드</th>\n",
       "      <th>총세대수</th>\n",
       "      <th>임대건물구분</th>\n",
       "      <th>지역</th>\n",
       "      <th>공급유형</th>\n",
       "      <th>전용면적</th>\n",
       "      <th>전용면적별세대수</th>\n",
       "      <th>공가수</th>\n",
       "      <th>신분</th>\n",
       "      <th>임대보증금</th>\n",
       "      <th>임대료</th>\n",
       "      <th>지하철</th>\n",
       "      <th>버스</th>\n",
       "      <th>단지내주차면수</th>\n",
       "      <th>등록차량수</th>\n",
       "    </tr>\n",
       "  </thead>\n",
       "  <tbody>\n",
       "    <tr>\n",
       "      <th>3021</th>\n",
       "      <td>C1006</td>\n",
       "      <td>1505</td>\n",
       "      <td>아파트</td>\n",
       "      <td>대전광역시</td>\n",
       "      <td>영구임대</td>\n",
       "      <td>26.37</td>\n",
       "      <td>10</td>\n",
       "      <td>27</td>\n",
       "      <td>D</td>\n",
       "      <td>NaN</td>\n",
       "      <td>NaN</td>\n",
       "      <td>2.0</td>\n",
       "      <td>5.0</td>\n",
       "      <td>428</td>\n",
       "      <td>NaN</td>\n",
       "    </tr>\n",
       "    <tr>\n",
       "      <th>3022</th>\n",
       "      <td>C1006</td>\n",
       "      <td>1505</td>\n",
       "      <td>아파트</td>\n",
       "      <td>대전광역시</td>\n",
       "      <td>영구임대</td>\n",
       "      <td>26.37</td>\n",
       "      <td>10</td>\n",
       "      <td>27</td>\n",
       "      <td>D</td>\n",
       "      <td>NaN</td>\n",
       "      <td>NaN</td>\n",
       "      <td>2.0</td>\n",
       "      <td>5.0</td>\n",
       "      <td>428</td>\n",
       "      <td>NaN</td>\n",
       "    </tr>\n",
       "    <tr>\n",
       "      <th>3024</th>\n",
       "      <td>C1006</td>\n",
       "      <td>1505</td>\n",
       "      <td>아파트</td>\n",
       "      <td>대전광역시</td>\n",
       "      <td>영구임대</td>\n",
       "      <td>52.74</td>\n",
       "      <td>6</td>\n",
       "      <td>27</td>\n",
       "      <td>D</td>\n",
       "      <td>NaN</td>\n",
       "      <td>NaN</td>\n",
       "      <td>2.0</td>\n",
       "      <td>5.0</td>\n",
       "      <td>428</td>\n",
       "      <td>NaN</td>\n",
       "    </tr>\n",
       "  </tbody>\n",
       "</table>\n",
       "</div>"
      ],
      "text/plain": [
       "       단지코드  총세대수 임대건물구분     지역  공급유형   전용면적  전용면적별세대수  공가수 신분  임대보증금  임대료  \\\n",
       "3021  C1006  1505    아파트  대전광역시  영구임대  26.37        10   27  D    NaN  NaN   \n",
       "3022  C1006  1505    아파트  대전광역시  영구임대  26.37        10   27  D    NaN  NaN   \n",
       "3024  C1006  1505    아파트  대전광역시  영구임대  52.74         6   27  D    NaN  NaN   \n",
       "\n",
       "      지하철   버스  단지내주차면수  등록차량수  \n",
       "3021  2.0  5.0      428    NaN  \n",
       "3022  2.0  5.0      428    NaN  \n",
       "3024  2.0  5.0      428    NaN  "
      ]
     },
     "execution_count": 78,
     "metadata": {},
     "output_type": "execute_result"
    }
   ],
   "source": [
    "apps[apps['임대료'].isna()]"
   ]
  },
  {
   "cell_type": "code",
   "execution_count": 79,
   "metadata": {
    "colab": {
     "base_uri": "https://localhost:8080/"
    },
    "executionInfo": {
     "elapsed": 70,
     "status": "ok",
     "timestamp": 1624716823991,
     "user": {
      "displayName": "강은영",
      "photoUrl": "https://lh3.googleusercontent.com/a-/AOh14Gjy66CDAcyXsALCf0rphNoHtH-LG6qhHqqSC2Gbhw=s64",
      "userId": "13345059186417356878"
     },
     "user_tz": -540
    },
    "id": "b6eeiPXOaU2L",
    "outputId": "38004ce0-2fea-4aab-dc37-0b0cac076c40"
   },
   "outputs": [
    {
     "data": {
      "text/plain": [
       "count    3.225000e+03\n",
       "mean     2.630802e+07\n",
       "std      2.037952e+07\n",
       "min      0.000000e+00\n",
       "25%      1.444000e+07\n",
       "50%      2.097100e+07\n",
       "75%      3.237600e+07\n",
       "max      2.164230e+08\n",
       "Name: 임대보증금, dtype: float64"
      ]
     },
     "execution_count": 79,
     "metadata": {},
     "output_type": "execute_result"
    }
   ],
   "source": [
    "apps['임대보증금'].describe()"
   ]
  },
  {
   "cell_type": "code",
   "execution_count": 80,
   "metadata": {
    "id": "2J8ZkdylaU2N",
    "scrolled": true
   },
   "outputs": [],
   "source": [
    "apps['임대보증금']=apps['임대보증금']/10000"
   ]
  },
  {
   "cell_type": "code",
   "execution_count": 81,
   "metadata": {},
   "outputs": [],
   "source": [
    "apps['임대료']=apps['임대료']/10000"
   ]
  },
  {
   "cell_type": "code",
   "execution_count": 82,
   "metadata": {
    "colab": {
     "base_uri": "https://localhost:8080/"
    },
    "executionInfo": {
     "elapsed": 69,
     "status": "ok",
     "timestamp": 1624716823994,
     "user": {
      "displayName": "강은영",
      "photoUrl": "https://lh3.googleusercontent.com/a-/AOh14Gjy66CDAcyXsALCf0rphNoHtH-LG6qhHqqSC2Gbhw=s64",
      "userId": "13345059186417356878"
     },
     "user_tz": -540
    },
    "id": "gCsNaGf_aU2N",
    "outputId": "61ebe665-e776-4881-982d-c43fb7f43777"
   },
   "outputs": [
    {
     "data": {
      "text/plain": [
       "count     3225.000000\n",
       "mean      2630.801898\n",
       "std       2037.951652\n",
       "min          0.000000\n",
       "25%       1444.000000\n",
       "50%       2097.100000\n",
       "75%       3237.600000\n",
       "max      21642.300000\n",
       "Name: 임대보증금, dtype: float64"
      ]
     },
     "execution_count": 82,
     "metadata": {},
     "output_type": "execute_result"
    }
   ],
   "source": [
    "apps['임대보증금'].describe()"
   ]
  },
  {
   "cell_type": "code",
   "execution_count": 83,
   "metadata": {
    "colab": {
     "base_uri": "https://localhost:8080/"
    },
    "executionInfo": {
     "elapsed": 63,
     "status": "ok",
     "timestamp": 1624716824777,
     "user": {
      "displayName": "강은영",
      "photoUrl": "https://lh3.googleusercontent.com/a-/AOh14Gjy66CDAcyXsALCf0rphNoHtH-LG6qhHqqSC2Gbhw=s64",
      "userId": "13345059186417356878"
     },
     "user_tz": -540
    },
    "id": "NzuH1UqwaU2T",
    "outputId": "48da577e-0419-4b9c-8418-984380c8d381",
    "scrolled": false
   },
   "outputs": [
    {
     "data": {
      "text/plain": [
       "<AxesSubplot:xlabel='임대보증금'>"
      ]
     },
     "execution_count": 83,
     "metadata": {},
     "output_type": "execute_result"
    },
    {
     "data": {
      "image/png": "[encoded data removed]",
      "text/plain": [
       "<Figure size 1440x720 with 1 Axes>"
      ]
     },
     "metadata": {
      "needs_background": "light"
     },
     "output_type": "display_data"
    }
   ],
   "source": [
    "sns.boxplot(apps['임대보증금'])"
   ]
  },
  {
   "cell_type": "code",
   "execution_count": 84,
   "metadata": {},
   "outputs": [
    {
     "data": {
      "text/plain": [
       "count    3225.000000\n",
       "mean       18.999180\n",
       "std        12.333023\n",
       "min         0.000000\n",
       "25%        11.053000\n",
       "50%        15.806000\n",
       "75%        23.220000\n",
       "max       105.803000\n",
       "Name: 임대료, dtype: float64"
      ]
     },
     "execution_count": 84,
     "metadata": {},
     "output_type": "execute_result"
    }
   ],
   "source": [
    "apps['임대료'].describe()"
   ]
  },
  {
   "cell_type": "code",
   "execution_count": 85,
   "metadata": {},
   "outputs": [
    {
     "data": {
      "text/plain": [
       "<AxesSubplot:xlabel='임대료'>"
      ]
     },
     "execution_count": 85,
     "metadata": {},
     "output_type": "execute_result"
    },
    {
     "data": {
      "image/png": "[encoded data removed]",
      "text/plain": [
       "<Figure size 1440x720 with 1 Axes>"
      ]
     },
     "metadata": {
      "needs_background": "light"
     },
     "output_type": "display_data"
    }
   ],
   "source": [
    "sns.boxplot(apps['임대료'])"
   ]
  },
  {
   "cell_type": "code",
   "execution_count": 86,
   "metadata": {
    "colab": {
     "base_uri": "https://localhost:8080/"
    },
    "executionInfo": {
     "elapsed": 62,
     "status": "ok",
     "timestamp": 1624716824778,
     "user": {
      "displayName": "강은영",
      "photoUrl": "https://lh3.googleusercontent.com/a-/AOh14Gjy66CDAcyXsALCf0rphNoHtH-LG6qhHqqSC2Gbhw=s64",
      "userId": "13345059186417356878"
     },
     "user_tz": -540
    },
    "id": "U0dn3BaQaU2T",
    "outputId": "587941ad-d638-47fe-ce8d-96874f32c758",
    "scrolled": true
   },
   "outputs": [
    {
     "data": {
      "text/html": [
       "<div>\n",
       "<style scoped>\n",
       "    .dataframe tbody tr th:only-of-type {\n",
       "        vertical-align: middle;\n",
       "    }\n",
       "\n",
       "    .dataframe tbody tr th {\n",
       "        vertical-align: top;\n",
       "    }\n",
       "\n",
       "    .dataframe thead th {\n",
       "        text-align: right;\n",
       "    }\n",
       "</style>\n",
       "<table border=\"1\" class=\"dataframe\">\n",
       "  <thead>\n",
       "    <tr style=\"text-align: right;\">\n",
       "      <th></th>\n",
       "      <th>단지코드</th>\n",
       "      <th>총세대수</th>\n",
       "      <th>임대건물구분</th>\n",
       "      <th>지역</th>\n",
       "      <th>공급유형</th>\n",
       "      <th>전용면적</th>\n",
       "      <th>전용면적별세대수</th>\n",
       "      <th>공가수</th>\n",
       "      <th>신분</th>\n",
       "      <th>임대보증금</th>\n",
       "      <th>임대료</th>\n",
       "      <th>지하철</th>\n",
       "      <th>버스</th>\n",
       "      <th>단지내주차면수</th>\n",
       "      <th>등록차량수</th>\n",
       "    </tr>\n",
       "  </thead>\n",
       "  <tbody>\n",
       "    <tr>\n",
       "      <th>2026</th>\n",
       "      <td>C2357</td>\n",
       "      <td>533</td>\n",
       "      <td>아파트</td>\n",
       "      <td>부산광역시</td>\n",
       "      <td>국민임대</td>\n",
       "      <td>51.30</td>\n",
       "      <td>165</td>\n",
       "      <td>25</td>\n",
       "      <td>E</td>\n",
       "      <td>19408.0</td>\n",
       "      <td>10.108</td>\n",
       "      <td>1.0</td>\n",
       "      <td>2.0</td>\n",
       "      <td>484</td>\n",
       "      <td>345.0</td>\n",
       "    </tr>\n",
       "    <tr>\n",
       "      <th>2044</th>\n",
       "      <td>C1397</td>\n",
       "      <td>370</td>\n",
       "      <td>아파트</td>\n",
       "      <td>서울특별시</td>\n",
       "      <td>장기전세</td>\n",
       "      <td>46.79</td>\n",
       "      <td>4</td>\n",
       "      <td>9</td>\n",
       "      <td>A</td>\n",
       "      <td>17488.8</td>\n",
       "      <td>0.000</td>\n",
       "      <td>0.0</td>\n",
       "      <td>3.0</td>\n",
       "      <td>1590</td>\n",
       "      <td>1595.0</td>\n",
       "    </tr>\n",
       "    <tr>\n",
       "      <th>2045</th>\n",
       "      <td>C1397</td>\n",
       "      <td>370</td>\n",
       "      <td>아파트</td>\n",
       "      <td>서울특별시</td>\n",
       "      <td>장기전세</td>\n",
       "      <td>46.91</td>\n",
       "      <td>69</td>\n",
       "      <td>9</td>\n",
       "      <td>A</td>\n",
       "      <td>17488.8</td>\n",
       "      <td>0.000</td>\n",
       "      <td>0.0</td>\n",
       "      <td>3.0</td>\n",
       "      <td>1590</td>\n",
       "      <td>1595.0</td>\n",
       "    </tr>\n",
       "    <tr>\n",
       "      <th>2046</th>\n",
       "      <td>C1397</td>\n",
       "      <td>370</td>\n",
       "      <td>아파트</td>\n",
       "      <td>서울특별시</td>\n",
       "      <td>장기전세</td>\n",
       "      <td>51.96</td>\n",
       "      <td>24</td>\n",
       "      <td>9</td>\n",
       "      <td>A</td>\n",
       "      <td>19456.2</td>\n",
       "      <td>0.000</td>\n",
       "      <td>0.0</td>\n",
       "      <td>3.0</td>\n",
       "      <td>1590</td>\n",
       "      <td>1595.0</td>\n",
       "    </tr>\n",
       "    <tr>\n",
       "      <th>2047</th>\n",
       "      <td>C1397</td>\n",
       "      <td>370</td>\n",
       "      <td>아파트</td>\n",
       "      <td>서울특별시</td>\n",
       "      <td>장기전세</td>\n",
       "      <td>51.99</td>\n",
       "      <td>80</td>\n",
       "      <td>9</td>\n",
       "      <td>A</td>\n",
       "      <td>19456.2</td>\n",
       "      <td>0.000</td>\n",
       "      <td>0.0</td>\n",
       "      <td>3.0</td>\n",
       "      <td>1590</td>\n",
       "      <td>1595.0</td>\n",
       "    </tr>\n",
       "    <tr>\n",
       "      <th>2048</th>\n",
       "      <td>C1397</td>\n",
       "      <td>370</td>\n",
       "      <td>아파트</td>\n",
       "      <td>서울특별시</td>\n",
       "      <td>장기전세</td>\n",
       "      <td>59.93</td>\n",
       "      <td>142</td>\n",
       "      <td>9</td>\n",
       "      <td>A</td>\n",
       "      <td>21642.3</td>\n",
       "      <td>0.000</td>\n",
       "      <td>0.0</td>\n",
       "      <td>3.0</td>\n",
       "      <td>1590</td>\n",
       "      <td>1595.0</td>\n",
       "    </tr>\n",
       "    <tr>\n",
       "      <th>2100</th>\n",
       "      <td>C1039</td>\n",
       "      <td>790</td>\n",
       "      <td>아파트</td>\n",
       "      <td>서울특별시</td>\n",
       "      <td>장기전세</td>\n",
       "      <td>51.32</td>\n",
       "      <td>126</td>\n",
       "      <td>13</td>\n",
       "      <td>A</td>\n",
       "      <td>18769.4</td>\n",
       "      <td>0.000</td>\n",
       "      <td>0.0</td>\n",
       "      <td>3.0</td>\n",
       "      <td>673</td>\n",
       "      <td>645.0</td>\n",
       "    </tr>\n",
       "    <tr>\n",
       "      <th>2101</th>\n",
       "      <td>C1039</td>\n",
       "      <td>790</td>\n",
       "      <td>아파트</td>\n",
       "      <td>서울특별시</td>\n",
       "      <td>장기전세</td>\n",
       "      <td>59.88</td>\n",
       "      <td>49</td>\n",
       "      <td>13</td>\n",
       "      <td>A</td>\n",
       "      <td>21386.3</td>\n",
       "      <td>0.000</td>\n",
       "      <td>0.0</td>\n",
       "      <td>3.0</td>\n",
       "      <td>673</td>\n",
       "      <td>645.0</td>\n",
       "    </tr>\n",
       "    <tr>\n",
       "      <th>2102</th>\n",
       "      <td>C1039</td>\n",
       "      <td>790</td>\n",
       "      <td>아파트</td>\n",
       "      <td>서울특별시</td>\n",
       "      <td>장기전세</td>\n",
       "      <td>59.94</td>\n",
       "      <td>75</td>\n",
       "      <td>13</td>\n",
       "      <td>A</td>\n",
       "      <td>21386.3</td>\n",
       "      <td>0.000</td>\n",
       "      <td>0.0</td>\n",
       "      <td>3.0</td>\n",
       "      <td>673</td>\n",
       "      <td>645.0</td>\n",
       "    </tr>\n",
       "  </tbody>\n",
       "</table>\n",
       "</div>"
      ],
      "text/plain": [
       "       단지코드  총세대수 임대건물구분     지역  공급유형   전용면적  전용면적별세대수  공가수 신분    임대보증금  \\\n",
       "2026  C2357   533    아파트  부산광역시  국민임대  51.30       165   25  E  19408.0   \n",
       "2044  C1397   370    아파트  서울특별시  장기전세  46.79         4    9  A  17488.8   \n",
       "2045  C1397   370    아파트  서울특별시  장기전세  46.91        69    9  A  17488.8   \n",
       "2046  C1397   370    아파트  서울특별시  장기전세  51.96        24    9  A  19456.2   \n",
       "2047  C1397   370    아파트  서울특별시  장기전세  51.99        80    9  A  19456.2   \n",
       "2048  C1397   370    아파트  서울특별시  장기전세  59.93       142    9  A  21642.3   \n",
       "2100  C1039   790    아파트  서울특별시  장기전세  51.32       126   13  A  18769.4   \n",
       "2101  C1039   790    아파트  서울특별시  장기전세  59.88        49   13  A  21386.3   \n",
       "2102  C1039   790    아파트  서울특별시  장기전세  59.94        75   13  A  21386.3   \n",
       "\n",
       "         임대료  지하철   버스  단지내주차면수   등록차량수  \n",
       "2026  10.108  1.0  2.0      484   345.0  \n",
       "2044   0.000  0.0  3.0     1590  1595.0  \n",
       "2045   0.000  0.0  3.0     1590  1595.0  \n",
       "2046   0.000  0.0  3.0     1590  1595.0  \n",
       "2047   0.000  0.0  3.0     1590  1595.0  \n",
       "2048   0.000  0.0  3.0     1590  1595.0  \n",
       "2100   0.000  0.0  3.0      673   645.0  \n",
       "2101   0.000  0.0  3.0      673   645.0  \n",
       "2102   0.000  0.0  3.0      673   645.0  "
      ]
     },
     "execution_count": 86,
     "metadata": {},
     "output_type": "execute_result"
    }
   ],
   "source": [
    "apps.loc[apps['임대보증금']>=15000]"
   ]
  },
  {
   "cell_type": "code",
   "execution_count": 87,
   "metadata": {},
   "outputs": [
    {
     "data": {
      "text/html": [
       "<div>\n",
       "<style scoped>\n",
       "    .dataframe tbody tr th:only-of-type {\n",
       "        vertical-align: middle;\n",
       "    }\n",
       "\n",
       "    .dataframe tbody tr th {\n",
       "        vertical-align: top;\n",
       "    }\n",
       "\n",
       "    .dataframe thead th {\n",
       "        text-align: right;\n",
       "    }\n",
       "</style>\n",
       "<table border=\"1\" class=\"dataframe\">\n",
       "  <thead>\n",
       "    <tr style=\"text-align: right;\">\n",
       "      <th></th>\n",
       "      <th>단지코드</th>\n",
       "      <th>총세대수</th>\n",
       "      <th>임대건물구분</th>\n",
       "      <th>지역</th>\n",
       "      <th>공급유형</th>\n",
       "      <th>전용면적</th>\n",
       "      <th>전용면적별세대수</th>\n",
       "      <th>공가수</th>\n",
       "      <th>신분</th>\n",
       "      <th>임대보증금</th>\n",
       "      <th>임대료</th>\n",
       "      <th>지하철</th>\n",
       "      <th>버스</th>\n",
       "      <th>단지내주차면수</th>\n",
       "      <th>등록차량수</th>\n",
       "    </tr>\n",
       "  </thead>\n",
       "  <tbody>\n",
       "    <tr>\n",
       "      <th>2163</th>\n",
       "      <td>C1024</td>\n",
       "      <td>680</td>\n",
       "      <td>아파트</td>\n",
       "      <td>서울특별시</td>\n",
       "      <td>공공임대(10년)</td>\n",
       "      <td>74.89</td>\n",
       "      <td>41</td>\n",
       "      <td>2</td>\n",
       "      <td>A</td>\n",
       "      <td>9700.5</td>\n",
       "      <td>94.523</td>\n",
       "      <td>0.0</td>\n",
       "      <td>3.0</td>\n",
       "      <td>877</td>\n",
       "      <td>957.0</td>\n",
       "    </tr>\n",
       "    <tr>\n",
       "      <th>2164</th>\n",
       "      <td>C1024</td>\n",
       "      <td>680</td>\n",
       "      <td>아파트</td>\n",
       "      <td>서울특별시</td>\n",
       "      <td>공공임대(10년)</td>\n",
       "      <td>74.89</td>\n",
       "      <td>8</td>\n",
       "      <td>2</td>\n",
       "      <td>A</td>\n",
       "      <td>9926.1</td>\n",
       "      <td>96.215</td>\n",
       "      <td>0.0</td>\n",
       "      <td>3.0</td>\n",
       "      <td>877</td>\n",
       "      <td>957.0</td>\n",
       "    </tr>\n",
       "    <tr>\n",
       "      <th>2165</th>\n",
       "      <td>C1024</td>\n",
       "      <td>680</td>\n",
       "      <td>아파트</td>\n",
       "      <td>서울특별시</td>\n",
       "      <td>공공임대(10년)</td>\n",
       "      <td>74.97</td>\n",
       "      <td>102</td>\n",
       "      <td>2</td>\n",
       "      <td>A</td>\n",
       "      <td>9700.5</td>\n",
       "      <td>94.523</td>\n",
       "      <td>0.0</td>\n",
       "      <td>3.0</td>\n",
       "      <td>877</td>\n",
       "      <td>957.0</td>\n",
       "    </tr>\n",
       "    <tr>\n",
       "      <th>2166</th>\n",
       "      <td>C1024</td>\n",
       "      <td>680</td>\n",
       "      <td>아파트</td>\n",
       "      <td>서울특별시</td>\n",
       "      <td>공공임대(10년)</td>\n",
       "      <td>74.97</td>\n",
       "      <td>65</td>\n",
       "      <td>2</td>\n",
       "      <td>A</td>\n",
       "      <td>9926.1</td>\n",
       "      <td>96.215</td>\n",
       "      <td>0.0</td>\n",
       "      <td>3.0</td>\n",
       "      <td>877</td>\n",
       "      <td>957.0</td>\n",
       "    </tr>\n",
       "    <tr>\n",
       "      <th>2167</th>\n",
       "      <td>C1024</td>\n",
       "      <td>680</td>\n",
       "      <td>아파트</td>\n",
       "      <td>서울특별시</td>\n",
       "      <td>공공임대(10년)</td>\n",
       "      <td>84.83</td>\n",
       "      <td>34</td>\n",
       "      <td>2</td>\n",
       "      <td>A</td>\n",
       "      <td>11505.2</td>\n",
       "      <td>104.223</td>\n",
       "      <td>0.0</td>\n",
       "      <td>3.0</td>\n",
       "      <td>877</td>\n",
       "      <td>957.0</td>\n",
       "    </tr>\n",
       "    <tr>\n",
       "      <th>2168</th>\n",
       "      <td>C1024</td>\n",
       "      <td>680</td>\n",
       "      <td>아파트</td>\n",
       "      <td>서울특별시</td>\n",
       "      <td>공공임대(10년)</td>\n",
       "      <td>84.92</td>\n",
       "      <td>20</td>\n",
       "      <td>2</td>\n",
       "      <td>A</td>\n",
       "      <td>11505.2</td>\n",
       "      <td>104.223</td>\n",
       "      <td>0.0</td>\n",
       "      <td>3.0</td>\n",
       "      <td>877</td>\n",
       "      <td>957.0</td>\n",
       "    </tr>\n",
       "    <tr>\n",
       "      <th>2169</th>\n",
       "      <td>C1024</td>\n",
       "      <td>680</td>\n",
       "      <td>아파트</td>\n",
       "      <td>서울특별시</td>\n",
       "      <td>공공임대(10년)</td>\n",
       "      <td>84.92</td>\n",
       "      <td>35</td>\n",
       "      <td>2</td>\n",
       "      <td>A</td>\n",
       "      <td>11730.9</td>\n",
       "      <td>105.803</td>\n",
       "      <td>0.0</td>\n",
       "      <td>3.0</td>\n",
       "      <td>877</td>\n",
       "      <td>957.0</td>\n",
       "    </tr>\n",
       "    <tr>\n",
       "      <th>2170</th>\n",
       "      <td>C1024</td>\n",
       "      <td>680</td>\n",
       "      <td>아파트</td>\n",
       "      <td>서울특별시</td>\n",
       "      <td>공공임대(10년)</td>\n",
       "      <td>84.92</td>\n",
       "      <td>5</td>\n",
       "      <td>2</td>\n",
       "      <td>A</td>\n",
       "      <td>11505.2</td>\n",
       "      <td>104.223</td>\n",
       "      <td>0.0</td>\n",
       "      <td>3.0</td>\n",
       "      <td>877</td>\n",
       "      <td>957.0</td>\n",
       "    </tr>\n",
       "    <tr>\n",
       "      <th>2171</th>\n",
       "      <td>C1024</td>\n",
       "      <td>680</td>\n",
       "      <td>아파트</td>\n",
       "      <td>서울특별시</td>\n",
       "      <td>공공임대(10년)</td>\n",
       "      <td>84.96</td>\n",
       "      <td>17</td>\n",
       "      <td>2</td>\n",
       "      <td>A</td>\n",
       "      <td>11730.9</td>\n",
       "      <td>105.803</td>\n",
       "      <td>0.0</td>\n",
       "      <td>3.0</td>\n",
       "      <td>877</td>\n",
       "      <td>957.0</td>\n",
       "    </tr>\n",
       "  </tbody>\n",
       "</table>\n",
       "</div>"
      ],
      "text/plain": [
       "       단지코드  총세대수 임대건물구분     지역       공급유형   전용면적  전용면적별세대수  공가수 신분    임대보증금  \\\n",
       "2163  C1024   680    아파트  서울특별시  공공임대(10년)  74.89        41    2  A   9700.5   \n",
       "2164  C1024   680    아파트  서울특별시  공공임대(10년)  74.89         8    2  A   9926.1   \n",
       "2165  C1024   680    아파트  서울특별시  공공임대(10년)  74.97       102    2  A   9700.5   \n",
       "2166  C1024   680    아파트  서울특별시  공공임대(10년)  74.97        65    2  A   9926.1   \n",
       "2167  C1024   680    아파트  서울특별시  공공임대(10년)  84.83        34    2  A  11505.2   \n",
       "2168  C1024   680    아파트  서울특별시  공공임대(10년)  84.92        20    2  A  11505.2   \n",
       "2169  C1024   680    아파트  서울특별시  공공임대(10년)  84.92        35    2  A  11730.9   \n",
       "2170  C1024   680    아파트  서울특별시  공공임대(10년)  84.92         5    2  A  11505.2   \n",
       "2171  C1024   680    아파트  서울특별시  공공임대(10년)  84.96        17    2  A  11730.9   \n",
       "\n",
       "          임대료  지하철   버스  단지내주차면수  등록차량수  \n",
       "2163   94.523  0.0  3.0      877  957.0  \n",
       "2164   96.215  0.0  3.0      877  957.0  \n",
       "2165   94.523  0.0  3.0      877  957.0  \n",
       "2166   96.215  0.0  3.0      877  957.0  \n",
       "2167  104.223  0.0  3.0      877  957.0  \n",
       "2168  104.223  0.0  3.0      877  957.0  \n",
       "2169  105.803  0.0  3.0      877  957.0  \n",
       "2170  104.223  0.0  3.0      877  957.0  \n",
       "2171  105.803  0.0  3.0      877  957.0  "
      ]
     },
     "execution_count": 87,
     "metadata": {},
     "output_type": "execute_result"
    }
   ],
   "source": [
    "apps.loc[apps['임대료']>= 80]"
   ]
  },
  {
   "cell_type": "code",
   "execution_count": 88,
   "metadata": {
    "colab": {
     "base_uri": "https://localhost:8080/"
    },
    "executionInfo": {
     "elapsed": 61,
     "status": "ok",
     "timestamp": 1624716824785,
     "user": {
      "displayName": "강은영",
      "photoUrl": "https://lh3.googleusercontent.com/a-/AOh14Gjy66CDAcyXsALCf0rphNoHtH-LG6qhHqqSC2Gbhw=s64",
      "userId": "13345059186417356878"
     },
     "user_tz": -540
    },
    "id": "SyrKhg8QaU2X",
    "outputId": "a04f177c-fb47-490b-b33b-f05a9537e7a9",
    "scrolled": true
   },
   "outputs": [
    {
     "data": {
      "text/plain": [
       "9"
      ]
     },
     "execution_count": 88,
     "metadata": {},
     "output_type": "execute_result"
    }
   ],
   "source": [
    "a= apps.loc[apps['임대보증금']>=15000]\n",
    "a['임대보증금'].count()"
   ]
  },
  {
   "cell_type": "code",
   "execution_count": 89,
   "metadata": {},
   "outputs": [
    {
     "data": {
      "text/plain": [
       "9"
      ]
     },
     "execution_count": 89,
     "metadata": {},
     "output_type": "execute_result"
    }
   ],
   "source": [
    "a= apps.loc[apps['임대료']>= 80]\n",
    "a['임대료'].count()"
   ]
  },
  {
   "cell_type": "code",
   "execution_count": 90,
   "metadata": {
    "id": "rJdV8bEPaU2W"
   },
   "outputs": [],
   "source": [
    "apps.drop(apps.loc[apps['임대보증금']>=15000].index, inplace=True)"
   ]
  },
  {
   "cell_type": "code",
   "execution_count": 91,
   "metadata": {},
   "outputs": [],
   "source": [
    "apps.drop(apps.loc[apps['임대료']>=80].index, inplace=True)"
   ]
  },
  {
   "cell_type": "markdown",
   "metadata": {
    "id": "sJDnyYM6aU2X"
   },
   "source": [
    "#### 전용면적"
   ]
  },
  {
   "cell_type": "code",
   "execution_count": 92,
   "metadata": {
    "colab": {
     "base_uri": "https://localhost:8080/"
    },
    "executionInfo": {
     "elapsed": 64,
     "status": "ok",
     "timestamp": 1624716824790,
     "user": {
      "displayName": "강은영",
      "photoUrl": "https://lh3.googleusercontent.com/a-/AOh14Gjy66CDAcyXsALCf0rphNoHtH-LG6qhHqqSC2Gbhw=s64",
      "userId": "13345059186417356878"
     },
     "user_tz": -540
    },
    "id": "t_AiDsiCaU2Y",
    "outputId": "38b0d39e-9104-4c21-b205-47683301890d",
    "scrolled": true
   },
   "outputs": [
    {
     "data": {
      "text/plain": [
       "<AxesSubplot:xlabel='전용면적'>"
      ]
     },
     "execution_count": 92,
     "metadata": {},
     "output_type": "execute_result"
    },
    {
     "data": {
      "image/png": "[encoded data removed]",
      "text/plain": [
       "<Figure size 1440x720 with 1 Axes>"
      ]
     },
     "metadata": {
      "needs_background": "light"
     },
     "output_type": "display_data"
    }
   ],
   "source": [
    "sns.boxplot(apps['전용면적'])"
   ]
  },
  {
   "cell_type": "code",
   "execution_count": 93,
   "metadata": {
    "colab": {
     "base_uri": "https://localhost:8080/"
    },
    "executionInfo": {
     "elapsed": 67,
     "status": "ok",
     "timestamp": 1624716824795,
     "user": {
      "displayName": "강은영",
      "photoUrl": "https://lh3.googleusercontent.com/a-/AOh14Gjy66CDAcyXsALCf0rphNoHtH-LG6qhHqqSC2Gbhw=s64",
      "userId": "13345059186417356878"
     },
     "user_tz": -540
    },
    "id": "pj6RqEXXaU2Y",
    "outputId": "6c2fa096-a998-4cff-ba3c-ebc96b402bc0"
   },
   "outputs": [
    {
     "data": {
      "text/plain": [
       "count    3210.000000\n",
       "mean       43.899143\n",
       "std        12.792667\n",
       "min        16.020000\n",
       "25%        36.630000\n",
       "50%        46.470000\n",
       "75%        51.720000\n",
       "max        84.990000\n",
       "Name: 전용면적, dtype: float64"
      ]
     },
     "execution_count": 93,
     "metadata": {},
     "output_type": "execute_result"
    }
   ],
   "source": [
    "apps['전용면적'].describe()"
   ]
  },
  {
   "cell_type": "code",
   "execution_count": 94,
   "metadata": {
    "colab": {
     "base_uri": "https://localhost:8080/"
    },
    "executionInfo": {
     "elapsed": 69,
     "status": "ok",
     "timestamp": 1624716824798,
     "user": {
      "displayName": "강은영",
      "photoUrl": "https://lh3.googleusercontent.com/a-/AOh14Gjy66CDAcyXsALCf0rphNoHtH-LG6qhHqqSC2Gbhw=s64",
      "userId": "13345059186417356878"
     },
     "user_tz": -540
    },
    "id": "nj5z8AzdaU2Z",
    "outputId": "1452c070-6f34-4b77-b4f3-eafc6217282f"
   },
   "outputs": [
    {
     "data": {
      "text/plain": [
       "공공임대(10년)    77\n",
       "공공임대(분납)      7\n",
       "Name: 공급유형, dtype: int64"
      ]
     },
     "execution_count": 94,
     "metadata": {},
     "output_type": "execute_result"
    }
   ],
   "source": [
    "a= apps.loc[apps['전용면적']>=84]\n",
    "a['공급유형'].value_counts()"
   ]
  },
  {
   "cell_type": "code",
   "execution_count": 95,
   "metadata": {
    "colab": {
     "base_uri": "https://localhost:8080/"
    },
    "executionInfo": {
     "elapsed": 68,
     "status": "ok",
     "timestamp": 1624716824799,
     "user": {
      "displayName": "강은영",
      "photoUrl": "https://lh3.googleusercontent.com/a-/AOh14Gjy66CDAcyXsALCf0rphNoHtH-LG6qhHqqSC2Gbhw=s64",
      "userId": "13345059186417356878"
     },
     "user_tz": -540
    },
    "id": "VcgDIvGTaU2a",
    "outputId": "c80203a5-ea38-4f15-ab0d-68cde0635790",
    "scrolled": true
   },
   "outputs": [
    {
     "data": {
      "text/html": [
       "<div>\n",
       "<style scoped>\n",
       "    .dataframe tbody tr th:only-of-type {\n",
       "        vertical-align: middle;\n",
       "    }\n",
       "\n",
       "    .dataframe tbody tr th {\n",
       "        vertical-align: top;\n",
       "    }\n",
       "\n",
       "    .dataframe thead th {\n",
       "        text-align: right;\n",
       "    }\n",
       "</style>\n",
       "<table border=\"1\" class=\"dataframe\">\n",
       "  <thead>\n",
       "    <tr style=\"text-align: right;\">\n",
       "      <th></th>\n",
       "      <th>단지코드</th>\n",
       "      <th>총세대수</th>\n",
       "      <th>임대건물구분</th>\n",
       "      <th>지역</th>\n",
       "      <th>공급유형</th>\n",
       "      <th>전용면적</th>\n",
       "      <th>전용면적별세대수</th>\n",
       "      <th>공가수</th>\n",
       "      <th>신분</th>\n",
       "      <th>임대보증금</th>\n",
       "      <th>임대료</th>\n",
       "      <th>지하철</th>\n",
       "      <th>버스</th>\n",
       "      <th>단지내주차면수</th>\n",
       "      <th>등록차량수</th>\n",
       "    </tr>\n",
       "  </thead>\n",
       "  <tbody>\n",
       "    <tr>\n",
       "      <th>1960</th>\n",
       "      <td>C1344</td>\n",
       "      <td>424</td>\n",
       "      <td>아파트</td>\n",
       "      <td>서울특별시</td>\n",
       "      <td>공공임대(분납)</td>\n",
       "      <td>84.95</td>\n",
       "      <td>39</td>\n",
       "      <td>0</td>\n",
       "      <td>A</td>\n",
       "      <td>14354.5</td>\n",
       "      <td>36.384</td>\n",
       "      <td>0.0</td>\n",
       "      <td>3.0</td>\n",
       "      <td>467</td>\n",
       "      <td>509.0</td>\n",
       "    </tr>\n",
       "    <tr>\n",
       "      <th>1961</th>\n",
       "      <td>C1344</td>\n",
       "      <td>424</td>\n",
       "      <td>아파트</td>\n",
       "      <td>서울특별시</td>\n",
       "      <td>공공임대(분납)</td>\n",
       "      <td>84.97</td>\n",
       "      <td>42</td>\n",
       "      <td>0</td>\n",
       "      <td>A</td>\n",
       "      <td>14526.4</td>\n",
       "      <td>36.819</td>\n",
       "      <td>0.0</td>\n",
       "      <td>3.0</td>\n",
       "      <td>467</td>\n",
       "      <td>509.0</td>\n",
       "    </tr>\n",
       "    <tr>\n",
       "      <th>1962</th>\n",
       "      <td>C1344</td>\n",
       "      <td>424</td>\n",
       "      <td>아파트</td>\n",
       "      <td>서울특별시</td>\n",
       "      <td>공공임대(분납)</td>\n",
       "      <td>84.99</td>\n",
       "      <td>100</td>\n",
       "      <td>0</td>\n",
       "      <td>A</td>\n",
       "      <td>14274.4</td>\n",
       "      <td>36.180</td>\n",
       "      <td>0.0</td>\n",
       "      <td>3.0</td>\n",
       "      <td>467</td>\n",
       "      <td>509.0</td>\n",
       "    </tr>\n",
       "    <tr>\n",
       "      <th>2040</th>\n",
       "      <td>C1804</td>\n",
       "      <td>478</td>\n",
       "      <td>아파트</td>\n",
       "      <td>경기도</td>\n",
       "      <td>공공임대(10년)</td>\n",
       "      <td>84.64</td>\n",
       "      <td>4</td>\n",
       "      <td>3</td>\n",
       "      <td>A</td>\n",
       "      <td>9023.7</td>\n",
       "      <td>59.782</td>\n",
       "      <td>0.0</td>\n",
       "      <td>3.0</td>\n",
       "      <td>629</td>\n",
       "      <td>951.0</td>\n",
       "    </tr>\n",
       "    <tr>\n",
       "      <th>2041</th>\n",
       "      <td>C1804</td>\n",
       "      <td>478</td>\n",
       "      <td>아파트</td>\n",
       "      <td>경기도</td>\n",
       "      <td>공공임대(10년)</td>\n",
       "      <td>84.97</td>\n",
       "      <td>13</td>\n",
       "      <td>3</td>\n",
       "      <td>A</td>\n",
       "      <td>9023.7</td>\n",
       "      <td>59.782</td>\n",
       "      <td>0.0</td>\n",
       "      <td>3.0</td>\n",
       "      <td>629</td>\n",
       "      <td>951.0</td>\n",
       "    </tr>\n",
       "    <tr>\n",
       "      <th>...</th>\n",
       "      <td>...</td>\n",
       "      <td>...</td>\n",
       "      <td>...</td>\n",
       "      <td>...</td>\n",
       "      <td>...</td>\n",
       "      <td>...</td>\n",
       "      <td>...</td>\n",
       "      <td>...</td>\n",
       "      <td>...</td>\n",
       "      <td>...</td>\n",
       "      <td>...</td>\n",
       "      <td>...</td>\n",
       "      <td>...</td>\n",
       "      <td>...</td>\n",
       "      <td>...</td>\n",
       "    </tr>\n",
       "    <tr>\n",
       "      <th>3772</th>\n",
       "      <td>C2303</td>\n",
       "      <td>963</td>\n",
       "      <td>아파트</td>\n",
       "      <td>경기도</td>\n",
       "      <td>공공임대(10년)</td>\n",
       "      <td>84.91</td>\n",
       "      <td>400</td>\n",
       "      <td>16</td>\n",
       "      <td>A</td>\n",
       "      <td>5990.0</td>\n",
       "      <td>54.400</td>\n",
       "      <td>0.0</td>\n",
       "      <td>6.0</td>\n",
       "      <td>1161</td>\n",
       "      <td>NaN</td>\n",
       "    </tr>\n",
       "    <tr>\n",
       "      <th>3773</th>\n",
       "      <td>C2303</td>\n",
       "      <td>963</td>\n",
       "      <td>아파트</td>\n",
       "      <td>경기도</td>\n",
       "      <td>공공임대(10년)</td>\n",
       "      <td>84.91</td>\n",
       "      <td>150</td>\n",
       "      <td>16</td>\n",
       "      <td>A</td>\n",
       "      <td>5990.0</td>\n",
       "      <td>54.400</td>\n",
       "      <td>0.0</td>\n",
       "      <td>6.0</td>\n",
       "      <td>1161</td>\n",
       "      <td>NaN</td>\n",
       "    </tr>\n",
       "    <tr>\n",
       "      <th>3774</th>\n",
       "      <td>C2303</td>\n",
       "      <td>963</td>\n",
       "      <td>아파트</td>\n",
       "      <td>경기도</td>\n",
       "      <td>공공임대(10년)</td>\n",
       "      <td>84.91</td>\n",
       "      <td>70</td>\n",
       "      <td>16</td>\n",
       "      <td>A</td>\n",
       "      <td>5990.0</td>\n",
       "      <td>54.400</td>\n",
       "      <td>0.0</td>\n",
       "      <td>6.0</td>\n",
       "      <td>1161</td>\n",
       "      <td>NaN</td>\n",
       "    </tr>\n",
       "    <tr>\n",
       "      <th>3787</th>\n",
       "      <td>C1496</td>\n",
       "      <td>565</td>\n",
       "      <td>아파트</td>\n",
       "      <td>충청북도</td>\n",
       "      <td>공공임대(10년)</td>\n",
       "      <td>84.64</td>\n",
       "      <td>98</td>\n",
       "      <td>11</td>\n",
       "      <td>A</td>\n",
       "      <td>3560.0</td>\n",
       "      <td>48.000</td>\n",
       "      <td>0.0</td>\n",
       "      <td>3.0</td>\n",
       "      <td>582</td>\n",
       "      <td>NaN</td>\n",
       "    </tr>\n",
       "    <tr>\n",
       "      <th>3788</th>\n",
       "      <td>C1496</td>\n",
       "      <td>565</td>\n",
       "      <td>아파트</td>\n",
       "      <td>충청북도</td>\n",
       "      <td>공공임대(10년)</td>\n",
       "      <td>84.88</td>\n",
       "      <td>349</td>\n",
       "      <td>11</td>\n",
       "      <td>A</td>\n",
       "      <td>3560.0</td>\n",
       "      <td>48.000</td>\n",
       "      <td>0.0</td>\n",
       "      <td>3.0</td>\n",
       "      <td>582</td>\n",
       "      <td>NaN</td>\n",
       "    </tr>\n",
       "  </tbody>\n",
       "</table>\n",
       "<p>84 rows × 15 columns</p>\n",
       "</div>"
      ],
      "text/plain": [
       "       단지코드  총세대수 임대건물구분     지역       공급유형   전용면적  전용면적별세대수  공가수 신분    임대보증금  \\\n",
       "1960  C1344   424    아파트  서울특별시   공공임대(분납)  84.95        39    0  A  14354.5   \n",
       "1961  C1344   424    아파트  서울특별시   공공임대(분납)  84.97        42    0  A  14526.4   \n",
       "1962  C1344   424    아파트  서울특별시   공공임대(분납)  84.99       100    0  A  14274.4   \n",
       "2040  C1804   478    아파트    경기도  공공임대(10년)  84.64         4    3  A   9023.7   \n",
       "2041  C1804   478    아파트    경기도  공공임대(10년)  84.97        13    3  A   9023.7   \n",
       "...     ...   ...    ...    ...        ...    ...       ...  ... ..      ...   \n",
       "3772  C2303   963    아파트    경기도  공공임대(10년)  84.91       400   16  A   5990.0   \n",
       "3773  C2303   963    아파트    경기도  공공임대(10년)  84.91       150   16  A   5990.0   \n",
       "3774  C2303   963    아파트    경기도  공공임대(10년)  84.91        70   16  A   5990.0   \n",
       "3787  C1496   565    아파트   충청북도  공공임대(10년)  84.64        98   11  A   3560.0   \n",
       "3788  C1496   565    아파트   충청북도  공공임대(10년)  84.88       349   11  A   3560.0   \n",
       "\n",
       "         임대료  지하철   버스  단지내주차면수  등록차량수  \n",
       "1960  36.384  0.0  3.0      467  509.0  \n",
       "1961  36.819  0.0  3.0      467  509.0  \n",
       "1962  36.180  0.0  3.0      467  509.0  \n",
       "2040  59.782  0.0  3.0      629  951.0  \n",
       "2041  59.782  0.0  3.0      629  951.0  \n",
       "...      ...  ...  ...      ...    ...  \n",
       "3772  54.400  0.0  6.0     1161    NaN  \n",
       "3773  54.400  0.0  6.0     1161    NaN  \n",
       "3774  54.400  0.0  6.0     1161    NaN  \n",
       "3787  48.000  0.0  3.0      582    NaN  \n",
       "3788  48.000  0.0  3.0      582    NaN  \n",
       "\n",
       "[84 rows x 15 columns]"
      ]
     },
     "execution_count": 95,
     "metadata": {},
     "output_type": "execute_result"
    }
   ],
   "source": [
    "apps.loc[apps['전용면적']>=80]"
   ]
  },
  {
   "cell_type": "markdown",
   "metadata": {},
   "source": [
    "#### 단지내 주차면수"
   ]
  },
  {
   "cell_type": "code",
   "execution_count": 96,
   "metadata": {
    "colab": {
     "base_uri": "https://localhost:8080/"
    },
    "executionInfo": {
     "elapsed": 34,
     "status": "ok",
     "timestamp": 1624716825354,
     "user": {
      "displayName": "강은영",
      "photoUrl": "https://lh3.googleusercontent.com/a-/AOh14Gjy66CDAcyXsALCf0rphNoHtH-LG6qhHqqSC2Gbhw=s64",
      "userId": "13345059186417356878"
     },
     "user_tz": -540
    },
    "id": "j1qmuTroaU2e",
    "outputId": "944adbc1-ff41-4b69-aedd-b048104d49d7"
   },
   "outputs": [
    {
     "data": {
      "text/plain": [
       "<AxesSubplot:xlabel='단지내주차면수'>"
      ]
     },
     "execution_count": 96,
     "metadata": {},
     "output_type": "execute_result"
    },
    {
     "data": {
      "image/png": "[encoded data removed]",
      "text/plain": [
       "<Figure size 1440x720 with 1 Axes>"
      ]
     },
     "metadata": {
      "needs_background": "light"
     },
     "output_type": "display_data"
    }
   ],
   "source": [
    "sns.boxplot(apps['단지내주차면수'])"
   ]
  },
  {
   "cell_type": "code",
   "execution_count": 97,
   "metadata": {
    "colab": {
     "base_uri": "https://localhost:8080/"
    },
    "executionInfo": {
     "elapsed": 72,
     "status": "ok",
     "timestamp": 1624716825897,
     "user": {
      "displayName": "강은영",
      "photoUrl": "https://lh3.googleusercontent.com/a-/AOh14Gjy66CDAcyXsALCf0rphNoHtH-LG6qhHqqSC2Gbhw=s64",
      "userId": "13345059186417356878"
     },
     "user_tz": -540
    },
    "id": "2r9tqFz8aU2o",
    "outputId": "74158a59-e78d-4b4b-807e-d8be64665926"
   },
   "outputs": [
    {
     "data": {
      "text/plain": [
       "53"
      ]
     },
     "execution_count": 97,
     "metadata": {},
     "output_type": "execute_result"
    }
   ],
   "source": [
    "a=apps.loc[apps['단지내주차면수']>=1700]\n",
    "a['단지내주차면수'].count()"
   ]
  },
  {
   "cell_type": "code",
   "execution_count": 98,
   "metadata": {
    "colab": {
     "base_uri": "https://localhost:8080/"
    },
    "executionInfo": {
     "elapsed": 31,
     "status": "ok",
     "timestamp": 1624716825356,
     "user": {
      "displayName": "강은영",
      "photoUrl": "https://lh3.googleusercontent.com/a-/AOh14Gjy66CDAcyXsALCf0rphNoHtH-LG6qhHqqSC2Gbhw=s64",
      "userId": "13345059186417356878"
     },
     "user_tz": -540
    },
    "id": "LFfEk68YaU2f",
    "outputId": "753caaeb-0097-4394-e54f-07d337e75c32"
   },
   "outputs": [
    {
     "data": {
      "text/plain": [
       "count    3210.000000\n",
       "mean      656.557321\n",
       "std       379.557315\n",
       "min        13.000000\n",
       "25%       372.000000\n",
       "50%       596.000000\n",
       "75%       879.000000\n",
       "max      1798.000000\n",
       "Name: 단지내주차면수, dtype: float64"
      ]
     },
     "execution_count": 98,
     "metadata": {},
     "output_type": "execute_result"
    }
   ],
   "source": [
    "apps['단지내주차면수'].describe()"
   ]
  },
  {
   "cell_type": "code",
   "execution_count": 99,
   "metadata": {
    "id": "XM4iDUqXaU2l"
   },
   "outputs": [],
   "source": [
    "# idx = store[store['단지내주차면수']>=500].index\n",
    "# store.loc[idx, '전용면적'] = 500"
   ]
  },
  {
   "cell_type": "code",
   "execution_count": 100,
   "metadata": {},
   "outputs": [
    {
     "data": {
      "text/plain": [
       "1755.8301886792453"
      ]
     },
     "execution_count": 100,
     "metadata": {},
     "output_type": "execute_result"
    }
   ],
   "source": [
    "a=apps[apps['단지내주차면수'] >= 1700]\n",
    "a['단지내주차면수'].mean()"
   ]
  },
  {
   "cell_type": "code",
   "execution_count": 101,
   "metadata": {
    "id": "jlChNGZ_aU3L"
   },
   "outputs": [],
   "source": [
    "#1700이상 값을 평균값으로 대체\n",
    "idx = apps[apps['단지내주차면수'] >= 1700].index\n",
    "apps.loc[idx, '단지내주차면수'] = 1755"
   ]
  },
  {
   "cell_type": "code",
   "execution_count": 102,
   "metadata": {
    "id": "PXV9PuU3aU2m"
   },
   "outputs": [
    {
     "data": {
      "text/plain": [
       "count    3210.000000\n",
       "mean      656.543614\n",
       "std       379.499352\n",
       "min        13.000000\n",
       "25%       372.000000\n",
       "50%       596.000000\n",
       "75%       879.000000\n",
       "max      1755.000000\n",
       "Name: 단지내주차면수, dtype: float64"
      ]
     },
     "execution_count": 102,
     "metadata": {},
     "output_type": "execute_result"
    }
   ],
   "source": [
    "apps['단지내주차면수'].describe()"
   ]
  },
  {
   "cell_type": "markdown",
   "metadata": {
    "id": "nHAaXOfcaU2r"
   },
   "source": [
    "## 전용면적을 10의 배수로 변경"
   ]
  },
  {
   "cell_type": "code",
   "execution_count": 103,
   "metadata": {
    "colab": {
     "base_uri": "https://localhost:8080/"
    },
    "executionInfo": {
     "elapsed": 69,
     "status": "ok",
     "timestamp": 1624716825906,
     "user": {
      "displayName": "강은영",
      "photoUrl": "https://lh3.googleusercontent.com/a-/AOh14Gjy66CDAcyXsALCf0rphNoHtH-LG6qhHqqSC2Gbhw=s64",
      "userId": "13345059186417356878"
     },
     "user_tz": -540
    },
    "id": "vWjkpJEkaU2u",
    "outputId": "95403f27-4399-4335-8d7a-372c729da153"
   },
   "outputs": [
    {
     "data": {
      "text/plain": [
       "count    3210.000000\n",
       "mean       43.899143\n",
       "std        12.792667\n",
       "min        16.020000\n",
       "25%        36.630000\n",
       "50%        46.470000\n",
       "75%        51.720000\n",
       "max        84.990000\n",
       "Name: 전용면적, dtype: float64"
      ]
     },
     "execution_count": 103,
     "metadata": {},
     "output_type": "execute_result"
    }
   ],
   "source": [
    "apps['전용면적'].describe()"
   ]
  },
  {
   "cell_type": "code",
   "execution_count": 104,
   "metadata": {
    "colab": {
     "base_uri": "https://localhost:8080/"
    },
    "executionInfo": {
     "elapsed": 68,
     "status": "ok",
     "timestamp": 1624716825907,
     "user": {
      "displayName": "강은영",
      "photoUrl": "https://lh3.googleusercontent.com/a-/AOh14Gjy66CDAcyXsALCf0rphNoHtH-LG6qhHqqSC2Gbhw=s64",
      "userId": "13345059186417356878"
     },
     "user_tz": -540
    },
    "id": "6DxQrIKUaU2u",
    "outputId": "4b1e7b75-7c0d-4a68-9b90-d42be42bde6f",
    "scrolled": true
   },
   "outputs": [
    {
     "data": {
      "text/plain": [
       "<AxesSubplot:xlabel='전용면적'>"
      ]
     },
     "execution_count": 104,
     "metadata": {},
     "output_type": "execute_result"
    },
    {
     "data": {
      "image/png": "[encoded data removed]",
      "text/plain": [
       "<Figure size 1440x720 with 1 Axes>"
      ]
     },
     "metadata": {
      "needs_background": "light"
     },
     "output_type": "display_data"
    }
   ],
   "source": [
    "sns.boxplot(apps['전용면적'])"
   ]
  },
  {
   "cell_type": "code",
   "execution_count": 105,
   "metadata": {
    "colab": {
     "base_uri": "https://localhost:8080/"
    },
    "executionInfo": {
     "elapsed": 67,
     "status": "ok",
     "timestamp": 1624716825908,
     "user": {
      "displayName": "강은영",
      "photoUrl": "https://lh3.googleusercontent.com/a-/AOh14Gjy66CDAcyXsALCf0rphNoHtH-LG6qhHqqSC2Gbhw=s64",
      "userId": "13345059186417356878"
     },
     "user_tz": -540
    },
    "id": "2Y-k2IaFaU2v",
    "outputId": "7d5d4faa-6509-46d5-cf78-4c6a1d5b6731",
    "scrolled": true
   },
   "outputs": [
    {
     "data": {
      "text/html": [
       "<div>\n",
       "<style scoped>\n",
       "    .dataframe tbody tr th:only-of-type {\n",
       "        vertical-align: middle;\n",
       "    }\n",
       "\n",
       "    .dataframe tbody tr th {\n",
       "        vertical-align: top;\n",
       "    }\n",
       "\n",
       "    .dataframe thead th {\n",
       "        text-align: right;\n",
       "    }\n",
       "</style>\n",
       "<table border=\"1\" class=\"dataframe\">\n",
       "  <thead>\n",
       "    <tr style=\"text-align: right;\">\n",
       "      <th></th>\n",
       "      <th>단지코드</th>\n",
       "      <th>총세대수</th>\n",
       "      <th>임대건물구분</th>\n",
       "      <th>지역</th>\n",
       "      <th>공급유형</th>\n",
       "      <th>전용면적</th>\n",
       "      <th>전용면적별세대수</th>\n",
       "      <th>공가수</th>\n",
       "      <th>신분</th>\n",
       "      <th>임대보증금</th>\n",
       "      <th>임대료</th>\n",
       "      <th>지하철</th>\n",
       "      <th>버스</th>\n",
       "      <th>단지내주차면수</th>\n",
       "      <th>등록차량수</th>\n",
       "    </tr>\n",
       "  </thead>\n",
       "  <tbody>\n",
       "    <tr>\n",
       "      <th>1960</th>\n",
       "      <td>C1344</td>\n",
       "      <td>424</td>\n",
       "      <td>아파트</td>\n",
       "      <td>서울특별시</td>\n",
       "      <td>공공임대(분납)</td>\n",
       "      <td>84.95</td>\n",
       "      <td>39</td>\n",
       "      <td>0</td>\n",
       "      <td>A</td>\n",
       "      <td>14354.5</td>\n",
       "      <td>36.384</td>\n",
       "      <td>0.0</td>\n",
       "      <td>3.0</td>\n",
       "      <td>467</td>\n",
       "      <td>509.0</td>\n",
       "    </tr>\n",
       "    <tr>\n",
       "      <th>1961</th>\n",
       "      <td>C1344</td>\n",
       "      <td>424</td>\n",
       "      <td>아파트</td>\n",
       "      <td>서울특별시</td>\n",
       "      <td>공공임대(분납)</td>\n",
       "      <td>84.97</td>\n",
       "      <td>42</td>\n",
       "      <td>0</td>\n",
       "      <td>A</td>\n",
       "      <td>14526.4</td>\n",
       "      <td>36.819</td>\n",
       "      <td>0.0</td>\n",
       "      <td>3.0</td>\n",
       "      <td>467</td>\n",
       "      <td>509.0</td>\n",
       "    </tr>\n",
       "    <tr>\n",
       "      <th>1962</th>\n",
       "      <td>C1344</td>\n",
       "      <td>424</td>\n",
       "      <td>아파트</td>\n",
       "      <td>서울특별시</td>\n",
       "      <td>공공임대(분납)</td>\n",
       "      <td>84.99</td>\n",
       "      <td>100</td>\n",
       "      <td>0</td>\n",
       "      <td>A</td>\n",
       "      <td>14274.4</td>\n",
       "      <td>36.180</td>\n",
       "      <td>0.0</td>\n",
       "      <td>3.0</td>\n",
       "      <td>467</td>\n",
       "      <td>509.0</td>\n",
       "    </tr>\n",
       "    <tr>\n",
       "      <th>2040</th>\n",
       "      <td>C1804</td>\n",
       "      <td>478</td>\n",
       "      <td>아파트</td>\n",
       "      <td>경기도</td>\n",
       "      <td>공공임대(10년)</td>\n",
       "      <td>84.64</td>\n",
       "      <td>4</td>\n",
       "      <td>3</td>\n",
       "      <td>A</td>\n",
       "      <td>9023.7</td>\n",
       "      <td>59.782</td>\n",
       "      <td>0.0</td>\n",
       "      <td>3.0</td>\n",
       "      <td>629</td>\n",
       "      <td>951.0</td>\n",
       "    </tr>\n",
       "    <tr>\n",
       "      <th>2041</th>\n",
       "      <td>C1804</td>\n",
       "      <td>478</td>\n",
       "      <td>아파트</td>\n",
       "      <td>경기도</td>\n",
       "      <td>공공임대(10년)</td>\n",
       "      <td>84.97</td>\n",
       "      <td>13</td>\n",
       "      <td>3</td>\n",
       "      <td>A</td>\n",
       "      <td>9023.7</td>\n",
       "      <td>59.782</td>\n",
       "      <td>0.0</td>\n",
       "      <td>3.0</td>\n",
       "      <td>629</td>\n",
       "      <td>951.0</td>\n",
       "    </tr>\n",
       "    <tr>\n",
       "      <th>...</th>\n",
       "      <td>...</td>\n",
       "      <td>...</td>\n",
       "      <td>...</td>\n",
       "      <td>...</td>\n",
       "      <td>...</td>\n",
       "      <td>...</td>\n",
       "      <td>...</td>\n",
       "      <td>...</td>\n",
       "      <td>...</td>\n",
       "      <td>...</td>\n",
       "      <td>...</td>\n",
       "      <td>...</td>\n",
       "      <td>...</td>\n",
       "      <td>...</td>\n",
       "      <td>...</td>\n",
       "    </tr>\n",
       "    <tr>\n",
       "      <th>3772</th>\n",
       "      <td>C2303</td>\n",
       "      <td>963</td>\n",
       "      <td>아파트</td>\n",
       "      <td>경기도</td>\n",
       "      <td>공공임대(10년)</td>\n",
       "      <td>84.91</td>\n",
       "      <td>400</td>\n",
       "      <td>16</td>\n",
       "      <td>A</td>\n",
       "      <td>5990.0</td>\n",
       "      <td>54.400</td>\n",
       "      <td>0.0</td>\n",
       "      <td>6.0</td>\n",
       "      <td>1161</td>\n",
       "      <td>NaN</td>\n",
       "    </tr>\n",
       "    <tr>\n",
       "      <th>3773</th>\n",
       "      <td>C2303</td>\n",
       "      <td>963</td>\n",
       "      <td>아파트</td>\n",
       "      <td>경기도</td>\n",
       "      <td>공공임대(10년)</td>\n",
       "      <td>84.91</td>\n",
       "      <td>150</td>\n",
       "      <td>16</td>\n",
       "      <td>A</td>\n",
       "      <td>5990.0</td>\n",
       "      <td>54.400</td>\n",
       "      <td>0.0</td>\n",
       "      <td>6.0</td>\n",
       "      <td>1161</td>\n",
       "      <td>NaN</td>\n",
       "    </tr>\n",
       "    <tr>\n",
       "      <th>3774</th>\n",
       "      <td>C2303</td>\n",
       "      <td>963</td>\n",
       "      <td>아파트</td>\n",
       "      <td>경기도</td>\n",
       "      <td>공공임대(10년)</td>\n",
       "      <td>84.91</td>\n",
       "      <td>70</td>\n",
       "      <td>16</td>\n",
       "      <td>A</td>\n",
       "      <td>5990.0</td>\n",
       "      <td>54.400</td>\n",
       "      <td>0.0</td>\n",
       "      <td>6.0</td>\n",
       "      <td>1161</td>\n",
       "      <td>NaN</td>\n",
       "    </tr>\n",
       "    <tr>\n",
       "      <th>3787</th>\n",
       "      <td>C1496</td>\n",
       "      <td>565</td>\n",
       "      <td>아파트</td>\n",
       "      <td>충청북도</td>\n",
       "      <td>공공임대(10년)</td>\n",
       "      <td>84.64</td>\n",
       "      <td>98</td>\n",
       "      <td>11</td>\n",
       "      <td>A</td>\n",
       "      <td>3560.0</td>\n",
       "      <td>48.000</td>\n",
       "      <td>0.0</td>\n",
       "      <td>3.0</td>\n",
       "      <td>582</td>\n",
       "      <td>NaN</td>\n",
       "    </tr>\n",
       "    <tr>\n",
       "      <th>3788</th>\n",
       "      <td>C1496</td>\n",
       "      <td>565</td>\n",
       "      <td>아파트</td>\n",
       "      <td>충청북도</td>\n",
       "      <td>공공임대(10년)</td>\n",
       "      <td>84.88</td>\n",
       "      <td>349</td>\n",
       "      <td>11</td>\n",
       "      <td>A</td>\n",
       "      <td>3560.0</td>\n",
       "      <td>48.000</td>\n",
       "      <td>0.0</td>\n",
       "      <td>3.0</td>\n",
       "      <td>582</td>\n",
       "      <td>NaN</td>\n",
       "    </tr>\n",
       "  </tbody>\n",
       "</table>\n",
       "<p>84 rows × 15 columns</p>\n",
       "</div>"
      ],
      "text/plain": [
       "       단지코드  총세대수 임대건물구분     지역       공급유형   전용면적  전용면적별세대수  공가수 신분    임대보증금  \\\n",
       "1960  C1344   424    아파트  서울특별시   공공임대(분납)  84.95        39    0  A  14354.5   \n",
       "1961  C1344   424    아파트  서울특별시   공공임대(분납)  84.97        42    0  A  14526.4   \n",
       "1962  C1344   424    아파트  서울특별시   공공임대(분납)  84.99       100    0  A  14274.4   \n",
       "2040  C1804   478    아파트    경기도  공공임대(10년)  84.64         4    3  A   9023.7   \n",
       "2041  C1804   478    아파트    경기도  공공임대(10년)  84.97        13    3  A   9023.7   \n",
       "...     ...   ...    ...    ...        ...    ...       ...  ... ..      ...   \n",
       "3772  C2303   963    아파트    경기도  공공임대(10년)  84.91       400   16  A   5990.0   \n",
       "3773  C2303   963    아파트    경기도  공공임대(10년)  84.91       150   16  A   5990.0   \n",
       "3774  C2303   963    아파트    경기도  공공임대(10년)  84.91        70   16  A   5990.0   \n",
       "3787  C1496   565    아파트   충청북도  공공임대(10년)  84.64        98   11  A   3560.0   \n",
       "3788  C1496   565    아파트   충청북도  공공임대(10년)  84.88       349   11  A   3560.0   \n",
       "\n",
       "         임대료  지하철   버스  단지내주차면수  등록차량수  \n",
       "1960  36.384  0.0  3.0      467  509.0  \n",
       "1961  36.819  0.0  3.0      467  509.0  \n",
       "1962  36.180  0.0  3.0      467  509.0  \n",
       "2040  59.782  0.0  3.0      629  951.0  \n",
       "2041  59.782  0.0  3.0      629  951.0  \n",
       "...      ...  ...  ...      ...    ...  \n",
       "3772  54.400  0.0  6.0     1161    NaN  \n",
       "3773  54.400  0.0  6.0     1161    NaN  \n",
       "3774  54.400  0.0  6.0     1161    NaN  \n",
       "3787  48.000  0.0  3.0      582    NaN  \n",
       "3788  48.000  0.0  3.0      582    NaN  \n",
       "\n",
       "[84 rows x 15 columns]"
      ]
     },
     "execution_count": 105,
     "metadata": {},
     "output_type": "execute_result"
    }
   ],
   "source": [
    "apps.loc[apps['전용면적'] >=80]"
   ]
  },
  {
   "cell_type": "code",
   "execution_count": 106,
   "metadata": {
    "colab": {
     "base_uri": "https://localhost:8080/"
    },
    "executionInfo": {
     "elapsed": 67,
     "status": "ok",
     "timestamp": 1624716825910,
     "user": {
      "displayName": "강은영",
      "photoUrl": "https://lh3.googleusercontent.com/a-/AOh14Gjy66CDAcyXsALCf0rphNoHtH-LG6qhHqqSC2Gbhw=s64",
      "userId": "13345059186417356878"
     },
     "user_tz": -540
    },
    "id": "qtuqp4O_aU2w",
    "outputId": "c9e96916-3947-4628-979b-51a6ef882716"
   },
   "outputs": [
    {
     "data": {
      "text/plain": [
       "84"
      ]
     },
     "execution_count": 106,
     "metadata": {},
     "output_type": "execute_result"
    }
   ],
   "source": [
    "a=apps.loc[apps['전용면적'] >=80]\n",
    "a['공급유형'].count()"
   ]
  },
  {
   "cell_type": "code",
   "execution_count": 107,
   "metadata": {
    "colab": {
     "base_uri": "https://localhost:8080/"
    },
    "executionInfo": {
     "elapsed": 67,
     "status": "ok",
     "timestamp": 1624716825911,
     "user": {
      "displayName": "강은영",
      "photoUrl": "https://lh3.googleusercontent.com/a-/AOh14Gjy66CDAcyXsALCf0rphNoHtH-LG6qhHqqSC2Gbhw=s64",
      "userId": "13345059186417356878"
     },
     "user_tz": -540
    },
    "id": "FciiMDmgaU2x",
    "outputId": "c3ee6d49-908e-411e-ca38-2b1499439669"
   },
   "outputs": [
    {
     "data": {
      "text/plain": [
       "공공임대(10년)    77\n",
       "공공임대(분납)      7\n",
       "Name: 공급유형, dtype: int64"
      ]
     },
     "execution_count": 107,
     "metadata": {},
     "output_type": "execute_result"
    }
   ],
   "source": [
    "a['공급유형'].value_counts()"
   ]
  },
  {
   "cell_type": "code",
   "execution_count": 108,
   "metadata": {
    "id": "fYDKhMB4aU2x"
   },
   "outputs": [],
   "source": [
    "apps['전용면적'] = apps['전용면적']//5*5"
   ]
  },
  {
   "cell_type": "code",
   "execution_count": 109,
   "metadata": {
    "colab": {
     "base_uri": "https://localhost:8080/"
    },
    "executionInfo": {
     "elapsed": 66,
     "status": "ok",
     "timestamp": 1624716825913,
     "user": {
      "displayName": "강은영",
      "photoUrl": "https://lh3.googleusercontent.com/a-/AOh14Gjy66CDAcyXsALCf0rphNoHtH-LG6qhHqqSC2Gbhw=s64",
      "userId": "13345059186417356878"
     },
     "user_tz": -540
    },
    "id": "VTJ-oNg6aU2y",
    "outputId": "b74951c9-5178-4ed1-9f01-4d19517ee822"
   },
   "outputs": [
    {
     "data": {
      "text/plain": [
       "array([35., 50., 55., 30., 45., 40., 25., 70., 80., 75., 20., 65., 15.])"
      ]
     },
     "execution_count": 109,
     "metadata": {},
     "output_type": "execute_result"
    }
   ],
   "source": [
    "apps['전용면적'].unique()"
   ]
  },
  {
   "cell_type": "code",
   "execution_count": 110,
   "metadata": {
    "id": "VmC0TyXfaU2y"
   },
   "outputs": [],
   "source": [
    "numeric_cols = []\n",
    "for col in apps.columns:\n",
    "    if apps[col].dtypes != 'object':\n",
    "        numeric_cols.append(col)"
   ]
  },
  {
   "cell_type": "code",
   "execution_count": 111,
   "metadata": {
    "colab": {
     "base_uri": "https://localhost:8080/"
    },
    "executionInfo": {
     "elapsed": 70,
     "status": "ok",
     "timestamp": 1624716825919,
     "user": {
      "displayName": "강은영",
      "photoUrl": "https://lh3.googleusercontent.com/a-/AOh14Gjy66CDAcyXsALCf0rphNoHtH-LG6qhHqqSC2Gbhw=s64",
      "userId": "13345059186417356878"
     },
     "user_tz": -540
    },
    "id": "odAmwoM8aU2z",
    "outputId": "61634911-3bad-481e-cf31-3f38b87e4181"
   },
   "outputs": [
    {
     "data": {
      "text/plain": [
       "['총세대수',\n",
       " '전용면적',\n",
       " '전용면적별세대수',\n",
       " '공가수',\n",
       " '임대보증금',\n",
       " '임대료',\n",
       " '지하철',\n",
       " '버스',\n",
       " '단지내주차면수',\n",
       " '등록차량수']"
      ]
     },
     "execution_count": 111,
     "metadata": {},
     "output_type": "execute_result"
    }
   ],
   "source": [
    "numeric_cols"
   ]
  },
  {
   "cell_type": "code",
   "execution_count": 112,
   "metadata": {
    "colab": {
     "base_uri": "https://localhost:8080/"
    },
    "executionInfo": {
     "elapsed": 4003,
     "status": "ok",
     "timestamp": 1624716829854,
     "user": {
      "displayName": "강은영",
      "photoUrl": "https://lh3.googleusercontent.com/a-/AOh14Gjy66CDAcyXsALCf0rphNoHtH-LG6qhHqqSC2Gbhw=s64",
      "userId": "13345059186417356878"
     },
     "user_tz": -540
    },
    "id": "qoWpjZgJaU2z",
    "outputId": "83a2e709-a8fd-4933-edd4-3b260b5f5a1a"
   },
   "outputs": [
    {
     "ename": "KeyboardInterrupt",
     "evalue": "",
     "output_type": "error",
     "traceback": [
      "\u001b[1;31m---------------------------------------------------------------------------\u001b[0m",
      "\u001b[1;31mKeyboardInterrupt\u001b[0m                         Traceback (most recent call last)",
      "\u001b[1;32m<ipython-input-112-231a0551b218>\u001b[0m in \u001b[0;36m<module>\u001b[1;34m\u001b[0m\n\u001b[0;32m      2\u001b[0m \u001b[0mfig\u001b[0m \u001b[1;33m=\u001b[0m \u001b[0mplt\u001b[0m\u001b[1;33m.\u001b[0m\u001b[0mfigure\u001b[0m\u001b[1;33m(\u001b[0m\u001b[0mfigsize\u001b[0m\u001b[1;33m=\u001b[0m\u001b[1;33m(\u001b[0m\u001b[1;36m22\u001b[0m\u001b[1;33m,\u001b[0m \u001b[1;36m50\u001b[0m\u001b[1;33m)\u001b[0m\u001b[1;33m)\u001b[0m\u001b[1;33m\u001b[0m\u001b[1;33m\u001b[0m\u001b[0m\n\u001b[0;32m      3\u001b[0m \u001b[1;32mfor\u001b[0m \u001b[0mi\u001b[0m\u001b[1;33m,\u001b[0m \u001b[0mn\u001b[0m \u001b[1;32min\u001b[0m \u001b[0menumerate\u001b[0m\u001b[1;33m(\u001b[0m\u001b[0mnumeric_cols\u001b[0m\u001b[1;33m)\u001b[0m\u001b[1;33m:\u001b[0m\u001b[1;33m\u001b[0m\u001b[1;33m\u001b[0m\u001b[0m\n\u001b[1;32m----> 4\u001b[1;33m     \u001b[0mplt\u001b[0m\u001b[1;33m.\u001b[0m\u001b[0msubplot\u001b[0m\u001b[1;33m(\u001b[0m\u001b[1;36m10\u001b[0m\u001b[1;33m,\u001b[0m \u001b[1;36m2\u001b[0m\u001b[1;33m,\u001b[0m \u001b[0mi\u001b[0m\u001b[1;33m+\u001b[0m\u001b[1;36m1\u001b[0m\u001b[1;33m)\u001b[0m\u001b[1;33m\u001b[0m\u001b[1;33m\u001b[0m\u001b[0m\n\u001b[0m\u001b[0;32m      5\u001b[0m     \u001b[0mplt\u001b[0m\u001b[1;33m.\u001b[0m\u001b[0msubplots_adjust\u001b[0m\u001b[1;33m(\u001b[0m\u001b[0mhspace\u001b[0m\u001b[1;33m=\u001b[0m\u001b[1;36m0.3\u001b[0m\u001b[1;33m)\u001b[0m\u001b[1;33m\u001b[0m\u001b[1;33m\u001b[0m\u001b[0m\n\u001b[0;32m      6\u001b[0m     \u001b[0msns\u001b[0m\u001b[1;33m.\u001b[0m\u001b[0mhistplot\u001b[0m\u001b[1;33m(\u001b[0m\u001b[0mapps\u001b[0m\u001b[1;33m[\u001b[0m\u001b[0mn\u001b[0m\u001b[1;33m]\u001b[0m\u001b[1;33m)\u001b[0m\u001b[1;33m\u001b[0m\u001b[1;33m\u001b[0m\u001b[0m\n",
      "\u001b[1;32m~\\Anaconda3\\lib\\site-packages\\matplotlib\\pyplot.py\u001b[0m in \u001b[0;36msubplot\u001b[1;34m(*args, **kwargs)\u001b[0m\n\u001b[0;32m   1140\u001b[0m \u001b[1;33m\u001b[0m\u001b[0m\n\u001b[0;32m   1141\u001b[0m     \u001b[0mfig\u001b[0m \u001b[1;33m=\u001b[0m \u001b[0mgcf\u001b[0m\u001b[1;33m(\u001b[0m\u001b[1;33m)\u001b[0m\u001b[1;33m\u001b[0m\u001b[1;33m\u001b[0m\u001b[0m\n\u001b[1;32m-> 1142\u001b[1;33m     \u001b[0max\u001b[0m \u001b[1;33m=\u001b[0m \u001b[0mfig\u001b[0m\u001b[1;33m.\u001b[0m\u001b[0madd_subplot\u001b[0m\u001b[1;33m(\u001b[0m\u001b[1;33m*\u001b[0m\u001b[0margs\u001b[0m\u001b[1;33m,\u001b[0m \u001b[1;33m**\u001b[0m\u001b[0mkwargs\u001b[0m\u001b[1;33m)\u001b[0m\u001b[1;33m\u001b[0m\u001b[1;33m\u001b[0m\u001b[0m\n\u001b[0m\u001b[0;32m   1143\u001b[0m     \u001b[0mbbox\u001b[0m \u001b[1;33m=\u001b[0m \u001b[0max\u001b[0m\u001b[1;33m.\u001b[0m\u001b[0mbbox\u001b[0m\u001b[1;33m\u001b[0m\u001b[1;33m\u001b[0m\u001b[0m\n\u001b[0;32m   1144\u001b[0m     \u001b[0maxes_to_delete\u001b[0m \u001b[1;33m=\u001b[0m \u001b[1;33m[\u001b[0m\u001b[1;33m]\u001b[0m\u001b[1;33m\u001b[0m\u001b[1;33m\u001b[0m\u001b[0m\n",
      "\u001b[1;32m~\\Anaconda3\\lib\\site-packages\\matplotlib\\figure.py\u001b[0m in \u001b[0;36madd_subplot\u001b[1;34m(self, *args, **kwargs)\u001b[0m\n\u001b[0;32m   1400\u001b[0m                     \u001b[1;31m# more similar to add_axes.\u001b[0m\u001b[1;33m\u001b[0m\u001b[1;33m\u001b[0m\u001b[1;33m\u001b[0m\u001b[0m\n\u001b[0;32m   1401\u001b[0m                     \u001b[0mself\u001b[0m\u001b[1;33m.\u001b[0m\u001b[0m_axstack\u001b[0m\u001b[1;33m.\u001b[0m\u001b[0mremove\u001b[0m\u001b[1;33m(\u001b[0m\u001b[0max\u001b[0m\u001b[1;33m)\u001b[0m\u001b[1;33m\u001b[0m\u001b[1;33m\u001b[0m\u001b[0m\n\u001b[1;32m-> 1402\u001b[1;33m             \u001b[0max\u001b[0m \u001b[1;33m=\u001b[0m \u001b[0msubplot_class_factory\u001b[0m\u001b[1;33m(\u001b[0m\u001b[0mprojection_class\u001b[0m\u001b[1;33m)\u001b[0m\u001b[1;33m(\u001b[0m\u001b[0mself\u001b[0m\u001b[1;33m,\u001b[0m \u001b[1;33m*\u001b[0m\u001b[0margs\u001b[0m\u001b[1;33m,\u001b[0m \u001b[1;33m**\u001b[0m\u001b[0mkwargs\u001b[0m\u001b[1;33m)\u001b[0m\u001b[1;33m\u001b[0m\u001b[1;33m\u001b[0m\u001b[0m\n\u001b[0m\u001b[0;32m   1403\u001b[0m \u001b[1;33m\u001b[0m\u001b[0m\n\u001b[0;32m   1404\u001b[0m         \u001b[1;32mreturn\u001b[0m \u001b[0mself\u001b[0m\u001b[1;33m.\u001b[0m\u001b[0m_add_axes_internal\u001b[0m\u001b[1;33m(\u001b[0m\u001b[0mkey\u001b[0m\u001b[1;33m,\u001b[0m \u001b[0max\u001b[0m\u001b[1;33m)\u001b[0m\u001b[1;33m\u001b[0m\u001b[1;33m\u001b[0m\u001b[0m\n",
      "\u001b[1;32m~\\Anaconda3\\lib\\site-packages\\matplotlib\\axes\\_subplots.py\u001b[0m in \u001b[0;36m__init__\u001b[1;34m(self, fig, *args, **kwargs)\u001b[0m\n\u001b[0;32m     40\u001b[0m         \u001b[0mself\u001b[0m\u001b[1;33m.\u001b[0m\u001b[0mupdate_params\u001b[0m\u001b[1;33m(\u001b[0m\u001b[1;33m)\u001b[0m\u001b[1;33m\u001b[0m\u001b[1;33m\u001b[0m\u001b[0m\n\u001b[0;32m     41\u001b[0m         \u001b[1;31m# _axes_class is set in the subplot_class_factory\u001b[0m\u001b[1;33m\u001b[0m\u001b[1;33m\u001b[0m\u001b[1;33m\u001b[0m\u001b[0m\n\u001b[1;32m---> 42\u001b[1;33m         \u001b[0mself\u001b[0m\u001b[1;33m.\u001b[0m\u001b[0m_axes_class\u001b[0m\u001b[1;33m.\u001b[0m\u001b[0m__init__\u001b[0m\u001b[1;33m(\u001b[0m\u001b[0mself\u001b[0m\u001b[1;33m,\u001b[0m \u001b[0mfig\u001b[0m\u001b[1;33m,\u001b[0m \u001b[0mself\u001b[0m\u001b[1;33m.\u001b[0m\u001b[0mfigbox\u001b[0m\u001b[1;33m,\u001b[0m \u001b[1;33m**\u001b[0m\u001b[0mkwargs\u001b[0m\u001b[1;33m)\u001b[0m\u001b[1;33m\u001b[0m\u001b[1;33m\u001b[0m\u001b[0m\n\u001b[0m\u001b[0;32m     43\u001b[0m         \u001b[1;31m# add a layout box to this, for both the full axis, and the poss\u001b[0m\u001b[1;33m\u001b[0m\u001b[1;33m\u001b[0m\u001b[1;33m\u001b[0m\u001b[0m\n\u001b[0;32m     44\u001b[0m         \u001b[1;31m# of the axis.  We need both because the axes may become smaller\u001b[0m\u001b[1;33m\u001b[0m\u001b[1;33m\u001b[0m\u001b[1;33m\u001b[0m\u001b[0m\n",
      "\u001b[1;32m~\\Anaconda3\\lib\\site-packages\\matplotlib\\axes\\_base.py\u001b[0m in \u001b[0;36m__init__\u001b[1;34m(self, fig, rect, facecolor, frameon, sharex, sharey, label, xscale, yscale, box_aspect, **kwargs)\u001b[0m\n\u001b[0;32m    509\u001b[0m \u001b[1;33m\u001b[0m\u001b[0m\n\u001b[0;32m    510\u001b[0m         \u001b[0mself\u001b[0m\u001b[1;33m.\u001b[0m\u001b[0m_rasterization_zorder\u001b[0m \u001b[1;33m=\u001b[0m \u001b[1;32mNone\u001b[0m\u001b[1;33m\u001b[0m\u001b[1;33m\u001b[0m\u001b[0m\n\u001b[1;32m--> 511\u001b[1;33m         \u001b[0mself\u001b[0m\u001b[1;33m.\u001b[0m\u001b[0mcla\u001b[0m\u001b[1;33m(\u001b[0m\u001b[1;33m)\u001b[0m\u001b[1;33m\u001b[0m\u001b[1;33m\u001b[0m\u001b[0m\n\u001b[0m\u001b[0;32m    512\u001b[0m \u001b[1;33m\u001b[0m\u001b[0m\n\u001b[0;32m    513\u001b[0m         \u001b[1;31m# funcs used to format x and y - fall back on major formatters\u001b[0m\u001b[1;33m\u001b[0m\u001b[1;33m\u001b[0m\u001b[1;33m\u001b[0m\u001b[0m\n",
      "\u001b[1;32m~\\Anaconda3\\lib\\site-packages\\matplotlib\\axes\\_base.py\u001b[0m in \u001b[0;36mcla\u001b[1;34m(self)\u001b[0m\n\u001b[0;32m   1061\u001b[0m             \u001b[0mself\u001b[0m\u001b[1;33m.\u001b[0m\u001b[0msharex\u001b[0m\u001b[1;33m(\u001b[0m\u001b[0mself\u001b[0m\u001b[1;33m.\u001b[0m\u001b[0m_sharex\u001b[0m\u001b[1;33m)\u001b[0m\u001b[1;33m\u001b[0m\u001b[1;33m\u001b[0m\u001b[0m\n\u001b[0;32m   1062\u001b[0m         \u001b[1;32melse\u001b[0m\u001b[1;33m:\u001b[0m\u001b[1;33m\u001b[0m\u001b[1;33m\u001b[0m\u001b[0m\n\u001b[1;32m-> 1063\u001b[1;33m             \u001b[0mself\u001b[0m\u001b[1;33m.\u001b[0m\u001b[0mxaxis\u001b[0m\u001b[1;33m.\u001b[0m\u001b[0m_set_scale\u001b[0m\u001b[1;33m(\u001b[0m\u001b[1;34m'linear'\u001b[0m\u001b[1;33m)\u001b[0m\u001b[1;33m\u001b[0m\u001b[1;33m\u001b[0m\u001b[0m\n\u001b[0m\u001b[0;32m   1064\u001b[0m             \u001b[1;32mtry\u001b[0m\u001b[1;33m:\u001b[0m\u001b[1;33m\u001b[0m\u001b[1;33m\u001b[0m\u001b[0m\n\u001b[0;32m   1065\u001b[0m                 \u001b[0mself\u001b[0m\u001b[1;33m.\u001b[0m\u001b[0mset_xlim\u001b[0m\u001b[1;33m(\u001b[0m\u001b[1;36m0\u001b[0m\u001b[1;33m,\u001b[0m \u001b[1;36m1\u001b[0m\u001b[1;33m)\u001b[0m\u001b[1;33m\u001b[0m\u001b[1;33m\u001b[0m\u001b[0m\n",
      "\u001b[1;32m~\\Anaconda3\\lib\\site-packages\\matplotlib\\axis.py\u001b[0m in \u001b[0;36m_set_scale\u001b[1;34m(self, value, **kwargs)\u001b[0m\n\u001b[0;32m    754\u001b[0m     \u001b[1;32mdef\u001b[0m \u001b[0m_set_scale\u001b[0m\u001b[1;33m(\u001b[0m\u001b[0mself\u001b[0m\u001b[1;33m,\u001b[0m \u001b[0mvalue\u001b[0m\u001b[1;33m,\u001b[0m \u001b[1;33m**\u001b[0m\u001b[0mkwargs\u001b[0m\u001b[1;33m)\u001b[0m\u001b[1;33m:\u001b[0m\u001b[1;33m\u001b[0m\u001b[1;33m\u001b[0m\u001b[0m\n\u001b[0;32m    755\u001b[0m         \u001b[0mself\u001b[0m\u001b[1;33m.\u001b[0m\u001b[0m_scale\u001b[0m \u001b[1;33m=\u001b[0m \u001b[0mmscale\u001b[0m\u001b[1;33m.\u001b[0m\u001b[0mscale_factory\u001b[0m\u001b[1;33m(\u001b[0m\u001b[0mvalue\u001b[0m\u001b[1;33m,\u001b[0m \u001b[0mself\u001b[0m\u001b[1;33m,\u001b[0m \u001b[1;33m**\u001b[0m\u001b[0mkwargs\u001b[0m\u001b[1;33m)\u001b[0m\u001b[1;33m\u001b[0m\u001b[1;33m\u001b[0m\u001b[0m\n\u001b[1;32m--> 756\u001b[1;33m         \u001b[0mself\u001b[0m\u001b[1;33m.\u001b[0m\u001b[0m_scale\u001b[0m\u001b[1;33m.\u001b[0m\u001b[0mset_default_locators_and_formatters\u001b[0m\u001b[1;33m(\u001b[0m\u001b[0mself\u001b[0m\u001b[1;33m)\u001b[0m\u001b[1;33m\u001b[0m\u001b[1;33m\u001b[0m\u001b[0m\n\u001b[0m\u001b[0;32m    757\u001b[0m \u001b[1;33m\u001b[0m\u001b[0m\n\u001b[0;32m    758\u001b[0m         \u001b[0mself\u001b[0m\u001b[1;33m.\u001b[0m\u001b[0misDefault_majloc\u001b[0m \u001b[1;33m=\u001b[0m \u001b[1;32mTrue\u001b[0m\u001b[1;33m\u001b[0m\u001b[1;33m\u001b[0m\u001b[0m\n",
      "\u001b[1;32m~\\Anaconda3\\lib\\site-packages\\matplotlib\\scale.py\u001b[0m in \u001b[0;36mset_default_locators_and_formatters\u001b[1;34m(self, axis)\u001b[0m\n\u001b[0;32m    106\u001b[0m     \u001b[1;32mdef\u001b[0m \u001b[0mset_default_locators_and_formatters\u001b[0m\u001b[1;33m(\u001b[0m\u001b[0mself\u001b[0m\u001b[1;33m,\u001b[0m \u001b[0maxis\u001b[0m\u001b[1;33m)\u001b[0m\u001b[1;33m:\u001b[0m\u001b[1;33m\u001b[0m\u001b[1;33m\u001b[0m\u001b[0m\n\u001b[0;32m    107\u001b[0m         \u001b[1;31m# docstring inherited\u001b[0m\u001b[1;33m\u001b[0m\u001b[1;33m\u001b[0m\u001b[1;33m\u001b[0m\u001b[0m\n\u001b[1;32m--> 108\u001b[1;33m         \u001b[0maxis\u001b[0m\u001b[1;33m.\u001b[0m\u001b[0mset_major_locator\u001b[0m\u001b[1;33m(\u001b[0m\u001b[0mAutoLocator\u001b[0m\u001b[1;33m(\u001b[0m\u001b[1;33m)\u001b[0m\u001b[1;33m)\u001b[0m\u001b[1;33m\u001b[0m\u001b[1;33m\u001b[0m\u001b[0m\n\u001b[0m\u001b[0;32m    109\u001b[0m         \u001b[0maxis\u001b[0m\u001b[1;33m.\u001b[0m\u001b[0mset_major_formatter\u001b[0m\u001b[1;33m(\u001b[0m\u001b[0mScalarFormatter\u001b[0m\u001b[1;33m(\u001b[0m\u001b[1;33m)\u001b[0m\u001b[1;33m)\u001b[0m\u001b[1;33m\u001b[0m\u001b[1;33m\u001b[0m\u001b[0m\n\u001b[0;32m    110\u001b[0m         \u001b[0maxis\u001b[0m\u001b[1;33m.\u001b[0m\u001b[0mset_minor_formatter\u001b[0m\u001b[1;33m(\u001b[0m\u001b[0mNullFormatter\u001b[0m\u001b[1;33m(\u001b[0m\u001b[1;33m)\u001b[0m\u001b[1;33m)\u001b[0m\u001b[1;33m\u001b[0m\u001b[1;33m\u001b[0m\u001b[0m\n",
      "\u001b[1;32m~\\Anaconda3\\lib\\site-packages\\matplotlib\\ticker.py\u001b[0m in \u001b[0;36m__init__\u001b[1;34m(self)\u001b[0m\n\u001b[0;32m   2918\u001b[0m             \u001b[0mnbins\u001b[0m \u001b[1;33m=\u001b[0m \u001b[1;34m'auto'\u001b[0m\u001b[1;33m\u001b[0m\u001b[1;33m\u001b[0m\u001b[0m\n\u001b[0;32m   2919\u001b[0m             \u001b[0msteps\u001b[0m \u001b[1;33m=\u001b[0m \u001b[1;33m[\u001b[0m\u001b[1;36m1\u001b[0m\u001b[1;33m,\u001b[0m \u001b[1;36m2\u001b[0m\u001b[1;33m,\u001b[0m \u001b[1;36m2.5\u001b[0m\u001b[1;33m,\u001b[0m \u001b[1;36m5\u001b[0m\u001b[1;33m,\u001b[0m \u001b[1;36m10\u001b[0m\u001b[1;33m]\u001b[0m\u001b[1;33m\u001b[0m\u001b[1;33m\u001b[0m\u001b[0m\n\u001b[1;32m-> 2920\u001b[1;33m         \u001b[0mMaxNLocator\u001b[0m\u001b[1;33m.\u001b[0m\u001b[0m__init__\u001b[0m\u001b[1;33m(\u001b[0m\u001b[0mself\u001b[0m\u001b[1;33m,\u001b[0m \u001b[0mnbins\u001b[0m\u001b[1;33m=\u001b[0m\u001b[0mnbins\u001b[0m\u001b[1;33m,\u001b[0m \u001b[0msteps\u001b[0m\u001b[1;33m=\u001b[0m\u001b[0msteps\u001b[0m\u001b[1;33m)\u001b[0m\u001b[1;33m\u001b[0m\u001b[1;33m\u001b[0m\u001b[0m\n\u001b[0m\u001b[0;32m   2921\u001b[0m \u001b[1;33m\u001b[0m\u001b[0m\n\u001b[0;32m   2922\u001b[0m \u001b[1;33m\u001b[0m\u001b[0m\n",
      "\u001b[1;32m~\\Anaconda3\\lib\\site-packages\\matplotlib\\ticker.py\u001b[0m in \u001b[0;36m__init__\u001b[1;34m(self, *args, **kwargs)\u001b[0m\n\u001b[0;32m   2155\u001b[0m                 raise ValueError(\n\u001b[0;32m   2156\u001b[0m                     \"Keywords are required for all arguments except 'nbins'\")\n\u001b[1;32m-> 2157\u001b[1;33m         \u001b[0mself\u001b[0m\u001b[1;33m.\u001b[0m\u001b[0mset_params\u001b[0m\u001b[1;33m(\u001b[0m\u001b[1;33m**\u001b[0m\u001b[1;33m{\u001b[0m\u001b[1;33m**\u001b[0m\u001b[0mself\u001b[0m\u001b[1;33m.\u001b[0m\u001b[0mdefault_params\u001b[0m\u001b[1;33m,\u001b[0m \u001b[1;33m**\u001b[0m\u001b[0mkwargs\u001b[0m\u001b[1;33m}\u001b[0m\u001b[1;33m)\u001b[0m\u001b[1;33m\u001b[0m\u001b[1;33m\u001b[0m\u001b[0m\n\u001b[0m\u001b[0;32m   2158\u001b[0m \u001b[1;33m\u001b[0m\u001b[0m\n\u001b[0;32m   2159\u001b[0m     \u001b[1;33m@\u001b[0m\u001b[0mstaticmethod\u001b[0m\u001b[1;33m\u001b[0m\u001b[1;33m\u001b[0m\u001b[0m\n",
      "\u001b[1;32m~\\Anaconda3\\lib\\site-packages\\matplotlib\\ticker.py\u001b[0m in \u001b[0;36mset_params\u001b[1;34m(self, **kwargs)\u001b[0m\n\u001b[0;32m   2216\u001b[0m                 \u001b[0mself\u001b[0m\u001b[1;33m.\u001b[0m\u001b[0m_steps\u001b[0m \u001b[1;33m=\u001b[0m \u001b[0mnp\u001b[0m\u001b[1;33m.\u001b[0m\u001b[0marray\u001b[0m\u001b[1;33m(\u001b[0m\u001b[1;33m[\u001b[0m\u001b[1;36m1\u001b[0m\u001b[1;33m,\u001b[0m \u001b[1;36m1.5\u001b[0m\u001b[1;33m,\u001b[0m \u001b[1;36m2\u001b[0m\u001b[1;33m,\u001b[0m \u001b[1;36m2.5\u001b[0m\u001b[1;33m,\u001b[0m \u001b[1;36m3\u001b[0m\u001b[1;33m,\u001b[0m \u001b[1;36m4\u001b[0m\u001b[1;33m,\u001b[0m \u001b[1;36m5\u001b[0m\u001b[1;33m,\u001b[0m \u001b[1;36m6\u001b[0m\u001b[1;33m,\u001b[0m \u001b[1;36m8\u001b[0m\u001b[1;33m,\u001b[0m \u001b[1;36m10\u001b[0m\u001b[1;33m]\u001b[0m\u001b[1;33m)\u001b[0m\u001b[1;33m\u001b[0m\u001b[1;33m\u001b[0m\u001b[0m\n\u001b[0;32m   2217\u001b[0m             \u001b[1;32melse\u001b[0m\u001b[1;33m:\u001b[0m\u001b[1;33m\u001b[0m\u001b[1;33m\u001b[0m\u001b[0m\n\u001b[1;32m-> 2218\u001b[1;33m                 \u001b[0mself\u001b[0m\u001b[1;33m.\u001b[0m\u001b[0m_steps\u001b[0m \u001b[1;33m=\u001b[0m \u001b[0mself\u001b[0m\u001b[1;33m.\u001b[0m\u001b[0m_validate_steps\u001b[0m\u001b[1;33m(\u001b[0m\u001b[0msteps\u001b[0m\u001b[1;33m)\u001b[0m\u001b[1;33m\u001b[0m\u001b[1;33m\u001b[0m\u001b[0m\n\u001b[0m\u001b[0;32m   2219\u001b[0m             \u001b[0mself\u001b[0m\u001b[1;33m.\u001b[0m\u001b[0m_extended_steps\u001b[0m \u001b[1;33m=\u001b[0m \u001b[0mself\u001b[0m\u001b[1;33m.\u001b[0m\u001b[0m_staircase\u001b[0m\u001b[1;33m(\u001b[0m\u001b[0mself\u001b[0m\u001b[1;33m.\u001b[0m\u001b[0m_steps\u001b[0m\u001b[1;33m)\u001b[0m\u001b[1;33m\u001b[0m\u001b[1;33m\u001b[0m\u001b[0m\n\u001b[0;32m   2220\u001b[0m         \u001b[1;32mif\u001b[0m \u001b[1;34m'integer'\u001b[0m \u001b[1;32min\u001b[0m \u001b[0mkwargs\u001b[0m\u001b[1;33m:\u001b[0m\u001b[1;33m\u001b[0m\u001b[1;33m\u001b[0m\u001b[0m\n",
      "\u001b[1;32m~\\Anaconda3\\lib\\site-packages\\matplotlib\\ticker.py\u001b[0m in \u001b[0;36m_validate_steps\u001b[1;34m(steps)\u001b[0m\n\u001b[0;32m   2163\u001b[0m                              'of numbers between 1 and 10 inclusive')\n\u001b[0;32m   2164\u001b[0m         \u001b[0msteps\u001b[0m \u001b[1;33m=\u001b[0m \u001b[0mnp\u001b[0m\u001b[1;33m.\u001b[0m\u001b[0masarray\u001b[0m\u001b[1;33m(\u001b[0m\u001b[0msteps\u001b[0m\u001b[1;33m)\u001b[0m\u001b[1;33m\u001b[0m\u001b[1;33m\u001b[0m\u001b[0m\n\u001b[1;32m-> 2165\u001b[1;33m         \u001b[1;32mif\u001b[0m \u001b[0mnp\u001b[0m\u001b[1;33m.\u001b[0m\u001b[0many\u001b[0m\u001b[1;33m(\u001b[0m\u001b[0mnp\u001b[0m\u001b[1;33m.\u001b[0m\u001b[0mdiff\u001b[0m\u001b[1;33m(\u001b[0m\u001b[0msteps\u001b[0m\u001b[1;33m)\u001b[0m \u001b[1;33m<=\u001b[0m \u001b[1;36m0\u001b[0m\u001b[1;33m)\u001b[0m \u001b[1;32mor\u001b[0m \u001b[0msteps\u001b[0m\u001b[1;33m[\u001b[0m\u001b[1;33m-\u001b[0m\u001b[1;36m1\u001b[0m\u001b[1;33m]\u001b[0m \u001b[1;33m>\u001b[0m \u001b[1;36m10\u001b[0m \u001b[1;32mor\u001b[0m \u001b[0msteps\u001b[0m\u001b[1;33m[\u001b[0m\u001b[1;36m0\u001b[0m\u001b[1;33m]\u001b[0m \u001b[1;33m<\u001b[0m \u001b[1;36m1\u001b[0m\u001b[1;33m:\u001b[0m\u001b[1;33m\u001b[0m\u001b[1;33m\u001b[0m\u001b[0m\n\u001b[0m\u001b[0;32m   2166\u001b[0m             raise ValueError('steps argument must be an increasing sequence '\n\u001b[0;32m   2167\u001b[0m                              'of numbers between 1 and 10 inclusive')\n",
      "\u001b[1;32m<__array_function__ internals>\u001b[0m in \u001b[0;36many\u001b[1;34m(*args, **kwargs)\u001b[0m\n",
      "\u001b[1;32m~\\Anaconda3\\lib\\site-packages\\numpy\\core\\fromnumeric.py\u001b[0m in \u001b[0;36many\u001b[1;34m(a, axis, out, keepdims)\u001b[0m\n\u001b[0;32m   2328\u001b[0m \u001b[1;33m\u001b[0m\u001b[0m\n\u001b[0;32m   2329\u001b[0m     \"\"\"\n\u001b[1;32m-> 2330\u001b[1;33m     \u001b[1;32mreturn\u001b[0m \u001b[0m_wrapreduction\u001b[0m\u001b[1;33m(\u001b[0m\u001b[0ma\u001b[0m\u001b[1;33m,\u001b[0m \u001b[0mnp\u001b[0m\u001b[1;33m.\u001b[0m\u001b[0mlogical_or\u001b[0m\u001b[1;33m,\u001b[0m \u001b[1;34m'any'\u001b[0m\u001b[1;33m,\u001b[0m \u001b[0maxis\u001b[0m\u001b[1;33m,\u001b[0m \u001b[1;32mNone\u001b[0m\u001b[1;33m,\u001b[0m \u001b[0mout\u001b[0m\u001b[1;33m,\u001b[0m \u001b[0mkeepdims\u001b[0m\u001b[1;33m=\u001b[0m\u001b[0mkeepdims\u001b[0m\u001b[1;33m)\u001b[0m\u001b[1;33m\u001b[0m\u001b[1;33m\u001b[0m\u001b[0m\n\u001b[0m\u001b[0;32m   2331\u001b[0m \u001b[1;33m\u001b[0m\u001b[0m\n\u001b[0;32m   2332\u001b[0m \u001b[1;33m\u001b[0m\u001b[0m\n",
      "\u001b[1;32m~\\Anaconda3\\lib\\site-packages\\numpy\\core\\fromnumeric.py\u001b[0m in \u001b[0;36m_wrapreduction\u001b[1;34m(obj, ufunc, method, axis, dtype, out, **kwargs)\u001b[0m\n\u001b[0;32m     69\u001b[0m \u001b[1;33m\u001b[0m\u001b[0m\n\u001b[0;32m     70\u001b[0m \u001b[1;32mdef\u001b[0m \u001b[0m_wrapreduction\u001b[0m\u001b[1;33m(\u001b[0m\u001b[0mobj\u001b[0m\u001b[1;33m,\u001b[0m \u001b[0mufunc\u001b[0m\u001b[1;33m,\u001b[0m \u001b[0mmethod\u001b[0m\u001b[1;33m,\u001b[0m \u001b[0maxis\u001b[0m\u001b[1;33m,\u001b[0m \u001b[0mdtype\u001b[0m\u001b[1;33m,\u001b[0m \u001b[0mout\u001b[0m\u001b[1;33m,\u001b[0m \u001b[1;33m**\u001b[0m\u001b[0mkwargs\u001b[0m\u001b[1;33m)\u001b[0m\u001b[1;33m:\u001b[0m\u001b[1;33m\u001b[0m\u001b[1;33m\u001b[0m\u001b[0m\n\u001b[1;32m---> 71\u001b[1;33m     passkwargs = {k: v for k, v in kwargs.items()\n\u001b[0m\u001b[0;32m     72\u001b[0m                   if v is not np._NoValue}\n\u001b[0;32m     73\u001b[0m \u001b[1;33m\u001b[0m\u001b[0m\n",
      "\u001b[1;32m~\\Anaconda3\\lib\\site-packages\\numpy\\core\\fromnumeric.py\u001b[0m in \u001b[0;36m<dictcomp>\u001b[1;34m(.0)\u001b[0m\n\u001b[0;32m     69\u001b[0m \u001b[1;33m\u001b[0m\u001b[0m\n\u001b[0;32m     70\u001b[0m \u001b[1;32mdef\u001b[0m \u001b[0m_wrapreduction\u001b[0m\u001b[1;33m(\u001b[0m\u001b[0mobj\u001b[0m\u001b[1;33m,\u001b[0m \u001b[0mufunc\u001b[0m\u001b[1;33m,\u001b[0m \u001b[0mmethod\u001b[0m\u001b[1;33m,\u001b[0m \u001b[0maxis\u001b[0m\u001b[1;33m,\u001b[0m \u001b[0mdtype\u001b[0m\u001b[1;33m,\u001b[0m \u001b[0mout\u001b[0m\u001b[1;33m,\u001b[0m \u001b[1;33m**\u001b[0m\u001b[0mkwargs\u001b[0m\u001b[1;33m)\u001b[0m\u001b[1;33m:\u001b[0m\u001b[1;33m\u001b[0m\u001b[1;33m\u001b[0m\u001b[0m\n\u001b[1;32m---> 71\u001b[1;33m     passkwargs = {k: v for k, v in kwargs.items()\n\u001b[0m\u001b[0;32m     72\u001b[0m                   if v is not np._NoValue}\n\u001b[0;32m     73\u001b[0m \u001b[1;33m\u001b[0m\u001b[0m\n",
      "\u001b[1;31mKeyboardInterrupt\u001b[0m: "
     ]
    },
    {
     "data": {
      "image/png": "[encoded data removed]",
      "text/plain": [
       "<Figure size 1584x3600 with 3 Axes>"
      ]
     },
     "metadata": {
      "needs_background": "light"
     },
     "output_type": "display_data"
    }
   ],
   "source": [
    "#standard\n",
    "fig = plt.figure(figsize=(22, 50))\n",
    "for i, n in enumerate(numeric_cols):\n",
    "    plt.subplot(10, 2, i+1)\n",
    "    plt.subplots_adjust(hspace=0.3)\n",
    "    sns.histplot(apps[n])"
   ]
  },
  {
   "cell_type": "markdown",
   "metadata": {
    "id": "5X_qH6ZHaU20"
   },
   "source": [
    "## 전용면적 상/하한 적용\n",
    "\n",
    "상한100, 하한 15"
   ]
  },
  {
   "cell_type": "code",
   "execution_count": null,
   "metadata": {
    "id": "Z7j_IRMAaU20"
   },
   "outputs": [],
   "source": [
    "# apps['전용면적']"
   ]
  },
  {
   "cell_type": "code",
   "execution_count": null,
   "metadata": {
    "colab": {
     "base_uri": "https://localhost:8080/"
    },
    "executionInfo": {
     "elapsed": 56,
     "status": "ok",
     "timestamp": 1624716829858,
     "user": {
      "displayName": "강은영",
      "photoUrl": "https://lh3.googleusercontent.com/a-/AOh14Gjy66CDAcyXsALCf0rphNoHtH-LG6qhHqqSC2Gbhw=s64",
      "userId": "13345059186417356878"
     },
     "user_tz": -540
    },
    "id": "73IP63fcaU21",
    "outputId": "d111e166-a01b-4af0-86b8-ed75e916cbeb"
   },
   "outputs": [],
   "source": [
    "plt.subplots_adjust(hspace=0.3)\n",
    "sns.histplot(apps['전용면적'])"
   ]
  },
  {
   "cell_type": "code",
   "execution_count": null,
   "metadata": {
    "colab": {
     "base_uri": "https://localhost:8080/"
    },
    "executionInfo": {
     "elapsed": 31,
     "status": "ok",
     "timestamp": 1624716829860,
     "user": {
      "displayName": "강은영",
      "photoUrl": "https://lh3.googleusercontent.com/a-/AOh14Gjy66CDAcyXsALCf0rphNoHtH-LG6qhHqqSC2Gbhw=s64",
      "userId": "13345059186417356878"
     },
     "user_tz": -540
    },
    "id": "xrN8X7f2aU22",
    "outputId": "59bedcc3-371e-4033-aeae-4c91a222ae9a",
    "scrolled": false
   },
   "outputs": [],
   "source": [
    "apps['전용면적'].hist()"
   ]
  },
  {
   "cell_type": "code",
   "execution_count": null,
   "metadata": {
    "colab": {
     "base_uri": "https://localhost:8080/"
    },
    "executionInfo": {
     "elapsed": 607,
     "status": "ok",
     "timestamp": 1624716830441,
     "user": {
      "displayName": "강은영",
      "photoUrl": "https://lh3.googleusercontent.com/a-/AOh14Gjy66CDAcyXsALCf0rphNoHtH-LG6qhHqqSC2Gbhw=s64",
      "userId": "13345059186417356878"
     },
     "user_tz": -540
    },
    "id": "n0leWwCAaU22",
    "outputId": "b390501d-9270-47fc-8a1f-4780ad107988",
    "scrolled": false
   },
   "outputs": [],
   "source": [
    "sns.boxplot(apps['전용면적'])"
   ]
  },
  {
   "cell_type": "code",
   "execution_count": null,
   "metadata": {
    "colab": {
     "base_uri": "https://localhost:8080/"
    },
    "executionInfo": {
     "elapsed": 38,
     "status": "ok",
     "timestamp": 1624716830446,
     "user": {
      "displayName": "강은영",
      "photoUrl": "https://lh3.googleusercontent.com/a-/AOh14Gjy66CDAcyXsALCf0rphNoHtH-LG6qhHqqSC2Gbhw=s64",
      "userId": "13345059186417356878"
     },
     "user_tz": -540
    },
    "id": "b9pBBYHHaU23",
    "outputId": "4c8c6678-470b-4767-f56f-66b27effeab7"
   },
   "outputs": [],
   "source": [
    "apps['전용면적'].describe()"
   ]
  },
  {
   "cell_type": "markdown",
   "metadata": {
    "id": "OvU_10SPaU24"
   },
   "source": [
    "- max        580\n",
    "- min         5"
   ]
  },
  {
   "cell_type": "code",
   "execution_count": null,
   "metadata": {
    "colab": {
     "base_uri": "https://localhost:8080/"
    },
    "executionInfo": {
     "elapsed": 38,
     "status": "ok",
     "timestamp": 1624716830457,
     "user": {
      "displayName": "강은영",
      "photoUrl": "https://lh3.googleusercontent.com/a-/AOh14Gjy66CDAcyXsALCf0rphNoHtH-LG6qhHqqSC2Gbhw=s64",
      "userId": "13345059186417356878"
     },
     "user_tz": -540
    },
    "id": "xOjYK070aU26",
    "outputId": "a36adc2b-4a65-49e5-d377-95d41c69985a"
   },
   "outputs": [],
   "source": [
    "a=apps.loc[apps['전용면적'] <= 15]\n",
    "a['전용면적'].count()"
   ]
  },
  {
   "cell_type": "code",
   "execution_count": null,
   "metadata": {},
   "outputs": [],
   "source": [
    "b=apps.loc[apps['전용면적']>=80]\n",
    "b['전용면적'].count()"
   ]
  },
  {
   "cell_type": "markdown",
   "metadata": {
    "id": "ygolqmaYaU3Q"
   },
   "source": [
    "## label_encoder"
   ]
  },
  {
   "cell_type": "code",
   "execution_count": null,
   "metadata": {
    "id": "hHzd18EFaU3Q"
   },
   "outputs": [],
   "source": [
    "# from sklearn import preprocessing\n",
    "# label_encoder=preprocessing.LabelEncoder()"
   ]
  },
  {
   "cell_type": "code",
   "execution_count": null,
   "metadata": {
    "colab": {
     "base_uri": "https://localhost:8080/"
    },
    "executionInfo": {
     "elapsed": 29,
     "status": "ok",
     "timestamp": 1624716832196,
     "user": {
      "displayName": "강은영",
      "photoUrl": "https://lh3.googleusercontent.com/a-/AOh14Gjy66CDAcyXsALCf0rphNoHtH-LG6qhHqqSC2Gbhw=s64",
      "userId": "13345059186417356878"
     },
     "user_tz": -540
    },
    "id": "sblzcc6daU3R",
    "outputId": "7b14c7f7-a8b7-4e58-8663-20d0e4e9cf45"
   },
   "outputs": [],
   "source": [
    "# Label 인코딩을 위해 object 유형의 컬럼만 추출 \n",
    "object_columns = apps.dtypes[apps.dtypes == 'object'].index.tolist()\n",
    "object_columns"
   ]
  },
  {
   "cell_type": "code",
   "execution_count": null,
   "metadata": {
    "id": "z4n4GiaJaU3T"
   },
   "outputs": [],
   "source": [
    "object_columns.remove('단지코드')"
   ]
  },
  {
   "cell_type": "code",
   "execution_count": null,
   "metadata": {
    "colab": {
     "base_uri": "https://localhost:8080/"
    },
    "executionInfo": {
     "elapsed": 29,
     "status": "ok",
     "timestamp": 1624716832199,
     "user": {
      "displayName": "강은영",
      "photoUrl": "https://lh3.googleusercontent.com/a-/AOh14Gjy66CDAcyXsALCf0rphNoHtH-LG6qhHqqSC2Gbhw=s64",
      "userId": "13345059186417356878"
     },
     "user_tz": -540
    },
    "id": "4uqKtCywaU3U",
    "outputId": "56585093-9e1b-45eb-e9a2-262534d40254"
   },
   "outputs": [],
   "source": [
    "object_columns"
   ]
  },
  {
   "cell_type": "code",
   "execution_count": null,
   "metadata": {
    "id": "v2AOoPigaU3U"
   },
   "outputs": [],
   "source": [
    "# pd.factorize()는 한개의 컬럼만 Label 인코딩이 가능하므로 object형 컬럼들을 iteration하면서 변환 수행. \n",
    "for column in object_columns:\n",
    "    apps[column] = pd.factorize(apps[column])[0]"
   ]
  },
  {
   "cell_type": "code",
   "execution_count": null,
   "metadata": {
    "colab": {
     "base_uri": "https://localhost:8080/"
    },
    "executionInfo": {
     "elapsed": 28,
     "status": "ok",
     "timestamp": 1624716832201,
     "user": {
      "displayName": "강은영",
      "photoUrl": "https://lh3.googleusercontent.com/a-/AOh14Gjy66CDAcyXsALCf0rphNoHtH-LG6qhHqqSC2Gbhw=s64",
      "userId": "13345059186417356878"
     },
     "user_tz": -540
    },
    "id": "dAE1tGaMaU3W",
    "outputId": "f10ec0ce-452c-4f9f-e4dd-62299a28ebe4"
   },
   "outputs": [],
   "source": [
    "apps.info()"
   ]
  },
  {
   "cell_type": "markdown",
   "metadata": {
    "id": "N5ooPkKDaU3X"
   },
   "source": [
    "## Skewness Kurtosis"
   ]
  },
  {
   "cell_type": "code",
   "execution_count": null,
   "metadata": {
    "colab": {
     "base_uri": "https://localhost:8080/"
    },
    "executionInfo": {
     "elapsed": 754,
     "status": "ok",
     "timestamp": 1624716832929,
     "user": {
      "displayName": "강은영",
      "photoUrl": "https://lh3.googleusercontent.com/a-/AOh14Gjy66CDAcyXsALCf0rphNoHtH-LG6qhHqqSC2Gbhw=s64",
      "userId": "13345059186417356878"
     },
     "user_tz": -540
    },
    "id": "YBLgpLZXaU3X",
    "outputId": "963f94ab-8f99-450b-880e-03bd1cd25e13",
    "scrolled": false
   },
   "outputs": [],
   "source": [
    "f, ax = plt.subplots(figsize = (10, 6))\n",
    "sns.distplot(apps[\"총세대수\"])\n",
    "print(\"Skewness: {:.3f}\".format(apps[\"총세대수\"].skew())) \n",
    "print(\"Kurtosis: {:.3f}\".format(apps[\"총세대수\"].kurt()))"
   ]
  },
  {
   "cell_type": "code",
   "execution_count": null,
   "metadata": {
    "colab": {
     "base_uri": "https://localhost:8080/"
    },
    "executionInfo": {
     "elapsed": 27,
     "status": "ok",
     "timestamp": 1624716832936,
     "user": {
      "displayName": "강은영",
      "photoUrl": "https://lh3.googleusercontent.com/a-/AOh14Gjy66CDAcyXsALCf0rphNoHtH-LG6qhHqqSC2Gbhw=s64",
      "userId": "13345059186417356878"
     },
     "user_tz": -540
    },
    "id": "dzfEkLMaaU3Y",
    "outputId": "7f3a6488-2a33-41a6-c7c9-98a7899ecf6b"
   },
   "outputs": [],
   "source": [
    "#apps[\"총세대수\"] = np.log1p(apps[\"총세대수\"]) \n",
    "\n",
    "#f, ax = plt.subplots(figsize = (10, 6)) \n",
    "\n",
    "#sns.distplot(apps[\"총세대수\"]) \n",
    "\n",
    "#print(\"Skewness: {:.3f}\".format(apps[\"총세대수\"].skew()))\n",
    "#print(\"Kurtosis: {:.3f}\".format(apps[\"총세대수\"].kurt()))"
   ]
  },
  {
   "cell_type": "markdown",
   "metadata": {},
   "source": [
    "- Skewness: -0.866\n",
    "- Kurtosis: 1.868\n",
    "- 더 안좋아지는 것 같아서 주석처리함"
   ]
  },
  {
   "cell_type": "code",
   "execution_count": null,
   "metadata": {
    "colab": {
     "base_uri": "https://localhost:8080/"
    },
    "executionInfo": {
     "elapsed": 890,
     "status": "ok",
     "timestamp": 1624716833809,
     "user": {
      "displayName": "강은영",
      "photoUrl": "https://lh3.googleusercontent.com/a-/AOh14Gjy66CDAcyXsALCf0rphNoHtH-LG6qhHqqSC2Gbhw=s64",
      "userId": "13345059186417356878"
     },
     "user_tz": -540
    },
    "id": "4cYaknzYaU3e",
    "outputId": "1141de50-4146-40ca-d725-ada4579f0939"
   },
   "outputs": [],
   "source": [
    "f, ax = plt.subplots(figsize = (10, 6))\n",
    "sns.distplot(apps[\"공가수\"])\n",
    "print(\"Skewness: {:.3f}\".format(apps[\"공가수\"].skew())) \n",
    "print(\"Kurtosis: {:.3f}\".format(apps[\"공가수\"].kurt()))"
   ]
  },
  {
   "cell_type": "code",
   "execution_count": null,
   "metadata": {
    "colab": {
     "base_uri": "https://localhost:8080/"
    },
    "executionInfo": {
     "elapsed": 16,
     "status": "ok",
     "timestamp": 1624716833811,
     "user": {
      "displayName": "강은영",
      "photoUrl": "https://lh3.googleusercontent.com/a-/AOh14Gjy66CDAcyXsALCf0rphNoHtH-LG6qhHqqSC2Gbhw=s64",
      "userId": "13345059186417356878"
     },
     "user_tz": -540
    },
    "id": "54wuugbSaU3f",
    "outputId": "4d620849-69b6-412f-e6b9-55d5cd09ea61"
   },
   "outputs": [],
   "source": [
    "f, ax = plt.subplots(figsize = (10, 6))\n",
    "sns.distplot(apps[\"임대료\"])\n",
    "print(\"Skewness: {:.3f}\".format(apps[\"임대료\"].skew())) \n",
    "print(\"Kurtosis: {:.3f}\".format(apps[\"임대료\"].kurt()))"
   ]
  },
  {
   "cell_type": "code",
   "execution_count": null,
   "metadata": {
    "colab": {
     "base_uri": "https://localhost:8080/"
    },
    "executionInfo": {
     "elapsed": 860,
     "status": "ok",
     "timestamp": 1624716834659,
     "user": {
      "displayName": "강은영",
      "photoUrl": "https://lh3.googleusercontent.com/a-/AOh14Gjy66CDAcyXsALCf0rphNoHtH-LG6qhHqqSC2Gbhw=s64",
      "userId": "13345059186417356878"
     },
     "user_tz": -540
    },
    "id": "j6o78bl1aU3j",
    "outputId": "7bf05d0c-dc30-46d9-e588-f8cff8c5e2fb"
   },
   "outputs": [],
   "source": [
    "# apps[\"임대료\"] = np.log1p(apps[\"임대료\"]) \n",
    "\n",
    "# f, ax = plt.subplots(figsize = (10, 6)) \n",
    "\n",
    "# sns.distplot(apps[\"임대료\"]) \n",
    "\n",
    "# print(\"Skewness: {:.3f}\".format(apps[\"임대료\"].skew()))\n",
    "# print(\"Kurtosis: {:.3f}\".format(apps[\"임대료\"].kurt()))"
   ]
  },
  {
   "cell_type": "code",
   "execution_count": null,
   "metadata": {
    "colab": {
     "base_uri": "https://localhost:8080/"
    },
    "executionInfo": {
     "elapsed": 17,
     "status": "ok",
     "timestamp": 1624716834661,
     "user": {
      "displayName": "강은영",
      "photoUrl": "https://lh3.googleusercontent.com/a-/AOh14Gjy66CDAcyXsALCf0rphNoHtH-LG6qhHqqSC2Gbhw=s64",
      "userId": "13345059186417356878"
     },
     "user_tz": -540
    },
    "id": "8DLzzJsQaU3k",
    "outputId": "c3cd1962-d455-44f1-d322-325beabb798a"
   },
   "outputs": [],
   "source": [
    "f, ax = plt.subplots(figsize = (10, 6))\n",
    "sns.distplot(apps[\"임대보증금\"])\n",
    "print(\"Skewness: {:.3f}\".format(apps[\"임대보증금\"].skew())) \n",
    "print(\"Kurtosis: {:.3f}\".format(apps[\"임대보증금\"].kurt()))"
   ]
  },
  {
   "cell_type": "code",
   "execution_count": null,
   "metadata": {
    "colab": {
     "base_uri": "https://localhost:8080/"
    },
    "executionInfo": {
     "elapsed": 1001,
     "status": "ok",
     "timestamp": 1624716835648,
     "user": {
      "displayName": "강은영",
      "photoUrl": "https://lh3.googleusercontent.com/a-/AOh14Gjy66CDAcyXsALCf0rphNoHtH-LG6qhHqqSC2Gbhw=s64",
      "userId": "13345059186417356878"
     },
     "user_tz": -540
    },
    "id": "JoVgYJXpaU3l",
    "outputId": "96ab79a0-9349-4748-c8e1-78b493737a0a"
   },
   "outputs": [],
   "source": [
    "apps[\"임대보증금\"] = np.log1p(apps[\"임대보증금\"]) \n",
    "\n",
    "f, ax = plt.subplots(figsize = (10, 6)) \n",
    "\n",
    "sns.distplot(apps[\"임대보증금\"]) \n",
    "\n",
    "print(\"Skewness: {:.3f}\".format(apps[\"임대보증금\"].skew()))\n",
    "print(\"Kurtosis: {:.3f}\".format(apps[\"임대보증금\"].kurt()))"
   ]
  },
  {
   "cell_type": "code",
   "execution_count": null,
   "metadata": {},
   "outputs": [],
   "source": [
    "apps[\"임대료\"] = np.log1p(apps[\"임대료\"]) \n",
    "\n",
    "f, ax = plt.subplots(figsize = (10, 6)) \n",
    "\n",
    "sns.distplot(apps[\"임대료\"]) \n",
    "\n",
    "print(\"Skewness: {:.3f}\".format(apps[\"임대료\"].skew()))\n",
    "print(\"Kurtosis: {:.3f}\".format(apps[\"임대료\"].kurt()))"
   ]
  },
  {
   "cell_type": "code",
   "execution_count": null,
   "metadata": {
    "colab": {
     "base_uri": "https://localhost:8080/"
    },
    "executionInfo": {
     "elapsed": 30,
     "status": "ok",
     "timestamp": 1624716835651,
     "user": {
      "displayName": "강은영",
      "photoUrl": "https://lh3.googleusercontent.com/a-/AOh14Gjy66CDAcyXsALCf0rphNoHtH-LG6qhHqqSC2Gbhw=s64",
      "userId": "13345059186417356878"
     },
     "user_tz": -540
    },
    "id": "6Xm1w7hUaU3m",
    "outputId": "070a0f24-48cb-4750-c170-0a846c506dff"
   },
   "outputs": [],
   "source": [
    "f, ax = plt.subplots(figsize = (10, 6))\n",
    "sns.distplot(apps[\"단지내주차면수\"])\n",
    "print(\"Skewness: {:.3f}\".format(apps[\"단지내주차면수\"].skew())) \n",
    "print(\"Kurtosis: {:.3f}\".format(apps[\"단지내주차면수\"].kurt()))"
   ]
  },
  {
   "cell_type": "code",
   "execution_count": null,
   "metadata": {
    "colab": {
     "base_uri": "https://localhost:8080/"
    },
    "executionInfo": {
     "elapsed": 26,
     "status": "ok",
     "timestamp": 1624716835652,
     "user": {
      "displayName": "강은영",
      "photoUrl": "https://lh3.googleusercontent.com/a-/AOh14Gjy66CDAcyXsALCf0rphNoHtH-LG6qhHqqSC2Gbhw=s64",
      "userId": "13345059186417356878"
     },
     "user_tz": -540
    },
    "id": "ruD8fIHNaU3m",
    "outputId": "25849c8c-98ea-41d9-e5c9-fc015b53fed7"
   },
   "outputs": [],
   "source": [
    "f, ax = plt.subplots(figsize = (10, 6))\n",
    "sns.distplot(apps[\"전용면적\"])\n",
    "print(\"Skewness: {:.3f}\".format(apps[\"전용면적\"].skew())) \n",
    "print(\"Kurtosis: {:.3f}\".format(apps[\"전용면적\"].kurt()))"
   ]
  },
  {
   "cell_type": "markdown",
   "metadata": {
    "id": "59ipeiXraU3o"
   },
   "source": [
    "## Null값 추가처리 필요"
   ]
  },
  {
   "cell_type": "code",
   "execution_count": null,
   "metadata": {},
   "outputs": [],
   "source": [
    "apps.isna().sum()"
   ]
  },
  {
   "cell_type": "code",
   "execution_count": null,
   "metadata": {},
   "outputs": [],
   "source": [
    "apps['임대보증금'] = apps['임대보증금'].fillna(0)"
   ]
  },
  {
   "cell_type": "code",
   "execution_count": null,
   "metadata": {},
   "outputs": [],
   "source": [
    "apps['임대료'] = apps['임대료'].fillna(0)"
   ]
  },
  {
   "cell_type": "code",
   "execution_count": null,
   "metadata": {},
   "outputs": [],
   "source": [
    "apps.isna().sum()"
   ]
  },
  {
   "cell_type": "markdown",
   "metadata": {
    "id": "HKMJFA9saU3o"
   },
   "source": [
    "## 등록차량수 Null값을 기준으로 train, test분리"
   ]
  },
  {
   "cell_type": "code",
   "execution_count": null,
   "metadata": {
    "id": "AMZ2mqjtaU3p"
   },
   "outputs": [],
   "source": [
    "# -999로 모든 컬럼들의 Null값 변환\n",
    "apps['등록차량수'] = apps['등록차량수'].fillna(-999)"
   ]
  },
  {
   "cell_type": "code",
   "execution_count": null,
   "metadata": {
    "colab": {
     "base_uri": "https://localhost:8080/"
    },
    "executionInfo": {
     "elapsed": 26,
     "status": "ok",
     "timestamp": 1624716835655,
     "user": {
      "displayName": "강은영",
      "photoUrl": "https://lh3.googleusercontent.com/a-/AOh14Gjy66CDAcyXsALCf0rphNoHtH-LG6qhHqqSC2Gbhw=s64",
      "userId": "13345059186417356878"
     },
     "user_tz": -540
    },
    "id": "E7LI0cfyaU3p",
    "outputId": "def8752c-dbf5-46cf-f169-6ce29d803ca0"
   },
   "outputs": [],
   "source": [
    "# app_test의 TARGET 컬럼은 원래 null이었는데 앞에서 fillna(-999)로 -999로 변환됨. 이를 추출함. \n",
    "app_train = apps[apps['등록차량수'] != -999]\n",
    "app_test = apps[apps['등록차량수']== -999]\n",
    "app_train.shape, app_test.shape"
   ]
  },
  {
   "cell_type": "code",
   "execution_count": null,
   "metadata": {
    "id": "rKf0GSx-aU3q"
   },
   "outputs": [],
   "source": [
    "# app_test의 TARGET컬럼을 Drop\n",
    "app_test = app_test.drop('등록차량수', axis=1)"
   ]
  },
  {
   "cell_type": "code",
   "execution_count": null,
   "metadata": {
    "colab": {
     "base_uri": "https://localhost:8080/"
    },
    "executionInfo": {
     "elapsed": 25,
     "status": "ok",
     "timestamp": 1624716835656,
     "user": {
      "displayName": "강은영",
      "photoUrl": "https://lh3.googleusercontent.com/a-/AOh14Gjy66CDAcyXsALCf0rphNoHtH-LG6qhHqqSC2Gbhw=s64",
      "userId": "13345059186417356878"
     },
     "user_tz": -540
    },
    "id": "mpghovSBaU3q",
    "outputId": "bb8bfd12-02c5-4a19-f5bb-536603c58f21",
    "scrolled": true
   },
   "outputs": [],
   "source": [
    "app_train.shape, app_test.shape"
   ]
  },
  {
   "cell_type": "code",
   "execution_count": null,
   "metadata": {},
   "outputs": [],
   "source": [
    "app_train.isna().sum()"
   ]
  },
  {
   "cell_type": "code",
   "execution_count": null,
   "metadata": {},
   "outputs": [],
   "source": [
    "app_test.isna().sum()"
   ]
  },
  {
   "cell_type": "markdown",
   "metadata": {
    "id": "jUlrjT3daU3r"
   },
   "source": [
    "### 상관관계"
   ]
  },
  {
   "cell_type": "code",
   "execution_count": null,
   "metadata": {
    "colab": {
     "base_uri": "https://localhost:8080/"
    },
    "executionInfo": {
     "elapsed": 1508,
     "status": "ok",
     "timestamp": 1624716837141,
     "user": {
      "displayName": "강은영",
      "photoUrl": "https://lh3.googleusercontent.com/a-/AOh14Gjy66CDAcyXsALCf0rphNoHtH-LG6qhHqqSC2Gbhw=s64",
      "userId": "13345059186417356878"
     },
     "user_tz": -540
    },
    "id": "dJZcZOP1aU3s",
    "outputId": "b8bfeb90-0fc9-4e65-f710-c3e818950bf6",
    "scrolled": false
   },
   "outputs": [],
   "source": [
    "corr_columns = ['총세대수',  '전용면적', '전용면적별세대수', '공가수',\n",
    "    '임대보증금', '지하철', '버스',\n",
    "    '단지내주차면수','등록차량수']\n",
    "\n",
    "\n",
    "corr = app_train[corr_columns].corr()\n",
    "plt.figure(figsize=(15,15))\n",
    "sns.heatmap(corr, annot=True)\n",
    "# plt.savefig('apps_상관관계도_상가drop_보증금평균_외도척도안하면_임대료drop.png')"
   ]
  },
  {
   "cell_type": "markdown",
   "metadata": {
    "id": "kKzmCjf9aU3t"
   },
   "source": [
    "## 단지별 데이터 1차원으로 취합"
   ]
  },
  {
   "cell_type": "code",
   "execution_count": null,
   "metadata": {
    "id": "-u059yNfaU3t"
   },
   "outputs": [],
   "source": [
    "columns = ['단지코드', '총세대수', '임대건물구분', '지역', '공급유형', '전용면적', '전용면적별세대수', '공가수', '신분',\n",
    "    '임대보증금', '임대료', '지하철', '버스','단지내주차면수']\n",
    "target = '등록차량수'\n",
    "area_columns = []\n",
    "for area in app_train['전용면적'].unique():\n",
    "    area_columns.append(f'면적_{area}')"
   ]
  },
  {
   "cell_type": "code",
   "execution_count": null,
   "metadata": {},
   "outputs": [],
   "source": [
    "area_columns"
   ]
  },
  {
   "cell_type": "code",
   "execution_count": null,
   "metadata": {
    "id": "pCz0miG0aU3u"
   },
   "outputs": [],
   "source": [
    "new_train = pd.DataFrame()\n",
    "new_test = pd.DataFrame()"
   ]
  },
  {
   "cell_type": "code",
   "execution_count": null,
   "metadata": {
    "scrolled": true
   },
   "outputs": [],
   "source": [
    "# train.loc[train['단지코드']=='C2532']"
   ]
  },
  {
   "cell_type": "code",
   "execution_count": null,
   "metadata": {},
   "outputs": [],
   "source": [
    "app_train['임대건물구분'].value_counts()"
   ]
  },
  {
   "cell_type": "code",
   "execution_count": null,
   "metadata": {},
   "outputs": [],
   "source": [
    "app_train.isna().sum()"
   ]
  },
  {
   "cell_type": "code",
   "execution_count": null,
   "metadata": {
    "scrolled": false
   },
   "outputs": [],
   "source": [
    "len(app_train['단지코드'].unique())"
   ]
  },
  {
   "cell_type": "code",
   "execution_count": null,
   "metadata": {},
   "outputs": [],
   "source": [
    "for i,code in tqdm(enumerate(app_train['단지코드'].unique())):\n",
    "    temp=app_train[app_train['단지코드']==code]\n",
    "    temp.index = range(temp.shape[0])\n",
    "    \n",
    "    for col in columns:\n",
    "        new_train.loc[i,col]=temp.loc[0,col]\n",
    "    for j,area in enumerate(temp['전용면적'].unique()):\n",
    "        area_temp=temp[temp['전용면적']==area]\n",
    "        home=0\n",
    "        for _,k in area_temp.iterrows():\n",
    "            home = home + k['전용면적별세대수']\n",
    "        for aa in area_columns:\n",
    "            area_item = float(aa.split('_')[-1])\n",
    "            if area_item==area:\n",
    "                new_train.loc[i,aa]=home\n",
    "    cal =0\n",
    "    for _,k in temp.iterrows():\n",
    "        cal = cal + (k['임대보증금']*k['전용면적별세대수'])\n",
    "    cal= cal/temp['전용면적별세대수'].sum()\n",
    "    new_train.loc[i,'임대보증금']=cal\n",
    "        \n",
    "    cal =0\n",
    "    for _,k in temp.iterrows():\n",
    "        cal = cal + (k['임대료']*k['전용면적별세대수'])\n",
    "    cal= cal/temp['전용면적별세대수'].sum()\n",
    "    new_train.loc[i,'임대료']=cal   \n",
    "    \n",
    "    new_train.loc[i, '등록차량수'] = temp.loc[0, '등록차량수']\n",
    "\n",
    "    \n",
    "    \n",
    "for i,code in tqdm(enumerate(app_test['단지코드'].unique())):\n",
    "    temp=app_test[app_test['단지코드']==code]\n",
    "    temp.index = range(temp.shape[0])\n",
    "    \n",
    "    for col in columns:\n",
    "        new_test.loc[i,col]=temp.loc[0,col]\n",
    "    for j,area in enumerate(temp['전용면적'].unique()):\n",
    "        area_temp=temp[temp['전용면적']==area]\n",
    "        home=0\n",
    "        for _,k in area_temp.iterrows():\n",
    "            home = home + k['전용면적별세대수']\n",
    "        for aa in area_columns:\n",
    "            area_item = float(aa.split('_')[-1])\n",
    "            if area_item==area:\n",
    "                new_test.loc[i,aa]=home\n",
    "    cal =0\n",
    "    for _,k in temp.iterrows():\n",
    "        cal = cal + (k['임대보증금']*k['전용면적별세대수'])\n",
    "    cal= cal/temp['전용면적별세대수'].sum()\n",
    "    new_test.loc[i,'임대보증금']=cal\n",
    "    \n",
    "    \n",
    "    cal =0\n",
    "    for _,k in temp.iterrows():\n",
    "        cal = cal + (k['임대료']*k['전용면적별세대수'])\n",
    "    cal= cal/temp['전용면적별세대수'].sum()\n",
    "    new_test.loc[i,'임대료']=cal"
   ]
  },
  {
   "cell_type": "code",
   "execution_count": null,
   "metadata": {},
   "outputs": [],
   "source": [
    "a = new_train['등록차량수']"
   ]
  },
  {
   "cell_type": "code",
   "execution_count": null,
   "metadata": {},
   "outputs": [],
   "source": [
    "a"
   ]
  },
  {
   "cell_type": "code",
   "execution_count": null,
   "metadata": {},
   "outputs": [],
   "source": [
    "new_train.drop(['등록차량수'],axis=1,inplace=True)"
   ]
  },
  {
   "cell_type": "code",
   "execution_count": null,
   "metadata": {},
   "outputs": [],
   "source": [
    "new_train['등록차량수']= a"
   ]
  },
  {
   "cell_type": "code",
   "execution_count": null,
   "metadata": {},
   "outputs": [],
   "source": [
    "new_train"
   ]
  },
  {
   "cell_type": "code",
   "execution_count": null,
   "metadata": {},
   "outputs": [],
   "source": [
    "new_test"
   ]
  },
  {
   "cell_type": "code",
   "execution_count": null,
   "metadata": {
    "id": "nqpu6IZ9aU3w"
   },
   "outputs": [],
   "source": [
    "new_train.drop(['전용면적','전용면적별세대수'],axis=1,inplace=True)"
   ]
  },
  {
   "cell_type": "code",
   "execution_count": null,
   "metadata": {
    "colab": {
     "base_uri": "https://localhost:8080/"
    },
    "executionInfo": {
     "elapsed": 60,
     "status": "ok",
     "timestamp": 1624716851551,
     "user": {
      "displayName": "강은영",
      "photoUrl": "https://lh3.googleusercontent.com/a-/AOh14Gjy66CDAcyXsALCf0rphNoHtH-LG6qhHqqSC2Gbhw=s64",
      "userId": "13345059186417356878"
     },
     "user_tz": -540
    },
    "id": "Bcxe_mwcaU3x",
    "outputId": "f350f101-f07e-40dc-9488-6dee339a092d"
   },
   "outputs": [],
   "source": [
    "new_train.info()"
   ]
  },
  {
   "cell_type": "code",
   "execution_count": null,
   "metadata": {
    "id": "lT71OGUYaU3x"
   },
   "outputs": [],
   "source": [
    "new_test.drop(['전용면적','전용면적별세대수'],axis=1,inplace=True)"
   ]
  },
  {
   "cell_type": "code",
   "execution_count": null,
   "metadata": {
    "colab": {
     "base_uri": "https://localhost:8080/"
    },
    "executionInfo": {
     "elapsed": 55,
     "status": "ok",
     "timestamp": 1624716851554,
     "user": {
      "displayName": "강은영",
      "photoUrl": "https://lh3.googleusercontent.com/a-/AOh14Gjy66CDAcyXsALCf0rphNoHtH-LG6qhHqqSC2Gbhw=s64",
      "userId": "13345059186417356878"
     },
     "user_tz": -540
    },
    "id": "ep-xsSwhaU3y",
    "outputId": "d06761db-119c-4865-f1f0-62b625eae684"
   },
   "outputs": [],
   "source": [
    "new_test.info()"
   ]
  },
  {
   "cell_type": "code",
   "execution_count": null,
   "metadata": {
    "colab": {
     "base_uri": "https://localhost:8080/"
    },
    "executionInfo": {
     "elapsed": 55,
     "status": "ok",
     "timestamp": 1624716851556,
     "user": {
      "displayName": "강은영",
      "photoUrl": "https://lh3.googleusercontent.com/a-/AOh14Gjy66CDAcyXsALCf0rphNoHtH-LG6qhHqqSC2Gbhw=s64",
      "userId": "13345059186417356878"
     },
     "user_tz": -540
    },
    "id": "PExAkPtmaU3z",
    "outputId": "eeeaffde-9eb7-4c67-fdf1-1d38b651ee58"
   },
   "outputs": [],
   "source": [
    "new_train.shape, new_test.shape"
   ]
  },
  {
   "cell_type": "markdown",
   "metadata": {
    "id": "2qKUbU3DaU3z"
   },
   "source": [
    "## 결측치 처리"
   ]
  },
  {
   "cell_type": "code",
   "execution_count": null,
   "metadata": {
    "id": "ekilzOAiaU30"
   },
   "outputs": [],
   "source": [
    "new_train = new_train.fillna(0)\n",
    "new_test = new_test.fillna(0)"
   ]
  },
  {
   "cell_type": "code",
   "execution_count": null,
   "metadata": {
    "colab": {
     "base_uri": "https://localhost:8080/"
    },
    "executionInfo": {
     "elapsed": 56,
     "status": "ok",
     "timestamp": 1624716851560,
     "user": {
      "displayName": "강은영",
      "photoUrl": "https://lh3.googleusercontent.com/a-/AOh14Gjy66CDAcyXsALCf0rphNoHtH-LG6qhHqqSC2Gbhw=s64",
      "userId": "13345059186417356878"
     },
     "user_tz": -540
    },
    "id": "KjwXpmQxaU31",
    "outputId": "2c590335-fdca-48a7-fef8-f44a5c3d6e07"
   },
   "outputs": [],
   "source": [
    "new_train"
   ]
  },
  {
   "cell_type": "code",
   "execution_count": null,
   "metadata": {
    "colab": {
     "base_uri": "https://localhost:8080/"
    },
    "executionInfo": {
     "elapsed": 56,
     "status": "ok",
     "timestamp": 1624716851562,
     "user": {
      "displayName": "강은영",
      "photoUrl": "https://lh3.googleusercontent.com/a-/AOh14Gjy66CDAcyXsALCf0rphNoHtH-LG6qhHqqSC2Gbhw=s64",
      "userId": "13345059186417356878"
     },
     "user_tz": -540
    },
    "id": "fg79o2rmaU32",
    "outputId": "51d8c6b1-28c7-4466-eb61-208b8d0cea75"
   },
   "outputs": [],
   "source": [
    "new_test"
   ]
  },
  {
   "cell_type": "markdown",
   "metadata": {
    "id": "N-14iyFyaU32"
   },
   "source": [
    "## 기본모델 사용"
   ]
  },
  {
   "cell_type": "code",
   "execution_count": null,
   "metadata": {
    "id": "iP3hZNDgaU33"
   },
   "outputs": [],
   "source": [
    "X = new_train.iloc[:, 1:-1]\n",
    "y= new_train.iloc[:,-1]\n",
    "x_test = new_test.iloc[:,1:]"
   ]
  },
  {
   "cell_type": "code",
   "execution_count": null,
   "metadata": {
    "colab": {
     "base_uri": "https://localhost:8080/"
    },
    "executionInfo": {
     "elapsed": 61,
     "status": "ok",
     "timestamp": 1624716851569,
     "user": {
      "displayName": "강은영",
      "photoUrl": "https://lh3.googleusercontent.com/a-/AOh14Gjy66CDAcyXsALCf0rphNoHtH-LG6qhHqqSC2Gbhw=s64",
      "userId": "13345059186417356878"
     },
     "user_tz": -540
    },
    "id": "mg6cP_JaaU33",
    "outputId": "bc390988-c7dd-48ad-a159-dec5b7856ea1",
    "scrolled": true
   },
   "outputs": [],
   "source": [
    "X.info()"
   ]
  },
  {
   "cell_type": "code",
   "execution_count": null,
   "metadata": {},
   "outputs": [],
   "source": [
    "# new_test[target] = pred.astype(int)\n",
    "# new_train['type'] = 'train'\n",
    "# new_test['type'] = 'test'\n",
    "\n",
    "# data = pd.concat([new_train, new_test])\n",
    "# data['주차면수대비등록차량비율'] = data['등록차량수']/data['단지내주차면수']\n",
    "# data['주차면수대비총세대수비율'] = data['총세대수']/ data['단지내주차면수']\n",
    "# data['거주율'] = 1-(data['공가수']/data['총세대수'])\n",
    "# data['거주율99%이상'] = data['거주율'].apply(lambda x : 1 if x>=0.95 else 0)"
   ]
  },
  {
   "cell_type": "code",
   "execution_count": null,
   "metadata": {},
   "outputs": [],
   "source": [
    "# fig = go.Figure()\n",
    "# fig.add_trace(go.Histogram(x=data[data['type']=='train']['등록차량수'], name='train', xbins={'size':50}))\n",
    "# fig.add_trace(go.Histogram(x=data[data['type']=='test']['등록차량수'], name='test', xbins={'size':50}))\n",
    "\n",
    "# fig.update_layout(barmode='overlay')\n",
    "# fig.update_traces(opacity=0.75)\n",
    "# fig.show()"
   ]
  },
  {
   "cell_type": "code",
   "execution_count": null,
   "metadata": {
    "colab": {
     "base_uri": "https://localhost:8080/"
    },
    "executionInfo": {
     "elapsed": 64,
     "status": "ok",
     "timestamp": 1624716851579,
     "user": {
      "displayName": "강은영",
      "photoUrl": "https://lh3.googleusercontent.com/a-/AOh14Gjy66CDAcyXsALCf0rphNoHtH-LG6qhHqqSC2Gbhw=s64",
      "userId": "13345059186417356878"
     },
     "user_tz": -540
    },
    "id": "gkrGHmVWaU36",
    "outputId": "e709d724-ddca-44b2-fd9e-fbdb8b2a826f"
   },
   "outputs": [],
   "source": [
    "# 표준화 작업\n",
    "scaler1 = MinMaxScaler()\n",
    "scaler1.fit(X)\n",
    "X = scaler1.transform(X)\n",
    "X"
   ]
  },
  {
   "cell_type": "code",
   "execution_count": null,
   "metadata": {
    "id": "AOZ5ZMjgaU38"
   },
   "outputs": [],
   "source": [
    "# 데이터를 나눈다.\n",
    "X_train, X_test, y_train, y_test = train_test_split(X, y, random_state=1)\n",
    "\n",
    "# 이전에 만든 예제들이 X, y로 사용하고 있기 때문에 변수에 담아준다.\n",
    "X = X_train\n",
    "y = y_train"
   ]
  },
  {
   "cell_type": "code",
   "execution_count": null,
   "metadata": {
    "colab": {
     "base_uri": "https://localhost:8080/"
    },
    "executionInfo": {
     "elapsed": 557,
     "status": "ok",
     "timestamp": 1624716852082,
     "user": {
      "displayName": "강은영",
      "photoUrl": "https://lh3.googleusercontent.com/a-/AOh14Gjy66CDAcyXsALCf0rphNoHtH-LG6qhHqqSC2Gbhw=s64",
      "userId": "13345059186417356878"
     },
     "user_tz": -540
    },
    "id": "OP1XwcCRaU38",
    "outputId": "6c37a246-3f81-4776-d246-fbd0aac589db",
    "scrolled": true
   },
   "outputs": [],
   "source": [
    "params = {\n",
    "    # 이웃의 개수\n",
    "    'n_neighbors' : list(range(1, 11))\n",
    "}\n",
    "\n",
    "model1 = KNeighborsRegressor()\n",
    "kfold = KFold(n_splits=10, shuffle=True, random_state=1)\n",
    "grid_clf1 = GridSearchCV(model1, param_grid=params, scoring = 'r2', cv=kfold)\n",
    "grid_clf1.fit(X, y)\n",
    "print(f'최적의 하이퍼 파라미터 : {grid_clf1.best_params_}')\n",
    "print(f'최적의 모델 평균성능 : {grid_clf1.best_score_}')"
   ]
  },
  {
   "cell_type": "code",
   "execution_count": null,
   "metadata": {},
   "outputs": [],
   "source": [
    "# CatBoostRegressor \n",
    "# learning_rage : 학습률\n",
    "# n_estimators : 트리의 개수\n",
    "# max_depth : 최대 질문 생성 깊이\n",
    "params = {\n",
    "    'learning_rate' : [0.13, 0.15, 0.17, 0.18],\n",
    "    'n_estimators' : [280, 300, 330, 360, 400, 500],\n",
    "    'max_depth' : [None, 8, 9, 10]\n",
    "}\n",
    "\n",
    "model2 = CatBoostRegressor()\n",
    "kfold = KFold(n_splits=10, shuffle=True, random_state=1)\n",
    "grid_clf2 = GridSearchCV(model2, param_grid=params, scoring = 'r2', cv=kfold)\n",
    "grid_clf2.fit(X, y)\n",
    "print(f'최적의 하이퍼 파라미터 : {grid_clf2.best_params_}')\n",
    "print(f'최적의 모델 평균성능 : {grid_clf2.best_score_}')"
   ]
  },
  {
   "cell_type": "code",
   "execution_count": null,
   "metadata": {
    "colab": {
     "base_uri": "https://localhost:8080/"
    },
    "executionInfo": {
     "elapsed": 18,
     "status": "ok",
     "timestamp": 1624716852083,
     "user": {
      "displayName": "강은영",
      "photoUrl": "https://lh3.googleusercontent.com/a-/AOh14Gjy66CDAcyXsALCf0rphNoHtH-LG6qhHqqSC2Gbhw=s64",
      "userId": "13345059186417356878"
     },
     "user_tz": -540
    },
    "id": "Zt2av0yraU39",
    "outputId": "7a6adf69-622c-4c24-b6af-bd036a9de597"
   },
   "outputs": [],
   "source": [
    "# Ridge\n",
    "# alpha : 값이 작을 수록 규제가 약해지고 값이 클수록 규제가 강해진다.\n",
    "params = {\n",
    "    'alpha' : [0.5, 0.8, 1, 1.2, 1.5]\n",
    "}\n",
    "\n",
    "model3 = Ridge()\n",
    "kfold = KFold(n_splits=10, shuffle=True, random_state=1)\n",
    "grid_clf3 = GridSearchCV(model3, param_grid=params, scoring = 'r2', cv=kfold)\n",
    "grid_clf3.fit(X, y)\n",
    "print(f'최적의 하이퍼 파라미터 : {grid_clf3.best_params_}')\n",
    "print(f'최적의 모델 평균성능 : {grid_clf3.best_score_}')"
   ]
  },
  {
   "cell_type": "code",
   "execution_count": null,
   "metadata": {
    "colab": {
     "base_uri": "https://localhost:8080/"
    },
    "executionInfo": {
     "elapsed": 11,
     "status": "ok",
     "timestamp": 1624716852084,
     "user": {
      "displayName": "강은영",
      "photoUrl": "https://lh3.googleusercontent.com/a-/AOh14Gjy66CDAcyXsALCf0rphNoHtH-LG6qhHqqSC2Gbhw=s64",
      "userId": "13345059186417356878"
     },
     "user_tz": -540
    },
    "id": "4rswv6BDaU3-",
    "outputId": "3c695829-7624-4240-ba50-a677abcb8f30"
   },
   "outputs": [],
   "source": [
    "# Lasso\n",
    "# alpha : 값이 작을 수록 규제가 약해지고 값이 클수록 규제가 강해진다.\n",
    "params = {\n",
    "    'alpha' : [0.5, 0.7, 0.9, 1, 1.2]\n",
    "}\n",
    "\n",
    "model4 = Lasso()\n",
    "kfold = KFold(n_splits=10, shuffle=True, random_state=1)\n",
    "grid_clf4 = GridSearchCV(model4, param_grid=params, scoring = 'r2', cv=kfold)\n",
    "grid_clf4.fit(X, y)\n",
    "print(f'최적의 하이퍼 파라미터 : {grid_clf4.best_params_}')\n",
    "print(f'최적의 모델 평균성능 : {grid_clf4.best_score_}')"
   ]
  },
  {
   "cell_type": "code",
   "execution_count": null,
   "metadata": {
    "colab": {
     "base_uri": "https://localhost:8080/"
    },
    "executionInfo": {
     "elapsed": 572,
     "status": "ok",
     "timestamp": 1624716852651,
     "user": {
      "displayName": "강은영",
      "photoUrl": "https://lh3.googleusercontent.com/a-/AOh14Gjy66CDAcyXsALCf0rphNoHtH-LG6qhHqqSC2Gbhw=s64",
      "userId": "13345059186417356878"
     },
     "user_tz": -540
    },
    "id": "vG60Q7flaU3-",
    "outputId": "da637e7f-ad34-4d6b-96ab-51c9f59ea999"
   },
   "outputs": [],
   "source": [
    "# ElasticNet\n",
    "# alpha : 값이 작을 수록 규제가 약해지고 값이 클수록 규제가 강해진다.\n",
    "params = {\n",
    "    'alpha' : [0.007, 0.009, 0.01, 0.012]\n",
    "}\n",
    "\n",
    "model5 = ElasticNet()\n",
    "kfold = KFold(n_splits=10, shuffle=True, random_state=1)\n",
    "grid_clf5 = GridSearchCV(model5, param_grid=params, scoring = 'r2', cv=kfold)\n",
    "grid_clf5.fit(X, y)\n",
    "print(f'최적의 하이퍼 파라미터 : {grid_clf5.best_params_}')\n",
    "print(f'최적의 모델 평균성능 : {grid_clf5.best_score_}')"
   ]
  },
  {
   "cell_type": "code",
   "execution_count": null,
   "metadata": {
    "colab": {
     "base_uri": "https://localhost:8080/"
    },
    "executionInfo": {
     "elapsed": 1709,
     "status": "ok",
     "timestamp": 1624716854357,
     "user": {
      "displayName": "강은영",
      "photoUrl": "https://lh3.googleusercontent.com/a-/AOh14Gjy66CDAcyXsALCf0rphNoHtH-LG6qhHqqSC2Gbhw=s64",
      "userId": "13345059186417356878"
     },
     "user_tz": -540
    },
    "id": "TC_itgyVaU4A",
    "outputId": "8a865fd6-f1d8-4fb2-c3f2-820f506575d1"
   },
   "outputs": [],
   "source": [
    "# SVM(SVR)\n",
    "# C : 규제의 강도 \n",
    "params = {\n",
    "    'C' : [1000, 1100, 1200, 1300, 1400]\n",
    "}\n",
    "\n",
    "model6 = SVR()\n",
    "kfold = KFold(n_splits=10, shuffle=True, random_state=1)\n",
    "grid_clf6 = GridSearchCV(model6, param_grid=params, scoring = 'r2', cv=kfold)\n",
    "grid_clf6.fit(X, y)\n",
    "print(f'최적의 하이퍼 파라미터 : {grid_clf6.best_params_}')\n",
    "print(f'최적의 모델 평균성능 : {grid_clf6.best_score_}')"
   ]
  },
  {
   "cell_type": "code",
   "execution_count": null,
   "metadata": {
    "colab": {
     "base_uri": "https://localhost:8080/"
    },
    "executionInfo": {
     "elapsed": 15,
     "status": "ok",
     "timestamp": 1624716854359,
     "user": {
      "displayName": "강은영",
      "photoUrl": "https://lh3.googleusercontent.com/a-/AOh14Gjy66CDAcyXsALCf0rphNoHtH-LG6qhHqqSC2Gbhw=s64",
      "userId": "13345059186417356878"
     },
     "user_tz": -540
    },
    "id": "nLqShLSjaU4B",
    "outputId": "bc5da5d4-11d5-4cc0-b0d3-4f535162b1fb"
   },
   "outputs": [],
   "source": [
    "# max_depth : 최대 질문 생성 깊이\n",
    "params = {\n",
    "    'max_depth' : [None, 1, 3, 4]\n",
    "}\n",
    "\n",
    "model7 = DecisionTreeRegressor()\n",
    "kfold = KFold(n_splits=10, shuffle=True, random_state=1)\n",
    "grid_clf7 = GridSearchCV(model7, param_grid=params, scoring = 'r2', cv=kfold)\n",
    "grid_clf7.fit(X, y)\n",
    "print(f'최적의 하이퍼 파라미터 : {grid_clf7.best_params_}')\n",
    "print(f'최적의 모델 평균성능 : {grid_clf7.best_score_}')"
   ]
  },
  {
   "cell_type": "code",
   "execution_count": null,
   "metadata": {
    "colab": {
     "base_uri": "https://localhost:8080/"
    },
    "executionInfo": {
     "elapsed": 231342,
     "status": "ok",
     "timestamp": 1624717085694,
     "user": {
      "displayName": "강은영",
      "photoUrl": "https://lh3.googleusercontent.com/a-/AOh14Gjy66CDAcyXsALCf0rphNoHtH-LG6qhHqqSC2Gbhw=s64",
      "userId": "13345059186417356878"
     },
     "user_tz": -540
    },
    "id": "OmTx1HxAaU4C",
    "outputId": "d5ca08aa-a3b4-4359-efef-7dd0f1430b0e"
   },
   "outputs": [],
   "source": [
    "# n_estimators : 트리의 개수\n",
    "# max_depth : 최대 질문 생성 깊이\n",
    "params = {\n",
    "    'n_estimators' : [230, 240, 250],\n",
    "    'max_depth' : [None, 1, 2, 3]\n",
    "}\n",
    "\n",
    "model8 = RandomForestRegressor()\n",
    "kfold = KFold(n_splits=10, shuffle=True, random_state=1)\n",
    "grid_clf8 = GridSearchCV(model8, param_grid=params,scoring = 'r2', cv=kfold)\n",
    "grid_clf8.fit(X, y)\n",
    "print(f'최적의 하이퍼 파라미터 : {grid_clf8.best_params_}')\n",
    "print(f'최적의 모델 평균성능 : {grid_clf8.best_score_}')"
   ]
  },
  {
   "cell_type": "code",
   "execution_count": null,
   "metadata": {
    "colab": {
     "base_uri": "https://localhost:8080/"
    },
    "executionInfo": {
     "elapsed": 78189,
     "status": "ok",
     "timestamp": 1624717163856,
     "user": {
      "displayName": "강은영",
      "photoUrl": "https://lh3.googleusercontent.com/a-/AOh14Gjy66CDAcyXsALCf0rphNoHtH-LG6qhHqqSC2Gbhw=s64",
      "userId": "13345059186417356878"
     },
     "user_tz": -540
    },
    "id": "J5ZyOZ1waU4D",
    "outputId": "906bdf90-5e78-4dbc-8a12-e40fb4a36999"
   },
   "outputs": [],
   "source": [
    "# learning_rage : 학습률\n",
    "# n_estimators : 트리의 개수\n",
    "params = {\n",
    "    'learning_rate' : [0.02, 0.025, 0.03, 0.035, 0.04],\n",
    "    'n_estimators' : [80, 90, 100, 120, 140],\n",
    "}\n",
    "\n",
    "model9 = AdaBoostRegressor()\n",
    "kfold = KFold(n_splits=10, shuffle=True, random_state=1)\n",
    "grid_clf9 = GridSearchCV(model9, param_grid=params, scoring = 'r2', cv=kfold)\n",
    "grid_clf9.fit(X, y)\n",
    "print(f'최적의 하이퍼 파라미터 : {grid_clf9.best_params_}')\n",
    "print(f'최적의 모델 평균성능 : {grid_clf9.best_score_}')"
   ]
  },
  {
   "cell_type": "code",
   "execution_count": null,
   "metadata": {
    "colab": {
     "base_uri": "https://localhost:8080/"
    },
    "executionInfo": {
     "elapsed": 718814,
     "status": "ok",
     "timestamp": 1624717882632,
     "user": {
      "displayName": "강은영",
      "photoUrl": "https://lh3.googleusercontent.com/a-/AOh14Gjy66CDAcyXsALCf0rphNoHtH-LG6qhHqqSC2Gbhw=s64",
      "userId": "13345059186417356878"
     },
     "user_tz": -540
    },
    "id": "0qhXKQI-aU4F",
    "outputId": "d3b999fa-9466-458f-9289-93c95f3513f0"
   },
   "outputs": [],
   "source": [
    "# learning_rage : 학습률\n",
    "# n_estimators : 트리의 개수\n",
    "# max_depth : 최대 질문 생성 깊이\n",
    "params = {\n",
    "    'learning_rate' : [0.15, 0.2, 0.25, 0.3],\n",
    "    'n_estimators' : [150, 170, 200, 230, 250],\n",
    "    'max_depth' : [None, 1, 2, 3]\n",
    "}\n",
    "\n",
    "model10 = GradientBoostingRegressor()\n",
    "kfold = KFold(n_splits=10, shuffle=True, random_state=1)\n",
    "grid_clf10 = GridSearchCV(model10, param_grid=params, scoring = 'r2', cv=kfold)\n",
    "grid_clf10.fit(X, y)\n",
    "print(f'최적의 하이퍼 파라미터 : {grid_clf10.best_params_}')\n",
    "print(f'최적의 모델 평균성능 : {grid_clf10.best_score_}')"
   ]
  },
  {
   "cell_type": "code",
   "execution_count": null,
   "metadata": {
    "colab": {
     "base_uri": "https://localhost:8080/"
    },
    "executionInfo": {
     "elapsed": 106103,
     "status": "ok",
     "timestamp": 1624717988714,
     "user": {
      "displayName": "강은영",
      "photoUrl": "https://lh3.googleusercontent.com/a-/AOh14Gjy66CDAcyXsALCf0rphNoHtH-LG6qhHqqSC2Gbhw=s64",
      "userId": "13345059186417356878"
     },
     "user_tz": -540
    },
    "id": "ZIS2U-EFaU4G",
    "outputId": "b0a1ea20-dbd5-4376-f52c-5cf9e93a57a4"
   },
   "outputs": [],
   "source": [
    "# learning_rage : 학습률\n",
    "# n_estimators : 트리의 개수\n",
    "# max_depth : 최대 질문 생성 깊이\n",
    "params = {\n",
    "    'learning_rate' : [0.25, 0.27, 0.3, 0.32, 0.35],\n",
    "    'n_estimators' : [20, 30, 40, 50, 70],\n",
    "    'max_depth' : [None, 6, 7, 8]\n",
    "}\n",
    "\n",
    "model11 = LGBMRegressor()\n",
    "kfold = KFold(n_splits=10, shuffle=True, random_state=1)\n",
    "grid_clf11 = GridSearchCV(model11, param_grid=params, scoring = 'r2', cv=kfold)\n",
    "grid_clf11.fit(X, y)\n",
    "print(f'최적의 하이퍼 파라미터 : {grid_clf11.best_params_}')\n",
    "print(f'최적의 모델 평균성능 : {grid_clf11.best_score_}')"
   ]
  },
  {
   "cell_type": "code",
   "execution_count": null,
   "metadata": {
    "colab": {
     "base_uri": "https://localhost:8080/"
    },
    "executionInfo": {
     "elapsed": 342386,
     "status": "ok",
     "timestamp": 1624718331069,
     "user": {
      "displayName": "강은영",
      "photoUrl": "https://lh3.googleusercontent.com/a-/AOh14Gjy66CDAcyXsALCf0rphNoHtH-LG6qhHqqSC2Gbhw=s64",
      "userId": "13345059186417356878"
     },
     "user_tz": -540
    },
    "id": "5bFLhMDtaU4G",
    "outputId": "9a1f4801-953e-47de-e91b-e85f1701c056"
   },
   "outputs": [],
   "source": [
    "# booster : 사용할 알고리즘 종류\n",
    "# learning_rage : 학습률\n",
    "# n_estimators : 트리의 개수\n",
    "# max_depth : 최대 질문 생성 깊이\n",
    "params = {\n",
    "    'booster' : ['gbtree', 'gblinear'],\n",
    "    'learning_rate' : [0.04, 0.08, 0.1, 0.12, 0.15],\n",
    "    'n_estimators' : [ 250, 270, 300, 320, 350],\n",
    "    'max_depth' : [None, 1, 2, 3, 4]\n",
    "}\n",
    "\n",
    "model12 = XGBRegressor(silent=True, verbosity=0)\n",
    "kfold = KFold(n_splits=10, shuffle=True, random_state=1)\n",
    "grid_clf12 = GridSearchCV(model12, param_grid=params, scoring = 'r2', cv=kfold)\n",
    "grid_clf12.fit(X, y)\n",
    "print(f'최적의 하이퍼 파라미터 : {grid_clf12.best_params_}')\n",
    "print(f'최적의 모델 평균성능 : {grid_clf12.best_score_}')"
   ]
  },
  {
   "cell_type": "code",
   "execution_count": null,
   "metadata": {
    "colab": {
     "base_uri": "https://localhost:8080/",
     "height": 388
    },
    "executionInfo": {
     "elapsed": 51,
     "status": "ok",
     "timestamp": 1624718331071,
     "user": {
      "displayName": "강은영",
      "photoUrl": "https://lh3.googleusercontent.com/a-/AOh14Gjy66CDAcyXsALCf0rphNoHtH-LG6qhHqqSC2Gbhw=s64",
      "userId": "13345059186417356878"
     },
     "user_tz": -540
    },
    "id": "AyF8Xqv7aU4H",
    "outputId": "5fddb63a-ff05-4dc4-b891-92717c3929e3"
   },
   "outputs": [],
   "source": [
    "# 시각화를 위한 데이터프레임을 생성한다.\n",
    "\n",
    "score_list = [\n",
    "    grid_clf1.best_score_, grid_clf2.best_score_, grid_clf3.best_score_,\n",
    "    grid_clf4.best_score_, grid_clf5.best_score_, grid_clf6.best_score_,\n",
    "    grid_clf7.best_score_, grid_clf8.best_score_, grid_clf9.best_score_,\n",
    "    grid_clf10.best_score_,grid_clf11.best_score_, grid_clf12.best_score_,    \n",
    "]\n",
    "\n",
    "results_df = pd.DataFrame({\n",
    "    'Model' : ['KNN', 'Catboost', 'Ridge','Lasso','ElasticNet' , 'SVC',\n",
    "               'DecisionTree', 'RandomForest', 'AdaBoost','GradientBoost','LGBM','XGBoost'],\n",
    "    'Score' : score_list\n",
    "})\n",
    "\n",
    "# score 기준으로 정렬\n",
    "results_df.sort_values(by='Score', ascending=False, inplace=True)\n",
    "# 인덱스를 리셋한다.\n",
    "results_df.reset_index(drop=True, inplace=True)\n",
    "results_df"
   ]
  },
  {
   "cell_type": "markdown",
   "metadata": {
    "id": "lVyCs29taU4I"
   },
   "source": [
    "## voting"
   ]
  },
  {
   "cell_type": "code",
   "execution_count": null,
   "metadata": {
    "id": "wBeGVo8TaU4I"
   },
   "outputs": [],
   "source": [
    "# 최적의 모델을 생성한다.\n",
    "best_model1 = grid_clf1.best_estimator_\n",
    "best_model2 = grid_clf2.best_estimator_\n",
    "best_model3 = grid_clf3.best_estimator_\n",
    "best_model4 = grid_clf4.best_estimator_\n",
    "best_model5 = grid_clf5.best_estimator_\n",
    "best_model6 = grid_clf6.best_estimator_\n",
    "best_model7 = grid_clf7.best_estimator_\n",
    "best_model8 = grid_clf8.best_estimator_\n",
    "best_model9 = grid_clf9.best_estimator_\n",
    "best_model10 = grid_clf10.best_estimator_\n",
    "best_model11 = grid_clf11.best_estimator_\n",
    "best_model12 = grid_clf12.best_estimator_\n",
    "\n",
    "# 사용할 알고리즘들..\n",
    "model_list = [\n",
    "    ('model1', best_model1), ('model2', best_model2), ('model3', best_model3),\n",
    "    ('model4', best_model4), ('model5', best_model5), ('model6', best_model6),\n",
    "    ('model7', best_model7), ('model8', best_model8), ('model9', best_model9),\n",
    "    ('model10', best_model10), ('model11', best_model11),\n",
    "    ('model12', best_model12)\n",
    "]\n",
    "\n",
    "best_model13 = VotingRegressor(estimators=model_list)"
   ]
  },
  {
   "cell_type": "code",
   "execution_count": null,
   "metadata": {
    "id": "jCx9vEfhaU4J"
   },
   "outputs": [],
   "source": [
    "# voting 모델 교차 검증\n",
    "kfold = KFold(n_splits=10, shuffle=True, random_state=1)\n",
    "r1 = cross_val_score(best_model1, X, y, scoring = 'r2', cv=kfold)\n",
    "r2 = cross_val_score(best_model2, X, y,scoring = 'r2', cv=kfold)\n",
    "r3 = cross_val_score(best_model3, X, y, scoring = 'r2', cv=kfold)\n",
    "r4 = cross_val_score(best_model4, X, y, scoring = 'r2', cv=kfold)\n",
    "r5 = cross_val_score(best_model5, X, y, scoring = 'r2', cv=kfold)\n",
    "r6 = cross_val_score(best_model6, X, y, scoring = 'r2', cv=kfold)\n",
    "r7 = cross_val_score(best_model7, X, y, scoring = 'r2', cv=kfold)\n",
    "r8 = cross_val_score(best_model8, X, y, scoring = 'r2', cv=kfold)\n",
    "r9 = cross_val_score(best_model9, X, y,scoring = 'r2', cv=kfold)\n",
    "r10 = cross_val_score(best_model10, X, y, scoring = 'r2', cv=kfold)\n",
    "r11 = cross_val_score(best_model11, X, y, scoring = 'r2', cv=kfold)\n",
    "r12 = cross_val_score(best_model12, X, y, scoring = 'r2', cv=kfold)\n",
    "r13 = cross_val_score(best_model13, X, y,scoring = 'r2', cv=kfold)\n"
   ]
  },
  {
   "cell_type": "code",
   "execution_count": null,
   "metadata": {
    "colab": {
     "base_uri": "https://localhost:8080/",
     "height": 450
    },
    "executionInfo": {
     "elapsed": 41,
     "status": "ok",
     "timestamp": 1624718364127,
     "user": {
      "displayName": "강은영",
      "photoUrl": "https://lh3.googleusercontent.com/a-/AOh14Gjy66CDAcyXsALCf0rphNoHtH-LG6qhHqqSC2Gbhw=s64",
      "userId": "13345059186417356878"
     },
     "user_tz": -540
    },
    "id": "icli9CdraU4K",
    "outputId": "92981223-e4ba-44f6-a462-7cb0aa924fc1"
   },
   "outputs": [],
   "source": [
    "# 시각화를 위한 데이터프레임을 생성한다.\n",
    "\n",
    "score_list = [\n",
    "    r1.mean(), r2.mean(), r3.mean(),\n",
    "    r4.mean(), r5.mean(), r6.mean(),\n",
    "   r7.mean(), r8.mean(), r9.mean(),\n",
    "    r10.mean(), r11.mean(),r12.mean(),r13.mean()\n",
    "]\n",
    "\n",
    "results_df = pd.DataFrame({\n",
    "    'Model' : ['KNN','Catboost', 'Ridge','Lasso','ElasticNet' , 'SVC',\n",
    "               'DecisionTree', 'RandomForest', 'AdaBoost','GradientBoost','LGBM','XGBoost','Voting'],\n",
    "    'Score' : score_list\n",
    "})\n",
    "\n",
    "# score 기준으로 정렬\n",
    "results_df.sort_values(by='Score', ascending=False, inplace=True)\n",
    "# 인덱스를 리셋한다.\n",
    "results_df.reset_index(drop=True, inplace=True)\n",
    "results_df"
   ]
  },
  {
   "cell_type": "code",
   "execution_count": null,
   "metadata": {
    "colab": {
     "base_uri": "https://localhost:8080/",
     "height": 325
    },
    "executionInfo": {
     "elapsed": 40,
     "status": "ok",
     "timestamp": 1624718364129,
     "user": {
      "displayName": "강은영",
      "photoUrl": "https://lh3.googleusercontent.com/a-/AOh14Gjy66CDAcyXsALCf0rphNoHtH-LG6qhHqqSC2Gbhw=s64",
      "userId": "13345059186417356878"
     },
     "user_tz": -540
    },
    "id": "MGeOFxhJaU4L",
    "outputId": "45b82c88-ceee-4ab6-dd74-18d7119946d0",
    "scrolled": true
   },
   "outputs": [],
   "source": [
    "# 성능 평가 결과를 시각화한다.\n",
    "sns.barplot(data=results_df, x='Score', y='Model', color='c')\n",
    "\n",
    "plt.title('모델 성능')\n",
    "plt.xlabel('성능(%)')\n",
    "plt.ylabel('모델')\n",
    "plt.xlim(0 , 1)\n",
    "\n",
    "plt.show()"
   ]
  },
  {
   "cell_type": "markdown",
   "metadata": {
    "id": "tIbD4DRYo8Hj"
   },
   "source": [
    "### 학습 데이터를 이용해 평가를 실시한다."
   ]
  },
  {
   "cell_type": "code",
   "execution_count": null,
   "metadata": {
    "colab": {
     "base_uri": "https://localhost:8080/"
    },
    "executionInfo": {
     "elapsed": 3498,
     "status": "ok",
     "timestamp": 1624718368139,
     "user": {
      "displayName": "강은영",
      "photoUrl": "https://lh3.googleusercontent.com/a-/AOh14Gjy66CDAcyXsALCf0rphNoHtH-LG6qhHqqSC2Gbhw=s64",
      "userId": "13345059186417356878"
     },
     "user_tz": -540
    },
    "id": "OyuigskbpqLq",
    "outputId": "739c5d20-d6ed-4e95-cbb0-198337d3b8e0"
   },
   "outputs": [],
   "source": [
    "# 전체 데이터를 학습시킨다.\n",
    "best_model1.fit(X, y)\n",
    "best_model2.fit(X, y)\n",
    "best_model3.fit(X, y)\n",
    "best_model4.fit(X, y)\n",
    "best_model5.fit(X, y)\n",
    "best_model6.fit(X, y)\n",
    "best_model7.fit(X, y)\n",
    "best_model8.fit(X, y)\n",
    "best_model9.fit(X, y)\n",
    "best_model10.fit(X, y)\n",
    "best_model11.fit(X, y)\n",
    "best_model12.fit(X, y)\n",
    "best_model13.fit(X, y)"
   ]
  },
  {
   "cell_type": "code",
   "execution_count": null,
   "metadata": {
    "id": "okiFBY11pqxb"
   },
   "outputs": [],
   "source": [
    "# 학습 데이터를 통해 예측 결과를 가져온다.\n",
    "y_pred1 = best_model1.predict(X)\n",
    "y_pred2 = best_model2.predict(X)\n",
    "y_pred3 = best_model3.predict(X)\n",
    "y_pred4 = best_model4.predict(X)\n",
    "y_pred5 = best_model5.predict(X)\n",
    "y_pred6 = best_model6.predict(X)\n",
    "y_pred7 = best_model7.predict(X)\n",
    "y_pred8 = best_model8.predict(X)\n",
    "y_pred9 = best_model9.predict(X)\n",
    "y_pred10 = best_model10.predict(X)\n",
    "y_pred11 = best_model11.predict(X)\n",
    "y_pred12 = best_model12.predict(X)\n",
    "y_pred13 = best_model13.predict(X)"
   ]
  },
  {
   "cell_type": "code",
   "execution_count": null,
   "metadata": {
    "id": "JzbDW4qIaU4d"
   },
   "outputs": [],
   "source": [
    "# 그래프를 그리기 위해 y 값 인덱스를 다시 설정한다.\n",
    "y.reset_index(drop=True, inplace=True)"
   ]
  },
  {
   "cell_type": "code",
   "execution_count": null,
   "metadata": {
    "colab": {
     "base_uri": "https://localhost:8080/",
     "height": 346
    },
    "executionInfo": {
     "elapsed": 1208,
     "status": "ok",
     "timestamp": 1624719025746,
     "user": {
      "displayName": "강은영",
      "photoUrl": "https://lh3.googleusercontent.com/a-/AOh14Gjy66CDAcyXsALCf0rphNoHtH-LG6qhHqqSC2Gbhw=s64",
      "userId": "13345059186417356878"
     },
     "user_tz": -540
    },
    "id": "Zd2t2GLxaU4f",
    "outputId": "7024110e-c140-457a-892e-d329fa043fb2"
   },
   "outputs": [],
   "source": [
    "plt.plot(y, label='original')\n",
    "plt.plot(y_pred1, label='prediction')\n",
    "plt.legend()\n",
    "plt.title('KNN')\n",
    "plt.show()"
   ]
  },
  {
   "cell_type": "code",
   "execution_count": null,
   "metadata": {
    "colab": {
     "base_uri": "https://localhost:8080/",
     "height": 346
    },
    "executionInfo": {
     "elapsed": 1171,
     "status": "ok",
     "timestamp": 1624719031234,
     "user": {
      "displayName": "강은영",
      "photoUrl": "https://lh3.googleusercontent.com/a-/AOh14Gjy66CDAcyXsALCf0rphNoHtH-LG6qhHqqSC2Gbhw=s64",
      "userId": "13345059186417356878"
     },
     "user_tz": -540
    },
    "id": "zF3U7xUGaU4f",
    "outputId": "fe505c97-7490-49e4-9fc8-bd96504f172d"
   },
   "outputs": [],
   "source": [
    "plt.plot(y, label='original')\n",
    "plt.plot(y_pred2, label='prediction')\n",
    "plt.legend()\n",
    "plt.title('Catboost')\n",
    "plt.show()"
   ]
  },
  {
   "cell_type": "code",
   "execution_count": null,
   "metadata": {
    "colab": {
     "base_uri": "https://localhost:8080/",
     "height": 346
    },
    "executionInfo": {
     "elapsed": 36,
     "status": "ok",
     "timestamp": 1624719034164,
     "user": {
      "displayName": "강은영",
      "photoUrl": "https://lh3.googleusercontent.com/a-/AOh14Gjy66CDAcyXsALCf0rphNoHtH-LG6qhHqqSC2Gbhw=s64",
      "userId": "13345059186417356878"
     },
     "user_tz": -540
    },
    "id": "OlBu6E1JaU4g",
    "outputId": "34a22274-9551-4da8-d93c-52a35249a93a"
   },
   "outputs": [],
   "source": [
    "plt.plot(y, label='original')\n",
    "plt.plot(y_pred3, label='prediction')\n",
    "plt.legend()\n",
    "plt.title('Ridge')\n",
    "plt.show()"
   ]
  },
  {
   "cell_type": "code",
   "execution_count": null,
   "metadata": {
    "colab": {
     "base_uri": "https://localhost:8080/",
     "height": 346
    },
    "executionInfo": {
     "elapsed": 30,
     "status": "ok",
     "timestamp": 1624719034166,
     "user": {
      "displayName": "강은영",
      "photoUrl": "https://lh3.googleusercontent.com/a-/AOh14Gjy66CDAcyXsALCf0rphNoHtH-LG6qhHqqSC2Gbhw=s64",
      "userId": "13345059186417356878"
     },
     "user_tz": -540
    },
    "id": "pyk4WMZpaU4g",
    "outputId": "b24e9fc7-1e70-4194-e54e-1ac475a19d7d"
   },
   "outputs": [],
   "source": [
    "plt.plot(y, label='original')\n",
    "plt.plot(y_pred4, label='prediction')\n",
    "plt.legend()\n",
    "plt.title('Lasso')\n",
    "plt.show()"
   ]
  },
  {
   "cell_type": "code",
   "execution_count": null,
   "metadata": {
    "colab": {
     "base_uri": "https://localhost:8080/",
     "height": 346
    },
    "executionInfo": {
     "elapsed": 27,
     "status": "ok",
     "timestamp": 1624719034167,
     "user": {
      "displayName": "강은영",
      "photoUrl": "https://lh3.googleusercontent.com/a-/AOh14Gjy66CDAcyXsALCf0rphNoHtH-LG6qhHqqSC2Gbhw=s64",
      "userId": "13345059186417356878"
     },
     "user_tz": -540
    },
    "id": "3OeEY9q8aU4h",
    "outputId": "5bbd381b-e887-4fba-edaa-2d65b119b144"
   },
   "outputs": [],
   "source": [
    "plt.plot(y, label='original')\n",
    "plt.plot(y_pred5, label='prediction')\n",
    "plt.legend()\n",
    "plt.title('ElasticNet')\n",
    "plt.show()"
   ]
  },
  {
   "cell_type": "code",
   "execution_count": null,
   "metadata": {
    "colab": {
     "base_uri": "https://localhost:8080/",
     "height": 346
    },
    "executionInfo": {
     "elapsed": 6757,
     "status": "ok",
     "timestamp": 1624719040900,
     "user": {
      "displayName": "강은영",
      "photoUrl": "https://lh3.googleusercontent.com/a-/AOh14Gjy66CDAcyXsALCf0rphNoHtH-LG6qhHqqSC2Gbhw=s64",
      "userId": "13345059186417356878"
     },
     "user_tz": -540
    },
    "id": "m6DFREAiaU4i",
    "outputId": "c603157a-e53d-410b-f6f9-17d60cad02b9"
   },
   "outputs": [],
   "source": [
    "plt.plot(y, label='original')\n",
    "plt.plot(y_pred6, label='prediction')\n",
    "plt.legend()\n",
    "plt.title('SVR')\n",
    "plt.show()"
   ]
  },
  {
   "cell_type": "code",
   "execution_count": null,
   "metadata": {
    "colab": {
     "base_uri": "https://localhost:8080/",
     "height": 346
    },
    "executionInfo": {
     "elapsed": 104,
     "status": "ok",
     "timestamp": 1624719040901,
     "user": {
      "displayName": "강은영",
      "photoUrl": "https://lh3.googleusercontent.com/a-/AOh14Gjy66CDAcyXsALCf0rphNoHtH-LG6qhHqqSC2Gbhw=s64",
      "userId": "13345059186417356878"
     },
     "user_tz": -540
    },
    "id": "OHkFiENhaU4i",
    "outputId": "cfc012a8-fac4-400e-d87c-3beea3223a2f"
   },
   "outputs": [],
   "source": [
    "plt.plot(y, label='original')\n",
    "plt.plot(y_pred7, label='prediction')\n",
    "plt.legend()\n",
    "plt.title('DecisionTreeRegressor')\n",
    "plt.show()"
   ]
  },
  {
   "cell_type": "code",
   "execution_count": null,
   "metadata": {
    "colab": {
     "base_uri": "https://localhost:8080/",
     "height": 346
    },
    "executionInfo": {
     "elapsed": 99,
     "status": "ok",
     "timestamp": 1624719040903,
     "user": {
      "displayName": "강은영",
      "photoUrl": "https://lh3.googleusercontent.com/a-/AOh14Gjy66CDAcyXsALCf0rphNoHtH-LG6qhHqqSC2Gbhw=s64",
      "userId": "13345059186417356878"
     },
     "user_tz": -540
    },
    "id": "6ITyIO0VaU4j",
    "outputId": "cd25414c-569c-42e0-d68b-8941a2511f1e"
   },
   "outputs": [],
   "source": [
    "plt.plot(y, label='original')\n",
    "plt.plot(y_pred8, label='prediction')\n",
    "plt.legend()\n",
    "plt.title('RandomForestRegressor')\n",
    "plt.show()"
   ]
  },
  {
   "cell_type": "code",
   "execution_count": null,
   "metadata": {
    "colab": {
     "base_uri": "https://localhost:8080/",
     "height": 346
    },
    "executionInfo": {
     "elapsed": 90,
     "status": "ok",
     "timestamp": 1624719040904,
     "user": {
      "displayName": "강은영",
      "photoUrl": "https://lh3.googleusercontent.com/a-/AOh14Gjy66CDAcyXsALCf0rphNoHtH-LG6qhHqqSC2Gbhw=s64",
      "userId": "13345059186417356878"
     },
     "user_tz": -540
    },
    "id": "Zyb3EsHBaU4j",
    "outputId": "3825a6e1-ad32-4db4-9ce6-50fdd8c792fb"
   },
   "outputs": [],
   "source": [
    "plt.plot(y, label='original')\n",
    "plt.plot(y_pred9, label='prediction')\n",
    "plt.legend()\n",
    "plt.title('AdaBoostRegressor')\n",
    "plt.show()"
   ]
  },
  {
   "cell_type": "code",
   "execution_count": null,
   "metadata": {
    "colab": {
     "base_uri": "https://localhost:8080/",
     "height": 346
    },
    "executionInfo": {
     "elapsed": 88,
     "status": "ok",
     "timestamp": 1624719040906,
     "user": {
      "displayName": "강은영",
      "photoUrl": "https://lh3.googleusercontent.com/a-/AOh14Gjy66CDAcyXsALCf0rphNoHtH-LG6qhHqqSC2Gbhw=s64",
      "userId": "13345059186417356878"
     },
     "user_tz": -540
    },
    "id": "2R2COnpgaU4k",
    "outputId": "d47bff09-48ce-48af-8c42-0480846a1c41"
   },
   "outputs": [],
   "source": [
    "plt.plot(y, label='original')\n",
    "plt.plot(y_pred10, label='prediction')\n",
    "plt.legend()\n",
    "plt.title('GradientBoostingRegressor')\n",
    "plt.show()"
   ]
  },
  {
   "cell_type": "code",
   "execution_count": null,
   "metadata": {
    "colab": {
     "base_uri": "https://localhost:8080/",
     "height": 346
    },
    "executionInfo": {
     "elapsed": 85,
     "status": "ok",
     "timestamp": 1624719040907,
     "user": {
      "displayName": "강은영",
      "photoUrl": "https://lh3.googleusercontent.com/a-/AOh14Gjy66CDAcyXsALCf0rphNoHtH-LG6qhHqqSC2Gbhw=s64",
      "userId": "13345059186417356878"
     },
     "user_tz": -540
    },
    "id": "C-LteSiOaU4k",
    "outputId": "641d7240-1ec7-4185-f205-cad15aaa9b2a"
   },
   "outputs": [],
   "source": [
    "plt.plot(y, label='original')\n",
    "plt.plot(y_pred11, label='prediction')\n",
    "plt.legend()\n",
    "plt.title('LGBMRegressor')\n",
    "plt.show()"
   ]
  },
  {
   "cell_type": "code",
   "execution_count": null,
   "metadata": {
    "colab": {
     "base_uri": "https://localhost:8080/",
     "height": 346
    },
    "executionInfo": {
     "elapsed": 84,
     "status": "ok",
     "timestamp": 1624719040909,
     "user": {
      "displayName": "강은영",
      "photoUrl": "https://lh3.googleusercontent.com/a-/AOh14Gjy66CDAcyXsALCf0rphNoHtH-LG6qhHqqSC2Gbhw=s64",
      "userId": "13345059186417356878"
     },
     "user_tz": -540
    },
    "id": "3WpbnF9QaU4l",
    "outputId": "8f880166-71ec-403d-a762-0b29bbd2dbb5"
   },
   "outputs": [],
   "source": [
    "plt.plot(y, label='original')\n",
    "plt.plot(y_pred12, label='prediction')\n",
    "plt.legend()\n",
    "plt.title('XGBRegressor')\n",
    "plt.show()"
   ]
  },
  {
   "cell_type": "code",
   "execution_count": null,
   "metadata": {
    "colab": {
     "base_uri": "https://localhost:8080/",
     "height": 346
    },
    "executionInfo": {
     "elapsed": 85,
     "status": "ok",
     "timestamp": 1624719040913,
     "user": {
      "displayName": "강은영",
      "photoUrl": "https://lh3.googleusercontent.com/a-/AOh14Gjy66CDAcyXsALCf0rphNoHtH-LG6qhHqqSC2Gbhw=s64",
      "userId": "13345059186417356878"
     },
     "user_tz": -540
    },
    "id": "yE0GLTZLaU4l",
    "outputId": "a7b8382f-8686-41f7-b6b1-9f668abe0922"
   },
   "outputs": [],
   "source": [
    "plt.plot(y, label='original')\n",
    "plt.plot(y_pred13, label='prediction')\n",
    "plt.legend()\n",
    "plt.title('VotingRegressor')\n",
    "plt.show()"
   ]
  },
  {
   "cell_type": "code",
   "execution_count": null,
   "metadata": {
    "colab": {
     "base_uri": "https://localhost:8080/"
    },
    "executionInfo": {
     "elapsed": 84,
     "status": "ok",
     "timestamp": 1624719040915,
     "user": {
      "displayName": "강은영",
      "photoUrl": "https://lh3.googleusercontent.com/a-/AOh14Gjy66CDAcyXsALCf0rphNoHtH-LG6qhHqqSC2Gbhw=s64",
      "userId": "13345059186417356878"
     },
     "user_tz": -540
    },
    "id": "kH5YubwAaU4m",
    "outputId": "055b8958-18c5-4666-df12-8f9b68abf2d1"
   },
   "outputs": [],
   "source": [
    "best_model13"
   ]
  },
  {
   "cell_type": "markdown",
   "metadata": {
    "id": "CXEIzY1_aU4m"
   },
   "source": [
    "### 최종평가\n",
    "- 학습하지 않은 데이터를 통한 평가"
   ]
  },
  {
   "cell_type": "code",
   "execution_count": null,
   "metadata": {
    "colab": {
     "base_uri": "https://localhost:8080/"
    },
    "executionInfo": {
     "elapsed": 69,
     "status": "ok",
     "timestamp": 1624719040917,
     "user": {
      "displayName": "강은영",
      "photoUrl": "https://lh3.googleusercontent.com/a-/AOh14Gjy66CDAcyXsALCf0rphNoHtH-LG6qhHqqSC2Gbhw=s64",
      "userId": "13345059186417356878"
     },
     "user_tz": -540
    },
    "id": "a0TvWMLYaU4n",
    "outputId": "f4832f32-a1ee-4c01-d619-c7e9e752c42e"
   },
   "outputs": [],
   "source": [
    "# 표준화 작업\n",
    "scaler1 = MinMaxScaler()\n",
    "scaler1.fit(x_test)\n",
    "x_test = scaler1.transform(x_test)\n",
    "x_test"
   ]
  },
  {
   "cell_type": "code",
   "execution_count": null,
   "metadata": {},
   "outputs": [],
   "source": [
    "x_test = new_test"
   ]
  },
  {
   "cell_type": "code",
   "execution_count": null,
   "metadata": {},
   "outputs": [],
   "source": [
    "x_test['면적_65.0'] = 0.0"
   ]
  },
  {
   "cell_type": "code",
   "execution_count": null,
   "metadata": {},
   "outputs": [],
   "source": [
    "x_test = new_test.iloc[:,1:]\n",
    "x_test"
   ]
  },
  {
   "cell_type": "code",
   "execution_count": null,
   "metadata": {},
   "outputs": [],
   "source": [
    "# 표준화 작업\n",
    "scaler1 = MinMaxScaler()\n",
    "scaler1.fit(x_test)\n",
    "x_test = scaler1.transform(x_test)\n",
    "x_test"
   ]
  },
  {
   "cell_type": "code",
   "execution_count": null,
   "metadata": {
    "id": "bifqa0sBaU4n"
   },
   "outputs": [],
   "source": [
    "# 학습하지 않은 데이터를 통해 예측 결과를 가져온다.\n",
    "y_pred1 = best_model1.predict(x_test)\n",
    "y_pred2 = best_model2.predict(x_test)\n",
    "y_pred3 = best_model3.predict(x_test)\n",
    "y_pred4 = best_model4.predict(x_test)\n",
    "y_pred5 = best_model5.predict(x_test)\n",
    "y_pred6 = best_model6.predict(x_test)\n",
    "y_pred7 = best_model7.predict(x_test)\n",
    "y_pred8 = best_model8.predict(x_test)\n",
    "y_pred9 = best_model9.predict(x_test)\n",
    "y_pred10 = best_model10.predict(x_test)\n",
    "y_pred11 = best_model11.predict(x_test)\n",
    "y_pred12 = best_model12.predict(x_test)\n",
    "y_pred13 = best_model13.predict(x_test)"
   ]
  },
  {
   "cell_type": "code",
   "execution_count": null,
   "metadata": {
    "id": "XZO_uswZaU4o"
   },
   "outputs": [],
   "source": [
    "# 그래프를 그리기 위해 y 값 인덱스를 다시 설정한다.\n",
    "y_test.reset_index(drop=True, inplace=True)"
   ]
  },
  {
   "cell_type": "code",
   "execution_count": null,
   "metadata": {
    "colab": {
     "base_uri": "https://localhost:8080/",
     "height": 618
    },
    "executionInfo": {
     "elapsed": 31,
     "status": "ok",
     "timestamp": 1624720270825,
     "user": {
      "displayName": "강은영",
      "photoUrl": "https://lh3.googleusercontent.com/a-/AOh14Gjy66CDAcyXsALCf0rphNoHtH-LG6qhHqqSC2Gbhw=s64",
      "userId": "13345059186417356878"
     },
     "user_tz": -540
    },
    "id": "LmxiT4W-aU4o",
    "outputId": "5c74bc85-55d3-4e05-ea69-79aa618a6605"
   },
   "outputs": [],
   "source": [
    "plt.plot(y_test, label='original')\n",
    "plt.plot(y_pred1, label='prediction')\n",
    "plt.legend()\n",
    "plt.title('KNN')\n",
    "plt.show()"
   ]
  },
  {
   "cell_type": "code",
   "execution_count": null,
   "metadata": {
    "colab": {
     "base_uri": "https://localhost:8080/",
     "height": 618
    },
    "executionInfo": {
     "elapsed": 29,
     "status": "ok",
     "timestamp": 1624720270829,
     "user": {
      "displayName": "강은영",
      "photoUrl": "https://lh3.googleusercontent.com/a-/AOh14Gjy66CDAcyXsALCf0rphNoHtH-LG6qhHqqSC2Gbhw=s64",
      "userId": "13345059186417356878"
     },
     "user_tz": -540
    },
    "id": "eYBhISeHaU4p",
    "outputId": "6b91b3c7-f17a-4752-ea06-e09c3fdb16ed"
   },
   "outputs": [],
   "source": [
    "plt.plot(y_test, label='original')\n",
    "plt.plot(y_pred2, label='prediction')\n",
    "plt.legend()\n",
    "plt.title('Catboost')\n",
    "plt.show()"
   ]
  },
  {
   "cell_type": "code",
   "execution_count": null,
   "metadata": {
    "colab": {
     "base_uri": "https://localhost:8080/",
     "height": 618
    },
    "executionInfo": {
     "elapsed": 59,
     "status": "ok",
     "timestamp": 1624720273982,
     "user": {
      "displayName": "강은영",
      "photoUrl": "https://lh3.googleusercontent.com/a-/AOh14Gjy66CDAcyXsALCf0rphNoHtH-LG6qhHqqSC2Gbhw=s64",
      "userId": "13345059186417356878"
     },
     "user_tz": -540
    },
    "id": "ihMfgWj4aU4p",
    "outputId": "dfa68d56-ecbc-4ae9-e958-04506df6ff2e"
   },
   "outputs": [],
   "source": [
    "plt.plot(y_test, label='original')\n",
    "plt.plot(y_pred3, label='prediction')\n",
    "plt.legend()\n",
    "plt.title('Ridge')\n",
    "plt.show()"
   ]
  },
  {
   "cell_type": "code",
   "execution_count": null,
   "metadata": {
    "colab": {
     "base_uri": "https://localhost:8080/",
     "height": 618
    },
    "executionInfo": {
     "elapsed": 55,
     "status": "ok",
     "timestamp": 1624720273983,
     "user": {
      "displayName": "강은영",
      "photoUrl": "https://lh3.googleusercontent.com/a-/AOh14Gjy66CDAcyXsALCf0rphNoHtH-LG6qhHqqSC2Gbhw=s64",
      "userId": "13345059186417356878"
     },
     "user_tz": -540
    },
    "id": "uW4Kjyl2aU4q",
    "outputId": "9fd17471-f75f-4850-8901-40175539af68"
   },
   "outputs": [],
   "source": [
    "plt.plot(y_test, label='original')\n",
    "plt.plot(y_pred4, label='prediction')\n",
    "plt.legend()\n",
    "plt.title('Lasso')\n",
    "plt.show()"
   ]
  },
  {
   "cell_type": "code",
   "execution_count": null,
   "metadata": {
    "colab": {
     "base_uri": "https://localhost:8080/",
     "height": 618
    },
    "executionInfo": {
     "elapsed": 58,
     "status": "ok",
     "timestamp": 1624720273990,
     "user": {
      "displayName": "강은영",
      "photoUrl": "https://lh3.googleusercontent.com/a-/AOh14Gjy66CDAcyXsALCf0rphNoHtH-LG6qhHqqSC2Gbhw=s64",
      "userId": "13345059186417356878"
     },
     "user_tz": -540
    },
    "id": "aN103FpSaU4q",
    "outputId": "b7de8e03-8f32-4470-bc8c-766bad5f7e0d"
   },
   "outputs": [],
   "source": [
    "plt.plot(y_test, label='original')\n",
    "plt.plot(y_pred5, label='prediction')\n",
    "plt.legend()\n",
    "plt.title('ElasticNet')\n",
    "plt.show()"
   ]
  },
  {
   "cell_type": "code",
   "execution_count": null,
   "metadata": {
    "colab": {
     "base_uri": "https://localhost:8080/",
     "height": 618
    },
    "executionInfo": {
     "elapsed": 52,
     "status": "ok",
     "timestamp": 1624720273992,
     "user": {
      "displayName": "강은영",
      "photoUrl": "https://lh3.googleusercontent.com/a-/AOh14Gjy66CDAcyXsALCf0rphNoHtH-LG6qhHqqSC2Gbhw=s64",
      "userId": "13345059186417356878"
     },
     "user_tz": -540
    },
    "id": "XWPrViybaU4r",
    "outputId": "7054a033-cb02-40c4-8332-023d342fc833"
   },
   "outputs": [],
   "source": [
    "plt.plot(y_test, label='original')\n",
    "plt.plot(y_pred6, label='prediction')\n",
    "plt.legend()\n",
    "plt.title('SVR')\n",
    "plt.show()"
   ]
  },
  {
   "cell_type": "code",
   "execution_count": null,
   "metadata": {
    "colab": {
     "base_uri": "https://localhost:8080/",
     "height": 618
    },
    "executionInfo": {
     "elapsed": 3646,
     "status": "ok",
     "timestamp": 1624720277595,
     "user": {
      "displayName": "강은영",
      "photoUrl": "https://lh3.googleusercontent.com/a-/AOh14Gjy66CDAcyXsALCf0rphNoHtH-LG6qhHqqSC2Gbhw=s64",
      "userId": "13345059186417356878"
     },
     "user_tz": -540
    },
    "id": "3XQtBbkuaU4r",
    "outputId": "576aaabd-4c0a-494d-bc9e-eba3bda3e300"
   },
   "outputs": [],
   "source": [
    "plt.plot(y_test, label='original')\n",
    "plt.plot(y_pred7, label='prediction')\n",
    "plt.legend()\n",
    "plt.title('DecisionTreeRegressor')\n",
    "plt.show()"
   ]
  },
  {
   "cell_type": "code",
   "execution_count": null,
   "metadata": {
    "colab": {
     "base_uri": "https://localhost:8080/",
     "height": 618
    },
    "executionInfo": {
     "elapsed": 50,
     "status": "ok",
     "timestamp": 1624720277597,
     "user": {
      "displayName": "강은영",
      "photoUrl": "https://lh3.googleusercontent.com/a-/AOh14Gjy66CDAcyXsALCf0rphNoHtH-LG6qhHqqSC2Gbhw=s64",
      "userId": "13345059186417356878"
     },
     "user_tz": -540
    },
    "id": "YvetigGWaU4s",
    "outputId": "1137fa50-81e9-4f5f-e174-24da627cc80c"
   },
   "outputs": [],
   "source": [
    "plt.plot(y_test, label='original')\n",
    "plt.plot(y_pred8, label='prediction')\n",
    "plt.legend()\n",
    "plt.title('RandomForestRegressor')\n",
    "plt.show()"
   ]
  },
  {
   "cell_type": "code",
   "execution_count": null,
   "metadata": {
    "colab": {
     "base_uri": "https://localhost:8080/",
     "height": 618
    },
    "executionInfo": {
     "elapsed": 49,
     "status": "ok",
     "timestamp": 1624720277600,
     "user": {
      "displayName": "강은영",
      "photoUrl": "https://lh3.googleusercontent.com/a-/AOh14Gjy66CDAcyXsALCf0rphNoHtH-LG6qhHqqSC2Gbhw=s64",
      "userId": "13345059186417356878"
     },
     "user_tz": -540
    },
    "id": "cuGV_JN8aU4s",
    "outputId": "6dd4cada-fb54-4194-e6ea-456eda0f6eb7"
   },
   "outputs": [],
   "source": [
    "plt.plot(y_test, label='original')\n",
    "plt.plot(y_pred9, label='prediction')\n",
    "plt.legend()\n",
    "plt.title('AdaBoostRegressor')\n",
    "plt.show()"
   ]
  },
  {
   "cell_type": "code",
   "execution_count": null,
   "metadata": {
    "colab": {
     "base_uri": "https://localhost:8080/",
     "height": 618
    },
    "executionInfo": {
     "elapsed": 48,
     "status": "ok",
     "timestamp": 1624720277601,
     "user": {
      "displayName": "강은영",
      "photoUrl": "https://lh3.googleusercontent.com/a-/AOh14Gjy66CDAcyXsALCf0rphNoHtH-LG6qhHqqSC2Gbhw=s64",
      "userId": "13345059186417356878"
     },
     "user_tz": -540
    },
    "id": "e76arU9CaU4s",
    "outputId": "887a170b-dc0b-4793-9b29-ddf4e8c3b083"
   },
   "outputs": [],
   "source": [
    "plt.plot(y_test, label='original')\n",
    "plt.plot(y_pred10, label='prediction')\n",
    "plt.legend()\n",
    "plt.title('GradientBoostingRegressor')\n",
    "plt.show()"
   ]
  },
  {
   "cell_type": "code",
   "execution_count": null,
   "metadata": {
    "colab": {
     "base_uri": "https://localhost:8080/",
     "height": 618
    },
    "executionInfo": {
     "elapsed": 44,
     "status": "ok",
     "timestamp": 1624720277603,
     "user": {
      "displayName": "강은영",
      "photoUrl": "https://lh3.googleusercontent.com/a-/AOh14Gjy66CDAcyXsALCf0rphNoHtH-LG6qhHqqSC2Gbhw=s64",
      "userId": "13345059186417356878"
     },
     "user_tz": -540
    },
    "id": "Ry-3utv2aU4t",
    "outputId": "213b2e73-4081-417e-e5a7-2152ff1ae7a7"
   },
   "outputs": [],
   "source": [
    "plt.plot(y_test, label='original')\n",
    "plt.plot(y_pred11, label='prediction')\n",
    "plt.legend()\n",
    "plt.title('LGBMRegressor')\n",
    "plt.show()"
   ]
  },
  {
   "cell_type": "code",
   "execution_count": null,
   "metadata": {
    "colab": {
     "base_uri": "https://localhost:8080/",
     "height": 618
    },
    "executionInfo": {
     "elapsed": 1687,
     "status": "ok",
     "timestamp": 1624720279249,
     "user": {
      "displayName": "강은영",
      "photoUrl": "https://lh3.googleusercontent.com/a-/AOh14Gjy66CDAcyXsALCf0rphNoHtH-LG6qhHqqSC2Gbhw=s64",
      "userId": "13345059186417356878"
     },
     "user_tz": -540
    },
    "id": "Bf4MZ9NtaU4t",
    "outputId": "9901fc32-2b85-4a90-b400-2c50951cdd35"
   },
   "outputs": [],
   "source": [
    "plt.plot(y_test, label='original')\n",
    "plt.plot(y_pred12, label='prediction')\n",
    "plt.legend()\n",
    "plt.title('XGBRegressor')\n",
    "plt.show()"
   ]
  },
  {
   "cell_type": "code",
   "execution_count": null,
   "metadata": {
    "colab": {
     "base_uri": "https://localhost:8080/",
     "height": 618
    },
    "executionInfo": {
     "elapsed": 57,
     "status": "ok",
     "timestamp": 1624720279255,
     "user": {
      "displayName": "강은영",
      "photoUrl": "https://lh3.googleusercontent.com/a-/AOh14Gjy66CDAcyXsALCf0rphNoHtH-LG6qhHqqSC2Gbhw=s64",
      "userId": "13345059186417356878"
     },
     "user_tz": -540
    },
    "id": "OcMKTHOVaU4y",
    "outputId": "d64ce4ff-d333-4d43-b2cc-d7052e3c34c4"
   },
   "outputs": [],
   "source": [
    "plt.plot(y_test, label='original')\n",
    "plt.plot(y_pred13, label='prediction')\n",
    "plt.legend()\n",
    "plt.title('VotingRegressor')\n",
    "plt.show()"
   ]
  },
  {
   "cell_type": "code",
   "execution_count": null,
   "metadata": {},
   "outputs": [],
   "source": [
    "y_pred13_T = best_model13.predict(X_test)"
   ]
  },
  {
   "cell_type": "code",
   "execution_count": null,
   "metadata": {},
   "outputs": [],
   "source": [
    "plt.plot(y_test, label='original')\n",
    "plt.plot(y_pred13_T, label='prediction')\n",
    "plt.legend()\n",
    "plt.title('VotingRegressor')\n",
    "plt.show()"
   ]
  },
  {
   "cell_type": "code",
   "execution_count": null,
   "metadata": {
    "id": "4gSYP5s4aU4y",
    "scrolled": true
   },
   "outputs": [],
   "source": [
    "# # 최적의 하이퍼파라미터가 셋팅된 모델을 받아온다.\n",
    "# best_model = grid_clf.best_estimator_\n",
    "\n",
    "# # 학습\n",
    "# best_model.fit(X, y)"
   ]
  },
  {
   "cell_type": "code",
   "execution_count": null,
   "metadata": {
    "id": "VwnIm22oaU4z",
    "scrolled": true
   },
   "outputs": [],
   "source": [
    "# model1.fit(x_train, y_train)### 모델 하이퍼 파라미터 튜닝"
   ]
  },
  {
   "cell_type": "markdown",
   "metadata": {
    "id": "W2JGwQEwaU4z"
   },
   "source": [
    "## 추론 및 제출"
   ]
  },
  {
   "cell_type": "code",
   "execution_count": null,
   "metadata": {
    "id": "FdVym0qpaU40"
   },
   "outputs": [],
   "source": [
    "pred1 = best_model1.predict(x_test)\n",
    "pred2 = best_model2.predict(x_test)\n",
    "pred3 = best_model3.predict(x_test)\n",
    "pred4 = best_model4.predict(x_test)\n",
    "pred5 = best_model5.predict(x_test)\n",
    "pred6 = best_model6.predict(x_test)\n",
    "pred7 = best_model7.predict(x_test)\n",
    "pred8 = best_model8.predict(x_test)\n",
    "pred9 = best_model9.predict(x_test)\n",
    "pred10 = best_model10.predict(x_test)\n",
    "pred11 = best_model11.predict(x_test)\n",
    "pred12 = best_model12.predict(x_test)\n",
    "pred13 = best_model13.predict(x_test)"
   ]
  },
  {
   "cell_type": "code",
   "execution_count": null,
   "metadata": {},
   "outputs": [],
   "source": [
    "model_check = pd.DataFrame()"
   ]
  },
  {
   "cell_type": "code",
   "execution_count": null,
   "metadata": {},
   "outputs": [],
   "source": [
    "for i in range(13) :\n",
    "    model_check[f'pred{i+1}'] = globals()['pred{}'.format(i+1)]"
   ]
  },
  {
   "cell_type": "code",
   "execution_count": null,
   "metadata": {
    "scrolled": true
   },
   "outputs": [],
   "source": [
    "model_check.rename(columns={'pred1':'KNeighbors', 'pred2':'CatBoost', 'pred3':'Ridge','pred4':'Lasso', \n",
    "                           'pred5':'ElasticNet','pred6':'SVR','pred7':'DecisionTree','pred8':'RandomForest', 'pred9':'AdaBoost',\n",
    "                           'pred10':'GradientBoost','pred11':'LGBM','pred12':'XGBoost', 'pred13':'Voting'}, inplace=True)"
   ]
  },
  {
   "cell_type": "code",
   "execution_count": null,
   "metadata": {
    "scrolled": false
   },
   "outputs": [],
   "source": [
    "pd.set_option('display.max_rows', None)\n",
    "model_check"
   ]
  },
  {
   "cell_type": "code",
   "execution_count": null,
   "metadata": {},
   "outputs": [],
   "source": [
    "model_check.plot(figsize = (20, 12))\n",
    "plt.ylim(-500, 2000)\n",
    "plt.axhline(y=0, color='r', linewidth=1)"
   ]
  },
  {
   "cell_type": "code",
   "execution_count": null,
   "metadata": {
    "scrolled": false
   },
   "outputs": [],
   "source": [
    "minus_values = model_check[model_check.values < 0]\n",
    "minus_values"
   ]
  },
  {
   "cell_type": "code",
   "execution_count": null,
   "metadata": {},
   "outputs": [],
   "source": [
    "asdsadsadsadsa"
   ]
  },
  {
   "cell_type": "code",
   "execution_count": null,
   "metadata": {
    "id": "UsPgfMiuaU41"
   },
   "outputs": [],
   "source": [
    "submission['num'] = pred"
   ]
  },
  {
   "cell_type": "code",
   "execution_count": null,
   "metadata": {
    "colab": {
     "base_uri": "https://localhost:8080/"
    },
    "executionInfo": {
     "elapsed": 4,
     "status": "ok",
     "timestamp": 1624721293973,
     "user": {
      "displayName": "강은영",
      "photoUrl": "https://lh3.googleusercontent.com/a-/AOh14Gjy66CDAcyXsALCf0rphNoHtH-LG6qhHqqSC2Gbhw=s64",
      "userId": "13345059186417356878"
     },
     "user_tz": -540
    },
    "id": "VXbDT5pzaU41",
    "outputId": "8ec34d12-65d4-4402-85cf-6a20629359ac"
   },
   "outputs": [],
   "source": [
    "submission['num']"
   ]
  },
  {
   "cell_type": "code",
   "execution_count": null,
   "metadata": {
    "id": "2YUe6hjHaU42"
   },
   "outputs": [],
   "source": [
    "submission.to_csv('보증금,임대료평균_상가drop_C1350d드랍_L유형 드랍x_voting.csv', index=False)"
   ]
  },
  {
   "cell_type": "code",
   "execution_count": null,
   "metadata": {},
   "outputs": [],
   "source": []
  }
 ],
 "metadata": {
  "colab": {
   "collapsed_sections": [
    "uEtaoZ3gaU1N",
    "N5VfMAGbaU1g",
    "xEbCdXfTaU1p",
    "729WfxAmaU1s",
    "zbnfbCBHaU1y",
    "n-zJ9l59aU11",
    "DF_zlTj2aU17",
    "wOkQ5bKOaU1-",
    "QvbhUQ39aU2F",
    "wpQAlsDPaU2J",
    "sJDnyYM6aU2X",
    "2nceksZnaU2a",
    "kk8C5fkSaU2d",
    "nHAaXOfcaU2r",
    "5X_qH6ZHaU20",
    "iJu8S4VfaU3G",
    "5h7isT8qaU3L",
    "ygolqmaYaU3Q",
    "N5ooPkKDaU3X",
    "59ipeiXraU3o",
    "HKMJFA9saU3o",
    "jUlrjT3daU3r",
    "kKzmCjf9aU3t",
    "2qKUbU3DaU3z"
   ],
   "name": "아파트_임대상가 나누기.ipynb",
   "provenance": []
  },
  "kernelspec": {
   "display_name": "Python 3",
   "language": "python",
   "name": "python3"
  },
  "language_info": {
   "codemirror_mode": {
    "name": "ipython",
    "version": 3
   },
   "file_extension": ".py",
   "mimetype": "text/x-python",
   "name": "python",
   "nbconvert_exporter": "python",
   "pygments_lexer": "ipython3",
   "version": "3.8.8"
  }
 },
 "nbformat": 4,
 "nbformat_minor": 1
}
